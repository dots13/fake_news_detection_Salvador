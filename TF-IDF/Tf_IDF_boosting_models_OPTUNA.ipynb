{
  "cells": [
    {
      "cell_type": "markdown",
      "metadata": {
        "id": "view-in-github",
        "colab_type": "text"
      },
      "source": [
        "<a href=\"https://colab.research.google.com/github/dots13/fake_news_detection_Salvador/blob/master/TF-IDF/Tf_IDF_boosting_models_OPTUNA.ipynb\" target=\"_parent\"><img src=\"https://colab.research.google.com/assets/colab-badge.svg\" alt=\"Open In Colab\"/></a>"
      ]
    },
    {
      "cell_type": "code",
      "execution_count": 1,
      "metadata": {
        "colab": {
          "base_uri": "https://localhost:8080/"
        },
        "id": "sHjxYmxRxWLc",
        "outputId": "8cecbdc1-142f-4a7d-cbe2-1d2cfae42327"
      },
      "outputs": [
        {
          "output_type": "stream",
          "name": "stdout",
          "text": [
            "Collecting optuna\n",
            "  Downloading optuna-3.6.0-py3-none-any.whl (379 kB)\n",
            "\u001b[2K     \u001b[90m━━━━━━━━━━━━━━━━━━━━━━━━━━━━━━━━━━━━━━━━\u001b[0m \u001b[32m379.9/379.9 kB\u001b[0m \u001b[31m6.5 MB/s\u001b[0m eta \u001b[36m0:00:00\u001b[0m\n",
            "\u001b[?25hCollecting alembic>=1.5.0 (from optuna)\n",
            "  Downloading alembic-1.13.1-py3-none-any.whl (233 kB)\n",
            "\u001b[2K     \u001b[90m━━━━━━━━━━━━━━━━━━━━━━━━━━━━━━━━━━━━━━━━\u001b[0m \u001b[32m233.4/233.4 kB\u001b[0m \u001b[31m11.4 MB/s\u001b[0m eta \u001b[36m0:00:00\u001b[0m\n",
            "\u001b[?25hCollecting colorlog (from optuna)\n",
            "  Downloading colorlog-6.8.2-py3-none-any.whl (11 kB)\n",
            "Requirement already satisfied: numpy in /usr/local/lib/python3.10/dist-packages (from optuna) (1.25.2)\n",
            "Requirement already satisfied: packaging>=20.0 in /usr/local/lib/python3.10/dist-packages (from optuna) (24.0)\n",
            "Requirement already satisfied: sqlalchemy>=1.3.0 in /usr/local/lib/python3.10/dist-packages (from optuna) (2.0.29)\n",
            "Requirement already satisfied: tqdm in /usr/local/lib/python3.10/dist-packages (from optuna) (4.66.2)\n",
            "Requirement already satisfied: PyYAML in /usr/local/lib/python3.10/dist-packages (from optuna) (6.0.1)\n",
            "Collecting Mako (from alembic>=1.5.0->optuna)\n",
            "  Downloading Mako-1.3.2-py3-none-any.whl (78 kB)\n",
            "\u001b[2K     \u001b[90m━━━━━━━━━━━━━━━━━━━━━━━━━━━━━━━━━━━━━━━━\u001b[0m \u001b[32m78.7/78.7 kB\u001b[0m \u001b[31m8.3 MB/s\u001b[0m eta \u001b[36m0:00:00\u001b[0m\n",
            "\u001b[?25hRequirement already satisfied: typing-extensions>=4 in /usr/local/lib/python3.10/dist-packages (from alembic>=1.5.0->optuna) (4.10.0)\n",
            "Requirement already satisfied: greenlet!=0.4.17 in /usr/local/lib/python3.10/dist-packages (from sqlalchemy>=1.3.0->optuna) (3.0.3)\n",
            "Requirement already satisfied: MarkupSafe>=0.9.2 in /usr/local/lib/python3.10/dist-packages (from Mako->alembic>=1.5.0->optuna) (2.1.5)\n",
            "Installing collected packages: Mako, colorlog, alembic, optuna\n",
            "Successfully installed Mako-1.3.2 alembic-1.13.1 colorlog-6.8.2 optuna-3.6.0\n"
          ]
        }
      ],
      "source": [
        "#!pip3 install catboost\n",
        "!pip3 install optuna"
      ]
    },
    {
      "cell_type": "code",
      "execution_count": 25,
      "metadata": {
        "id": "Ith0YzN5P7vh"
      },
      "outputs": [],
      "source": [
        "import pandas as pd\n",
        "import numpy as np\n",
        "from google.colab import drive\n",
        "\n",
        "pd.set_option('max_colwidth', 400)\n",
        "\n",
        "from sklearn.naive_bayes import MultinomialNB\n",
        "from sklearn import metrics\n",
        "from sklearn.metrics import confusion_matrix\n",
        "import seaborn as sns\n",
        "import matplotlib.pyplot as plt\n",
        "import numpy as np\n",
        "\n",
        "from sklearn.feature_extraction.text import CountVectorizer\n",
        "from sklearn.model_selection import train_test_split\n",
        "from sklearn.feature_extraction.text import TfidfVectorizer\n",
        "from sklearn.model_selection import cross_val_score, StratifiedKFold\n",
        "\n",
        "import xgboost as xgb\n",
        "import lightgbm as lgb\n",
        "#from catboost import CatBoostClassifier\n",
        "import optuna"
      ]
    },
    {
      "cell_type": "code",
      "execution_count": 3,
      "metadata": {
        "colab": {
          "base_uri": "https://localhost:8080/"
        },
        "id": "6GrPKZIiP-Ck",
        "outputId": "4c3ce29a-0cd2-46b6-a7ae-85d7e99fc631"
      },
      "outputs": [
        {
          "output_type": "stream",
          "name": "stdout",
          "text": [
            "Mounted at /content/gdrive\n"
          ]
        }
      ],
      "source": [
        "drive.mount('/content/gdrive')\n",
        "path = '/content/gdrive/My Drive/files/fake-news'"
      ]
    },
    {
      "cell_type": "code",
      "source": [
        "!ls gdrive/MyDrive/files/fake-news/preprocessed-data-for-modelling"
      ],
      "metadata": {
        "colab": {
          "base_uri": "https://localhost:8080/"
        },
        "id": "VHrTZ90Zhf2z",
        "outputId": "da0e9ec3-9014-46fe-fb65-460008cea62b"
      },
      "execution_count": 4,
      "outputs": [
        {
          "output_type": "stream",
          "name": "stdout",
          "text": [
            "test.json  train.json\n"
          ]
        }
      ]
    },
    {
      "cell_type": "code",
      "source": [
        "\n",
        "def eval_report(y_test, y_pred):\n",
        "    print(f'Accuracy score:{metrics.accuracy_score(y_test, y_pred):.4f}')\n",
        "    print(f'Balanced accuracy score:{metrics.balanced_accuracy_score(y_test, y_pred):.4f}')\n",
        "    print(f'F-1 score:{metrics.f1_score(y_test, y_pred):.4f}')\n",
        "    print(f'ROC-AUC score:{metrics.roc_auc_score(y_test, y_pred):.4f}')"
      ],
      "metadata": {
        "id": "GedP7epXycI0"
      },
      "execution_count": 22,
      "outputs": []
    },
    {
      "cell_type": "code",
      "source": [
        "### Function for confusion matrix visualization\n",
        "def confusion_matrix_visualization(cf_matrix):\n",
        "    group_names = ['True Neg','False Pos','False Neg','True Pos']\n",
        "    group_counts = [f'{value:.0f}' for value in cf_matrix.flatten()]\n",
        "    group_percentages = [f'{value:.2%}' for value in cf_matrix.flatten()/np.sum(cf_matrix)]\n",
        "    labels = [f'{v1}\\n{v2}\\n{v3}' for v1, v2, v3 in\n",
        "              zip(group_names,group_counts,group_percentages)]\n",
        "    labels = np.asarray(labels).reshape(2,2)\n",
        "\n",
        "    fig, ax = plt.subplots(figsize=(7,5))\n",
        "    sns.heatmap(cf_matrix, annot=labels, fmt='', cmap='Blues')\n",
        "    fig.show()"
      ],
      "metadata": {
        "id": "fFr-WO6MyZ_u"
      },
      "execution_count": 21,
      "outputs": []
    },
    {
      "cell_type": "code",
      "execution_count": 5,
      "metadata": {
        "id": "s5rdfAbdRt7g"
      },
      "outputs": [],
      "source": [
        "df_train = pd.read_csv(path + '/train_test_anastasiia/train_clean.csv')\n",
        "df_test = pd.read_csv(path + '/train_test_anastasiia/test_clean.csv')"
      ]
    },
    {
      "cell_type": "code",
      "source": [
        "#cleaner = SpanishTextCleaner()\n",
        "#df_train['cleaned_text'] = df_train['text'].apply(lambda x: cleaner.clean_and_replace(x))\n",
        "#df_test['cleaned_text'] = df_test['text'].apply(lambda x: cleaner.clean_and_replace(x))"
      ],
      "metadata": {
        "id": "0dyjcVrEDKzA"
      },
      "execution_count": 6,
      "outputs": []
    },
    {
      "cell_type": "code",
      "execution_count": 7,
      "metadata": {
        "id": "qY9V61tTX_Gv"
      },
      "outputs": [],
      "source": [
        "stopwords = ['de',\n",
        "             'la',\n",
        "\t           'que',\n",
        "\t           'el',\n",
        "\t           'en',\n",
        "\t           'y',\n",
        "\t           'a',\n",
        "\t           'los',\n",
        "\t           'del',\n",
        "\t           'se',\n",
        "\t           'las',\n",
        "\t           'por',\n",
        "\t           'un',\n",
        "\t           'para',\n",
        "\t           'con',\n",
        "\t           'no',\n",
        "\t           'una',\n",
        "\t           'su',\n",
        "\t           'al',\n",
        "\t           'lo',\n",
        "\t           'como',\n",
        "\t           'más',\n",
        "\t           'pero',\n",
        "\t           'sus',\n",
        "\t           'le',\n",
        "\t           'ya',\n",
        "\t           'o',\n",
        "\t           'este',\n",
        "\t           'sí',\n",
        "\t           'porque',\n",
        "\t           'esta',\n",
        "\t           'entre',\n",
        "\t           'cuando',\n",
        "\t           'muy',\n",
        "\t           'sin',\n",
        "\t           'sobre',\n",
        "\t           'también',\n",
        "\t           'me',\n",
        "\t           'hasta',\n",
        "\t           'hay',\n",
        "\t           'donde',\n",
        "\t           'quien',\n",
        "\t           'desde',\n",
        "\t           'todo',\n",
        "\t           'nos',\n",
        "\t           'durante',\n",
        "\t           'todos',\n",
        "\t           'uno',\n",
        "\t           'les',\n",
        "\t           'ni',\n",
        "\t           'contra',\n",
        "\t           'otros',\n",
        "\t           'ese',\n",
        "\t           'eso',\n",
        "\t           'ante',\n",
        "\t           'ellos',\n",
        "\t           'e',\n",
        "\t           'esto',\n",
        "\t           'mí',\n",
        "\t           'antes',\n",
        "\t           'algunos',\n",
        "\t           'qué',\n",
        "\t           'unos',\n",
        "\t           'yo',\n",
        "\t           'otro',\n",
        "\t           'otras',\n",
        "\t           'otra',\n",
        "\t           'él',\n",
        "\t           'tanto',\n",
        "\t           'esa',\n",
        "\t           'estos',\n",
        "\t           'mucho',\n",
        "\t           'quienes',\n",
        "\t           'nada',\n",
        "\t           'muchos',\n",
        "\t           'cual',\n",
        "\t           'poco',\n",
        "\t           'ella',\n",
        "\t           'estar',\n",
        "\t           'estas',\n",
        "\t           'algunas',\n",
        "\t           'algo',\n",
        "\t           'nosotros',\n",
        "\t           'mi',\n",
        "\t           'mis',\n",
        "\t           'tú',\n",
        "\t           'te',\n",
        "\t           'ti',\n",
        "\t           'tu',\n",
        "\t           'tus',\n",
        "\t           'ellas',\n",
        "\t           'nosotras',\n",
        "\t           'vosotros',\n",
        "\t           'vosotras',\n",
        "\t           'os',\n",
        "\t           'mío',\n",
        "\t           'mía',\n",
        "\t           'míos',\n",
        "\t           'mías',\n",
        "\t           'tuyo',\n",
        "\t           'tuya',\n",
        "\t           'tuyos',\n",
        "\t           'tuyas',\n",
        "\t           'suyo',\n",
        "\t           'suya',\n",
        "\t           'suyos',\n",
        "\t           'suyas',\n",
        "\t           'nuestro',\n",
        "\t           'nuestra',\n",
        "\t           'nuestros',\n",
        "\t           'nuestras',\n",
        "\t           'vuestro',\n",
        "\t           'vuestra',\n",
        "\t           'vuestros',\n",
        "\t           'vuestras',\n",
        "\t           'esos',\n",
        "\t           'esas',\n",
        "\t           'estoy',\n",
        "\t           'estás',\n",
        "\t           'está',\n",
        "\t           'estamos',\n",
        "\t           'estáis',\n",
        "\t           'están',\n",
        "\t           'esté',\n",
        "\t           'estés',\n",
        "\t           'estemos',\n",
        "\t           'estéis',\n",
        "\t           'estén',\n",
        "\t           'estaré',\n",
        "\t           'estarás',\n",
        "\t           'estará',\n",
        "\t           'estaremos',\n",
        "\t           'estaréis',\n",
        "\t           'estarán',\n",
        "\t           'estaría',\n",
        "\t           'estarías',\n",
        "\t           'estaríamos',\n",
        "\t           'estaríais',\n",
        "\t           'estarían',\n",
        "\t           'estaba',\n",
        "\t           'estabas',\n",
        "\t           'estábamos',\n",
        "\t           'estabais',\n",
        "\t           'estaban',\n",
        "\t           'estuve',\n",
        "\t           'estuviste',\n",
        "\t           'estuvo',\n",
        "\t           'estuvimos',\n",
        "\t           'estuvisteis',\n",
        "\t           'estuvieron',\n",
        "\t           'estuviera',\n",
        "\t           'estuvieras',\n",
        "\t           'estuviéramos',\n",
        "\t           'estuvierais',\n",
        "\t           'estuvieran',\n",
        "\t           'estuviese',\n",
        "\t           'estuvieses',\n",
        "\t           'estuviésemos',\n",
        "\t           'estuvieseis',\n",
        "\t           'estuviesen',\n",
        "\t           'estando',\n",
        "\t           'estado',\n",
        "\t           'estada',\n",
        "\t           'estados',\n",
        "\t           'estadas',\n",
        "\t           'estad',\n",
        "\t           'he',\n",
        "\t           'has',\n",
        "\t           'ha',\n",
        "\t           'hemos',\n",
        "\t           'habéis',\n",
        "\t           'han',\n",
        "\t           'haya',\n",
        "\t           'hayas',\n",
        "\t           'hayamos',\n",
        "\t           'hayáis',\n",
        "\t           'hayan',\n",
        "\t           'habré',\n",
        "\t           'habrás',\n",
        "\t           'habrá',\n",
        "\t           'habremos',\n",
        "\t           'habréis',\n",
        "\t           'habrán',\n",
        "\t           'habría',\n",
        "\t           'habrías',\n",
        "\t           'habríamos',\n",
        "\t           'habríais',\n",
        "\t           'habrían',\n",
        "\t           'había',\n",
        "\t           'habías',\n",
        "\t           'habíamos',\n",
        "\t           'habíais',\n",
        "\t           'habían',\n",
        "\t           'hube',\n",
        "\t           'hubiste',\n",
        "\t           'hubo',\n",
        "\t           'hubimos',\n",
        "\t           'hubisteis',\n",
        "\t           'hubieron',\n",
        "\t           'hubiera',\n",
        "\t           'hubieras',\n",
        "\t           'hubiéramos',\n",
        "\t           'hubierais',\n",
        "\t           'hubieran',\n",
        "\t           'hubiese',\n",
        "\t           'hubieses',\n",
        "\t           'hubiésemos',\n",
        "\t           'hubieseis',\n",
        "\t           'hubiesen',\n",
        "\t           'habiendo',\n",
        "\t           'habido',\n",
        "\t           'habida',\n",
        "\t           'habidos',\n",
        "\t           'habidas',\n",
        "\t           'soy',\n",
        "\t           'eres',\n",
        "\t           'es',\n",
        "\t           'somos',\n",
        "\t           'sois',\n",
        "\t           'son',\n",
        "\t           'sea',\n",
        "\t           'seas',\n",
        "\t           'seamos',\n",
        "\t           'seáis',\n",
        "\t           'sean',\n",
        "\t           'seré',\n",
        "\t           'serás',\n",
        "\t           'será',\n",
        "\t           'seremos',\n",
        "\t           'seréis',\n",
        "\t           'serán',\n",
        "\t           'sería',\n",
        "\t           'serías',\n",
        "\t           'seríamos',\n",
        "\t           'seríais',\n",
        "\t           'serían',\n",
        "\t           'era',\n",
        "\t           'eras',\n",
        "\t           'éramos',\n",
        "\t           'erais',\n",
        "\t           'eran',\n",
        "\t           'fui',\n",
        "\t           'fuiste',\n",
        "\t           'fue',\n",
        "\t           'fuimos',\n",
        "\t           'fuisteis',\n",
        "\t           'fueron',\n",
        "\t           'fuera',\n",
        "\t           'fueras',\n",
        "\t           'fuéramos',\n",
        "\t           'fuerais',\n",
        "\t           'fueran',\n",
        "\t           'fuese',\n",
        "\t           'fueses',\n",
        "\t           'fuésemos',\n",
        "\t           'fueseis',\n",
        "\t           'fuesen',\n",
        "\t           'sintiendo',\n",
        "\t           'sentido',\n",
        "\t           'sentida',\n",
        "\t           'sentidos',\n",
        "\t           'sentidas',\n",
        "\t           'siente',\n",
        "\t           'sentid',\n",
        "\t           'tengo',\n",
        "\t           'tienes',\n",
        "\t           'tiene',\n",
        "\t           'tenemos',\n",
        "\t           'tenéis',\n",
        "\t           'tienen',\n",
        "\t           'tenga',\n",
        "\t           'tengas',\n",
        "\t           'tengamos',\n",
        "\t           'tengáis',\n",
        "\t           'tengan',\n",
        "\t           'tendré',\n",
        "\t           'tendrás',\n",
        "\t           'tendrá',\n",
        "\t           'tendremos',\n",
        "\t           'tendréis',\n",
        "\t           'tendrán',\n",
        "\t           'tendría',\n",
        "\t           'tendrías',\n",
        "\t           'tendríamos',\n",
        "\t           'tendríais',\n",
        "\t           'tendrían',\n",
        "\t           'tenía',\n",
        "\t           'tenías',\n",
        "\t           'teníamos',\n",
        "\t           'teníais',\n",
        "\t           'tenían',\n",
        "\t           'tuve',\n",
        "\t           'tuviste',\n",
        "\t           'tuvo',\n",
        "\t           'tuvimos',\n",
        "\t           'tuvisteis',\n",
        "\t           'tuvieron',\n",
        "\t           'tuviera',\n",
        "\t           'tuvieras',\n",
        "\t           'tuviéramos',\n",
        "\t           'tuvierais',\n",
        "\t           'tuvieran',\n",
        "\t           'tuviese',\n",
        "\t           'tuvieses',\n",
        "\t           'tuviésemos',\n",
        "\t           'tuvieseis',\n",
        "\t           'tuviesen',\n",
        "\t           'teniendo',\n",
        "\t           'tenido',\n",
        "\t           'tenida',\n",
        "\t           'tenidos',\n",
        "\t           'tenidas',\n",
        "\t           'tened'\n",
        "             ]"
      ]
    },
    {
      "cell_type": "code",
      "execution_count": 8,
      "metadata": {
        "id": "5xtIkYlEZjEQ"
      },
      "outputs": [],
      "source": [
        "y_train = df_train.fake_news_class\n",
        "y_test = df_test.fake_news_class"
      ]
    },
    {
      "cell_type": "code",
      "execution_count": 9,
      "metadata": {
        "colab": {
          "base_uri": "https://localhost:8080/"
        },
        "id": "L9ZQw2STaVAD",
        "outputId": "8754e3c0-0769-4663-c759-1383e59d1e8b"
      },
      "outputs": [
        {
          "output_type": "stream",
          "name": "stdout",
          "text": [
            "1    0.578243\n",
            "0    0.421757\n",
            "Name: fake_news_class, dtype: float64\n",
            "1    0.576538\n",
            "0    0.423462\n",
            "Name: fake_news_class, dtype: float64\n"
          ]
        }
      ],
      "source": [
        "print(y_train.value_counts()/len(y_train))\n",
        "print(y_test.value_counts()/len(y_test))"
      ]
    },
    {
      "cell_type": "code",
      "execution_count": 10,
      "metadata": {
        "id": "2mIeFsx9aoqC"
      },
      "outputs": [],
      "source": [
        "mapping = {0: 1, 1: 0}\n",
        "\n",
        "# Invert the values using map\n",
        "y_train = y_train.map(mapping)\n",
        "y_test = y_test.map(mapping)"
      ]
    },
    {
      "cell_type": "code",
      "execution_count": 11,
      "metadata": {
        "colab": {
          "base_uri": "https://localhost:8080/"
        },
        "id": "IK2_HiXVa0eF",
        "outputId": "1ec75249-6b62-4b1a-acac-9db67738669d"
      },
      "outputs": [
        {
          "output_type": "stream",
          "name": "stdout",
          "text": [
            "0    0.578243\n",
            "1    0.421757\n",
            "Name: fake_news_class, dtype: float64\n",
            "0    0.576538\n",
            "1    0.423462\n",
            "Name: fake_news_class, dtype: float64\n"
          ]
        }
      ],
      "source": [
        "print(y_train.value_counts()/len(y_train))\n",
        "print(y_test.value_counts()/len(y_test))"
      ]
    },
    {
      "cell_type": "code",
      "source": [
        "# TfidfVectorizer hyperparameters tuning\n",
        "def objective(trial):\n",
        "    # Define hyperparameters to be tuned\n",
        "    max_features = trial.suggest_int('max_features', 3000, 4500)\n",
        "    vectorizer = TfidfVectorizer(max_features=max_features)\n",
        "    X_tfidf = vectorizer.fit_transform(df_train.cleaned_text)\n",
        "    X_train_optuna, X_val, y_train_optuna, y_val = train_test_split(X_tfidf, y_train, test_size=0.2, random_state=10)\n",
        "    clf = MultinomialNB()\n",
        "    clf.fit(X_train_optuna, y_train_optuna)\n",
        "    #y_pred = clf.predict(X_val)\n",
        "    #accuracy = metrics.roc_auc_score(y_val, y_pred)\n",
        "\n",
        "    scores = cross_val_score(clf, X_train_optuna, y_train_optuna, cv=5, scoring='roc_auc')\n",
        "    #roc_auc = roc_auc_score(y_test, predictions_xgb)\n",
        "    return np.mean(scores)"
      ],
      "metadata": {
        "id": "UEUdNX0E8x2Z"
      },
      "execution_count": 12,
      "outputs": []
    },
    {
      "cell_type": "code",
      "source": [
        "study = optuna.create_study(direction='maximize')\n",
        "study.optimize(objective, n_trials=20)\n",
        "print('Best trial:')\n",
        "trial = study.best_trial\n",
        "print('  Value: {}'.format(trial.value))\n",
        "print('  Params: ')\n",
        "for key, value in trial.params.items():\n",
        "  print('    {}: {}'.format(key, value))"
      ],
      "metadata": {
        "colab": {
          "base_uri": "https://localhost:8080/"
        },
        "id": "uEm2k5tL9l3F",
        "outputId": "cb3a9670-96f3-4cab-dc09-17ae5f22efd7"
      },
      "execution_count": 13,
      "outputs": [
        {
          "output_type": "stream",
          "name": "stderr",
          "text": [
            "[I 2024-03-30 23:52:42,846] A new study created in memory with name: no-name-4e321be9-4d84-4c26-8ebd-05ad6a8b6341\n",
            "[I 2024-03-30 23:52:44,160] Trial 0 finished with value: 0.7984653754102642 and parameters: {'max_features': 3974}. Best is trial 0 with value: 0.7984653754102642.\n",
            "[I 2024-03-30 23:52:45,403] Trial 1 finished with value: 0.7991837834537516 and parameters: {'max_features': 3575}. Best is trial 1 with value: 0.7991837834537516.\n",
            "[I 2024-03-30 23:52:47,107] Trial 2 finished with value: 0.7994767300753132 and parameters: {'max_features': 3246}. Best is trial 2 with value: 0.7994767300753132.\n",
            "[I 2024-03-30 23:52:48,384] Trial 3 finished with value: 0.7993319269680006 and parameters: {'max_features': 3207}. Best is trial 2 with value: 0.7994767300753132.\n",
            "[I 2024-03-30 23:52:49,673] Trial 4 finished with value: 0.7991287091955352 and parameters: {'max_features': 3629}. Best is trial 2 with value: 0.7994767300753132.\n",
            "[I 2024-03-30 23:52:50,947] Trial 5 finished with value: 0.7984304151438948 and parameters: {'max_features': 4211}. Best is trial 2 with value: 0.7994767300753132.\n",
            "[I 2024-03-30 23:52:52,236] Trial 6 finished with value: 0.7996629167935987 and parameters: {'max_features': 3516}. Best is trial 6 with value: 0.7996629167935987.\n",
            "[I 2024-03-30 23:52:54,154] Trial 7 finished with value: 0.7994544769875 and parameters: {'max_features': 3455}. Best is trial 6 with value: 0.7996629167935987.\n",
            "[I 2024-03-30 23:52:56,350] Trial 8 finished with value: 0.7993111006595891 and parameters: {'max_features': 3209}. Best is trial 6 with value: 0.7996629167935987.\n",
            "[I 2024-03-30 23:52:57,623] Trial 9 finished with value: 0.7995373530002879 and parameters: {'max_features': 3344}. Best is trial 6 with value: 0.7996629167935987.\n",
            "[I 2024-03-30 23:52:58,892] Trial 10 finished with value: 0.7986941728174768 and parameters: {'max_features': 4497}. Best is trial 6 with value: 0.7996629167935987.\n",
            "[I 2024-03-30 23:53:00,164] Trial 11 finished with value: 0.7987007887702868 and parameters: {'max_features': 3861}. Best is trial 6 with value: 0.7996629167935987.\n",
            "[I 2024-03-30 23:53:01,452] Trial 12 finished with value: 0.7996833647943701 and parameters: {'max_features': 3389}. Best is trial 12 with value: 0.7996833647943701.\n",
            "[I 2024-03-30 23:53:02,717] Trial 13 finished with value: 0.7988462266882468 and parameters: {'max_features': 3751}. Best is trial 12 with value: 0.7996833647943701.\n",
            "[I 2024-03-30 23:53:03,986] Trial 14 finished with value: 0.799302499075164 and parameters: {'max_features': 3015}. Best is trial 12 with value: 0.7996833647943701.\n",
            "[I 2024-03-30 23:53:05,230] Trial 15 finished with value: 0.7996912520374726 and parameters: {'max_features': 3514}. Best is trial 15 with value: 0.7996912520374726.\n",
            "[I 2024-03-30 23:53:06,811] Trial 16 finished with value: 0.798899638806158 and parameters: {'max_features': 4041}. Best is trial 15 with value: 0.7996912520374726.\n",
            "[I 2024-03-30 23:53:09,086] Trial 17 finished with value: 0.7993053411413067 and parameters: {'max_features': 3014}. Best is trial 15 with value: 0.7996912520374726.\n",
            "[I 2024-03-30 23:53:10,621] Trial 18 finished with value: 0.7995324946105387 and parameters: {'max_features': 3412}. Best is trial 15 with value: 0.7996912520374726.\n",
            "[I 2024-03-30 23:53:12,008] Trial 19 finished with value: 0.7988812315842039 and parameters: {'max_features': 3698}. Best is trial 15 with value: 0.7996912520374726.\n"
          ]
        },
        {
          "output_type": "stream",
          "name": "stdout",
          "text": [
            "Best trial:\n",
            "  Value: 0.7996912520374726\n",
            "  Params: \n",
            "    max_features: 3514\n"
          ]
        }
      ]
    },
    {
      "cell_type": "code",
      "execution_count": 14,
      "metadata": {
        "id": "WvP7A8_sXzyj"
      },
      "outputs": [],
      "source": [
        "# Initialize the TfidfVectorizer\n",
        "vectorizer = TfidfVectorizer(max_features=3500)"
      ]
    },
    {
      "cell_type": "code",
      "execution_count": 15,
      "metadata": {
        "id": "T2gYOqNmX0Or"
      },
      "outputs": [],
      "source": [
        "# Fit and transform the training set, transform the testing set\n",
        "X_train_tfidf = vectorizer.fit_transform(df_train.cleaned_text)\n",
        "X_test_tfidf = vectorizer.transform(df_test.cleaned_text)"
      ]
    },
    {
      "cell_type": "code",
      "execution_count": 16,
      "metadata": {
        "colab": {
          "base_uri": "https://localhost:8080/"
        },
        "id": "AGl0F3PfYonX",
        "outputId": "134e2b5a-f2b4-4fa3-aae0-5e4a6f9418a9"
      },
      "outputs": [
        {
          "output_type": "execute_result",
          "data": {
            "text/plain": [
              "<49097x3500 sparse matrix of type '<class 'numpy.float64'>'\n",
              "\twith 1035521 stored elements in Compressed Sparse Row format>"
            ]
          },
          "metadata": {},
          "execution_count": 16
        }
      ],
      "source": [
        "X_train_tfidf"
      ]
    },
    {
      "cell_type": "code",
      "execution_count": 17,
      "metadata": {
        "id": "n3UVqzkKZKU0"
      },
      "outputs": [],
      "source": [
        "#Baseline model\n",
        "clf = MultinomialNB()\n",
        "clf.fit(X_train_tfidf, y_train)\n",
        "\n",
        "# Predict on the testing set\n",
        "predicted = clf.predict(X_test_tfidf)"
      ]
    },
    {
      "cell_type": "code",
      "source": [
        "cm = confusion_matrix(y_test, predicted)\n",
        "confusion_matrix_visualization(cm)\n"
      ],
      "metadata": {
        "colab": {
          "base_uri": "https://localhost:8080/",
          "height": 445
        },
        "id": "PwACWiE-KUK8",
        "outputId": "676d1fdb-7922-446d-9ed7-5eb2b27c8d0b"
      },
      "execution_count": 26,
      "outputs": [
        {
          "output_type": "display_data",
          "data": {
            "text/plain": [
              "<Figure size 700x500 with 2 Axes>"
            ],
            "image/png": "[encoded data removed]"
          },
          "metadata": {}
        }
      ]
    },
    {
      "cell_type": "code",
      "source": [
        "eval_report(y_test, predicted)"
      ],
      "metadata": {
        "colab": {
          "base_uri": "https://localhost:8080/"
        },
        "id": "L1rrMnFjy1Bx",
        "outputId": "41f6d410-5458-4498-9848-97e1b23f756a"
      },
      "execution_count": 27,
      "outputs": [
        {
          "output_type": "stream",
          "name": "stdout",
          "text": [
            "Accuracy score:0.7580\n",
            "Balanced accuracy score:0.7226\n",
            "F-1 score:0.6323\n",
            "ROC-AUC score:0.7226\n"
          ]
        }
      ]
    },
    {
      "cell_type": "code",
      "execution_count": 20,
      "metadata": {
        "id": "OW7kAOKGgi2K"
      },
      "outputs": [],
      "source": [
        "import pickle\n",
        "with open('/content/gdrive/My Drive/embedding/tf_idf_3500.pkl', 'wb') as f:\n",
        "    pickle.dump(vectorizer, f)"
      ]
    },
    {
      "cell_type": "markdown",
      "metadata": {
        "id": "izBYpq_gx-63"
      },
      "source": [
        "**Catboost**  \n",
        "\n",
        "Very resource-intensive, requires GPU."
      ]
    },
    {
      "cell_type": "code",
      "execution_count": null,
      "metadata": {
        "colab": {
          "base_uri": "https://localhost:8080/",
          "height": 825
        },
        "id": "jcgZ5jdYh-X7",
        "outputId": "3dbe225c-ff3e-4834-8229-747b8c9a1c0a"
      },
      "outputs": [
        {
          "output_type": "stream",
          "name": "stdout",
          "text": [
            "Learning rate set to 0.054327\n",
            "0:\tlearn: 0.6754015\ttotal: 866ms\tremaining: 14m 25s\n",
            "1:\tlearn: 0.6598201\ttotal: 1.94s\tremaining: 16m 7s\n",
            "2:\tlearn: 0.6478855\ttotal: 2.95s\tremaining: 16m 21s\n",
            "3:\tlearn: 0.6362503\ttotal: 3.75s\tremaining: 15m 35s\n",
            "4:\tlearn: 0.6261068\ttotal: 4.48s\tremaining: 14m 51s\n",
            "5:\tlearn: 0.6171357\ttotal: 5.03s\tremaining: 13m 53s\n",
            "6:\tlearn: 0.6101763\ttotal: 5.57s\tremaining: 13m 9s\n",
            "7:\tlearn: 0.6033938\ttotal: 6.12s\tremaining: 12m 38s\n",
            "8:\tlearn: 0.5968936\ttotal: 6.67s\tremaining: 12m 14s\n",
            "9:\tlearn: 0.5918005\ttotal: 7.21s\tremaining: 11m 54s\n",
            "10:\tlearn: 0.5864139\ttotal: 7.78s\tremaining: 11m 39s\n",
            "11:\tlearn: 0.5828653\ttotal: 8.31s\tremaining: 11m 24s\n",
            "12:\tlearn: 0.5777300\ttotal: 8.87s\tremaining: 11m 13s\n",
            "13:\tlearn: 0.5743156\ttotal: 9.42s\tremaining: 11m 3s\n",
            "14:\tlearn: 0.5712129\ttotal: 9.98s\tremaining: 10m 55s\n",
            "15:\tlearn: 0.5678269\ttotal: 10.7s\tremaining: 10m 55s\n",
            "16:\tlearn: 0.5655937\ttotal: 11.6s\tremaining: 11m 11s\n",
            "17:\tlearn: 0.5630142\ttotal: 12.6s\tremaining: 11m 25s\n",
            "18:\tlearn: 0.5610190\ttotal: 13.5s\tremaining: 11m 36s\n",
            "19:\tlearn: 0.5582562\ttotal: 14.1s\tremaining: 11m 31s\n",
            "20:\tlearn: 0.5558481\ttotal: 14.6s\tremaining: 11m 22s\n"
          ]
        },
        {
          "output_type": "error",
          "ename": "KeyboardInterrupt",
          "evalue": "",
          "traceback": [
            "\u001b[0;31m---------------------------------------------------------------------------\u001b[0m",
            "\u001b[0;31mKeyboardInterrupt\u001b[0m                         Traceback (most recent call last)",
            "\u001b[0;32m<ipython-input-21-6de90cacd283>\u001b[0m in \u001b[0;36m<cell line: 2>\u001b[0;34m()\u001b[0m\n\u001b[1;32m      1\u001b[0m \u001b[0mmodel_cat\u001b[0m \u001b[0;34m=\u001b[0m \u001b[0mCatBoostClassifier\u001b[0m\u001b[0;34m(\u001b[0m\u001b[0;34m)\u001b[0m\u001b[0;34m\u001b[0m\u001b[0;34m\u001b[0m\u001b[0m\n\u001b[0;32m----> 2\u001b[0;31m \u001b[0mmodel_cat\u001b[0m\u001b[0;34m.\u001b[0m\u001b[0mfit\u001b[0m\u001b[0;34m(\u001b[0m\u001b[0mX_train_tfidf\u001b[0m\u001b[0;34m,\u001b[0m \u001b[0my_train\u001b[0m\u001b[0;34m)\u001b[0m\u001b[0;34m\u001b[0m\u001b[0;34m\u001b[0m\u001b[0m\n\u001b[0m\u001b[1;32m      3\u001b[0m \u001b[0mpredictions_cat\u001b[0m \u001b[0;34m=\u001b[0m \u001b[0mmodel_cat\u001b[0m\u001b[0;34m.\u001b[0m\u001b[0mpredict\u001b[0m\u001b[0;34m(\u001b[0m\u001b[0mX_test_tfidf\u001b[0m\u001b[0;34m)\u001b[0m\u001b[0;34m\u001b[0m\u001b[0;34m\u001b[0m\u001b[0m\n\u001b[1;32m      4\u001b[0m \u001b[0mprint\u001b[0m\u001b[0;34m(\u001b[0m\u001b[0mmetrics\u001b[0m\u001b[0;34m.\u001b[0m\u001b[0mclassification_report\u001b[0m\u001b[0;34m(\u001b[0m\u001b[0my_test\u001b[0m\u001b[0;34m,\u001b[0m \u001b[0mpredictions_cat\u001b[0m\u001b[0;34m)\u001b[0m\u001b[0;34m)\u001b[0m\u001b[0;34m\u001b[0m\u001b[0;34m\u001b[0m\u001b[0m\n\u001b[1;32m      5\u001b[0m \u001b[0mprint\u001b[0m\u001b[0;34m(\u001b[0m\u001b[0;34m'F1: '\u001b[0m\u001b[0;34m,\u001b[0m \u001b[0mmetrics\u001b[0m\u001b[0;34m.\u001b[0m\u001b[0mf1_score\u001b[0m\u001b[0;34m(\u001b[0m\u001b[0my_test\u001b[0m\u001b[0;34m,\u001b[0m \u001b[0mpredictions_cat\u001b[0m\u001b[0;34m)\u001b[0m\u001b[0;34m)\u001b[0m\u001b[0;34m\u001b[0m\u001b[0;34m\u001b[0m\u001b[0m\n",
            "\u001b[0;32m/usr/local/lib/python3.10/dist-packages/catboost/core.py\u001b[0m in \u001b[0;36mfit\u001b[0;34m(self, X, y, cat_features, text_features, embedding_features, sample_weight, baseline, use_best_model, eval_set, verbose, logging_level, plot, plot_file, column_description, verbose_eval, metric_period, silent, early_stopping_rounds, save_snapshot, snapshot_file, snapshot_interval, init_model, callbacks, log_cout, log_cerr)\u001b[0m\n\u001b[1;32m   5199\u001b[0m             \u001b[0mCatBoostClassifier\u001b[0m\u001b[0;34m.\u001b[0m\u001b[0m_check_is_compatible_loss\u001b[0m\u001b[0;34m(\u001b[0m\u001b[0mparams\u001b[0m\u001b[0;34m[\u001b[0m\u001b[0;34m'loss_function'\u001b[0m\u001b[0;34m]\u001b[0m\u001b[0;34m)\u001b[0m\u001b[0;34m\u001b[0m\u001b[0;34m\u001b[0m\u001b[0m\n\u001b[1;32m   5200\u001b[0m \u001b[0;34m\u001b[0m\u001b[0m\n\u001b[0;32m-> 5201\u001b[0;31m         self._fit(X, y, cat_features, text_features, embedding_features, None, sample_weight, None, None, None, None, baseline, use_best_model,\n\u001b[0m\u001b[1;32m   5202\u001b[0m                   \u001b[0meval_set\u001b[0m\u001b[0;34m,\u001b[0m \u001b[0mverbose\u001b[0m\u001b[0;34m,\u001b[0m \u001b[0mlogging_level\u001b[0m\u001b[0;34m,\u001b[0m \u001b[0mplot\u001b[0m\u001b[0;34m,\u001b[0m \u001b[0mplot_file\u001b[0m\u001b[0;34m,\u001b[0m \u001b[0mcolumn_description\u001b[0m\u001b[0;34m,\u001b[0m \u001b[0mverbose_eval\u001b[0m\u001b[0;34m,\u001b[0m \u001b[0mmetric_period\u001b[0m\u001b[0;34m,\u001b[0m\u001b[0;34m\u001b[0m\u001b[0;34m\u001b[0m\u001b[0m\n\u001b[1;32m   5203\u001b[0m                   silent, early_stopping_rounds, save_snapshot, snapshot_file, snapshot_interval, init_model, callbacks, log_cout, log_cerr)\n",
            "\u001b[0;32m/usr/local/lib/python3.10/dist-packages/catboost/core.py\u001b[0m in \u001b[0;36m_fit\u001b[0;34m(self, X, y, cat_features, text_features, embedding_features, pairs, sample_weight, group_id, group_weight, subgroup_id, pairs_weight, baseline, use_best_model, eval_set, verbose, logging_level, plot, plot_file, column_description, verbose_eval, metric_period, silent, early_stopping_rounds, save_snapshot, snapshot_file, snapshot_interval, init_model, callbacks, log_cout, log_cerr)\u001b[0m\n\u001b[1;32m   2394\u001b[0m \u001b[0;34m\u001b[0m\u001b[0m\n\u001b[1;32m   2395\u001b[0m             \u001b[0;32mwith\u001b[0m \u001b[0mplot_wrapper\u001b[0m\u001b[0;34m(\u001b[0m\u001b[0mplot\u001b[0m\u001b[0;34m,\u001b[0m \u001b[0mplot_file\u001b[0m\u001b[0;34m,\u001b[0m \u001b[0;34m'Training plots'\u001b[0m\u001b[0;34m,\u001b[0m \u001b[0;34m[\u001b[0m\u001b[0m_get_train_dir\u001b[0m\u001b[0;34m(\u001b[0m\u001b[0mself\u001b[0m\u001b[0;34m.\u001b[0m\u001b[0mget_params\u001b[0m\u001b[0;34m(\u001b[0m\u001b[0;34m)\u001b[0m\u001b[0;34m)\u001b[0m\u001b[0;34m]\u001b[0m\u001b[0;34m)\u001b[0m\u001b[0;34m:\u001b[0m\u001b[0;34m\u001b[0m\u001b[0;34m\u001b[0m\u001b[0m\n\u001b[0;32m-> 2396\u001b[0;31m                 self._train(\n\u001b[0m\u001b[1;32m   2397\u001b[0m                     \u001b[0mtrain_pool\u001b[0m\u001b[0;34m,\u001b[0m\u001b[0;34m\u001b[0m\u001b[0;34m\u001b[0m\u001b[0m\n\u001b[1;32m   2398\u001b[0m                     \u001b[0mtrain_params\u001b[0m\u001b[0;34m[\u001b[0m\u001b[0;34m\"eval_sets\"\u001b[0m\u001b[0;34m]\u001b[0m\u001b[0;34m,\u001b[0m\u001b[0;34m\u001b[0m\u001b[0;34m\u001b[0m\u001b[0m\n",
            "\u001b[0;32m/usr/local/lib/python3.10/dist-packages/catboost/core.py\u001b[0m in \u001b[0;36m_train\u001b[0;34m(self, train_pool, test_pool, params, allow_clear_pool, init_model)\u001b[0m\n\u001b[1;32m   1774\u001b[0m \u001b[0;34m\u001b[0m\u001b[0m\n\u001b[1;32m   1775\u001b[0m     \u001b[0;32mdef\u001b[0m \u001b[0m_train\u001b[0m\u001b[0;34m(\u001b[0m\u001b[0mself\u001b[0m\u001b[0;34m,\u001b[0m \u001b[0mtrain_pool\u001b[0m\u001b[0;34m,\u001b[0m \u001b[0mtest_pool\u001b[0m\u001b[0;34m,\u001b[0m \u001b[0mparams\u001b[0m\u001b[0;34m,\u001b[0m \u001b[0mallow_clear_pool\u001b[0m\u001b[0;34m,\u001b[0m \u001b[0minit_model\u001b[0m\u001b[0;34m)\u001b[0m\u001b[0;34m:\u001b[0m\u001b[0;34m\u001b[0m\u001b[0;34m\u001b[0m\u001b[0m\n\u001b[0;32m-> 1776\u001b[0;31m         \u001b[0mself\u001b[0m\u001b[0;34m.\u001b[0m\u001b[0m_object\u001b[0m\u001b[0;34m.\u001b[0m\u001b[0m_train\u001b[0m\u001b[0;34m(\u001b[0m\u001b[0mtrain_pool\u001b[0m\u001b[0;34m,\u001b[0m \u001b[0mtest_pool\u001b[0m\u001b[0;34m,\u001b[0m \u001b[0mparams\u001b[0m\u001b[0;34m,\u001b[0m \u001b[0mallow_clear_pool\u001b[0m\u001b[0;34m,\u001b[0m \u001b[0minit_model\u001b[0m\u001b[0;34m.\u001b[0m\u001b[0m_object\u001b[0m \u001b[0;32mif\u001b[0m \u001b[0minit_model\u001b[0m \u001b[0;32melse\u001b[0m \u001b[0;32mNone\u001b[0m\u001b[0;34m)\u001b[0m\u001b[0;34m\u001b[0m\u001b[0;34m\u001b[0m\u001b[0m\n\u001b[0m\u001b[1;32m   1777\u001b[0m         \u001b[0mself\u001b[0m\u001b[0;34m.\u001b[0m\u001b[0m_set_trained_model_attributes\u001b[0m\u001b[0;34m(\u001b[0m\u001b[0;34m)\u001b[0m\u001b[0;34m\u001b[0m\u001b[0;34m\u001b[0m\u001b[0m\n\u001b[1;32m   1778\u001b[0m \u001b[0;34m\u001b[0m\u001b[0m\n",
            "\u001b[0;32m_catboost.pyx\u001b[0m in \u001b[0;36m_catboost._CatBoost._train\u001b[0;34m()\u001b[0m\n",
            "\u001b[0;32m_catboost.pyx\u001b[0m in \u001b[0;36m_catboost._CatBoost._train\u001b[0;34m()\u001b[0m\n",
            "\u001b[0;31mKeyboardInterrupt\u001b[0m: "
          ]
        }
      ],
      "source": [
        "model_cat = CatBoostClassifier()\n",
        "model_cat.fit(X_train_tfidf, y_train)\n",
        "predictions_cat = model_cat.predict(X_test_tfidf)\n",
        "print(metrics.classification_report(y_test, predictions_cat))\n",
        "print('F1: ', metrics.f1_score(y_test, predictions_cat))\n",
        "print('ROC_AUC: ', metrics.roc_auc_score(y_test, predictions_cat))\n",
        "print(metrics.confusion_matrix(y_test, predictions_cat))"
      ]
    },
    {
      "cell_type": "code",
      "execution_count": null,
      "metadata": {
        "id": "Lqi_QcsSS1Hz"
      },
      "outputs": [],
      "source": [
        "model_cat.save_model('/content/gdrive/My Drive/models_fake_news/catboost_model.bin')"
      ]
    },
    {
      "cell_type": "code",
      "execution_count": null,
      "metadata": {
        "id": "OGmYNuVJbgw_"
      },
      "outputs": [],
      "source": [
        "def objective(trial):\n",
        "    params = {\n",
        "        'n_estimators': trial.suggest_int('n_estimators', 700, 1200),\n",
        "        'learning_rate': trial.suggest_float('learning_rate', 0.01, 0.1),\n",
        "        'depth': trial.suggest_int('max_depth', 4, 8),\n",
        "        'l2_leaf_reg': trial.suggest_float('l2_leaf_reg', 2, 5),\n",
        "       # 'bagging_temperature': trial.suggest_float(\"bagging_temperature\", 0, 20),\n",
        "        'auto_class_weights': trial.suggest_categorical('auto_class_weights', [None,'Balanced']),\n",
        "        #'min_data_in_leaf': trial.suggest_int('min_data_in_leaf', 1, 10),\n",
        "        #'subsample': trial.suggest_float('subsample', 0.01, 0.1),\n",
        "       #'task_type': 'GPU',\n",
        "       'boosting_type': 'Ordered'\n",
        "      # 'grow_policy': trial.suggest_categorical('grow_policy', ['SymmetricTree', 'Depthwise', 'Lossguide']),\n",
        "    }\n",
        "    model = CatBoostClassifier(**params, silent=True)\n",
        "\n",
        "    #model.fit(X_train_tfidf, y_train)\n",
        "    #predictions = model.predict(X_test_tfidf)\n",
        "    #f1 = metrics.f1_score(y_test, predictions)\n",
        "    scores = cross_val_score(model, X_train_tfidf, y_train, cv=5, scoring='f1')\n",
        "    #roc_auc = roc_auc_score(y_test, predictions_xgb)\n",
        "    return np.mean(scores)\n",
        "    return f1"
      ]
    },
    {
      "cell_type": "code",
      "execution_count": null,
      "metadata": {
        "colab": {
          "base_uri": "https://localhost:8080/"
        },
        "id": "4JbObiExe-xo",
        "outputId": "e5003a01-7a51-45f9-db20-751354dc9d39"
      },
      "outputs": [
        {
          "metadata": {
            "tags": null
          },
          "name": "stderr",
          "output_type": "stream",
          "text": [
            "[I 2024-02-28 01:24:50,445] A new study created in memory with name: no-name-f7e2b11e-365d-4279-9564-12eeb81461c6\n"
          ]
        }
      ],
      "source": [
        "study = optuna.create_study(direction='maximize')\n",
        "study.optimize(objective, n_trials=20)"
      ]
    },
    {
      "cell_type": "code",
      "source": [
        "# Get the best hyperparameters and best F1 score\n",
        "best_params = study.best_params\n",
        "best_score = study.best_value"
      ],
      "metadata": {
        "id": "Tp9ektPfUJjb"
      },
      "execution_count": null,
      "outputs": []
    },
    {
      "cell_type": "code",
      "source": [
        "best_model = CatBoostClassifier(**best_params)\n",
        "best_model.fit(X_train_tfidf, y_train)\n",
        "predictions_cat = best_model.predict(X_test_tfidf)\n",
        "print(metrics.classification_report(y_test, predictions_cat))\n",
        "print('F1: ', metrics.f1_score(y_test, predictions_cat))\n",
        "print('ROC_AUC: ', metrics.roc_auc_score(y_test, predictions_cat))\n",
        "print(metrics.confusion_matrix(y_test, predictions_cat))"
      ],
      "metadata": {
        "id": "aUabBt_lUWY3"
      },
      "execution_count": null,
      "outputs": []
    },
    {
      "cell_type": "code",
      "source": [
        "model_cat.save_model('/content/gdrive/My Drive/models_fake_news/catboost_model_best.bin')"
      ],
      "metadata": {
        "id": "DN1PVQnQUnIJ"
      },
      "execution_count": null,
      "outputs": []
    },
    {
      "cell_type": "markdown",
      "metadata": {
        "id": "43SldmAtbttU"
      },
      "source": [
        "**XGBoost**"
      ]
    },
    {
      "cell_type": "code",
      "source": [
        "positive_samples = np.sum(y_train == 1)\n",
        "negative_samples = np.sum(y_train == 0)\n",
        "imbalance_ratio = negative_samples / positive_samples"
      ],
      "metadata": {
        "id": "r_usebcjBsVR"
      },
      "execution_count": 28,
      "outputs": []
    },
    {
      "cell_type": "code",
      "source": [
        "model_xgb = xgb.XGBClassifier(scale_pos_weight=imbalance_ratio)\n",
        "model_xgb.fit(X_train_tfidf, y_train)\n",
        "predictions_xgb = model_xgb.predict(X_test_tfidf)\n",
        "eval_report(y_test, predictions_xgb)\n",
        "cm = confusion_matrix(y_test, predictions_xgb)\n",
        "confusion_matrix_visualization(cm)"
      ],
      "metadata": {
        "colab": {
          "base_uri": "https://localhost:8080/",
          "height": 514
        },
        "id": "vLYi4wpiB5jJ",
        "outputId": "8a0c96e7-210f-4a58-c95a-56961755ebaf"
      },
      "execution_count": 29,
      "outputs": [
        {
          "output_type": "stream",
          "name": "stdout",
          "text": [
            "Accuracy score:0.7895\n",
            "Balanced accuracy score:0.7650\n",
            "F-1 score:0.7087\n",
            "ROC-AUC score:0.7650\n"
          ]
        },
        {
          "output_type": "display_data",
          "data": {
            "text/plain": [
              "<Figure size 700x500 with 2 Axes>"
            ],
            "image/png": "[encoded data removed]"
          },
          "metadata": {}
        }
      ]
    },
    {
      "cell_type": "code",
      "execution_count": 30,
      "metadata": {
        "id": "genVSKuAjX0X"
      },
      "outputs": [],
      "source": [
        "model_xgb.save_model('/content/gdrive/My Drive/models_fake_news/xgboost_model.json')"
      ]
    },
    {
      "cell_type": "markdown",
      "metadata": {
        "id": "oMOGZPgvfzFU"
      },
      "source": [
        "**XGBoost + OPTUNA**"
      ]
    },
    {
      "cell_type": "code",
      "execution_count": 31,
      "metadata": {
        "id": "PZMJD9dYkrUZ"
      },
      "outputs": [],
      "source": [
        "def objective(trial):\n",
        "    params = {\n",
        "        'max_depth': trial.suggest_int('max_depth', 4, 9),\n",
        "        'learning_rate': trial.suggest_float('learning_rate', 0.1, 1.0),\n",
        "        'n_estimators': trial.suggest_int('n_estimators', 50, 170),\n",
        "        'min_child_weight': trial.suggest_int('min_child_weight', 1, 15),\n",
        "        'gamma': trial.suggest_float('gamma', 1e-8, 1.0, log=True),\n",
        "        'subsample': trial.suggest_float('subsample', 0.01, 1.0, log=True),\n",
        "        'colsample_bytree': trial.suggest_float('colsample_bytree', 0.01, 1.0, log=True),\n",
        "        'alpha': trial.suggest_float('alpha', 1e-8, 1.0),\n",
        "        'lambda': trial.suggest_float('lambda', 1e-8, 1.0),\n",
        "        'scale_pos_weight': trial.suggest_float('scale_pos_weight', 1.0, 1.5),\n",
        "        'eval_metric': 'aucpr'\n",
        "    }\n",
        "\n",
        "    model = xgb.XGBClassifier(**params)\n",
        "    #model.fit(X_train_tfidf, y_train)\n",
        "    #predictions_xgb = model.predict(X_test_tfidf)\n",
        "    skf = StratifiedKFold(n_splits=5, shuffle=True, random_state=0)\n",
        "    scores = cross_val_score(model, X_train_tfidf, y_train, cv=skf, scoring='roc_auc')\n",
        "    #roc_auc = roc_auc_score(y_test, predictions_xgb)\n",
        "    return np.mean(scores)"
      ]
    },
    {
      "cell_type": "code",
      "source": [
        "# Create Optuna study and optimize the objective function\n",
        "study = optuna.create_study(direction='maximize')\n",
        "study.optimize(objective, n_trials=40)\n",
        "\n",
        "# Get the best hyperparameters and best F1 score\n",
        "best_params = study.best_params\n",
        "best_score = study.best_value"
      ],
      "metadata": {
        "colab": {
          "base_uri": "https://localhost:8080/"
        },
        "id": "hg94eIzpFfCT",
        "outputId": "29a6952c-76da-453e-d74b-1442e9ab96ef"
      },
      "execution_count": 32,
      "outputs": [
        {
          "output_type": "stream",
          "name": "stderr",
          "text": [
            "[I 2024-03-31 00:00:48,280] A new study created in memory with name: no-name-47f82504-f3f2-411e-acb0-46866ad6d212\n",
            "[I 2024-03-31 00:01:16,088] Trial 0 finished with value: 0.6528176846033512 and parameters: {'max_depth': 8, 'learning_rate': 0.1642879431555242, 'n_estimators': 133, 'min_child_weight': 15, 'gamma': 2.263878282847891e-06, 'subsample': 0.018626530668443927, 'colsample_bytree': 0.6414282877689742, 'alpha': 0.033355065434607666, 'lambda': 0.2592605569079477, 'scale_pos_weight': 1.4690976496651253}. Best is trial 0 with value: 0.6528176846033512.\n",
            "[I 2024-03-31 00:01:49,532] Trial 1 finished with value: 0.7574110131013683 and parameters: {'max_depth': 8, 'learning_rate': 0.3024398547571826, 'n_estimators': 115, 'min_child_weight': 10, 'gamma': 0.00423891040517043, 'subsample': 0.08692694589200822, 'colsample_bytree': 0.10659658800109034, 'alpha': 0.285826292712869, 'lambda': 0.6679386997318936, 'scale_pos_weight': 1.2217118971401546}. Best is trial 1 with value: 0.7574110131013683.\n",
            "[I 2024-03-31 00:02:42,974] Trial 2 finished with value: 0.7099208609386842 and parameters: {'max_depth': 9, 'learning_rate': 0.3520063507893917, 'n_estimators': 154, 'min_child_weight': 5, 'gamma': 4.6495690700007094e-07, 'subsample': 0.02940414519131162, 'colsample_bytree': 0.3240538762872235, 'alpha': 0.30379634765115354, 'lambda': 0.5701615238410566, 'scale_pos_weight': 1.381978854252318}. Best is trial 1 with value: 0.7574110131013683.\n",
            "[I 2024-03-31 00:03:12,446] Trial 3 finished with value: 0.6759263668926204 and parameters: {'max_depth': 4, 'learning_rate': 0.30370854914746914, 'n_estimators': 134, 'min_child_weight': 8, 'gamma': 1.698594208744305e-07, 'subsample': 0.014559493194313154, 'colsample_bytree': 0.902639836366944, 'alpha': 0.4404048458171732, 'lambda': 0.3157574791426439, 'scale_pos_weight': 1.417185695434193}. Best is trial 1 with value: 0.7574110131013683.\n",
            "[I 2024-03-31 00:03:31,135] Trial 4 finished with value: 0.7039719109069582 and parameters: {'max_depth': 6, 'learning_rate': 0.2823695071267055, 'n_estimators': 146, 'min_child_weight': 8, 'gamma': 2.0800206510715015e-06, 'subsample': 0.030354277760776698, 'colsample_bytree': 0.0169824652200888, 'alpha': 0.3010578978126203, 'lambda': 0.35951974828280797, 'scale_pos_weight': 1.3470662280410006}. Best is trial 1 with value: 0.7574110131013683.\n",
            "[I 2024-03-31 00:03:53,103] Trial 5 finished with value: 0.7480970636917067 and parameters: {'max_depth': 5, 'learning_rate': 0.6504785991199868, 'n_estimators': 135, 'min_child_weight': 10, 'gamma': 1.3759942415951932e-08, 'subsample': 0.12954361697893055, 'colsample_bytree': 0.0658925910431195, 'alpha': 0.1415801385007347, 'lambda': 0.1357061349748329, 'scale_pos_weight': 1.4128969479733717}. Best is trial 1 with value: 0.7574110131013683.\n",
            "[I 2024-03-31 00:04:05,641] Trial 6 finished with value: 0.6057980129023474 and parameters: {'max_depth': 7, 'learning_rate': 0.7940093761767243, 'n_estimators': 166, 'min_child_weight': 11, 'gamma': 9.252156135806868e-05, 'subsample': 0.01600147016577156, 'colsample_bytree': 0.11290877082434582, 'alpha': 0.5580868217455788, 'lambda': 0.4728820156553483, 'scale_pos_weight': 1.0157794119663741}. Best is trial 1 with value: 0.7574110131013683.\n",
            "[I 2024-03-31 00:04:32,764] Trial 7 finished with value: 0.828568750565833 and parameters: {'max_depth': 5, 'learning_rate': 0.2083068611303904, 'n_estimators': 98, 'min_child_weight': 10, 'gamma': 0.035128714021148914, 'subsample': 0.8474579904774844, 'colsample_bytree': 0.1388552712188098, 'alpha': 0.08870402471114047, 'lambda': 0.9186017727261143, 'scale_pos_weight': 1.1333563112147036}. Best is trial 7 with value: 0.828568750565833.\n",
            "[I 2024-03-31 00:05:12,802] Trial 8 finished with value: 0.6469921558047329 and parameters: {'max_depth': 9, 'learning_rate': 0.9742912942334003, 'n_estimators': 98, 'min_child_weight': 2, 'gamma': 1.6402237417398143e-05, 'subsample': 0.029387682738396235, 'colsample_bytree': 0.4850071283799727, 'alpha': 0.7913175822215885, 'lambda': 0.2715927559599179, 'scale_pos_weight': 1.3112725957972309}. Best is trial 7 with value: 0.828568750565833.\n",
            "[I 2024-03-31 00:05:32,459] Trial 9 finished with value: 0.707711295628903 and parameters: {'max_depth': 8, 'learning_rate': 0.4823486899608307, 'n_estimators': 148, 'min_child_weight': 13, 'gamma': 0.16877040412080804, 'subsample': 0.0431808113351084, 'colsample_bytree': 0.03439805943349679, 'alpha': 0.238481002868686, 'lambda': 0.5575610437515134, 'scale_pos_weight': 1.396352111855736}. Best is trial 7 with value: 0.828568750565833.\n",
            "[I 2024-03-31 00:05:49,367] Trial 10 finished with value: 0.798050937414047 and parameters: {'max_depth': 4, 'learning_rate': 0.1374550018537663, 'n_estimators': 59, 'min_child_weight': 5, 'gamma': 0.3538997632075017, 'subsample': 0.978099727612968, 'colsample_bytree': 0.21347893099435106, 'alpha': 0.9799107013226636, 'lambda': 0.9883410618991204, 'scale_pos_weight': 1.1358676768374825}. Best is trial 7 with value: 0.828568750565833.\n",
            "[I 2024-03-31 00:06:04,467] Trial 11 finished with value: 0.7940682418974417 and parameters: {'max_depth': 4, 'learning_rate': 0.13478069733820508, 'n_estimators': 53, 'min_child_weight': 5, 'gamma': 0.6913509294211789, 'subsample': 0.8569621024712726, 'colsample_bytree': 0.22018682421268776, 'alpha': 0.9740303761441881, 'lambda': 0.8810503878482364, 'scale_pos_weight': 1.1351502835243241}. Best is trial 7 with value: 0.828568750565833.\n",
            "[I 2024-03-31 00:06:28,681] Trial 12 finished with value: 0.8013175676167836 and parameters: {'max_depth': 5, 'learning_rate': 0.10823816914691281, 'n_estimators': 64, 'min_child_weight': 5, 'gamma': 0.009477706918222995, 'subsample': 0.9525542061342597, 'colsample_bytree': 0.19745187244583326, 'alpha': 0.6806282131383089, 'lambda': 0.9845706900997098, 'scale_pos_weight': 1.1169326708235814}. Best is trial 7 with value: 0.828568750565833.\n",
            "[I 2024-03-31 00:06:52,752] Trial 13 finished with value: 0.8112099606858962 and parameters: {'max_depth': 6, 'learning_rate': 0.47361378157949596, 'n_estimators': 79, 'min_child_weight': 1, 'gamma': 0.005840514787303985, 'subsample': 0.3927501184710808, 'colsample_bytree': 0.05384693008372992, 'alpha': 0.6225383955631589, 'lambda': 0.7924471448359984, 'scale_pos_weight': 1.043500840566093}. Best is trial 7 with value: 0.828568750565833.\n",
            "[I 2024-03-31 00:07:16,901] Trial 14 finished with value: 0.8010982454374707 and parameters: {'max_depth': 6, 'learning_rate': 0.5172412639328007, 'n_estimators': 85, 'min_child_weight': 1, 'gamma': 0.003553186926161585, 'subsample': 0.383043440635639, 'colsample_bytree': 0.040575094114054785, 'alpha': 0.5304851279790933, 'lambda': 0.7787023581885989, 'scale_pos_weight': 1.0020121534772386}. Best is trial 7 with value: 0.828568750565833.\n",
            "[I 2024-03-31 00:07:31,732] Trial 15 finished with value: 0.7433939609261637 and parameters: {'max_depth': 5, 'learning_rate': 0.6638714779999395, 'n_estimators': 82, 'min_child_weight': 3, 'gamma': 0.02211951437773995, 'subsample': 0.3470419929734496, 'colsample_bytree': 0.012153843515927047, 'alpha': 0.7154137411981902, 'lambda': 0.8247787834084446, 'scale_pos_weight': 1.0754193646240258}. Best is trial 7 with value: 0.828568750565833.\n",
            "[I 2024-03-31 00:07:58,617] Trial 16 finished with value: 0.8054802582635986 and parameters: {'max_depth': 6, 'learning_rate': 0.40943590396947915, 'n_estimators': 110, 'min_child_weight': 7, 'gamma': 0.0005804470721341897, 'subsample': 0.355445084212809, 'colsample_bytree': 0.05598655510984161, 'alpha': 0.014343188151087816, 'lambda': 0.705943059335377, 'scale_pos_weight': 1.2159981030136935}. Best is trial 7 with value: 0.828568750565833.\n",
            "[I 2024-03-31 00:08:15,188] Trial 17 finished with value: 0.7282712654239775 and parameters: {'max_depth': 7, 'learning_rate': 0.6267315656683411, 'n_estimators': 77, 'min_child_weight': 12, 'gamma': 0.0607574120793589, 'subsample': 0.16800850079051713, 'colsample_bytree': 0.017974910273962127, 'alpha': 0.42466279347816616, 'lambda': 0.8780632402331057, 'scale_pos_weight': 1.0620336712884635}. Best is trial 7 with value: 0.828568750565833.\n",
            "[I 2024-03-31 00:08:36,586] Trial 18 finished with value: 0.8015422851962329 and parameters: {'max_depth': 5, 'learning_rate': 0.7745400657745534, 'n_estimators': 100, 'min_child_weight': 13, 'gamma': 0.0006406536449416109, 'subsample': 0.6037026413341119, 'colsample_bytree': 0.08395719773702708, 'alpha': 0.8524513349183438, 'lambda': 0.6827434142160379, 'scale_pos_weight': 1.1794921457444418}. Best is trial 7 with value: 0.828568750565833.\n",
            "[I 2024-03-31 00:08:53,847] Trial 19 finished with value: 0.752669480589679 and parameters: {'max_depth': 7, 'learning_rate': 0.2318916200325912, 'n_estimators': 73, 'min_child_weight': 15, 'gamma': 0.0007458717823544812, 'subsample': 0.218999206070433, 'colsample_bytree': 0.03060909483861842, 'alpha': 0.6594068582946271, 'lambda': 0.9236411281294179, 'scale_pos_weight': 1.275044751801821}. Best is trial 7 with value: 0.828568750565833.\n",
            "[I 2024-03-31 00:09:25,354] Trial 20 finished with value: 0.7609009174603869 and parameters: {'max_depth': 6, 'learning_rate': 0.4337150068585424, 'n_estimators': 121, 'min_child_weight': 3, 'gamma': 0.059567417179879435, 'subsample': 0.08121592801142095, 'colsample_bytree': 0.13349383926176492, 'alpha': 0.39789782691394776, 'lambda': 0.7455036610553742, 'scale_pos_weight': 1.071358980045046}. Best is trial 7 with value: 0.828568750565833.\n",
            "[I 2024-03-31 00:09:48,857] Trial 21 finished with value: 0.8136224155847895 and parameters: {'max_depth': 6, 'learning_rate': 0.40230483491551816, 'n_estimators': 97, 'min_child_weight': 7, 'gamma': 0.00034303745116670065, 'subsample': 0.4406962584519479, 'colsample_bytree': 0.05673692737654614, 'alpha': 0.044669820694413775, 'lambda': 0.6347753304905428, 'scale_pos_weight': 1.228281683606186}. Best is trial 7 with value: 0.828568750565833.\n",
            "[I 2024-03-31 00:10:09,397] Trial 22 finished with value: 0.8138116227916544 and parameters: {'max_depth': 5, 'learning_rate': 0.39394966725702807, 'n_estimators': 95, 'min_child_weight': 7, 'gamma': 8.773679125538314e-05, 'subsample': 0.5453887641244773, 'colsample_bytree': 0.049645296611444636, 'alpha': 0.12744555705900298, 'lambda': 0.6238085452653345, 'scale_pos_weight': 1.1810772922449289}. Best is trial 7 with value: 0.828568750565833.\n",
            "[I 2024-03-31 00:10:26,743] Trial 23 finished with value: 0.8065197997244443 and parameters: {'max_depth': 5, 'learning_rate': 0.3766367888282092, 'n_estimators': 96, 'min_child_weight': 7, 'gamma': 4.148442003649635e-05, 'subsample': 0.5508526393870558, 'colsample_bytree': 0.028070834238734535, 'alpha': 0.1348493032367377, 'lambda': 0.4731858253621739, 'scale_pos_weight': 1.1857843895281872}. Best is trial 7 with value: 0.828568750565833.\n",
            "[I 2024-03-31 00:10:48,634] Trial 24 finished with value: 0.8205523367706151 and parameters: {'max_depth': 5, 'learning_rate': 0.22100141623896216, 'n_estimators': 94, 'min_child_weight': 9, 'gamma': 7.89872252178086e-06, 'subsample': 0.602079172722993, 'colsample_bytree': 0.07070123940866671, 'alpha': 0.14547540879131537, 'lambda': 0.6018050753451246, 'scale_pos_weight': 1.2705370640422267}. Best is trial 7 with value: 0.828568750565833.\n",
            "[I 2024-03-31 00:11:09,069] Trial 25 finished with value: 0.8235804923370365 and parameters: {'max_depth': 4, 'learning_rate': 0.2140620247380945, 'n_estimators': 91, 'min_child_weight': 9, 'gamma': 1.0064489679002017e-05, 'subsample': 0.6230387966326258, 'colsample_bytree': 0.16185897474587424, 'alpha': 0.15826495463054419, 'lambda': 0.4134837457600149, 'scale_pos_weight': 1.2739272890891657}. Best is trial 7 with value: 0.828568750565833.\n",
            "[I 2024-03-31 00:11:25,382] Trial 26 finished with value: 0.8042434458295368 and parameters: {'max_depth': 4, 'learning_rate': 0.22967918102176882, 'n_estimators': 89, 'min_child_weight': 10, 'gamma': 1.410348271225527e-05, 'subsample': 0.25169714514405267, 'colsample_bytree': 0.1532348004307245, 'alpha': 0.20524626221539177, 'lambda': 0.40806105753120964, 'scale_pos_weight': 1.2777058668513375}. Best is trial 7 with value: 0.828568750565833.\n",
            "[I 2024-03-31 00:11:57,331] Trial 27 finished with value: 0.830495758881694 and parameters: {'max_depth': 4, 'learning_rate': 0.24139569331004776, 'n_estimators': 106, 'min_child_weight': 9, 'gamma': 2.789113549222612e-06, 'subsample': 0.6715717005082222, 'colsample_bytree': 0.31422107747166034, 'alpha': 0.09727944831176341, 'lambda': 0.038767238984813934, 'scale_pos_weight': 1.3083916234123234}. Best is trial 27 with value: 0.830495758881694.\n",
            "[I 2024-03-31 00:12:23,133] Trial 28 finished with value: 0.8063416811014429 and parameters: {'max_depth': 4, 'learning_rate': 0.19784861564279183, 'n_estimators': 108, 'min_child_weight': 12, 'gamma': 4.211184696299733e-08, 'subsample': 0.2535782684110241, 'colsample_bytree': 0.34033279692025425, 'alpha': 0.08697214074436138, 'lambda': 0.01981613222822995, 'scale_pos_weight': 1.3438801364765114}. Best is trial 27 with value: 0.830495758881694.\n",
            "[I 2024-03-31 00:13:08,601] Trial 29 finished with value: 0.8360882428463118 and parameters: {'max_depth': 4, 'learning_rate': 0.28199135040568024, 'n_estimators': 125, 'min_child_weight': 9, 'gamma': 2.123613971595966e-06, 'subsample': 0.7235722071007992, 'colsample_bytree': 0.39753980358645963, 'alpha': 0.014221655429514979, 'lambda': 0.1820442786535955, 'scale_pos_weight': 1.4714525060493737}. Best is trial 29 with value: 0.8360882428463118.\n",
            "[I 2024-03-31 00:13:24,841] Trial 30 finished with value: 0.618149388302429 and parameters: {'max_depth': 4, 'learning_rate': 0.3143871765346442, 'n_estimators': 127, 'min_child_weight': 11, 'gamma': 1.475445935589397e-06, 'subsample': 0.0102963200372203, 'colsample_bytree': 0.5653034171093851, 'alpha': 0.00995291871512337, 'lambda': 0.16492743173350766, 'scale_pos_weight': 1.497682564033026}. Best is trial 29 with value: 0.8360882428463118.\n",
            "[I 2024-03-31 00:13:57,136] Trial 31 finished with value: 0.8283884040259526 and parameters: {'max_depth': 4, 'learning_rate': 0.18439909505885307, 'n_estimators': 107, 'min_child_weight': 9, 'gamma': 4.3643043320422714e-07, 'subsample': 0.7346960671987401, 'colsample_bytree': 0.32254054390979897, 'alpha': 0.19580787659328122, 'lambda': 0.0045075081845010745, 'scale_pos_weight': 1.4361688245429014}. Best is trial 29 with value: 0.8360882428463118.\n",
            "[I 2024-03-31 00:14:34,738] Trial 32 finished with value: 0.8274979632184177 and parameters: {'max_depth': 4, 'learning_rate': 0.16963650612361933, 'n_estimators': 118, 'min_child_weight': 9, 'gamma': 2.598046817765804e-07, 'subsample': 0.7719415463515862, 'colsample_bytree': 0.3189313926776897, 'alpha': 0.08493836653147645, 'lambda': 0.004000512532076794, 'scale_pos_weight': 1.4507361848561755}. Best is trial 29 with value: 0.8360882428463118.\n",
            "[I 2024-03-31 00:15:11,812] Trial 33 finished with value: 0.8344087085175337 and parameters: {'max_depth': 4, 'learning_rate': 0.283010794717198, 'n_estimators': 107, 'min_child_weight': 11, 'gamma': 7.675827241033361e-07, 'subsample': 0.7750618566104119, 'colsample_bytree': 0.4224513692952069, 'alpha': 0.22568395607935712, 'lambda': 0.11997766691196679, 'scale_pos_weight': 1.4603996139103743}. Best is trial 29 with value: 0.8360882428463118.\n",
            "[I 2024-03-31 00:16:05,735] Trial 34 finished with value: 0.8242387630935726 and parameters: {'max_depth': 4, 'learning_rate': 0.27580157322063226, 'n_estimators': 115, 'min_child_weight': 14, 'gamma': 9.969458916777376e-08, 'subsample': 0.46621817702776114, 'colsample_bytree': 0.9083324053092561, 'alpha': 0.33871400161443943, 'lambda': 0.11233983317612904, 'scale_pos_weight': 1.4988945702819196}. Best is trial 29 with value: 0.8360882428463118.\n",
            "[I 2024-03-31 00:16:46,842] Trial 35 finished with value: 0.8049413741985887 and parameters: {'max_depth': 5, 'learning_rate': 0.3462810881542542, 'n_estimators': 124, 'min_child_weight': 11, 'gamma': 1.1760376860096788e-06, 'subsample': 0.2966443548014784, 'colsample_bytree': 0.43433863819937124, 'alpha': 0.24430388186607344, 'lambda': 0.214043244981664, 'scale_pos_weight': 1.3647372124196964}. Best is trial 29 with value: 0.8360882428463118.\n",
            "[I 2024-03-31 00:18:01,782] Trial 36 finished with value: 0.8379430390269655 and parameters: {'max_depth': 4, 'learning_rate': 0.29590912738331954, 'n_estimators': 137, 'min_child_weight': 10, 'gamma': 3.877924824268651e-06, 'subsample': 0.7321811649758878, 'colsample_bytree': 0.6775671894875651, 'alpha': 0.06700696661440605, 'lambda': 0.07700543018836516, 'scale_pos_weight': 1.4600592103189587}. Best is trial 36 with value: 0.8379430390269655.\n",
            "[I 2024-03-31 00:18:37,185] Trial 37 finished with value: 0.766759681880966 and parameters: {'max_depth': 4, 'learning_rate': 0.2888170184384319, 'n_estimators': 140, 'min_child_weight': 8, 'gamma': 3.3502225380404246e-06, 'subsample': 0.07346517493551517, 'colsample_bytree': 0.7554488187830559, 'alpha': 0.06186482522595633, 'lambda': 0.08051538583238238, 'scale_pos_weight': 1.4667805545543504}. Best is trial 36 with value: 0.8379430390269655.\n",
            "[I 2024-03-31 00:19:18,632] Trial 38 finished with value: 0.7683792879862482 and parameters: {'max_depth': 4, 'learning_rate': 0.5821912785281459, 'n_estimators': 160, 'min_child_weight': 12, 'gamma': 7.36724869405321e-07, 'subsample': 0.1677043976762017, 'colsample_bytree': 0.683764720012345, 'alpha': 0.3477679522866943, 'lambda': 0.2006809837417615, 'scale_pos_weight': 1.4166267965220118}. Best is trial 36 with value: 0.8379430390269655.\n",
            "[I 2024-03-31 00:20:23,338] Trial 39 finished with value: 0.8359281586413377 and parameters: {'max_depth': 5, 'learning_rate': 0.3364166198907222, 'n_estimators': 129, 'min_child_weight': 6, 'gamma': 4.3141524296503615e-06, 'subsample': 0.7015859266909525, 'colsample_bytree': 0.39971429581186263, 'alpha': 0.0019805148043204324, 'lambda': 0.06064937933107049, 'scale_pos_weight': 1.4734286057087584}. Best is trial 36 with value: 0.8379430390269655.\n"
          ]
        }
      ]
    },
    {
      "cell_type": "code",
      "source": [
        "print(best_params)\n",
        "print(best_score)"
      ],
      "metadata": {
        "colab": {
          "base_uri": "https://localhost:8080/"
        },
        "id": "cUkp5eD-NOoA",
        "outputId": "698d35c4-11e7-4ff4-ffaf-0533219dde5c"
      },
      "execution_count": 33,
      "outputs": [
        {
          "output_type": "stream",
          "name": "stdout",
          "text": [
            "{'max_depth': 4, 'learning_rate': 0.29590912738331954, 'n_estimators': 137, 'min_child_weight': 10, 'gamma': 3.877924824268651e-06, 'subsample': 0.7321811649758878, 'colsample_bytree': 0.6775671894875651, 'alpha': 0.06700696661440605, 'lambda': 0.07700543018836516, 'scale_pos_weight': 1.4600592103189587}\n",
            "0.8379430390269655\n"
          ]
        }
      ]
    },
    {
      "cell_type": "code",
      "execution_count": 34,
      "metadata": {
        "id": "qriGLNj6pzWw",
        "colab": {
          "base_uri": "https://localhost:8080/"
        },
        "outputId": "085fdc97-7ea0-4991-c182-430bac7bc79e"
      },
      "outputs": [
        {
          "output_type": "stream",
          "name": "stdout",
          "text": [
            "{'max_depth': 4, 'learning_rate': 0.29590912738331954, 'n_estimators': 137, 'min_child_weight': 10, 'gamma': 3.877924824268651e-06, 'subsample': 0.7321811649758878, 'colsample_bytree': 0.6775671894875651, 'alpha': 0.06700696661440605, 'lambda': 0.07700543018836516, 'scale_pos_weight': 1.4600592103189587}\n",
            "0.8379430390269655\n"
          ]
        }
      ],
      "source": [
        "print(best_params)\n",
        "print(best_score)"
      ]
    },
    {
      "cell_type": "code",
      "execution_count": 35,
      "metadata": {
        "id": "icVi5Elw0U7k"
      },
      "outputs": [],
      "source": [
        "best_model = xgb.XGBClassifier(**best_params)"
      ]
    },
    {
      "cell_type": "code",
      "execution_count": 36,
      "metadata": {
        "colab": {
          "base_uri": "https://localhost:8080/",
          "height": 514
        },
        "id": "2T4FOL0mS_YM",
        "outputId": "a3e148c6-8409-493c-a31c-5dce7f1d67f5"
      },
      "outputs": [
        {
          "output_type": "stream",
          "name": "stdout",
          "text": [
            "Accuracy score:0.7766\n",
            "Balanced accuracy score:0.7569\n",
            "F-1 score:0.7043\n",
            "ROC-AUC score:0.7569\n"
          ]
        },
        {
          "output_type": "display_data",
          "data": {
            "text/plain": [
              "<Figure size 700x500 with 2 Axes>"
            ],
            "image/png": "[encoded data removed]"
          },
          "metadata": {}
        }
      ],
      "source": [
        "best_model.fit(X_train_tfidf, y_train)\n",
        "predictions_best = best_model.predict(X_test_tfidf)\n",
        "predictions_best_proba_train = best_model.predict_proba(X_train_tfidf)[:, 1]\n",
        "predictions_best_proba_test = best_model.predict_proba(X_test_tfidf)[:, 1]\n",
        "\n",
        "eval_report(y_test, predictions_best)\n",
        "cm = confusion_matrix(y_test, predictions_best)\n",
        "confusion_matrix_visualization(cm)"
      ]
    },
    {
      "cell_type": "code",
      "execution_count": 37,
      "metadata": {
        "id": "hEs8cxVdPIDl"
      },
      "outputs": [],
      "source": [
        "best_model.save_model('/content/gdrive/My Drive/models_fake_news/xgboost_best_model_cv_tfidf.json')"
      ]
    },
    {
      "cell_type": "code",
      "execution_count": 38,
      "metadata": {
        "id": "JABRblPo7912"
      },
      "outputs": [],
      "source": [
        "def to_labels(pos_probs, threshold):\n",
        "    return (pos_probs >= threshold).astype('int')"
      ]
    },
    {
      "cell_type": "code",
      "execution_count": 39,
      "metadata": {
        "id": "uxsQcvLK6U2E"
      },
      "outputs": [],
      "source": [
        "### return threshold where F1-score is the biggest\n",
        "def best_tresholds_f1(y_pred_proba, y_test):\n",
        "    # define thresholds\n",
        "    thresholds = np.arange(0, 1, 0.001)\n",
        "    # evaluate each threshold\n",
        "    scores = [metrics.f1_score(y_test, to_labels(y_pred_proba, t)) for t in thresholds]\n",
        "    # get best threshold\n",
        "    ix = np.argmax(scores)\n",
        "    #print('Threshold=%.3f, F-Score=%.5f' % (thresholds[ix], scores[ix]))\n",
        "    return thresholds[ix], scores[ix]"
      ]
    },
    {
      "cell_type": "code",
      "execution_count": 40,
      "metadata": {
        "colab": {
          "base_uri": "https://localhost:8080/"
        },
        "id": "UWUgtASH6gC_",
        "outputId": "6237ce07-bdd8-4566-882e-7e25f035971c"
      },
      "outputs": [
        {
          "output_type": "stream",
          "name": "stdout",
          "text": [
            "F1 score: 0.7358, treshold: 0.447\n"
          ]
        }
      ],
      "source": [
        "treshold_f1 = best_tresholds_f1(predictions_best_proba_train, y_train)\n",
        "print(f'F1 score: {treshold_f1[1]:.4f}, treshold: {treshold_f1[0]}')"
      ]
    },
    {
      "cell_type": "code",
      "execution_count": 41,
      "metadata": {
        "colab": {
          "base_uri": "https://localhost:8080/"
        },
        "id": "pHSE0tVvEWFP",
        "outputId": "9dcf9fc5-a8c9-42cf-e4ac-40cf680775d1"
      },
      "outputs": [
        {
          "output_type": "execute_result",
          "data": {
            "text/plain": [
              "0.6846636509557859"
            ]
          },
          "metadata": {},
          "execution_count": 41
        }
      ],
      "source": [
        "y_pred_463 = to_labels(predictions_best_proba_test, 0.37) #threshold = 0.463\n",
        "metrics.f1_score(y_test, y_pred_463)"
      ]
    },
    {
      "cell_type": "markdown",
      "metadata": {
        "id": "-YUS0A2rbSOz"
      },
      "source": [
        "LightGBM"
      ]
    },
    {
      "cell_type": "code",
      "execution_count": 42,
      "metadata": {
        "id": "zrJBXj26CoYD"
      },
      "outputs": [],
      "source": [
        "import lightgbm as lgb\n",
        "import joblib"
      ]
    },
    {
      "cell_type": "code",
      "execution_count": 43,
      "metadata": {
        "colab": {
          "base_uri": "https://localhost:8080/",
          "height": 653
        },
        "id": "pcYFgbvHizNh",
        "outputId": "8dbca8ee-fd1a-48ef-c06d-0b86e9534ed2"
      },
      "outputs": [
        {
          "output_type": "stream",
          "name": "stdout",
          "text": [
            "[LightGBM] [Info] Number of positive: 20707, number of negative: 28390\n",
            "[LightGBM] [Info] Auto-choosing row-wise multi-threading, the overhead of testing was 2.693051 seconds.\n",
            "You can set `force_row_wise=true` to remove the overhead.\n",
            "And if memory is not enough, you can set `force_col_wise=true`.\n",
            "[LightGBM] [Info] Total Bins 266930\n",
            "[LightGBM] [Info] Number of data points in the train set: 49097, number of used features: 3489\n",
            "[LightGBM] [Info] [binary:BoostFromScore]: pavg=0.421757 -> initscore=-0.315565\n",
            "[LightGBM] [Info] Start training from score -0.315565\n",
            "Accuracy score:0.7968\n",
            "Balanced accuracy score:0.7663\n",
            "F-1 score:0.7027\n",
            "ROC-AUC score:0.7663\n"
          ]
        },
        {
          "output_type": "display_data",
          "data": {
            "text/plain": [
              "<Figure size 700x500 with 2 Axes>"
            ],
            "image/png": "[encoded data removed]"
          },
          "metadata": {}
        }
      ],
      "source": [
        "model_lgb = lgb.LGBMClassifier()\n",
        "model_lgb.fit(X_train_tfidf, y_train)\n",
        "predictions_lgb = model_lgb.predict(X_test_tfidf)\n",
        "\n",
        "eval_report(y_test, predictions_lgb)\n",
        "cm = confusion_matrix(y_test, predictions_lgb)\n",
        "confusion_matrix_visualization(cm)"
      ]
    },
    {
      "cell_type": "code",
      "execution_count": 44,
      "metadata": {
        "colab": {
          "base_uri": "https://localhost:8080/"
        },
        "id": "ytq_-reSFAtz",
        "outputId": "bf24b619-331c-4c38-85d0-3c88e59e48a3"
      },
      "outputs": [
        {
          "output_type": "execute_result",
          "data": {
            "text/plain": [
              "['/content/gdrive/My Drive/models_fake_news/model_lgb.pkl']"
            ]
          },
          "metadata": {},
          "execution_count": 44
        }
      ],
      "source": [
        "joblib.dump(model_lgb, '/content/gdrive/My Drive/models_fake_news/model_lgb.pkl')"
      ]
    },
    {
      "cell_type": "code",
      "execution_count": 45,
      "metadata": {
        "colab": {
          "base_uri": "https://localhost:8080/"
        },
        "id": "mqjwzvFSCMYz",
        "outputId": "5fe96116-fa7b-462c-f694-e2229c36a906"
      },
      "outputs": [
        {
          "output_type": "execute_result",
          "data": {
            "text/plain": [
              "<lightgbm.basic.Booster at 0x7dc1ba151870>"
            ]
          },
          "metadata": {},
          "execution_count": 45
        }
      ],
      "source": [
        "model_lgb.booster_.save_model('/content/gdrive/My Drive/models_fake_news/model_lgb.txt')"
      ]
    },
    {
      "cell_type": "markdown",
      "metadata": {
        "id": "kJcj0Aux99LT"
      },
      "source": [
        "LightGBM + OPTUNA"
      ]
    },
    {
      "cell_type": "code",
      "execution_count": 46,
      "metadata": {
        "id": "B9U91l0wkHSu"
      },
      "outputs": [],
      "source": [
        "def objective(trial):\n",
        "    params = {\n",
        "        'objective': 'binary',\n",
        "        'metric': 'average_precision',\n",
        "        'boosting_type': 'gbdt',\n",
        "\t\t    'num_iteration': trial.suggest_int('num_leaves', 70, 150),\n",
        "        'lambda_l1': trial.suggest_loguniform('lambda_l1', 1e-8, 5.0),\n",
        "        'lambda_l2': trial.suggest_loguniform('lambda_l2', 1e-8, 5.0),\n",
        "        'num_leaves': trial.suggest_int('num_leaves', 2, 100),\n",
        "        'feature_fraction': trial.suggest_uniform('feature_fraction', 0.1, 1.0),\n",
        "        'bagging_fraction': trial.suggest_uniform('bagging_fraction', 0.1, 1.0),\n",
        "        'bagging_freq': trial.suggest_int('bagging_freq', 0, 10),\n",
        "        'min_data_in_leaf': trial.suggest_int('min_child_samples', 1, 100),\n",
        "        'class_weight': trial.suggest_categorical('class_weight', [None, 'balanced']),\n",
        "    }\n",
        "\n",
        "    model = lgb.LGBMClassifier(**params)\n",
        "    #model.fit(X_train_tfidf, y_train)\n",
        "    #predictions_xgb = model.predict(X_test_tfidf)'\n",
        "    skf = StratifiedKFold(n_splits=5, shuffle=True, random_state=0)\n",
        "    scores = cross_val_score(model, X_train_tfidf, y_train, cv=skf, scoring='roc_auc')\n",
        "    #roc_auc = roc_auc_score(y_test, predictions_xgb)\n",
        "    return np.mean(scores)"
      ]
    },
    {
      "cell_type": "code",
      "execution_count": 47,
      "metadata": {
        "colab": {
          "base_uri": "https://localhost:8080/"
        },
        "id": "6efM8sxvBs8r",
        "outputId": "13fb3918-6b27-4aba-b5ab-bd04e777b843"
      },
      "outputs": [
        {
          "output_type": "stream",
          "name": "stderr",
          "text": [
            "[I 2024-03-31 00:25:40,220] A new study created in memory with name: no-name-b11e5eae-cba5-4121-a7c4-4c0f166bfb85\n",
            "<ipython-input-46-a40d882ac625>:7: FutureWarning: suggest_loguniform has been deprecated in v3.0.0. This feature will be removed in v6.0.0. See https://github.com/optuna/optuna/releases/tag/v3.0.0. Use suggest_float(..., log=True) instead.\n",
            "  'lambda_l1': trial.suggest_loguniform('lambda_l1', 1e-8, 5.0),\n",
            "<ipython-input-46-a40d882ac625>:8: FutureWarning: suggest_loguniform has been deprecated in v3.0.0. This feature will be removed in v6.0.0. See https://github.com/optuna/optuna/releases/tag/v3.0.0. Use suggest_float(..., log=True) instead.\n",
            "  'lambda_l2': trial.suggest_loguniform('lambda_l2', 1e-8, 5.0),\n",
            "/usr/local/lib/python3.10/dist-packages/optuna/trial/_trial.py:676: RuntimeWarning: Inconsistent parameter values for distribution with name \"num_leaves\"! This might be a configuration mistake. Optuna allows to call the same distribution with the same name more than once in a trial. When the parameter values are inconsistent optuna only uses the values of the first call and ignores all following. Using these values: {'log': False, 'step': 1, 'low': 70, 'high': 150}\n",
            "  warnings.warn(\n",
            "<ipython-input-46-a40d882ac625>:10: FutureWarning: suggest_uniform has been deprecated in v3.0.0. This feature will be removed in v6.0.0. See https://github.com/optuna/optuna/releases/tag/v3.0.0. Use suggest_float instead.\n",
            "  'feature_fraction': trial.suggest_uniform('feature_fraction', 0.1, 1.0),\n",
            "<ipython-input-46-a40d882ac625>:11: FutureWarning: suggest_uniform has been deprecated in v3.0.0. This feature will be removed in v6.0.0. See https://github.com/optuna/optuna/releases/tag/v3.0.0. Use suggest_float instead.\n",
            "  'bagging_fraction': trial.suggest_uniform('bagging_fraction', 0.1, 1.0),\n",
            "/usr/local/lib/python3.10/dist-packages/lightgbm/engine.py:172: UserWarning: Found `num_iteration` in params. Will use it instead of argument\n",
            "  _log_warning(f\"Found `{alias}` in params. Will use it instead of argument\")\n"
          ]
        },
        {
          "output_type": "stream",
          "name": "stdout",
          "text": [
            "[LightGBM] [Warning] feature_fraction is set=0.9950022404016701, colsample_bytree=1.0 will be ignored. Current value: feature_fraction=0.9950022404016701\n",
            "[LightGBM] [Warning] lambda_l2 is set=1.348035985208907e-07, reg_lambda=0.0 will be ignored. Current value: lambda_l2=1.348035985208907e-07\n",
            "[LightGBM] [Warning] min_data_in_leaf is set=54, min_child_samples=20 will be ignored. Current value: min_data_in_leaf=54\n",
            "[LightGBM] [Warning] lambda_l1 is set=0.31821501765176674, reg_alpha=0.0 will be ignored. Current value: lambda_l1=0.31821501765176674\n",
            "[LightGBM] [Warning] num_iterations is set=86, num_iteration=86 will be ignored. Current value: num_iterations=86\n",
            "[LightGBM] [Warning] bagging_fraction is set=0.6343385417461256, subsample=1.0 will be ignored. Current value: bagging_fraction=0.6343385417461256\n",
            "[LightGBM] [Warning] bagging_freq is set=3, subsample_freq=0 will be ignored. Current value: bagging_freq=3\n",
            "[LightGBM] [Warning] min_data_in_leaf is set=54, min_child_samples=20 will be ignored. Current value: min_data_in_leaf=54\n",
            "[LightGBM] [Warning] feature_fraction is set=0.9950022404016701, colsample_bytree=1.0 will be ignored. Current value: feature_fraction=0.9950022404016701\n",
            "[LightGBM] [Warning] lambda_l2 is set=1.348035985208907e-07, reg_lambda=0.0 will be ignored. Current value: lambda_l2=1.348035985208907e-07\n",
            "[LightGBM] [Warning] lambda_l1 is set=0.31821501765176674, reg_alpha=0.0 will be ignored. Current value: lambda_l1=0.31821501765176674\n",
            "[LightGBM] [Warning] bagging_fraction is set=0.6343385417461256, subsample=1.0 will be ignored. Current value: bagging_fraction=0.6343385417461256\n",
            "[LightGBM] [Warning] bagging_freq is set=3, subsample_freq=0 will be ignored. Current value: bagging_freq=3\n",
            "[LightGBM] [Info] Number of positive: 16565, number of negative: 22712\n",
            "[LightGBM] [Info] Auto-choosing row-wise multi-threading, the overhead of testing was 0.649377 seconds.\n",
            "You can set `force_row_wise=true` to remove the overhead.\n",
            "And if memory is not enough, you can set `force_col_wise=true`.\n",
            "[LightGBM] [Info] Total Bins 214796\n",
            "[LightGBM] [Info] Number of data points in the train set: 39277, number of used features: 2574\n",
            "[LightGBM] [Info] [binary:BoostFromScore]: pavg=0.421748 -> initscore=-0.315601\n",
            "[LightGBM] [Info] Start training from score -0.315601\n",
            "[LightGBM] [Warning] min_data_in_leaf is set=54, min_child_samples=20 will be ignored. Current value: min_data_in_leaf=54\n",
            "[LightGBM] [Warning] feature_fraction is set=0.9950022404016701, colsample_bytree=1.0 will be ignored. Current value: feature_fraction=0.9950022404016701\n",
            "[LightGBM] [Warning] lambda_l2 is set=1.348035985208907e-07, reg_lambda=0.0 will be ignored. Current value: lambda_l2=1.348035985208907e-07\n",
            "[LightGBM] [Warning] lambda_l1 is set=0.31821501765176674, reg_alpha=0.0 will be ignored. Current value: lambda_l1=0.31821501765176674\n",
            "[LightGBM] [Warning] bagging_fraction is set=0.6343385417461256, subsample=1.0 will be ignored. Current value: bagging_fraction=0.6343385417461256\n",
            "[LightGBM] [Warning] bagging_freq is set=3, subsample_freq=0 will be ignored. Current value: bagging_freq=3\n",
            "[LightGBM] [Warning] feature_fraction is set=0.9950022404016701, colsample_bytree=1.0 will be ignored. Current value: feature_fraction=0.9950022404016701\n",
            "[LightGBM] [Warning] lambda_l2 is set=1.348035985208907e-07, reg_lambda=0.0 will be ignored. Current value: lambda_l2=1.348035985208907e-07\n",
            "[LightGBM] [Warning] min_data_in_leaf is set=54, min_child_samples=20 will be ignored. Current value: min_data_in_leaf=54\n",
            "[LightGBM] [Warning] lambda_l1 is set=0.31821501765176674, reg_alpha=0.0 will be ignored. Current value: lambda_l1=0.31821501765176674\n",
            "[LightGBM] [Warning] num_iterations is set=86, num_iteration=86 will be ignored. Current value: num_iterations=86\n",
            "[LightGBM] [Warning] bagging_fraction is set=0.6343385417461256, subsample=1.0 will be ignored. Current value: bagging_fraction=0.6343385417461256\n",
            "[LightGBM] [Warning] bagging_freq is set=3, subsample_freq=0 will be ignored. Current value: bagging_freq=3\n"
          ]
        },
        {
          "output_type": "stream",
          "name": "stderr",
          "text": [
            "/usr/local/lib/python3.10/dist-packages/lightgbm/engine.py:172: UserWarning: Found `num_iteration` in params. Will use it instead of argument\n",
            "  _log_warning(f\"Found `{alias}` in params. Will use it instead of argument\")\n"
          ]
        },
        {
          "output_type": "stream",
          "name": "stdout",
          "text": [
            "[LightGBM] [Warning] min_data_in_leaf is set=54, min_child_samples=20 will be ignored. Current value: min_data_in_leaf=54\n",
            "[LightGBM] [Warning] feature_fraction is set=0.9950022404016701, colsample_bytree=1.0 will be ignored. Current value: feature_fraction=0.9950022404016701\n",
            "[LightGBM] [Warning] lambda_l2 is set=1.348035985208907e-07, reg_lambda=0.0 will be ignored. Current value: lambda_l2=1.348035985208907e-07\n",
            "[LightGBM] [Warning] lambda_l1 is set=0.31821501765176674, reg_alpha=0.0 will be ignored. Current value: lambda_l1=0.31821501765176674\n",
            "[LightGBM] [Warning] bagging_fraction is set=0.6343385417461256, subsample=1.0 will be ignored. Current value: bagging_fraction=0.6343385417461256\n",
            "[LightGBM] [Warning] bagging_freq is set=3, subsample_freq=0 will be ignored. Current value: bagging_freq=3\n",
            "[LightGBM] [Info] Number of positive: 16565, number of negative: 22712\n",
            "[LightGBM] [Info] Auto-choosing row-wise multi-threading, the overhead of testing was 0.660889 seconds.\n",
            "You can set `force_row_wise=true` to remove the overhead.\n",
            "And if memory is not enough, you can set `force_col_wise=true`.\n",
            "[LightGBM] [Info] Total Bins 213392\n",
            "[LightGBM] [Info] Number of data points in the train set: 39277, number of used features: 2547\n",
            "[LightGBM] [Info] [binary:BoostFromScore]: pavg=0.421748 -> initscore=-0.315601\n",
            "[LightGBM] [Info] Start training from score -0.315601\n",
            "[LightGBM] [Warning] min_data_in_leaf is set=54, min_child_samples=20 will be ignored. Current value: min_data_in_leaf=54\n",
            "[LightGBM] [Warning] feature_fraction is set=0.9950022404016701, colsample_bytree=1.0 will be ignored. Current value: feature_fraction=0.9950022404016701\n",
            "[LightGBM] [Warning] lambda_l2 is set=1.348035985208907e-07, reg_lambda=0.0 will be ignored. Current value: lambda_l2=1.348035985208907e-07\n",
            "[LightGBM] [Warning] lambda_l1 is set=0.31821501765176674, reg_alpha=0.0 will be ignored. Current value: lambda_l1=0.31821501765176674\n",
            "[LightGBM] [Warning] bagging_fraction is set=0.6343385417461256, subsample=1.0 will be ignored. Current value: bagging_fraction=0.6343385417461256\n",
            "[LightGBM] [Warning] bagging_freq is set=3, subsample_freq=0 will be ignored. Current value: bagging_freq=3\n",
            "[LightGBM] [Warning] feature_fraction is set=0.9950022404016701, colsample_bytree=1.0 will be ignored. Current value: feature_fraction=0.9950022404016701\n",
            "[LightGBM] [Warning] lambda_l2 is set=1.348035985208907e-07, reg_lambda=0.0 will be ignored. Current value: lambda_l2=1.348035985208907e-07\n",
            "[LightGBM] [Warning] min_data_in_leaf is set=54, min_child_samples=20 will be ignored. Current value: min_data_in_leaf=54\n",
            "[LightGBM] [Warning] lambda_l1 is set=0.31821501765176674, reg_alpha=0.0 will be ignored. Current value: lambda_l1=0.31821501765176674\n",
            "[LightGBM] [Warning] num_iterations is set=86, num_iteration=86 will be ignored. Current value: num_iterations=86\n",
            "[LightGBM] [Warning] bagging_fraction is set=0.6343385417461256, subsample=1.0 will be ignored. Current value: bagging_fraction=0.6343385417461256\n",
            "[LightGBM] [Warning] bagging_freq is set=3, subsample_freq=0 will be ignored. Current value: bagging_freq=3\n"
          ]
        },
        {
          "output_type": "stream",
          "name": "stderr",
          "text": [
            "/usr/local/lib/python3.10/dist-packages/lightgbm/engine.py:172: UserWarning: Found `num_iteration` in params. Will use it instead of argument\n",
            "  _log_warning(f\"Found `{alias}` in params. Will use it instead of argument\")\n"
          ]
        },
        {
          "output_type": "stream",
          "name": "stdout",
          "text": [
            "[LightGBM] [Warning] min_data_in_leaf is set=54, min_child_samples=20 will be ignored. Current value: min_data_in_leaf=54\n",
            "[LightGBM] [Warning] feature_fraction is set=0.9950022404016701, colsample_bytree=1.0 will be ignored. Current value: feature_fraction=0.9950022404016701\n",
            "[LightGBM] [Warning] lambda_l2 is set=1.348035985208907e-07, reg_lambda=0.0 will be ignored. Current value: lambda_l2=1.348035985208907e-07\n",
            "[LightGBM] [Warning] lambda_l1 is set=0.31821501765176674, reg_alpha=0.0 will be ignored. Current value: lambda_l1=0.31821501765176674\n",
            "[LightGBM] [Warning] bagging_fraction is set=0.6343385417461256, subsample=1.0 will be ignored. Current value: bagging_fraction=0.6343385417461256\n",
            "[LightGBM] [Warning] bagging_freq is set=3, subsample_freq=0 will be ignored. Current value: bagging_freq=3\n",
            "[LightGBM] [Info] Number of positive: 16566, number of negative: 22712\n",
            "[LightGBM] [Info] Auto-choosing row-wise multi-threading, the overhead of testing was 0.708029 seconds.\n",
            "You can set `force_row_wise=true` to remove the overhead.\n",
            "And if memory is not enough, you can set `force_col_wise=true`.\n",
            "[LightGBM] [Info] Total Bins 214674\n",
            "[LightGBM] [Info] Number of data points in the train set: 39278, number of used features: 2563\n",
            "[LightGBM] [Info] [binary:BoostFromScore]: pavg=0.421763 -> initscore=-0.315541\n",
            "[LightGBM] [Info] Start training from score -0.315541\n",
            "[LightGBM] [Warning] min_data_in_leaf is set=54, min_child_samples=20 will be ignored. Current value: min_data_in_leaf=54\n",
            "[LightGBM] [Warning] feature_fraction is set=0.9950022404016701, colsample_bytree=1.0 will be ignored. Current value: feature_fraction=0.9950022404016701\n",
            "[LightGBM] [Warning] lambda_l2 is set=1.348035985208907e-07, reg_lambda=0.0 will be ignored. Current value: lambda_l2=1.348035985208907e-07\n",
            "[LightGBM] [Warning] lambda_l1 is set=0.31821501765176674, reg_alpha=0.0 will be ignored. Current value: lambda_l1=0.31821501765176674\n",
            "[LightGBM] [Warning] bagging_fraction is set=0.6343385417461256, subsample=1.0 will be ignored. Current value: bagging_fraction=0.6343385417461256\n",
            "[LightGBM] [Warning] bagging_freq is set=3, subsample_freq=0 will be ignored. Current value: bagging_freq=3\n",
            "[LightGBM] [Warning] feature_fraction is set=0.9950022404016701, colsample_bytree=1.0 will be ignored. Current value: feature_fraction=0.9950022404016701\n",
            "[LightGBM] [Warning] lambda_l2 is set=1.348035985208907e-07, reg_lambda=0.0 will be ignored. Current value: lambda_l2=1.348035985208907e-07\n",
            "[LightGBM] [Warning] min_data_in_leaf is set=54, min_child_samples=20 will be ignored. Current value: min_data_in_leaf=54\n",
            "[LightGBM] [Warning] lambda_l1 is set=0.31821501765176674, reg_alpha=0.0 will be ignored. Current value: lambda_l1=0.31821501765176674\n",
            "[LightGBM] [Warning] num_iterations is set=86, num_iteration=86 will be ignored. Current value: num_iterations=86\n",
            "[LightGBM] [Warning] bagging_fraction is set=0.6343385417461256, subsample=1.0 will be ignored. Current value: bagging_fraction=0.6343385417461256\n",
            "[LightGBM] [Warning] bagging_freq is set=3, subsample_freq=0 will be ignored. Current value: bagging_freq=3\n"
          ]
        },
        {
          "output_type": "stream",
          "name": "stderr",
          "text": [
            "/usr/local/lib/python3.10/dist-packages/lightgbm/engine.py:172: UserWarning: Found `num_iteration` in params. Will use it instead of argument\n",
            "  _log_warning(f\"Found `{alias}` in params. Will use it instead of argument\")\n"
          ]
        },
        {
          "output_type": "stream",
          "name": "stdout",
          "text": [
            "[LightGBM] [Warning] min_data_in_leaf is set=54, min_child_samples=20 will be ignored. Current value: min_data_in_leaf=54\n",
            "[LightGBM] [Warning] feature_fraction is set=0.9950022404016701, colsample_bytree=1.0 will be ignored. Current value: feature_fraction=0.9950022404016701\n",
            "[LightGBM] [Warning] lambda_l2 is set=1.348035985208907e-07, reg_lambda=0.0 will be ignored. Current value: lambda_l2=1.348035985208907e-07\n",
            "[LightGBM] [Warning] lambda_l1 is set=0.31821501765176674, reg_alpha=0.0 will be ignored. Current value: lambda_l1=0.31821501765176674\n",
            "[LightGBM] [Warning] bagging_fraction is set=0.6343385417461256, subsample=1.0 will be ignored. Current value: bagging_fraction=0.6343385417461256\n",
            "[LightGBM] [Warning] bagging_freq is set=3, subsample_freq=0 will be ignored. Current value: bagging_freq=3\n",
            "[LightGBM] [Info] Number of positive: 16566, number of negative: 22712\n",
            "[LightGBM] [Info] Auto-choosing row-wise multi-threading, the overhead of testing was 1.125875 seconds.\n",
            "You can set `force_row_wise=true` to remove the overhead.\n",
            "And if memory is not enough, you can set `force_col_wise=true`.\n",
            "[LightGBM] [Info] Total Bins 213726\n",
            "[LightGBM] [Info] Number of data points in the train set: 39278, number of used features: 2553\n",
            "[LightGBM] [Info] [binary:BoostFromScore]: pavg=0.421763 -> initscore=-0.315541\n",
            "[LightGBM] [Info] Start training from score -0.315541\n",
            "[LightGBM] [Warning] min_data_in_leaf is set=54, min_child_samples=20 will be ignored. Current value: min_data_in_leaf=54\n",
            "[LightGBM] [Warning] feature_fraction is set=0.9950022404016701, colsample_bytree=1.0 will be ignored. Current value: feature_fraction=0.9950022404016701\n",
            "[LightGBM] [Warning] lambda_l2 is set=1.348035985208907e-07, reg_lambda=0.0 will be ignored. Current value: lambda_l2=1.348035985208907e-07\n",
            "[LightGBM] [Warning] lambda_l1 is set=0.31821501765176674, reg_alpha=0.0 will be ignored. Current value: lambda_l1=0.31821501765176674\n",
            "[LightGBM] [Warning] bagging_fraction is set=0.6343385417461256, subsample=1.0 will be ignored. Current value: bagging_fraction=0.6343385417461256\n",
            "[LightGBM] [Warning] bagging_freq is set=3, subsample_freq=0 will be ignored. Current value: bagging_freq=3\n",
            "[LightGBM] [Warning] feature_fraction is set=0.9950022404016701, colsample_bytree=1.0 will be ignored. Current value: feature_fraction=0.9950022404016701\n",
            "[LightGBM] [Warning] lambda_l2 is set=1.348035985208907e-07, reg_lambda=0.0 will be ignored. Current value: lambda_l2=1.348035985208907e-07\n",
            "[LightGBM] [Warning] min_data_in_leaf is set=54, min_child_samples=20 will be ignored. Current value: min_data_in_leaf=54\n",
            "[LightGBM] [Warning] lambda_l1 is set=0.31821501765176674, reg_alpha=0.0 will be ignored. Current value: lambda_l1=0.31821501765176674\n",
            "[LightGBM] [Warning] num_iterations is set=86, num_iteration=86 will be ignored. Current value: num_iterations=86\n",
            "[LightGBM] [Warning] bagging_fraction is set=0.6343385417461256, subsample=1.0 will be ignored. Current value: bagging_fraction=0.6343385417461256\n",
            "[LightGBM] [Warning] bagging_freq is set=3, subsample_freq=0 will be ignored. Current value: bagging_freq=3\n"
          ]
        },
        {
          "output_type": "stream",
          "name": "stderr",
          "text": [
            "/usr/local/lib/python3.10/dist-packages/lightgbm/engine.py:172: UserWarning: Found `num_iteration` in params. Will use it instead of argument\n",
            "  _log_warning(f\"Found `{alias}` in params. Will use it instead of argument\")\n"
          ]
        },
        {
          "output_type": "stream",
          "name": "stdout",
          "text": [
            "[LightGBM] [Warning] min_data_in_leaf is set=54, min_child_samples=20 will be ignored. Current value: min_data_in_leaf=54\n",
            "[LightGBM] [Warning] feature_fraction is set=0.9950022404016701, colsample_bytree=1.0 will be ignored. Current value: feature_fraction=0.9950022404016701\n",
            "[LightGBM] [Warning] lambda_l2 is set=1.348035985208907e-07, reg_lambda=0.0 will be ignored. Current value: lambda_l2=1.348035985208907e-07\n",
            "[LightGBM] [Warning] lambda_l1 is set=0.31821501765176674, reg_alpha=0.0 will be ignored. Current value: lambda_l1=0.31821501765176674\n",
            "[LightGBM] [Warning] bagging_fraction is set=0.6343385417461256, subsample=1.0 will be ignored. Current value: bagging_fraction=0.6343385417461256\n",
            "[LightGBM] [Warning] bagging_freq is set=3, subsample_freq=0 will be ignored. Current value: bagging_freq=3\n",
            "[LightGBM] [Info] Number of positive: 16566, number of negative: 22712\n",
            "[LightGBM] [Info] Auto-choosing row-wise multi-threading, the overhead of testing was 0.614151 seconds.\n",
            "You can set `force_row_wise=true` to remove the overhead.\n",
            "And if memory is not enough, you can set `force_col_wise=true`.\n",
            "[LightGBM] [Info] Total Bins 213867\n",
            "[LightGBM] [Info] Number of data points in the train set: 39278, number of used features: 2559\n",
            "[LightGBM] [Info] [binary:BoostFromScore]: pavg=0.421763 -> initscore=-0.315541\n",
            "[LightGBM] [Info] Start training from score -0.315541\n"
          ]
        },
        {
          "output_type": "stream",
          "name": "stderr",
          "text": [
            "[I 2024-03-31 00:28:06,139] Trial 0 finished with value: 0.8218578522252493 and parameters: {'num_leaves': 86, 'lambda_l1': 0.31821501765176674, 'lambda_l2': 1.348035985208907e-07, 'feature_fraction': 0.9950022404016701, 'bagging_fraction': 0.6343385417461256, 'bagging_freq': 3, 'min_child_samples': 54, 'class_weight': None}. Best is trial 0 with value: 0.8218578522252493.\n"
          ]
        },
        {
          "output_type": "stream",
          "name": "stdout",
          "text": [
            "[LightGBM] [Warning] min_data_in_leaf is set=54, min_child_samples=20 will be ignored. Current value: min_data_in_leaf=54\n",
            "[LightGBM] [Warning] feature_fraction is set=0.9950022404016701, colsample_bytree=1.0 will be ignored. Current value: feature_fraction=0.9950022404016701\n",
            "[LightGBM] [Warning] lambda_l2 is set=1.348035985208907e-07, reg_lambda=0.0 will be ignored. Current value: lambda_l2=1.348035985208907e-07\n",
            "[LightGBM] [Warning] lambda_l1 is set=0.31821501765176674, reg_alpha=0.0 will be ignored. Current value: lambda_l1=0.31821501765176674\n",
            "[LightGBM] [Warning] bagging_fraction is set=0.6343385417461256, subsample=1.0 will be ignored. Current value: bagging_fraction=0.6343385417461256\n",
            "[LightGBM] [Warning] bagging_freq is set=3, subsample_freq=0 will be ignored. Current value: bagging_freq=3\n",
            "[LightGBM] [Warning] feature_fraction is set=0.8025661172613511, colsample_bytree=1.0 will be ignored. Current value: feature_fraction=0.8025661172613511\n",
            "[LightGBM] [Warning] lambda_l2 is set=1.4239983352561993e-06, reg_lambda=0.0 will be ignored. Current value: lambda_l2=1.4239983352561993e-06\n",
            "[LightGBM] [Warning] min_data_in_leaf is set=28, min_child_samples=20 will be ignored. Current value: min_data_in_leaf=28\n",
            "[LightGBM] [Warning] lambda_l1 is set=3.097676742716628e-05, reg_alpha=0.0 will be ignored. Current value: lambda_l1=3.097676742716628e-05\n",
            "[LightGBM] [Warning] num_iterations is set=118, num_iteration=118 will be ignored. Current value: num_iterations=118\n",
            "[LightGBM] [Warning] bagging_fraction is set=0.3493115591656881, subsample=1.0 will be ignored. Current value: bagging_fraction=0.3493115591656881\n",
            "[LightGBM] [Warning] bagging_freq is set=1, subsample_freq=0 will be ignored. Current value: bagging_freq=1\n"
          ]
        },
        {
          "output_type": "stream",
          "name": "stderr",
          "text": [
            "<ipython-input-46-a40d882ac625>:7: FutureWarning: suggest_loguniform has been deprecated in v3.0.0. This feature will be removed in v6.0.0. See https://github.com/optuna/optuna/releases/tag/v3.0.0. Use suggest_float(..., log=True) instead.\n",
            "  'lambda_l1': trial.suggest_loguniform('lambda_l1', 1e-8, 5.0),\n",
            "<ipython-input-46-a40d882ac625>:8: FutureWarning: suggest_loguniform has been deprecated in v3.0.0. This feature will be removed in v6.0.0. See https://github.com/optuna/optuna/releases/tag/v3.0.0. Use suggest_float(..., log=True) instead.\n",
            "  'lambda_l2': trial.suggest_loguniform('lambda_l2', 1e-8, 5.0),\n",
            "/usr/local/lib/python3.10/dist-packages/optuna/trial/_trial.py:676: RuntimeWarning: Inconsistent parameter values for distribution with name \"num_leaves\"! This might be a configuration mistake. Optuna allows to call the same distribution with the same name more than once in a trial. When the parameter values are inconsistent optuna only uses the values of the first call and ignores all following. Using these values: {'log': False, 'step': 1, 'low': 70, 'high': 150}\n",
            "  warnings.warn(\n",
            "<ipython-input-46-a40d882ac625>:10: FutureWarning: suggest_uniform has been deprecated in v3.0.0. This feature will be removed in v6.0.0. See https://github.com/optuna/optuna/releases/tag/v3.0.0. Use suggest_float instead.\n",
            "  'feature_fraction': trial.suggest_uniform('feature_fraction', 0.1, 1.0),\n",
            "<ipython-input-46-a40d882ac625>:11: FutureWarning: suggest_uniform has been deprecated in v3.0.0. This feature will be removed in v6.0.0. See https://github.com/optuna/optuna/releases/tag/v3.0.0. Use suggest_float instead.\n",
            "  'bagging_fraction': trial.suggest_uniform('bagging_fraction', 0.1, 1.0),\n",
            "/usr/local/lib/python3.10/dist-packages/lightgbm/engine.py:172: UserWarning: Found `num_iteration` in params. Will use it instead of argument\n",
            "  _log_warning(f\"Found `{alias}` in params. Will use it instead of argument\")\n"
          ]
        },
        {
          "output_type": "stream",
          "name": "stdout",
          "text": [
            "[LightGBM] [Warning] min_data_in_leaf is set=28, min_child_samples=20 will be ignored. Current value: min_data_in_leaf=28\n",
            "[LightGBM] [Warning] feature_fraction is set=0.8025661172613511, colsample_bytree=1.0 will be ignored. Current value: feature_fraction=0.8025661172613511\n",
            "[LightGBM] [Warning] lambda_l2 is set=1.4239983352561993e-06, reg_lambda=0.0 will be ignored. Current value: lambda_l2=1.4239983352561993e-06\n",
            "[LightGBM] [Warning] lambda_l1 is set=3.097676742716628e-05, reg_alpha=0.0 will be ignored. Current value: lambda_l1=3.097676742716628e-05\n",
            "[LightGBM] [Warning] bagging_fraction is set=0.3493115591656881, subsample=1.0 will be ignored. Current value: bagging_fraction=0.3493115591656881\n",
            "[LightGBM] [Warning] bagging_freq is set=1, subsample_freq=0 will be ignored. Current value: bagging_freq=1\n",
            "[LightGBM] [Info] Number of positive: 16565, number of negative: 22712\n",
            "[LightGBM] [Info] Auto-choosing row-wise multi-threading, the overhead of testing was 1.058606 seconds.\n",
            "You can set `force_row_wise=true` to remove the overhead.\n",
            "And if memory is not enough, you can set `force_col_wise=true`.\n",
            "[LightGBM] [Info] Total Bins 227761\n",
            "[LightGBM] [Info] Number of data points in the train set: 39277, number of used features: 3440\n",
            "[LightGBM] [Info] [binary:BoostFromScore]: pavg=0.500000 -> initscore=-0.000000\n",
            "[LightGBM] [Info] Start training from score -0.000000\n",
            "[LightGBM] [Warning] min_data_in_leaf is set=28, min_child_samples=20 will be ignored. Current value: min_data_in_leaf=28\n",
            "[LightGBM] [Warning] feature_fraction is set=0.8025661172613511, colsample_bytree=1.0 will be ignored. Current value: feature_fraction=0.8025661172613511\n",
            "[LightGBM] [Warning] lambda_l2 is set=1.4239983352561993e-06, reg_lambda=0.0 will be ignored. Current value: lambda_l2=1.4239983352561993e-06\n",
            "[LightGBM] [Warning] lambda_l1 is set=3.097676742716628e-05, reg_alpha=0.0 will be ignored. Current value: lambda_l1=3.097676742716628e-05\n",
            "[LightGBM] [Warning] bagging_fraction is set=0.3493115591656881, subsample=1.0 will be ignored. Current value: bagging_fraction=0.3493115591656881\n",
            "[LightGBM] [Warning] bagging_freq is set=1, subsample_freq=0 will be ignored. Current value: bagging_freq=1\n"
          ]
        },
        {
          "output_type": "stream",
          "name": "stderr",
          "text": [
            "/usr/local/lib/python3.10/dist-packages/lightgbm/engine.py:172: UserWarning: Found `num_iteration` in params. Will use it instead of argument\n",
            "  _log_warning(f\"Found `{alias}` in params. Will use it instead of argument\")\n"
          ]
        },
        {
          "output_type": "stream",
          "name": "stdout",
          "text": [
            "[LightGBM] [Warning] feature_fraction is set=0.8025661172613511, colsample_bytree=1.0 will be ignored. Current value: feature_fraction=0.8025661172613511\n",
            "[LightGBM] [Warning] lambda_l2 is set=1.4239983352561993e-06, reg_lambda=0.0 will be ignored. Current value: lambda_l2=1.4239983352561993e-06\n",
            "[LightGBM] [Warning] min_data_in_leaf is set=28, min_child_samples=20 will be ignored. Current value: min_data_in_leaf=28\n",
            "[LightGBM] [Warning] lambda_l1 is set=3.097676742716628e-05, reg_alpha=0.0 will be ignored. Current value: lambda_l1=3.097676742716628e-05\n",
            "[LightGBM] [Warning] num_iterations is set=118, num_iteration=118 will be ignored. Current value: num_iterations=118\n",
            "[LightGBM] [Warning] bagging_fraction is set=0.3493115591656881, subsample=1.0 will be ignored. Current value: bagging_fraction=0.3493115591656881\n",
            "[LightGBM] [Warning] bagging_freq is set=1, subsample_freq=0 will be ignored. Current value: bagging_freq=1\n",
            "[LightGBM] [Warning] min_data_in_leaf is set=28, min_child_samples=20 will be ignored. Current value: min_data_in_leaf=28\n",
            "[LightGBM] [Warning] feature_fraction is set=0.8025661172613511, colsample_bytree=1.0 will be ignored. Current value: feature_fraction=0.8025661172613511\n",
            "[LightGBM] [Warning] lambda_l2 is set=1.4239983352561993e-06, reg_lambda=0.0 will be ignored. Current value: lambda_l2=1.4239983352561993e-06\n",
            "[LightGBM] [Warning] lambda_l1 is set=3.097676742716628e-05, reg_alpha=0.0 will be ignored. Current value: lambda_l1=3.097676742716628e-05\n",
            "[LightGBM] [Warning] bagging_fraction is set=0.3493115591656881, subsample=1.0 will be ignored. Current value: bagging_fraction=0.3493115591656881\n",
            "[LightGBM] [Warning] bagging_freq is set=1, subsample_freq=0 will be ignored. Current value: bagging_freq=1\n",
            "[LightGBM] [Info] Number of positive: 16565, number of negative: 22712\n",
            "[LightGBM] [Info] Auto-choosing row-wise multi-threading, the overhead of testing was 1.255075 seconds.\n",
            "You can set `force_row_wise=true` to remove the overhead.\n",
            "And if memory is not enough, you can set `force_col_wise=true`.\n",
            "[LightGBM] [Info] Total Bins 226570\n",
            "[LightGBM] [Info] Number of data points in the train set: 39277, number of used features: 3431\n",
            "[LightGBM] [Info] [binary:BoostFromScore]: pavg=0.500000 -> initscore=-0.000000\n",
            "[LightGBM] [Info] Start training from score -0.000000\n",
            "[LightGBM] [Warning] min_data_in_leaf is set=28, min_child_samples=20 will be ignored. Current value: min_data_in_leaf=28\n",
            "[LightGBM] [Warning] feature_fraction is set=0.8025661172613511, colsample_bytree=1.0 will be ignored. Current value: feature_fraction=0.8025661172613511\n",
            "[LightGBM] [Warning] lambda_l2 is set=1.4239983352561993e-06, reg_lambda=0.0 will be ignored. Current value: lambda_l2=1.4239983352561993e-06\n",
            "[LightGBM] [Warning] lambda_l1 is set=3.097676742716628e-05, reg_alpha=0.0 will be ignored. Current value: lambda_l1=3.097676742716628e-05\n",
            "[LightGBM] [Warning] bagging_fraction is set=0.3493115591656881, subsample=1.0 will be ignored. Current value: bagging_fraction=0.3493115591656881\n",
            "[LightGBM] [Warning] bagging_freq is set=1, subsample_freq=0 will be ignored. Current value: bagging_freq=1\n"
          ]
        },
        {
          "output_type": "stream",
          "name": "stderr",
          "text": [
            "/usr/local/lib/python3.10/dist-packages/lightgbm/engine.py:172: UserWarning: Found `num_iteration` in params. Will use it instead of argument\n",
            "  _log_warning(f\"Found `{alias}` in params. Will use it instead of argument\")\n"
          ]
        },
        {
          "output_type": "stream",
          "name": "stdout",
          "text": [
            "[LightGBM] [Warning] feature_fraction is set=0.8025661172613511, colsample_bytree=1.0 will be ignored. Current value: feature_fraction=0.8025661172613511\n",
            "[LightGBM] [Warning] lambda_l2 is set=1.4239983352561993e-06, reg_lambda=0.0 will be ignored. Current value: lambda_l2=1.4239983352561993e-06\n",
            "[LightGBM] [Warning] min_data_in_leaf is set=28, min_child_samples=20 will be ignored. Current value: min_data_in_leaf=28\n",
            "[LightGBM] [Warning] lambda_l1 is set=3.097676742716628e-05, reg_alpha=0.0 will be ignored. Current value: lambda_l1=3.097676742716628e-05\n",
            "[LightGBM] [Warning] num_iterations is set=118, num_iteration=118 will be ignored. Current value: num_iterations=118\n",
            "[LightGBM] [Warning] bagging_fraction is set=0.3493115591656881, subsample=1.0 will be ignored. Current value: bagging_fraction=0.3493115591656881\n",
            "[LightGBM] [Warning] bagging_freq is set=1, subsample_freq=0 will be ignored. Current value: bagging_freq=1\n",
            "[LightGBM] [Warning] min_data_in_leaf is set=28, min_child_samples=20 will be ignored. Current value: min_data_in_leaf=28\n",
            "[LightGBM] [Warning] feature_fraction is set=0.8025661172613511, colsample_bytree=1.0 will be ignored. Current value: feature_fraction=0.8025661172613511\n",
            "[LightGBM] [Warning] lambda_l2 is set=1.4239983352561993e-06, reg_lambda=0.0 will be ignored. Current value: lambda_l2=1.4239983352561993e-06\n",
            "[LightGBM] [Warning] lambda_l1 is set=3.097676742716628e-05, reg_alpha=0.0 will be ignored. Current value: lambda_l1=3.097676742716628e-05\n",
            "[LightGBM] [Warning] bagging_fraction is set=0.3493115591656881, subsample=1.0 will be ignored. Current value: bagging_fraction=0.3493115591656881\n",
            "[LightGBM] [Warning] bagging_freq is set=1, subsample_freq=0 will be ignored. Current value: bagging_freq=1\n",
            "[LightGBM] [Info] Number of positive: 16566, number of negative: 22712\n",
            "[LightGBM] [Info] Auto-choosing row-wise multi-threading, the overhead of testing was 1.019050 seconds.\n",
            "You can set `force_row_wise=true` to remove the overhead.\n",
            "And if memory is not enough, you can set `force_col_wise=true`.\n",
            "[LightGBM] [Info] Total Bins 227776\n",
            "[LightGBM] [Info] Number of data points in the train set: 39278, number of used features: 3435\n",
            "[LightGBM] [Info] [binary:BoostFromScore]: pavg=0.500000 -> initscore=-0.000000\n",
            "[LightGBM] [Info] Start training from score -0.000000\n",
            "[LightGBM] [Warning] min_data_in_leaf is set=28, min_child_samples=20 will be ignored. Current value: min_data_in_leaf=28\n",
            "[LightGBM] [Warning] feature_fraction is set=0.8025661172613511, colsample_bytree=1.0 will be ignored. Current value: feature_fraction=0.8025661172613511\n",
            "[LightGBM] [Warning] lambda_l2 is set=1.4239983352561993e-06, reg_lambda=0.0 will be ignored. Current value: lambda_l2=1.4239983352561993e-06\n",
            "[LightGBM] [Warning] lambda_l1 is set=3.097676742716628e-05, reg_alpha=0.0 will be ignored. Current value: lambda_l1=3.097676742716628e-05\n",
            "[LightGBM] [Warning] bagging_fraction is set=0.3493115591656881, subsample=1.0 will be ignored. Current value: bagging_fraction=0.3493115591656881\n",
            "[LightGBM] [Warning] bagging_freq is set=1, subsample_freq=0 will be ignored. Current value: bagging_freq=1\n"
          ]
        },
        {
          "output_type": "stream",
          "name": "stderr",
          "text": [
            "/usr/local/lib/python3.10/dist-packages/lightgbm/engine.py:172: UserWarning: Found `num_iteration` in params. Will use it instead of argument\n",
            "  _log_warning(f\"Found `{alias}` in params. Will use it instead of argument\")\n"
          ]
        },
        {
          "output_type": "stream",
          "name": "stdout",
          "text": [
            "[LightGBM] [Warning] feature_fraction is set=0.8025661172613511, colsample_bytree=1.0 will be ignored. Current value: feature_fraction=0.8025661172613511\n",
            "[LightGBM] [Warning] lambda_l2 is set=1.4239983352561993e-06, reg_lambda=0.0 will be ignored. Current value: lambda_l2=1.4239983352561993e-06\n",
            "[LightGBM] [Warning] min_data_in_leaf is set=28, min_child_samples=20 will be ignored. Current value: min_data_in_leaf=28\n",
            "[LightGBM] [Warning] lambda_l1 is set=3.097676742716628e-05, reg_alpha=0.0 will be ignored. Current value: lambda_l1=3.097676742716628e-05\n",
            "[LightGBM] [Warning] num_iterations is set=118, num_iteration=118 will be ignored. Current value: num_iterations=118\n",
            "[LightGBM] [Warning] bagging_fraction is set=0.3493115591656881, subsample=1.0 will be ignored. Current value: bagging_fraction=0.3493115591656881\n",
            "[LightGBM] [Warning] bagging_freq is set=1, subsample_freq=0 will be ignored. Current value: bagging_freq=1\n",
            "[LightGBM] [Warning] min_data_in_leaf is set=28, min_child_samples=20 will be ignored. Current value: min_data_in_leaf=28\n",
            "[LightGBM] [Warning] feature_fraction is set=0.8025661172613511, colsample_bytree=1.0 will be ignored. Current value: feature_fraction=0.8025661172613511\n",
            "[LightGBM] [Warning] lambda_l2 is set=1.4239983352561993e-06, reg_lambda=0.0 will be ignored. Current value: lambda_l2=1.4239983352561993e-06\n",
            "[LightGBM] [Warning] lambda_l1 is set=3.097676742716628e-05, reg_alpha=0.0 will be ignored. Current value: lambda_l1=3.097676742716628e-05\n",
            "[LightGBM] [Warning] bagging_fraction is set=0.3493115591656881, subsample=1.0 will be ignored. Current value: bagging_fraction=0.3493115591656881\n",
            "[LightGBM] [Warning] bagging_freq is set=1, subsample_freq=0 will be ignored. Current value: bagging_freq=1\n",
            "[LightGBM] [Info] Number of positive: 16566, number of negative: 22712\n",
            "[LightGBM] [Info] Auto-choosing row-wise multi-threading, the overhead of testing was 1.032712 seconds.\n",
            "You can set `force_row_wise=true` to remove the overhead.\n",
            "And if memory is not enough, you can set `force_col_wise=true`.\n",
            "[LightGBM] [Info] Total Bins 226940\n",
            "[LightGBM] [Info] Number of data points in the train set: 39278, number of used features: 3434\n",
            "[LightGBM] [Info] [binary:BoostFromScore]: pavg=0.500000 -> initscore=-0.000000\n",
            "[LightGBM] [Info] Start training from score -0.000000\n",
            "[LightGBM] [Warning] min_data_in_leaf is set=28, min_child_samples=20 will be ignored. Current value: min_data_in_leaf=28\n",
            "[LightGBM] [Warning] feature_fraction is set=0.8025661172613511, colsample_bytree=1.0 will be ignored. Current value: feature_fraction=0.8025661172613511\n",
            "[LightGBM] [Warning] lambda_l2 is set=1.4239983352561993e-06, reg_lambda=0.0 will be ignored. Current value: lambda_l2=1.4239983352561993e-06\n",
            "[LightGBM] [Warning] lambda_l1 is set=3.097676742716628e-05, reg_alpha=0.0 will be ignored. Current value: lambda_l1=3.097676742716628e-05\n",
            "[LightGBM] [Warning] bagging_fraction is set=0.3493115591656881, subsample=1.0 will be ignored. Current value: bagging_fraction=0.3493115591656881\n",
            "[LightGBM] [Warning] bagging_freq is set=1, subsample_freq=0 will be ignored. Current value: bagging_freq=1\n"
          ]
        },
        {
          "output_type": "stream",
          "name": "stderr",
          "text": [
            "/usr/local/lib/python3.10/dist-packages/lightgbm/engine.py:172: UserWarning: Found `num_iteration` in params. Will use it instead of argument\n",
            "  _log_warning(f\"Found `{alias}` in params. Will use it instead of argument\")\n"
          ]
        },
        {
          "output_type": "stream",
          "name": "stdout",
          "text": [
            "[LightGBM] [Warning] feature_fraction is set=0.8025661172613511, colsample_bytree=1.0 will be ignored. Current value: feature_fraction=0.8025661172613511\n",
            "[LightGBM] [Warning] lambda_l2 is set=1.4239983352561993e-06, reg_lambda=0.0 will be ignored. Current value: lambda_l2=1.4239983352561993e-06\n",
            "[LightGBM] [Warning] min_data_in_leaf is set=28, min_child_samples=20 will be ignored. Current value: min_data_in_leaf=28\n",
            "[LightGBM] [Warning] lambda_l1 is set=3.097676742716628e-05, reg_alpha=0.0 will be ignored. Current value: lambda_l1=3.097676742716628e-05\n",
            "[LightGBM] [Warning] num_iterations is set=118, num_iteration=118 will be ignored. Current value: num_iterations=118\n",
            "[LightGBM] [Warning] bagging_fraction is set=0.3493115591656881, subsample=1.0 will be ignored. Current value: bagging_fraction=0.3493115591656881\n",
            "[LightGBM] [Warning] bagging_freq is set=1, subsample_freq=0 will be ignored. Current value: bagging_freq=1\n",
            "[LightGBM] [Warning] min_data_in_leaf is set=28, min_child_samples=20 will be ignored. Current value: min_data_in_leaf=28\n",
            "[LightGBM] [Warning] feature_fraction is set=0.8025661172613511, colsample_bytree=1.0 will be ignored. Current value: feature_fraction=0.8025661172613511\n",
            "[LightGBM] [Warning] lambda_l2 is set=1.4239983352561993e-06, reg_lambda=0.0 will be ignored. Current value: lambda_l2=1.4239983352561993e-06\n",
            "[LightGBM] [Warning] lambda_l1 is set=3.097676742716628e-05, reg_alpha=0.0 will be ignored. Current value: lambda_l1=3.097676742716628e-05\n",
            "[LightGBM] [Warning] bagging_fraction is set=0.3493115591656881, subsample=1.0 will be ignored. Current value: bagging_fraction=0.3493115591656881\n",
            "[LightGBM] [Warning] bagging_freq is set=1, subsample_freq=0 will be ignored. Current value: bagging_freq=1\n",
            "[LightGBM] [Info] Number of positive: 16566, number of negative: 22712\n",
            "[LightGBM] [Info] Auto-choosing row-wise multi-threading, the overhead of testing was 1.017810 seconds.\n",
            "You can set `force_row_wise=true` to remove the overhead.\n",
            "And if memory is not enough, you can set `force_col_wise=true`.\n",
            "[LightGBM] [Info] Total Bins 226928\n",
            "[LightGBM] [Info] Number of data points in the train set: 39278, number of used features: 3434\n",
            "[LightGBM] [Info] [binary:BoostFromScore]: pavg=0.500000 -> initscore=-0.000000\n",
            "[LightGBM] [Info] Start training from score -0.000000\n",
            "[LightGBM] [Warning] min_data_in_leaf is set=28, min_child_samples=20 will be ignored. Current value: min_data_in_leaf=28\n",
            "[LightGBM] [Warning] feature_fraction is set=0.8025661172613511, colsample_bytree=1.0 will be ignored. Current value: feature_fraction=0.8025661172613511\n",
            "[LightGBM] [Warning] lambda_l2 is set=1.4239983352561993e-06, reg_lambda=0.0 will be ignored. Current value: lambda_l2=1.4239983352561993e-06\n",
            "[LightGBM] [Warning] lambda_l1 is set=3.097676742716628e-05, reg_alpha=0.0 will be ignored. Current value: lambda_l1=3.097676742716628e-05\n",
            "[LightGBM] [Warning] bagging_fraction is set=0.3493115591656881, subsample=1.0 will be ignored. Current value: bagging_fraction=0.3493115591656881\n",
            "[LightGBM] [Warning] bagging_freq is set=1, subsample_freq=0 will be ignored. Current value: bagging_freq=1\n"
          ]
        },
        {
          "output_type": "stream",
          "name": "stderr",
          "text": [
            "[I 2024-03-31 00:32:11,680] Trial 1 finished with value: 0.7995618390390119 and parameters: {'num_leaves': 118, 'lambda_l1': 3.097676742716628e-05, 'lambda_l2': 1.4239983352561993e-06, 'feature_fraction': 0.8025661172613511, 'bagging_fraction': 0.3493115591656881, 'bagging_freq': 1, 'min_child_samples': 28, 'class_weight': 'balanced'}. Best is trial 0 with value: 0.8218578522252493.\n",
            "<ipython-input-46-a40d882ac625>:7: FutureWarning: suggest_loguniform has been deprecated in v3.0.0. This feature will be removed in v6.0.0. See https://github.com/optuna/optuna/releases/tag/v3.0.0. Use suggest_float(..., log=True) instead.\n",
            "  'lambda_l1': trial.suggest_loguniform('lambda_l1', 1e-8, 5.0),\n",
            "<ipython-input-46-a40d882ac625>:8: FutureWarning: suggest_loguniform has been deprecated in v3.0.0. This feature will be removed in v6.0.0. See https://github.com/optuna/optuna/releases/tag/v3.0.0. Use suggest_float(..., log=True) instead.\n",
            "  'lambda_l2': trial.suggest_loguniform('lambda_l2', 1e-8, 5.0),\n",
            "/usr/local/lib/python3.10/dist-packages/optuna/trial/_trial.py:676: RuntimeWarning: Inconsistent parameter values for distribution with name \"num_leaves\"! This might be a configuration mistake. Optuna allows to call the same distribution with the same name more than once in a trial. When the parameter values are inconsistent optuna only uses the values of the first call and ignores all following. Using these values: {'log': False, 'step': 1, 'low': 70, 'high': 150}\n",
            "  warnings.warn(\n",
            "<ipython-input-46-a40d882ac625>:10: FutureWarning: suggest_uniform has been deprecated in v3.0.0. This feature will be removed in v6.0.0. See https://github.com/optuna/optuna/releases/tag/v3.0.0. Use suggest_float instead.\n",
            "  'feature_fraction': trial.suggest_uniform('feature_fraction', 0.1, 1.0),\n",
            "<ipython-input-46-a40d882ac625>:11: FutureWarning: suggest_uniform has been deprecated in v3.0.0. This feature will be removed in v6.0.0. See https://github.com/optuna/optuna/releases/tag/v3.0.0. Use suggest_float instead.\n",
            "  'bagging_fraction': trial.suggest_uniform('bagging_fraction', 0.1, 1.0),\n",
            "/usr/local/lib/python3.10/dist-packages/lightgbm/engine.py:172: UserWarning: Found `num_iteration` in params. Will use it instead of argument\n",
            "  _log_warning(f\"Found `{alias}` in params. Will use it instead of argument\")\n"
          ]
        },
        {
          "output_type": "stream",
          "name": "stdout",
          "text": [
            "[LightGBM] [Warning] feature_fraction is set=0.14008530583585546, colsample_bytree=1.0 will be ignored. Current value: feature_fraction=0.14008530583585546\n",
            "[LightGBM] [Warning] lambda_l2 is set=0.03930375772437914, reg_lambda=0.0 will be ignored. Current value: lambda_l2=0.03930375772437914\n",
            "[LightGBM] [Warning] min_data_in_leaf is set=38, min_child_samples=20 will be ignored. Current value: min_data_in_leaf=38\n",
            "[LightGBM] [Warning] lambda_l1 is set=5.635294178740637e-08, reg_alpha=0.0 will be ignored. Current value: lambda_l1=5.635294178740637e-08\n",
            "[LightGBM] [Warning] num_iterations is set=131, num_iteration=131 will be ignored. Current value: num_iterations=131\n",
            "[LightGBM] [Warning] bagging_fraction is set=0.19576251287698293, subsample=1.0 will be ignored. Current value: bagging_fraction=0.19576251287698293\n",
            "[LightGBM] [Warning] bagging_freq is set=8, subsample_freq=0 will be ignored. Current value: bagging_freq=8\n",
            "[LightGBM] [Warning] min_data_in_leaf is set=38, min_child_samples=20 will be ignored. Current value: min_data_in_leaf=38\n",
            "[LightGBM] [Warning] feature_fraction is set=0.14008530583585546, colsample_bytree=1.0 will be ignored. Current value: feature_fraction=0.14008530583585546\n",
            "[LightGBM] [Warning] lambda_l2 is set=0.03930375772437914, reg_lambda=0.0 will be ignored. Current value: lambda_l2=0.03930375772437914\n",
            "[LightGBM] [Warning] lambda_l1 is set=5.635294178740637e-08, reg_alpha=0.0 will be ignored. Current value: lambda_l1=5.635294178740637e-08\n",
            "[LightGBM] [Warning] bagging_fraction is set=0.19576251287698293, subsample=1.0 will be ignored. Current value: bagging_fraction=0.19576251287698293\n",
            "[LightGBM] [Warning] bagging_freq is set=8, subsample_freq=0 will be ignored. Current value: bagging_freq=8\n",
            "[LightGBM] [Info] Number of positive: 16565, number of negative: 22712\n",
            "[LightGBM] [Info] Auto-choosing row-wise multi-threading, the overhead of testing was 0.852652 seconds.\n",
            "You can set `force_row_wise=true` to remove the overhead.\n",
            "And if memory is not enough, you can set `force_col_wise=true`.\n",
            "[LightGBM] [Info] Total Bins 224536\n",
            "[LightGBM] [Info] Number of data points in the train set: 39277, number of used features: 3181\n",
            "[LightGBM] [Info] [binary:BoostFromScore]: pavg=0.500000 -> initscore=-0.000000\n",
            "[LightGBM] [Info] Start training from score -0.000000\n",
            "[LightGBM] [Warning] No further splits with positive gain, best gain: -inf\n",
            "[LightGBM] [Warning] No further splits with positive gain, best gain: -inf\n",
            "[LightGBM] [Warning] No further splits with positive gain, best gain: -inf\n",
            "[LightGBM] [Warning] No further splits with positive gain, best gain: -inf\n",
            "[LightGBM] [Warning] No further splits with positive gain, best gain: -inf\n",
            "[LightGBM] [Warning] No further splits with positive gain, best gain: -inf\n",
            "[LightGBM] [Warning] No further splits with positive gain, best gain: -inf\n",
            "[LightGBM] [Warning] No further splits with positive gain, best gain: -inf\n",
            "[LightGBM] [Warning] No further splits with positive gain, best gain: -inf\n",
            "[LightGBM] [Warning] No further splits with positive gain, best gain: -inf\n",
            "[LightGBM] [Warning] No further splits with positive gain, best gain: -inf\n",
            "[LightGBM] [Warning] No further splits with positive gain, best gain: -inf\n",
            "[LightGBM] [Warning] No further splits with positive gain, best gain: -inf\n",
            "[LightGBM] [Warning] No further splits with positive gain, best gain: -inf\n",
            "[LightGBM] [Warning] No further splits with positive gain, best gain: -inf\n",
            "[LightGBM] [Warning] No further splits with positive gain, best gain: -inf\n",
            "[LightGBM] [Warning] No further splits with positive gain, best gain: -inf\n",
            "[LightGBM] [Warning] No further splits with positive gain, best gain: -inf\n",
            "[LightGBM] [Warning] No further splits with positive gain, best gain: -inf\n",
            "[LightGBM] [Warning] No further splits with positive gain, best gain: -inf\n",
            "[LightGBM] [Warning] No further splits with positive gain, best gain: -inf\n",
            "[LightGBM] [Warning] No further splits with positive gain, best gain: -inf\n",
            "[LightGBM] [Warning] No further splits with positive gain, best gain: -inf\n",
            "[LightGBM] [Warning] No further splits with positive gain, best gain: -inf\n",
            "[LightGBM] [Warning] No further splits with positive gain, best gain: -inf\n",
            "[LightGBM] [Warning] No further splits with positive gain, best gain: -inf\n",
            "[LightGBM] [Warning] No further splits with positive gain, best gain: -inf\n",
            "[LightGBM] [Warning] No further splits with positive gain, best gain: -inf\n",
            "[LightGBM] [Warning] No further splits with positive gain, best gain: -inf\n",
            "[LightGBM] [Warning] No further splits with positive gain, best gain: -inf\n",
            "[LightGBM] [Warning] No further splits with positive gain, best gain: -inf\n",
            "[LightGBM] [Warning] No further splits with positive gain, best gain: -inf\n",
            "[LightGBM] [Warning] No further splits with positive gain, best gain: -inf\n",
            "[LightGBM] [Warning] No further splits with positive gain, best gain: -inf\n",
            "[LightGBM] [Warning] No further splits with positive gain, best gain: -inf\n",
            "[LightGBM] [Warning] No further splits with positive gain, best gain: -inf\n",
            "[LightGBM] [Warning] No further splits with positive gain, best gain: -inf\n",
            "[LightGBM] [Warning] No further splits with positive gain, best gain: -inf\n",
            "[LightGBM] [Warning] No further splits with positive gain, best gain: -inf\n",
            "[LightGBM] [Warning] No further splits with positive gain, best gain: -inf\n",
            "[LightGBM] [Warning] No further splits with positive gain, best gain: -inf\n",
            "[LightGBM] [Warning] No further splits with positive gain, best gain: -inf\n",
            "[LightGBM] [Warning] No further splits with positive gain, best gain: -inf\n",
            "[LightGBM] [Warning] No further splits with positive gain, best gain: -inf\n",
            "[LightGBM] [Warning] No further splits with positive gain, best gain: -inf\n",
            "[LightGBM] [Warning] No further splits with positive gain, best gain: -inf\n",
            "[LightGBM] [Warning] No further splits with positive gain, best gain: -inf\n",
            "[LightGBM] [Warning] No further splits with positive gain, best gain: -inf\n",
            "[LightGBM] [Warning] No further splits with positive gain, best gain: -inf\n",
            "[LightGBM] [Warning] No further splits with positive gain, best gain: -inf\n",
            "[LightGBM] [Warning] No further splits with positive gain, best gain: -inf\n",
            "[LightGBM] [Warning] No further splits with positive gain, best gain: -inf\n",
            "[LightGBM] [Warning] No further splits with positive gain, best gain: -inf\n",
            "[LightGBM] [Warning] No further splits with positive gain, best gain: -inf\n",
            "[LightGBM] [Warning] No further splits with positive gain, best gain: -inf\n",
            "[LightGBM] [Warning] No further splits with positive gain, best gain: -inf\n",
            "[LightGBM] [Warning] No further splits with positive gain, best gain: -inf\n",
            "[LightGBM] [Warning] No further splits with positive gain, best gain: -inf\n",
            "[LightGBM] [Warning] No further splits with positive gain, best gain: -inf\n",
            "[LightGBM] [Warning] No further splits with positive gain, best gain: -inf\n",
            "[LightGBM] [Warning] No further splits with positive gain, best gain: -inf\n",
            "[LightGBM] [Warning] No further splits with positive gain, best gain: -inf\n",
            "[LightGBM] [Warning] No further splits with positive gain, best gain: -inf\n",
            "[LightGBM] [Warning] No further splits with positive gain, best gain: -inf\n",
            "[LightGBM] [Warning] No further splits with positive gain, best gain: -inf\n",
            "[LightGBM] [Warning] No further splits with positive gain, best gain: -inf\n",
            "[LightGBM] [Warning] No further splits with positive gain, best gain: -inf\n",
            "[LightGBM] [Warning] No further splits with positive gain, best gain: -inf\n",
            "[LightGBM] [Warning] No further splits with positive gain, best gain: -inf\n",
            "[LightGBM] [Warning] No further splits with positive gain, best gain: -inf\n",
            "[LightGBM] [Warning] No further splits with positive gain, best gain: -inf\n",
            "[LightGBM] [Warning] No further splits with positive gain, best gain: -inf\n",
            "[LightGBM] [Warning] No further splits with positive gain, best gain: -inf\n",
            "[LightGBM] [Warning] No further splits with positive gain, best gain: -inf\n",
            "[LightGBM] [Warning] No further splits with positive gain, best gain: -inf\n",
            "[LightGBM] [Warning] No further splits with positive gain, best gain: -inf\n",
            "[LightGBM] [Warning] No further splits with positive gain, best gain: -inf\n",
            "[LightGBM] [Warning] No further splits with positive gain, best gain: -inf\n",
            "[LightGBM] [Warning] No further splits with positive gain, best gain: -inf\n",
            "[LightGBM] [Warning] No further splits with positive gain, best gain: -inf\n",
            "[LightGBM] [Warning] No further splits with positive gain, best gain: -inf\n",
            "[LightGBM] [Warning] No further splits with positive gain, best gain: -inf\n",
            "[LightGBM] [Warning] No further splits with positive gain, best gain: -inf\n",
            "[LightGBM] [Warning] No further splits with positive gain, best gain: -inf\n",
            "[LightGBM] [Warning] No further splits with positive gain, best gain: -inf\n",
            "[LightGBM] [Warning] No further splits with positive gain, best gain: -inf\n",
            "[LightGBM] [Warning] No further splits with positive gain, best gain: -inf\n",
            "[LightGBM] [Warning] No further splits with positive gain, best gain: -inf\n",
            "[LightGBM] [Warning] No further splits with positive gain, best gain: -inf\n",
            "[LightGBM] [Warning] No further splits with positive gain, best gain: -inf\n",
            "[LightGBM] [Warning] No further splits with positive gain, best gain: -inf\n",
            "[LightGBM] [Warning] No further splits with positive gain, best gain: -inf\n",
            "[LightGBM] [Warning] No further splits with positive gain, best gain: -inf\n",
            "[LightGBM] [Warning] No further splits with positive gain, best gain: -inf\n",
            "[LightGBM] [Warning] No further splits with positive gain, best gain: -inf\n",
            "[LightGBM] [Warning] No further splits with positive gain, best gain: -inf\n",
            "[LightGBM] [Warning] No further splits with positive gain, best gain: -inf\n",
            "[LightGBM] [Warning] No further splits with positive gain, best gain: -inf\n",
            "[LightGBM] [Warning] No further splits with positive gain, best gain: -inf\n",
            "[LightGBM] [Warning] No further splits with positive gain, best gain: -inf\n",
            "[LightGBM] [Warning] No further splits with positive gain, best gain: -inf\n",
            "[LightGBM] [Warning] No further splits with positive gain, best gain: -inf\n",
            "[LightGBM] [Warning] No further splits with positive gain, best gain: -inf\n",
            "[LightGBM] [Warning] No further splits with positive gain, best gain: -inf\n",
            "[LightGBM] [Warning] No further splits with positive gain, best gain: -inf\n",
            "[LightGBM] [Warning] No further splits with positive gain, best gain: -inf\n",
            "[LightGBM] [Warning] No further splits with positive gain, best gain: -inf\n",
            "[LightGBM] [Warning] No further splits with positive gain, best gain: -inf\n",
            "[LightGBM] [Warning] No further splits with positive gain, best gain: -inf\n",
            "[LightGBM] [Warning] No further splits with positive gain, best gain: -inf\n",
            "[LightGBM] [Warning] No further splits with positive gain, best gain: -inf\n",
            "[LightGBM] [Warning] No further splits with positive gain, best gain: -inf\n",
            "[LightGBM] [Warning] No further splits with positive gain, best gain: -inf\n",
            "[LightGBM] [Warning] No further splits with positive gain, best gain: -inf\n",
            "[LightGBM] [Warning] No further splits with positive gain, best gain: -inf\n",
            "[LightGBM] [Warning] No further splits with positive gain, best gain: -inf\n",
            "[LightGBM] [Warning] No further splits with positive gain, best gain: -inf\n",
            "[LightGBM] [Warning] No further splits with positive gain, best gain: -inf\n",
            "[LightGBM] [Warning] No further splits with positive gain, best gain: -inf\n",
            "[LightGBM] [Warning] No further splits with positive gain, best gain: -inf\n",
            "[LightGBM] [Warning] No further splits with positive gain, best gain: -inf\n",
            "[LightGBM] [Warning] No further splits with positive gain, best gain: -inf\n",
            "[LightGBM] [Warning] No further splits with positive gain, best gain: -inf\n",
            "[LightGBM] [Warning] No further splits with positive gain, best gain: -inf\n",
            "[LightGBM] [Warning] No further splits with positive gain, best gain: -inf\n",
            "[LightGBM] [Warning] No further splits with positive gain, best gain: -inf\n",
            "[LightGBM] [Warning] No further splits with positive gain, best gain: -inf\n",
            "[LightGBM] [Warning] No further splits with positive gain, best gain: -inf\n",
            "[LightGBM] [Warning] No further splits with positive gain, best gain: -inf\n",
            "[LightGBM] [Warning] No further splits with positive gain, best gain: -inf\n",
            "[LightGBM] [Warning] No further splits with positive gain, best gain: -inf\n",
            "[LightGBM] [Warning] min_data_in_leaf is set=38, min_child_samples=20 will be ignored. Current value: min_data_in_leaf=38\n",
            "[LightGBM] [Warning] feature_fraction is set=0.14008530583585546, colsample_bytree=1.0 will be ignored. Current value: feature_fraction=0.14008530583585546\n",
            "[LightGBM] [Warning] lambda_l2 is set=0.03930375772437914, reg_lambda=0.0 will be ignored. Current value: lambda_l2=0.03930375772437914\n",
            "[LightGBM] [Warning] lambda_l1 is set=5.635294178740637e-08, reg_alpha=0.0 will be ignored. Current value: lambda_l1=5.635294178740637e-08\n",
            "[LightGBM] [Warning] bagging_fraction is set=0.19576251287698293, subsample=1.0 will be ignored. Current value: bagging_fraction=0.19576251287698293\n",
            "[LightGBM] [Warning] bagging_freq is set=8, subsample_freq=0 will be ignored. Current value: bagging_freq=8\n"
          ]
        },
        {
          "output_type": "stream",
          "name": "stderr",
          "text": [
            "/usr/local/lib/python3.10/dist-packages/lightgbm/engine.py:172: UserWarning: Found `num_iteration` in params. Will use it instead of argument\n",
            "  _log_warning(f\"Found `{alias}` in params. Will use it instead of argument\")\n"
          ]
        },
        {
          "output_type": "stream",
          "name": "stdout",
          "text": [
            "[LightGBM] [Warning] feature_fraction is set=0.14008530583585546, colsample_bytree=1.0 will be ignored. Current value: feature_fraction=0.14008530583585546\n",
            "[LightGBM] [Warning] lambda_l2 is set=0.03930375772437914, reg_lambda=0.0 will be ignored. Current value: lambda_l2=0.03930375772437914\n",
            "[LightGBM] [Warning] min_data_in_leaf is set=38, min_child_samples=20 will be ignored. Current value: min_data_in_leaf=38\n",
            "[LightGBM] [Warning] lambda_l1 is set=5.635294178740637e-08, reg_alpha=0.0 will be ignored. Current value: lambda_l1=5.635294178740637e-08\n",
            "[LightGBM] [Warning] num_iterations is set=131, num_iteration=131 will be ignored. Current value: num_iterations=131\n",
            "[LightGBM] [Warning] bagging_fraction is set=0.19576251287698293, subsample=1.0 will be ignored. Current value: bagging_fraction=0.19576251287698293\n",
            "[LightGBM] [Warning] bagging_freq is set=8, subsample_freq=0 will be ignored. Current value: bagging_freq=8\n",
            "[LightGBM] [Warning] min_data_in_leaf is set=38, min_child_samples=20 will be ignored. Current value: min_data_in_leaf=38\n",
            "[LightGBM] [Warning] feature_fraction is set=0.14008530583585546, colsample_bytree=1.0 will be ignored. Current value: feature_fraction=0.14008530583585546\n",
            "[LightGBM] [Warning] lambda_l2 is set=0.03930375772437914, reg_lambda=0.0 will be ignored. Current value: lambda_l2=0.03930375772437914\n",
            "[LightGBM] [Warning] lambda_l1 is set=5.635294178740637e-08, reg_alpha=0.0 will be ignored. Current value: lambda_l1=5.635294178740637e-08\n",
            "[LightGBM] [Warning] bagging_fraction is set=0.19576251287698293, subsample=1.0 will be ignored. Current value: bagging_fraction=0.19576251287698293\n",
            "[LightGBM] [Warning] bagging_freq is set=8, subsample_freq=0 will be ignored. Current value: bagging_freq=8\n",
            "[LightGBM] [Info] Number of positive: 16565, number of negative: 22712\n",
            "[LightGBM] [Info] Auto-choosing row-wise multi-threading, the overhead of testing was 0.916878 seconds.\n",
            "You can set `force_row_wise=true` to remove the overhead.\n",
            "And if memory is not enough, you can set `force_col_wise=true`.\n",
            "[LightGBM] [Info] Total Bins 223379\n",
            "[LightGBM] [Info] Number of data points in the train set: 39277, number of used features: 3172\n",
            "[LightGBM] [Info] [binary:BoostFromScore]: pavg=0.500000 -> initscore=-0.000000\n",
            "[LightGBM] [Info] Start training from score -0.000000\n",
            "[LightGBM] [Warning] No further splits with positive gain, best gain: -inf\n",
            "[LightGBM] [Warning] No further splits with positive gain, best gain: -inf\n",
            "[LightGBM] [Warning] No further splits with positive gain, best gain: -inf\n",
            "[LightGBM] [Warning] No further splits with positive gain, best gain: -inf\n",
            "[LightGBM] [Warning] No further splits with positive gain, best gain: -inf\n",
            "[LightGBM] [Warning] No further splits with positive gain, best gain: -inf\n",
            "[LightGBM] [Warning] No further splits with positive gain, best gain: -inf\n",
            "[LightGBM] [Warning] No further splits with positive gain, best gain: -inf\n",
            "[LightGBM] [Warning] No further splits with positive gain, best gain: -inf\n",
            "[LightGBM] [Warning] No further splits with positive gain, best gain: -inf\n",
            "[LightGBM] [Warning] No further splits with positive gain, best gain: -inf\n",
            "[LightGBM] [Warning] No further splits with positive gain, best gain: -inf\n",
            "[LightGBM] [Warning] No further splits with positive gain, best gain: -inf\n",
            "[LightGBM] [Warning] No further splits with positive gain, best gain: -inf\n",
            "[LightGBM] [Warning] No further splits with positive gain, best gain: -inf\n",
            "[LightGBM] [Warning] No further splits with positive gain, best gain: -inf\n",
            "[LightGBM] [Warning] No further splits with positive gain, best gain: -inf\n",
            "[LightGBM] [Warning] No further splits with positive gain, best gain: -inf\n",
            "[LightGBM] [Warning] No further splits with positive gain, best gain: -inf\n",
            "[LightGBM] [Warning] No further splits with positive gain, best gain: -inf\n",
            "[LightGBM] [Warning] No further splits with positive gain, best gain: -inf\n",
            "[LightGBM] [Warning] No further splits with positive gain, best gain: -inf\n",
            "[LightGBM] [Warning] No further splits with positive gain, best gain: -inf\n",
            "[LightGBM] [Warning] No further splits with positive gain, best gain: -inf\n",
            "[LightGBM] [Warning] No further splits with positive gain, best gain: -inf\n",
            "[LightGBM] [Warning] No further splits with positive gain, best gain: -inf\n",
            "[LightGBM] [Warning] No further splits with positive gain, best gain: -inf\n",
            "[LightGBM] [Warning] No further splits with positive gain, best gain: -inf\n",
            "[LightGBM] [Warning] No further splits with positive gain, best gain: -inf\n",
            "[LightGBM] [Warning] No further splits with positive gain, best gain: -inf\n",
            "[LightGBM] [Warning] No further splits with positive gain, best gain: -inf\n",
            "[LightGBM] [Warning] No further splits with positive gain, best gain: -inf\n",
            "[LightGBM] [Warning] No further splits with positive gain, best gain: -inf\n",
            "[LightGBM] [Warning] No further splits with positive gain, best gain: -inf\n",
            "[LightGBM] [Warning] No further splits with positive gain, best gain: -inf\n",
            "[LightGBM] [Warning] No further splits with positive gain, best gain: -inf\n",
            "[LightGBM] [Warning] No further splits with positive gain, best gain: -inf\n",
            "[LightGBM] [Warning] No further splits with positive gain, best gain: -inf\n",
            "[LightGBM] [Warning] No further splits with positive gain, best gain: -inf\n",
            "[LightGBM] [Warning] No further splits with positive gain, best gain: -inf\n",
            "[LightGBM] [Warning] No further splits with positive gain, best gain: -inf\n",
            "[LightGBM] [Warning] No further splits with positive gain, best gain: -inf\n",
            "[LightGBM] [Warning] No further splits with positive gain, best gain: -inf\n",
            "[LightGBM] [Warning] No further splits with positive gain, best gain: -inf\n",
            "[LightGBM] [Warning] No further splits with positive gain, best gain: -inf\n",
            "[LightGBM] [Warning] No further splits with positive gain, best gain: -inf\n",
            "[LightGBM] [Warning] No further splits with positive gain, best gain: -inf\n",
            "[LightGBM] [Warning] No further splits with positive gain, best gain: -inf\n",
            "[LightGBM] [Warning] No further splits with positive gain, best gain: -inf\n",
            "[LightGBM] [Warning] No further splits with positive gain, best gain: -inf\n",
            "[LightGBM] [Warning] No further splits with positive gain, best gain: -inf\n",
            "[LightGBM] [Warning] No further splits with positive gain, best gain: -inf\n",
            "[LightGBM] [Warning] No further splits with positive gain, best gain: -inf\n",
            "[LightGBM] [Warning] No further splits with positive gain, best gain: -inf\n",
            "[LightGBM] [Warning] No further splits with positive gain, best gain: -inf\n",
            "[LightGBM] [Warning] No further splits with positive gain, best gain: -inf\n",
            "[LightGBM] [Warning] No further splits with positive gain, best gain: -inf\n",
            "[LightGBM] [Warning] No further splits with positive gain, best gain: -inf\n",
            "[LightGBM] [Warning] No further splits with positive gain, best gain: -inf\n",
            "[LightGBM] [Warning] No further splits with positive gain, best gain: -inf\n",
            "[LightGBM] [Warning] No further splits with positive gain, best gain: -inf\n",
            "[LightGBM] [Warning] No further splits with positive gain, best gain: -inf\n",
            "[LightGBM] [Warning] No further splits with positive gain, best gain: -inf\n",
            "[LightGBM] [Warning] No further splits with positive gain, best gain: -inf\n",
            "[LightGBM] [Warning] No further splits with positive gain, best gain: -inf\n",
            "[LightGBM] [Warning] No further splits with positive gain, best gain: -inf\n",
            "[LightGBM] [Warning] No further splits with positive gain, best gain: -inf\n",
            "[LightGBM] [Warning] No further splits with positive gain, best gain: -inf\n",
            "[LightGBM] [Warning] No further splits with positive gain, best gain: -inf\n",
            "[LightGBM] [Warning] No further splits with positive gain, best gain: -inf\n",
            "[LightGBM] [Warning] No further splits with positive gain, best gain: -inf\n",
            "[LightGBM] [Warning] No further splits with positive gain, best gain: -inf\n",
            "[LightGBM] [Warning] No further splits with positive gain, best gain: -inf\n",
            "[LightGBM] [Warning] No further splits with positive gain, best gain: -inf\n",
            "[LightGBM] [Warning] No further splits with positive gain, best gain: -inf\n",
            "[LightGBM] [Warning] No further splits with positive gain, best gain: -inf\n",
            "[LightGBM] [Warning] No further splits with positive gain, best gain: -inf\n",
            "[LightGBM] [Warning] No further splits with positive gain, best gain: -inf\n",
            "[LightGBM] [Warning] No further splits with positive gain, best gain: -inf\n",
            "[LightGBM] [Warning] No further splits with positive gain, best gain: -inf\n",
            "[LightGBM] [Warning] No further splits with positive gain, best gain: -inf\n",
            "[LightGBM] [Warning] No further splits with positive gain, best gain: -inf\n",
            "[LightGBM] [Warning] No further splits with positive gain, best gain: -inf\n",
            "[LightGBM] [Warning] No further splits with positive gain, best gain: -inf\n",
            "[LightGBM] [Warning] No further splits with positive gain, best gain: -inf\n",
            "[LightGBM] [Warning] No further splits with positive gain, best gain: -inf\n",
            "[LightGBM] [Warning] No further splits with positive gain, best gain: -inf\n",
            "[LightGBM] [Warning] No further splits with positive gain, best gain: -inf\n",
            "[LightGBM] [Warning] No further splits with positive gain, best gain: -inf\n",
            "[LightGBM] [Warning] No further splits with positive gain, best gain: -inf\n",
            "[LightGBM] [Warning] No further splits with positive gain, best gain: -inf\n",
            "[LightGBM] [Warning] No further splits with positive gain, best gain: -inf\n",
            "[LightGBM] [Warning] No further splits with positive gain, best gain: -inf\n",
            "[LightGBM] [Warning] No further splits with positive gain, best gain: -inf\n",
            "[LightGBM] [Warning] No further splits with positive gain, best gain: -inf\n",
            "[LightGBM] [Warning] No further splits with positive gain, best gain: -inf\n",
            "[LightGBM] [Warning] No further splits with positive gain, best gain: -inf\n",
            "[LightGBM] [Warning] No further splits with positive gain, best gain: -inf\n",
            "[LightGBM] [Warning] No further splits with positive gain, best gain: -inf\n",
            "[LightGBM] [Warning] No further splits with positive gain, best gain: -inf\n",
            "[LightGBM] [Warning] No further splits with positive gain, best gain: -inf\n",
            "[LightGBM] [Warning] No further splits with positive gain, best gain: -inf\n",
            "[LightGBM] [Warning] No further splits with positive gain, best gain: -inf\n",
            "[LightGBM] [Warning] No further splits with positive gain, best gain: -inf\n",
            "[LightGBM] [Warning] No further splits with positive gain, best gain: -inf\n",
            "[LightGBM] [Warning] No further splits with positive gain, best gain: -inf\n",
            "[LightGBM] [Warning] No further splits with positive gain, best gain: -inf\n",
            "[LightGBM] [Warning] No further splits with positive gain, best gain: -inf\n",
            "[LightGBM] [Warning] No further splits with positive gain, best gain: -inf\n",
            "[LightGBM] [Warning] No further splits with positive gain, best gain: -inf\n",
            "[LightGBM] [Warning] No further splits with positive gain, best gain: -inf\n",
            "[LightGBM] [Warning] No further splits with positive gain, best gain: -inf\n",
            "[LightGBM] [Warning] No further splits with positive gain, best gain: -inf\n",
            "[LightGBM] [Warning] No further splits with positive gain, best gain: -inf\n",
            "[LightGBM] [Warning] No further splits with positive gain, best gain: -inf\n",
            "[LightGBM] [Warning] No further splits with positive gain, best gain: -inf\n",
            "[LightGBM] [Warning] No further splits with positive gain, best gain: -inf\n",
            "[LightGBM] [Warning] No further splits with positive gain, best gain: -inf\n",
            "[LightGBM] [Warning] No further splits with positive gain, best gain: -inf\n",
            "[LightGBM] [Warning] No further splits with positive gain, best gain: -inf\n",
            "[LightGBM] [Warning] No further splits with positive gain, best gain: -inf\n",
            "[LightGBM] [Warning] No further splits with positive gain, best gain: -inf\n",
            "[LightGBM] [Warning] No further splits with positive gain, best gain: -inf\n",
            "[LightGBM] [Warning] No further splits with positive gain, best gain: -inf\n",
            "[LightGBM] [Warning] No further splits with positive gain, best gain: -inf\n",
            "[LightGBM] [Warning] No further splits with positive gain, best gain: -inf\n",
            "[LightGBM] [Warning] No further splits with positive gain, best gain: -inf\n",
            "[LightGBM] [Warning] No further splits with positive gain, best gain: -inf\n",
            "[LightGBM] [Warning] No further splits with positive gain, best gain: -inf\n",
            "[LightGBM] [Warning] No further splits with positive gain, best gain: -inf\n",
            "[LightGBM] [Warning] No further splits with positive gain, best gain: -inf\n",
            "[LightGBM] [Warning] min_data_in_leaf is set=38, min_child_samples=20 will be ignored. Current value: min_data_in_leaf=38\n",
            "[LightGBM] [Warning] feature_fraction is set=0.14008530583585546, colsample_bytree=1.0 will be ignored. Current value: feature_fraction=0.14008530583585546\n",
            "[LightGBM] [Warning] lambda_l2 is set=0.03930375772437914, reg_lambda=0.0 will be ignored. Current value: lambda_l2=0.03930375772437914\n",
            "[LightGBM] [Warning] lambda_l1 is set=5.635294178740637e-08, reg_alpha=0.0 will be ignored. Current value: lambda_l1=5.635294178740637e-08\n",
            "[LightGBM] [Warning] bagging_fraction is set=0.19576251287698293, subsample=1.0 will be ignored. Current value: bagging_fraction=0.19576251287698293\n",
            "[LightGBM] [Warning] bagging_freq is set=8, subsample_freq=0 will be ignored. Current value: bagging_freq=8\n"
          ]
        },
        {
          "output_type": "stream",
          "name": "stderr",
          "text": [
            "/usr/local/lib/python3.10/dist-packages/lightgbm/engine.py:172: UserWarning: Found `num_iteration` in params. Will use it instead of argument\n",
            "  _log_warning(f\"Found `{alias}` in params. Will use it instead of argument\")\n"
          ]
        },
        {
          "output_type": "stream",
          "name": "stdout",
          "text": [
            "[LightGBM] [Warning] feature_fraction is set=0.14008530583585546, colsample_bytree=1.0 will be ignored. Current value: feature_fraction=0.14008530583585546\n",
            "[LightGBM] [Warning] lambda_l2 is set=0.03930375772437914, reg_lambda=0.0 will be ignored. Current value: lambda_l2=0.03930375772437914\n",
            "[LightGBM] [Warning] min_data_in_leaf is set=38, min_child_samples=20 will be ignored. Current value: min_data_in_leaf=38\n",
            "[LightGBM] [Warning] lambda_l1 is set=5.635294178740637e-08, reg_alpha=0.0 will be ignored. Current value: lambda_l1=5.635294178740637e-08\n",
            "[LightGBM] [Warning] num_iterations is set=131, num_iteration=131 will be ignored. Current value: num_iterations=131\n",
            "[LightGBM] [Warning] bagging_fraction is set=0.19576251287698293, subsample=1.0 will be ignored. Current value: bagging_fraction=0.19576251287698293\n",
            "[LightGBM] [Warning] bagging_freq is set=8, subsample_freq=0 will be ignored. Current value: bagging_freq=8\n",
            "[LightGBM] [Warning] min_data_in_leaf is set=38, min_child_samples=20 will be ignored. Current value: min_data_in_leaf=38\n",
            "[LightGBM] [Warning] feature_fraction is set=0.14008530583585546, colsample_bytree=1.0 will be ignored. Current value: feature_fraction=0.14008530583585546\n",
            "[LightGBM] [Warning] lambda_l2 is set=0.03930375772437914, reg_lambda=0.0 will be ignored. Current value: lambda_l2=0.03930375772437914\n",
            "[LightGBM] [Warning] lambda_l1 is set=5.635294178740637e-08, reg_alpha=0.0 will be ignored. Current value: lambda_l1=5.635294178740637e-08\n",
            "[LightGBM] [Warning] bagging_fraction is set=0.19576251287698293, subsample=1.0 will be ignored. Current value: bagging_fraction=0.19576251287698293\n",
            "[LightGBM] [Warning] bagging_freq is set=8, subsample_freq=0 will be ignored. Current value: bagging_freq=8\n",
            "[LightGBM] [Info] Number of positive: 16566, number of negative: 22712\n",
            "[LightGBM] [Info] Auto-choosing row-wise multi-threading, the overhead of testing was 0.986209 seconds.\n",
            "You can set `force_row_wise=true` to remove the overhead.\n",
            "And if memory is not enough, you can set `force_col_wise=true`.\n",
            "[LightGBM] [Info] Total Bins 224905\n",
            "[LightGBM] [Info] Number of data points in the train set: 39278, number of used features: 3204\n",
            "[LightGBM] [Info] [binary:BoostFromScore]: pavg=0.500000 -> initscore=-0.000000\n",
            "[LightGBM] [Info] Start training from score -0.000000\n",
            "[LightGBM] [Warning] No further splits with positive gain, best gain: -inf\n",
            "[LightGBM] [Warning] No further splits with positive gain, best gain: -inf\n",
            "[LightGBM] [Warning] No further splits with positive gain, best gain: -inf\n",
            "[LightGBM] [Warning] No further splits with positive gain, best gain: -inf\n",
            "[LightGBM] [Warning] No further splits with positive gain, best gain: -inf\n",
            "[LightGBM] [Warning] No further splits with positive gain, best gain: -inf\n",
            "[LightGBM] [Warning] No further splits with positive gain, best gain: -inf\n",
            "[LightGBM] [Warning] No further splits with positive gain, best gain: -inf\n",
            "[LightGBM] [Warning] No further splits with positive gain, best gain: -inf\n",
            "[LightGBM] [Warning] No further splits with positive gain, best gain: -inf\n",
            "[LightGBM] [Warning] No further splits with positive gain, best gain: -inf\n",
            "[LightGBM] [Warning] No further splits with positive gain, best gain: -inf\n",
            "[LightGBM] [Warning] No further splits with positive gain, best gain: -inf\n",
            "[LightGBM] [Warning] No further splits with positive gain, best gain: -inf\n",
            "[LightGBM] [Warning] No further splits with positive gain, best gain: -inf\n",
            "[LightGBM] [Warning] No further splits with positive gain, best gain: -inf\n",
            "[LightGBM] [Warning] No further splits with positive gain, best gain: -inf\n",
            "[LightGBM] [Warning] No further splits with positive gain, best gain: -inf\n",
            "[LightGBM] [Warning] No further splits with positive gain, best gain: -inf\n",
            "[LightGBM] [Warning] No further splits with positive gain, best gain: -inf\n",
            "[LightGBM] [Warning] No further splits with positive gain, best gain: -inf\n",
            "[LightGBM] [Warning] No further splits with positive gain, best gain: -inf\n",
            "[LightGBM] [Warning] No further splits with positive gain, best gain: -inf\n",
            "[LightGBM] [Warning] No further splits with positive gain, best gain: -inf\n",
            "[LightGBM] [Warning] No further splits with positive gain, best gain: -inf\n",
            "[LightGBM] [Warning] No further splits with positive gain, best gain: -inf\n",
            "[LightGBM] [Warning] No further splits with positive gain, best gain: -inf\n",
            "[LightGBM] [Warning] No further splits with positive gain, best gain: -inf\n",
            "[LightGBM] [Warning] No further splits with positive gain, best gain: -inf\n",
            "[LightGBM] [Warning] No further splits with positive gain, best gain: -inf\n",
            "[LightGBM] [Warning] No further splits with positive gain, best gain: -inf\n",
            "[LightGBM] [Warning] No further splits with positive gain, best gain: -inf\n",
            "[LightGBM] [Warning] No further splits with positive gain, best gain: -inf\n",
            "[LightGBM] [Warning] No further splits with positive gain, best gain: -inf\n",
            "[LightGBM] [Warning] No further splits with positive gain, best gain: -inf\n",
            "[LightGBM] [Warning] No further splits with positive gain, best gain: -inf\n",
            "[LightGBM] [Warning] No further splits with positive gain, best gain: -inf\n",
            "[LightGBM] [Warning] No further splits with positive gain, best gain: -inf\n",
            "[LightGBM] [Warning] No further splits with positive gain, best gain: -inf\n",
            "[LightGBM] [Warning] No further splits with positive gain, best gain: -inf\n",
            "[LightGBM] [Warning] No further splits with positive gain, best gain: -inf\n",
            "[LightGBM] [Warning] No further splits with positive gain, best gain: -inf\n",
            "[LightGBM] [Warning] No further splits with positive gain, best gain: -inf\n",
            "[LightGBM] [Warning] No further splits with positive gain, best gain: -inf\n",
            "[LightGBM] [Warning] No further splits with positive gain, best gain: -inf\n",
            "[LightGBM] [Warning] No further splits with positive gain, best gain: -inf\n",
            "[LightGBM] [Warning] No further splits with positive gain, best gain: -inf\n",
            "[LightGBM] [Warning] No further splits with positive gain, best gain: -inf\n",
            "[LightGBM] [Warning] No further splits with positive gain, best gain: -inf\n",
            "[LightGBM] [Warning] No further splits with positive gain, best gain: -inf\n",
            "[LightGBM] [Warning] No further splits with positive gain, best gain: -inf\n",
            "[LightGBM] [Warning] No further splits with positive gain, best gain: -inf\n",
            "[LightGBM] [Warning] No further splits with positive gain, best gain: -inf\n",
            "[LightGBM] [Warning] No further splits with positive gain, best gain: -inf\n",
            "[LightGBM] [Warning] No further splits with positive gain, best gain: -inf\n",
            "[LightGBM] [Warning] No further splits with positive gain, best gain: -inf\n",
            "[LightGBM] [Warning] No further splits with positive gain, best gain: -inf\n",
            "[LightGBM] [Warning] No further splits with positive gain, best gain: -inf\n",
            "[LightGBM] [Warning] No further splits with positive gain, best gain: -inf\n",
            "[LightGBM] [Warning] No further splits with positive gain, best gain: -inf\n",
            "[LightGBM] [Warning] No further splits with positive gain, best gain: -inf\n",
            "[LightGBM] [Warning] No further splits with positive gain, best gain: -inf\n",
            "[LightGBM] [Warning] No further splits with positive gain, best gain: -inf\n",
            "[LightGBM] [Warning] No further splits with positive gain, best gain: -inf\n",
            "[LightGBM] [Warning] No further splits with positive gain, best gain: -inf\n",
            "[LightGBM] [Warning] No further splits with positive gain, best gain: -inf\n",
            "[LightGBM] [Warning] No further splits with positive gain, best gain: -inf\n",
            "[LightGBM] [Warning] No further splits with positive gain, best gain: -inf\n",
            "[LightGBM] [Warning] No further splits with positive gain, best gain: -inf\n",
            "[LightGBM] [Warning] No further splits with positive gain, best gain: -inf\n",
            "[LightGBM] [Warning] No further splits with positive gain, best gain: -inf\n",
            "[LightGBM] [Warning] No further splits with positive gain, best gain: -inf\n",
            "[LightGBM] [Warning] No further splits with positive gain, best gain: -inf\n",
            "[LightGBM] [Warning] No further splits with positive gain, best gain: -inf\n",
            "[LightGBM] [Warning] No further splits with positive gain, best gain: -inf\n",
            "[LightGBM] [Warning] No further splits with positive gain, best gain: -inf\n",
            "[LightGBM] [Warning] No further splits with positive gain, best gain: -inf\n",
            "[LightGBM] [Warning] No further splits with positive gain, best gain: -inf\n",
            "[LightGBM] [Warning] No further splits with positive gain, best gain: -inf\n",
            "[LightGBM] [Warning] No further splits with positive gain, best gain: -inf\n",
            "[LightGBM] [Warning] No further splits with positive gain, best gain: -inf\n",
            "[LightGBM] [Warning] No further splits with positive gain, best gain: -inf\n",
            "[LightGBM] [Warning] No further splits with positive gain, best gain: -inf\n",
            "[LightGBM] [Warning] No further splits with positive gain, best gain: -inf\n",
            "[LightGBM] [Warning] No further splits with positive gain, best gain: -inf\n",
            "[LightGBM] [Warning] No further splits with positive gain, best gain: -inf\n",
            "[LightGBM] [Warning] No further splits with positive gain, best gain: -inf\n",
            "[LightGBM] [Warning] No further splits with positive gain, best gain: -inf\n",
            "[LightGBM] [Warning] No further splits with positive gain, best gain: -inf\n",
            "[LightGBM] [Warning] No further splits with positive gain, best gain: -inf\n",
            "[LightGBM] [Warning] No further splits with positive gain, best gain: -inf\n",
            "[LightGBM] [Warning] No further splits with positive gain, best gain: -inf\n",
            "[LightGBM] [Warning] No further splits with positive gain, best gain: -inf\n",
            "[LightGBM] [Warning] No further splits with positive gain, best gain: -inf\n",
            "[LightGBM] [Warning] No further splits with positive gain, best gain: -inf\n",
            "[LightGBM] [Warning] No further splits with positive gain, best gain: -inf\n",
            "[LightGBM] [Warning] No further splits with positive gain, best gain: -inf\n",
            "[LightGBM] [Warning] No further splits with positive gain, best gain: -inf\n",
            "[LightGBM] [Warning] No further splits with positive gain, best gain: -inf\n",
            "[LightGBM] [Warning] No further splits with positive gain, best gain: -inf\n",
            "[LightGBM] [Warning] No further splits with positive gain, best gain: -inf\n",
            "[LightGBM] [Warning] No further splits with positive gain, best gain: -inf\n",
            "[LightGBM] [Warning] No further splits with positive gain, best gain: -inf\n",
            "[LightGBM] [Warning] No further splits with positive gain, best gain: -inf\n",
            "[LightGBM] [Warning] No further splits with positive gain, best gain: -inf\n",
            "[LightGBM] [Warning] No further splits with positive gain, best gain: -inf\n",
            "[LightGBM] [Warning] No further splits with positive gain, best gain: -inf\n",
            "[LightGBM] [Warning] No further splits with positive gain, best gain: -inf\n",
            "[LightGBM] [Warning] No further splits with positive gain, best gain: -inf\n",
            "[LightGBM] [Warning] No further splits with positive gain, best gain: -inf\n",
            "[LightGBM] [Warning] No further splits with positive gain, best gain: -inf\n",
            "[LightGBM] [Warning] No further splits with positive gain, best gain: -inf\n",
            "[LightGBM] [Warning] No further splits with positive gain, best gain: -inf\n",
            "[LightGBM] [Warning] No further splits with positive gain, best gain: -inf\n",
            "[LightGBM] [Warning] No further splits with positive gain, best gain: -inf\n",
            "[LightGBM] [Warning] No further splits with positive gain, best gain: -inf\n",
            "[LightGBM] [Warning] No further splits with positive gain, best gain: -inf\n",
            "[LightGBM] [Warning] No further splits with positive gain, best gain: -inf\n",
            "[LightGBM] [Warning] No further splits with positive gain, best gain: -inf\n",
            "[LightGBM] [Warning] No further splits with positive gain, best gain: -inf\n",
            "[LightGBM] [Warning] No further splits with positive gain, best gain: -inf\n",
            "[LightGBM] [Warning] No further splits with positive gain, best gain: -inf\n",
            "[LightGBM] [Warning] No further splits with positive gain, best gain: -inf\n",
            "[LightGBM] [Warning] No further splits with positive gain, best gain: -inf\n",
            "[LightGBM] [Warning] No further splits with positive gain, best gain: -inf\n",
            "[LightGBM] [Warning] No further splits with positive gain, best gain: -inf\n",
            "[LightGBM] [Warning] No further splits with positive gain, best gain: -inf\n",
            "[LightGBM] [Warning] No further splits with positive gain, best gain: -inf\n",
            "[LightGBM] [Warning] No further splits with positive gain, best gain: -inf\n",
            "[LightGBM] [Warning] No further splits with positive gain, best gain: -inf\n",
            "[LightGBM] [Warning] No further splits with positive gain, best gain: -inf\n",
            "[LightGBM] [Warning] min_data_in_leaf is set=38, min_child_samples=20 will be ignored. Current value: min_data_in_leaf=38\n",
            "[LightGBM] [Warning] feature_fraction is set=0.14008530583585546, colsample_bytree=1.0 will be ignored. Current value: feature_fraction=0.14008530583585546\n",
            "[LightGBM] [Warning] lambda_l2 is set=0.03930375772437914, reg_lambda=0.0 will be ignored. Current value: lambda_l2=0.03930375772437914\n",
            "[LightGBM] [Warning] lambda_l1 is set=5.635294178740637e-08, reg_alpha=0.0 will be ignored. Current value: lambda_l1=5.635294178740637e-08\n",
            "[LightGBM] [Warning] bagging_fraction is set=0.19576251287698293, subsample=1.0 will be ignored. Current value: bagging_fraction=0.19576251287698293\n",
            "[LightGBM] [Warning] bagging_freq is set=8, subsample_freq=0 will be ignored. Current value: bagging_freq=8\n"
          ]
        },
        {
          "output_type": "stream",
          "name": "stderr",
          "text": [
            "/usr/local/lib/python3.10/dist-packages/lightgbm/engine.py:172: UserWarning: Found `num_iteration` in params. Will use it instead of argument\n",
            "  _log_warning(f\"Found `{alias}` in params. Will use it instead of argument\")\n"
          ]
        },
        {
          "output_type": "stream",
          "name": "stdout",
          "text": [
            "[LightGBM] [Warning] feature_fraction is set=0.14008530583585546, colsample_bytree=1.0 will be ignored. Current value: feature_fraction=0.14008530583585546\n",
            "[LightGBM] [Warning] lambda_l2 is set=0.03930375772437914, reg_lambda=0.0 will be ignored. Current value: lambda_l2=0.03930375772437914\n",
            "[LightGBM] [Warning] min_data_in_leaf is set=38, min_child_samples=20 will be ignored. Current value: min_data_in_leaf=38\n",
            "[LightGBM] [Warning] lambda_l1 is set=5.635294178740637e-08, reg_alpha=0.0 will be ignored. Current value: lambda_l1=5.635294178740637e-08\n",
            "[LightGBM] [Warning] num_iterations is set=131, num_iteration=131 will be ignored. Current value: num_iterations=131\n",
            "[LightGBM] [Warning] bagging_fraction is set=0.19576251287698293, subsample=1.0 will be ignored. Current value: bagging_fraction=0.19576251287698293\n",
            "[LightGBM] [Warning] bagging_freq is set=8, subsample_freq=0 will be ignored. Current value: bagging_freq=8\n",
            "[LightGBM] [Warning] min_data_in_leaf is set=38, min_child_samples=20 will be ignored. Current value: min_data_in_leaf=38\n",
            "[LightGBM] [Warning] feature_fraction is set=0.14008530583585546, colsample_bytree=1.0 will be ignored. Current value: feature_fraction=0.14008530583585546\n",
            "[LightGBM] [Warning] lambda_l2 is set=0.03930375772437914, reg_lambda=0.0 will be ignored. Current value: lambda_l2=0.03930375772437914\n",
            "[LightGBM] [Warning] lambda_l1 is set=5.635294178740637e-08, reg_alpha=0.0 will be ignored. Current value: lambda_l1=5.635294178740637e-08\n",
            "[LightGBM] [Warning] bagging_fraction is set=0.19576251287698293, subsample=1.0 will be ignored. Current value: bagging_fraction=0.19576251287698293\n",
            "[LightGBM] [Warning] bagging_freq is set=8, subsample_freq=0 will be ignored. Current value: bagging_freq=8\n",
            "[LightGBM] [Info] Number of positive: 16566, number of negative: 22712\n",
            "[LightGBM] [Info] Auto-choosing row-wise multi-threading, the overhead of testing was 1.347492 seconds.\n",
            "You can set `force_row_wise=true` to remove the overhead.\n",
            "And if memory is not enough, you can set `force_col_wise=true`.\n",
            "[LightGBM] [Info] Total Bins 223514\n",
            "[LightGBM] [Info] Number of data points in the train set: 39278, number of used features: 3159\n",
            "[LightGBM] [Info] [binary:BoostFromScore]: pavg=0.500000 -> initscore=-0.000000\n",
            "[LightGBM] [Info] Start training from score -0.000000\n",
            "[LightGBM] [Warning] No further splits with positive gain, best gain: -inf\n",
            "[LightGBM] [Warning] No further splits with positive gain, best gain: -inf\n",
            "[LightGBM] [Warning] No further splits with positive gain, best gain: -inf\n",
            "[LightGBM] [Warning] No further splits with positive gain, best gain: -inf\n",
            "[LightGBM] [Warning] No further splits with positive gain, best gain: -inf\n",
            "[LightGBM] [Warning] No further splits with positive gain, best gain: -inf\n",
            "[LightGBM] [Warning] No further splits with positive gain, best gain: -inf\n",
            "[LightGBM] [Warning] No further splits with positive gain, best gain: -inf\n",
            "[LightGBM] [Warning] No further splits with positive gain, best gain: -inf\n",
            "[LightGBM] [Warning] No further splits with positive gain, best gain: -inf\n",
            "[LightGBM] [Warning] No further splits with positive gain, best gain: -inf\n",
            "[LightGBM] [Warning] No further splits with positive gain, best gain: -inf\n",
            "[LightGBM] [Warning] No further splits with positive gain, best gain: -inf\n",
            "[LightGBM] [Warning] No further splits with positive gain, best gain: -inf\n",
            "[LightGBM] [Warning] No further splits with positive gain, best gain: -inf\n",
            "[LightGBM] [Warning] No further splits with positive gain, best gain: -inf\n",
            "[LightGBM] [Warning] No further splits with positive gain, best gain: -inf\n",
            "[LightGBM] [Warning] No further splits with positive gain, best gain: -inf\n",
            "[LightGBM] [Warning] No further splits with positive gain, best gain: -inf\n",
            "[LightGBM] [Warning] No further splits with positive gain, best gain: -inf\n",
            "[LightGBM] [Warning] No further splits with positive gain, best gain: -inf\n",
            "[LightGBM] [Warning] No further splits with positive gain, best gain: -inf\n",
            "[LightGBM] [Warning] No further splits with positive gain, best gain: -inf\n",
            "[LightGBM] [Warning] No further splits with positive gain, best gain: -inf\n",
            "[LightGBM] [Warning] No further splits with positive gain, best gain: -inf\n",
            "[LightGBM] [Warning] No further splits with positive gain, best gain: -inf\n",
            "[LightGBM] [Warning] No further splits with positive gain, best gain: -inf\n",
            "[LightGBM] [Warning] No further splits with positive gain, best gain: -inf\n",
            "[LightGBM] [Warning] No further splits with positive gain, best gain: -inf\n",
            "[LightGBM] [Warning] No further splits with positive gain, best gain: -inf\n",
            "[LightGBM] [Warning] No further splits with positive gain, best gain: -inf\n",
            "[LightGBM] [Warning] No further splits with positive gain, best gain: -inf\n",
            "[LightGBM] [Warning] No further splits with positive gain, best gain: -inf\n",
            "[LightGBM] [Warning] No further splits with positive gain, best gain: -inf\n",
            "[LightGBM] [Warning] No further splits with positive gain, best gain: -inf\n",
            "[LightGBM] [Warning] No further splits with positive gain, best gain: -inf\n",
            "[LightGBM] [Warning] No further splits with positive gain, best gain: -inf\n",
            "[LightGBM] [Warning] No further splits with positive gain, best gain: -inf\n",
            "[LightGBM] [Warning] No further splits with positive gain, best gain: -inf\n",
            "[LightGBM] [Warning] No further splits with positive gain, best gain: -inf\n",
            "[LightGBM] [Warning] No further splits with positive gain, best gain: -inf\n",
            "[LightGBM] [Warning] No further splits with positive gain, best gain: -inf\n",
            "[LightGBM] [Warning] No further splits with positive gain, best gain: -inf\n",
            "[LightGBM] [Warning] No further splits with positive gain, best gain: -inf\n",
            "[LightGBM] [Warning] No further splits with positive gain, best gain: -inf\n",
            "[LightGBM] [Warning] No further splits with positive gain, best gain: -inf\n",
            "[LightGBM] [Warning] No further splits with positive gain, best gain: -inf\n",
            "[LightGBM] [Warning] No further splits with positive gain, best gain: -inf\n",
            "[LightGBM] [Warning] No further splits with positive gain, best gain: -inf\n",
            "[LightGBM] [Warning] No further splits with positive gain, best gain: -inf\n",
            "[LightGBM] [Warning] No further splits with positive gain, best gain: -inf\n",
            "[LightGBM] [Warning] No further splits with positive gain, best gain: -inf\n",
            "[LightGBM] [Warning] No further splits with positive gain, best gain: -inf\n",
            "[LightGBM] [Warning] No further splits with positive gain, best gain: -inf\n",
            "[LightGBM] [Warning] No further splits with positive gain, best gain: -inf\n",
            "[LightGBM] [Warning] No further splits with positive gain, best gain: -inf\n",
            "[LightGBM] [Warning] No further splits with positive gain, best gain: -inf\n",
            "[LightGBM] [Warning] No further splits with positive gain, best gain: -inf\n",
            "[LightGBM] [Warning] No further splits with positive gain, best gain: -inf\n",
            "[LightGBM] [Warning] No further splits with positive gain, best gain: -inf\n",
            "[LightGBM] [Warning] No further splits with positive gain, best gain: -inf\n",
            "[LightGBM] [Warning] No further splits with positive gain, best gain: -inf\n",
            "[LightGBM] [Warning] No further splits with positive gain, best gain: -inf\n",
            "[LightGBM] [Warning] No further splits with positive gain, best gain: -inf\n",
            "[LightGBM] [Warning] No further splits with positive gain, best gain: -inf\n",
            "[LightGBM] [Warning] No further splits with positive gain, best gain: -inf\n",
            "[LightGBM] [Warning] No further splits with positive gain, best gain: -inf\n",
            "[LightGBM] [Warning] No further splits with positive gain, best gain: -inf\n",
            "[LightGBM] [Warning] No further splits with positive gain, best gain: -inf\n",
            "[LightGBM] [Warning] No further splits with positive gain, best gain: -inf\n",
            "[LightGBM] [Warning] No further splits with positive gain, best gain: -inf\n",
            "[LightGBM] [Warning] No further splits with positive gain, best gain: -inf\n",
            "[LightGBM] [Warning] No further splits with positive gain, best gain: -inf\n",
            "[LightGBM] [Warning] No further splits with positive gain, best gain: -inf\n",
            "[LightGBM] [Warning] No further splits with positive gain, best gain: -inf\n",
            "[LightGBM] [Warning] No further splits with positive gain, best gain: -inf\n",
            "[LightGBM] [Warning] No further splits with positive gain, best gain: -inf\n",
            "[LightGBM] [Warning] No further splits with positive gain, best gain: -inf\n",
            "[LightGBM] [Warning] No further splits with positive gain, best gain: -inf\n",
            "[LightGBM] [Warning] No further splits with positive gain, best gain: -inf\n",
            "[LightGBM] [Warning] No further splits with positive gain, best gain: -inf\n",
            "[LightGBM] [Warning] No further splits with positive gain, best gain: -inf\n",
            "[LightGBM] [Warning] No further splits with positive gain, best gain: -inf\n",
            "[LightGBM] [Warning] No further splits with positive gain, best gain: -inf\n",
            "[LightGBM] [Warning] No further splits with positive gain, best gain: -inf\n",
            "[LightGBM] [Warning] No further splits with positive gain, best gain: -inf\n",
            "[LightGBM] [Warning] No further splits with positive gain, best gain: -inf\n",
            "[LightGBM] [Warning] No further splits with positive gain, best gain: -inf\n",
            "[LightGBM] [Warning] No further splits with positive gain, best gain: -inf\n",
            "[LightGBM] [Warning] No further splits with positive gain, best gain: -inf\n",
            "[LightGBM] [Warning] No further splits with positive gain, best gain: -inf\n",
            "[LightGBM] [Warning] No further splits with positive gain, best gain: -inf\n",
            "[LightGBM] [Warning] No further splits with positive gain, best gain: -inf\n",
            "[LightGBM] [Warning] No further splits with positive gain, best gain: -inf\n",
            "[LightGBM] [Warning] No further splits with positive gain, best gain: -inf\n",
            "[LightGBM] [Warning] No further splits with positive gain, best gain: -inf\n",
            "[LightGBM] [Warning] No further splits with positive gain, best gain: -inf\n",
            "[LightGBM] [Warning] No further splits with positive gain, best gain: -inf\n",
            "[LightGBM] [Warning] No further splits with positive gain, best gain: -inf\n",
            "[LightGBM] [Warning] No further splits with positive gain, best gain: -inf\n",
            "[LightGBM] [Warning] No further splits with positive gain, best gain: -inf\n",
            "[LightGBM] [Warning] No further splits with positive gain, best gain: -inf\n",
            "[LightGBM] [Warning] No further splits with positive gain, best gain: -inf\n",
            "[LightGBM] [Warning] No further splits with positive gain, best gain: -inf\n",
            "[LightGBM] [Warning] No further splits with positive gain, best gain: -inf\n",
            "[LightGBM] [Warning] No further splits with positive gain, best gain: -inf\n",
            "[LightGBM] [Warning] No further splits with positive gain, best gain: -inf\n",
            "[LightGBM] [Warning] No further splits with positive gain, best gain: -inf\n",
            "[LightGBM] [Warning] No further splits with positive gain, best gain: -inf\n",
            "[LightGBM] [Warning] No further splits with positive gain, best gain: -inf\n",
            "[LightGBM] [Warning] No further splits with positive gain, best gain: -inf\n",
            "[LightGBM] [Warning] No further splits with positive gain, best gain: -inf\n",
            "[LightGBM] [Warning] No further splits with positive gain, best gain: -inf\n",
            "[LightGBM] [Warning] No further splits with positive gain, best gain: -inf\n",
            "[LightGBM] [Warning] No further splits with positive gain, best gain: -inf\n",
            "[LightGBM] [Warning] No further splits with positive gain, best gain: -inf\n",
            "[LightGBM] [Warning] No further splits with positive gain, best gain: -inf\n",
            "[LightGBM] [Warning] No further splits with positive gain, best gain: -inf\n",
            "[LightGBM] [Warning] No further splits with positive gain, best gain: -inf\n",
            "[LightGBM] [Warning] No further splits with positive gain, best gain: -inf\n",
            "[LightGBM] [Warning] No further splits with positive gain, best gain: -inf\n",
            "[LightGBM] [Warning] No further splits with positive gain, best gain: -inf\n",
            "[LightGBM] [Warning] No further splits with positive gain, best gain: -inf\n",
            "[LightGBM] [Warning] No further splits with positive gain, best gain: -inf\n",
            "[LightGBM] [Warning] No further splits with positive gain, best gain: -inf\n",
            "[LightGBM] [Warning] No further splits with positive gain, best gain: -inf\n",
            "[LightGBM] [Warning] No further splits with positive gain, best gain: -inf\n",
            "[LightGBM] [Warning] No further splits with positive gain, best gain: -inf\n",
            "[LightGBM] [Warning] No further splits with positive gain, best gain: -inf\n",
            "[LightGBM] [Warning] No further splits with positive gain, best gain: -inf\n",
            "[LightGBM] [Warning] min_data_in_leaf is set=38, min_child_samples=20 will be ignored. Current value: min_data_in_leaf=38\n",
            "[LightGBM] [Warning] feature_fraction is set=0.14008530583585546, colsample_bytree=1.0 will be ignored. Current value: feature_fraction=0.14008530583585546\n",
            "[LightGBM] [Warning] lambda_l2 is set=0.03930375772437914, reg_lambda=0.0 will be ignored. Current value: lambda_l2=0.03930375772437914\n",
            "[LightGBM] [Warning] lambda_l1 is set=5.635294178740637e-08, reg_alpha=0.0 will be ignored. Current value: lambda_l1=5.635294178740637e-08\n",
            "[LightGBM] [Warning] bagging_fraction is set=0.19576251287698293, subsample=1.0 will be ignored. Current value: bagging_fraction=0.19576251287698293\n",
            "[LightGBM] [Warning] bagging_freq is set=8, subsample_freq=0 will be ignored. Current value: bagging_freq=8\n"
          ]
        },
        {
          "output_type": "stream",
          "name": "stderr",
          "text": [
            "/usr/local/lib/python3.10/dist-packages/lightgbm/engine.py:172: UserWarning: Found `num_iteration` in params. Will use it instead of argument\n",
            "  _log_warning(f\"Found `{alias}` in params. Will use it instead of argument\")\n"
          ]
        },
        {
          "output_type": "stream",
          "name": "stdout",
          "text": [
            "[LightGBM] [Warning] feature_fraction is set=0.14008530583585546, colsample_bytree=1.0 will be ignored. Current value: feature_fraction=0.14008530583585546\n",
            "[LightGBM] [Warning] lambda_l2 is set=0.03930375772437914, reg_lambda=0.0 will be ignored. Current value: lambda_l2=0.03930375772437914\n",
            "[LightGBM] [Warning] min_data_in_leaf is set=38, min_child_samples=20 will be ignored. Current value: min_data_in_leaf=38\n",
            "[LightGBM] [Warning] lambda_l1 is set=5.635294178740637e-08, reg_alpha=0.0 will be ignored. Current value: lambda_l1=5.635294178740637e-08\n",
            "[LightGBM] [Warning] num_iterations is set=131, num_iteration=131 will be ignored. Current value: num_iterations=131\n",
            "[LightGBM] [Warning] bagging_fraction is set=0.19576251287698293, subsample=1.0 will be ignored. Current value: bagging_fraction=0.19576251287698293\n",
            "[LightGBM] [Warning] bagging_freq is set=8, subsample_freq=0 will be ignored. Current value: bagging_freq=8\n",
            "[LightGBM] [Warning] min_data_in_leaf is set=38, min_child_samples=20 will be ignored. Current value: min_data_in_leaf=38\n",
            "[LightGBM] [Warning] feature_fraction is set=0.14008530583585546, colsample_bytree=1.0 will be ignored. Current value: feature_fraction=0.14008530583585546\n",
            "[LightGBM] [Warning] lambda_l2 is set=0.03930375772437914, reg_lambda=0.0 will be ignored. Current value: lambda_l2=0.03930375772437914\n",
            "[LightGBM] [Warning] lambda_l1 is set=5.635294178740637e-08, reg_alpha=0.0 will be ignored. Current value: lambda_l1=5.635294178740637e-08\n",
            "[LightGBM] [Warning] bagging_fraction is set=0.19576251287698293, subsample=1.0 will be ignored. Current value: bagging_fraction=0.19576251287698293\n",
            "[LightGBM] [Warning] bagging_freq is set=8, subsample_freq=0 will be ignored. Current value: bagging_freq=8\n",
            "[LightGBM] [Info] Number of positive: 16566, number of negative: 22712\n",
            "[LightGBM] [Info] Auto-choosing col-wise multi-threading, the overhead of testing was 0.886986 seconds.\n",
            "You can set `force_col_wise=true` to remove the overhead.\n",
            "[LightGBM] [Info] Total Bins 223629\n",
            "[LightGBM] [Info] Number of data points in the train set: 39278, number of used features: 3167\n",
            "[LightGBM] [Info] [binary:BoostFromScore]: pavg=0.500000 -> initscore=-0.000000\n",
            "[LightGBM] [Info] Start training from score -0.000000\n",
            "[LightGBM] [Warning] No further splits with positive gain, best gain: -inf\n",
            "[LightGBM] [Warning] No further splits with positive gain, best gain: -inf\n",
            "[LightGBM] [Warning] No further splits with positive gain, best gain: -inf\n",
            "[LightGBM] [Warning] No further splits with positive gain, best gain: -inf\n",
            "[LightGBM] [Warning] No further splits with positive gain, best gain: -inf\n",
            "[LightGBM] [Warning] No further splits with positive gain, best gain: -inf\n",
            "[LightGBM] [Warning] No further splits with positive gain, best gain: -inf\n",
            "[LightGBM] [Warning] No further splits with positive gain, best gain: -inf\n",
            "[LightGBM] [Warning] No further splits with positive gain, best gain: -inf\n",
            "[LightGBM] [Warning] No further splits with positive gain, best gain: -inf\n",
            "[LightGBM] [Warning] No further splits with positive gain, best gain: -inf\n",
            "[LightGBM] [Warning] No further splits with positive gain, best gain: -inf\n",
            "[LightGBM] [Warning] No further splits with positive gain, best gain: -inf\n",
            "[LightGBM] [Warning] No further splits with positive gain, best gain: -inf\n",
            "[LightGBM] [Warning] No further splits with positive gain, best gain: -inf\n",
            "[LightGBM] [Warning] No further splits with positive gain, best gain: -inf\n",
            "[LightGBM] [Warning] No further splits with positive gain, best gain: -inf\n",
            "[LightGBM] [Warning] No further splits with positive gain, best gain: -inf\n",
            "[LightGBM] [Warning] No further splits with positive gain, best gain: -inf\n",
            "[LightGBM] [Warning] No further splits with positive gain, best gain: -inf\n",
            "[LightGBM] [Warning] No further splits with positive gain, best gain: -inf\n",
            "[LightGBM] [Warning] No further splits with positive gain, best gain: -inf\n",
            "[LightGBM] [Warning] No further splits with positive gain, best gain: -inf\n",
            "[LightGBM] [Warning] No further splits with positive gain, best gain: -inf\n",
            "[LightGBM] [Warning] No further splits with positive gain, best gain: -inf\n",
            "[LightGBM] [Warning] No further splits with positive gain, best gain: -inf\n",
            "[LightGBM] [Warning] No further splits with positive gain, best gain: -inf\n",
            "[LightGBM] [Warning] No further splits with positive gain, best gain: -inf\n",
            "[LightGBM] [Warning] No further splits with positive gain, best gain: -inf\n",
            "[LightGBM] [Warning] No further splits with positive gain, best gain: -inf\n",
            "[LightGBM] [Warning] No further splits with positive gain, best gain: -inf\n",
            "[LightGBM] [Warning] No further splits with positive gain, best gain: -inf\n",
            "[LightGBM] [Warning] No further splits with positive gain, best gain: -inf\n",
            "[LightGBM] [Warning] No further splits with positive gain, best gain: -inf\n",
            "[LightGBM] [Warning] No further splits with positive gain, best gain: -inf\n",
            "[LightGBM] [Warning] No further splits with positive gain, best gain: -inf\n",
            "[LightGBM] [Warning] No further splits with positive gain, best gain: -inf\n",
            "[LightGBM] [Warning] No further splits with positive gain, best gain: -inf\n",
            "[LightGBM] [Warning] No further splits with positive gain, best gain: -inf\n",
            "[LightGBM] [Warning] No further splits with positive gain, best gain: -inf\n",
            "[LightGBM] [Warning] No further splits with positive gain, best gain: -inf\n",
            "[LightGBM] [Warning] No further splits with positive gain, best gain: -inf\n",
            "[LightGBM] [Warning] No further splits with positive gain, best gain: -inf\n",
            "[LightGBM] [Warning] No further splits with positive gain, best gain: -inf\n",
            "[LightGBM] [Warning] No further splits with positive gain, best gain: -inf\n",
            "[LightGBM] [Warning] No further splits with positive gain, best gain: -inf\n",
            "[LightGBM] [Warning] No further splits with positive gain, best gain: -inf\n",
            "[LightGBM] [Warning] No further splits with positive gain, best gain: -inf\n",
            "[LightGBM] [Warning] No further splits with positive gain, best gain: -inf\n",
            "[LightGBM] [Warning] No further splits with positive gain, best gain: -inf\n",
            "[LightGBM] [Warning] No further splits with positive gain, best gain: -inf\n",
            "[LightGBM] [Warning] No further splits with positive gain, best gain: -inf\n",
            "[LightGBM] [Warning] No further splits with positive gain, best gain: -inf\n",
            "[LightGBM] [Warning] No further splits with positive gain, best gain: -inf\n",
            "[LightGBM] [Warning] No further splits with positive gain, best gain: -inf\n",
            "[LightGBM] [Warning] No further splits with positive gain, best gain: -inf\n",
            "[LightGBM] [Warning] No further splits with positive gain, best gain: -inf\n",
            "[LightGBM] [Warning] No further splits with positive gain, best gain: -inf\n",
            "[LightGBM] [Warning] No further splits with positive gain, best gain: -inf\n",
            "[LightGBM] [Warning] No further splits with positive gain, best gain: -inf\n",
            "[LightGBM] [Warning] No further splits with positive gain, best gain: -inf\n",
            "[LightGBM] [Warning] No further splits with positive gain, best gain: -inf\n",
            "[LightGBM] [Warning] No further splits with positive gain, best gain: -inf\n",
            "[LightGBM] [Warning] No further splits with positive gain, best gain: -inf\n",
            "[LightGBM] [Warning] No further splits with positive gain, best gain: -inf\n",
            "[LightGBM] [Warning] No further splits with positive gain, best gain: -inf\n",
            "[LightGBM] [Warning] No further splits with positive gain, best gain: -inf\n",
            "[LightGBM] [Warning] No further splits with positive gain, best gain: -inf\n",
            "[LightGBM] [Warning] No further splits with positive gain, best gain: -inf\n",
            "[LightGBM] [Warning] No further splits with positive gain, best gain: -inf\n",
            "[LightGBM] [Warning] No further splits with positive gain, best gain: -inf\n",
            "[LightGBM] [Warning] No further splits with positive gain, best gain: -inf\n",
            "[LightGBM] [Warning] No further splits with positive gain, best gain: -inf\n",
            "[LightGBM] [Warning] No further splits with positive gain, best gain: -inf\n",
            "[LightGBM] [Warning] No further splits with positive gain, best gain: -inf\n",
            "[LightGBM] [Warning] No further splits with positive gain, best gain: -inf\n",
            "[LightGBM] [Warning] No further splits with positive gain, best gain: -inf\n",
            "[LightGBM] [Warning] No further splits with positive gain, best gain: -inf\n",
            "[LightGBM] [Warning] No further splits with positive gain, best gain: -inf\n",
            "[LightGBM] [Warning] No further splits with positive gain, best gain: -inf\n",
            "[LightGBM] [Warning] No further splits with positive gain, best gain: -inf\n",
            "[LightGBM] [Warning] No further splits with positive gain, best gain: -inf\n",
            "[LightGBM] [Warning] No further splits with positive gain, best gain: -inf\n",
            "[LightGBM] [Warning] No further splits with positive gain, best gain: -inf\n",
            "[LightGBM] [Warning] No further splits with positive gain, best gain: -inf\n",
            "[LightGBM] [Warning] No further splits with positive gain, best gain: -inf\n",
            "[LightGBM] [Warning] No further splits with positive gain, best gain: -inf\n",
            "[LightGBM] [Warning] No further splits with positive gain, best gain: -inf\n",
            "[LightGBM] [Warning] No further splits with positive gain, best gain: -inf\n",
            "[LightGBM] [Warning] No further splits with positive gain, best gain: -inf\n",
            "[LightGBM] [Warning] No further splits with positive gain, best gain: -inf\n",
            "[LightGBM] [Warning] No further splits with positive gain, best gain: -inf\n",
            "[LightGBM] [Warning] No further splits with positive gain, best gain: -inf\n",
            "[LightGBM] [Warning] No further splits with positive gain, best gain: -inf\n",
            "[LightGBM] [Warning] No further splits with positive gain, best gain: -inf\n",
            "[LightGBM] [Warning] No further splits with positive gain, best gain: -inf\n",
            "[LightGBM] [Warning] No further splits with positive gain, best gain: -inf\n",
            "[LightGBM] [Warning] No further splits with positive gain, best gain: -inf\n",
            "[LightGBM] [Warning] No further splits with positive gain, best gain: -inf\n",
            "[LightGBM] [Warning] No further splits with positive gain, best gain: -inf\n",
            "[LightGBM] [Warning] No further splits with positive gain, best gain: -inf\n",
            "[LightGBM] [Warning] No further splits with positive gain, best gain: -inf\n",
            "[LightGBM] [Warning] No further splits with positive gain, best gain: -inf\n",
            "[LightGBM] [Warning] No further splits with positive gain, best gain: -inf\n",
            "[LightGBM] [Warning] No further splits with positive gain, best gain: -inf\n",
            "[LightGBM] [Warning] No further splits with positive gain, best gain: -inf\n",
            "[LightGBM] [Warning] No further splits with positive gain, best gain: -inf\n",
            "[LightGBM] [Warning] No further splits with positive gain, best gain: -inf\n",
            "[LightGBM] [Warning] No further splits with positive gain, best gain: -inf\n",
            "[LightGBM] [Warning] No further splits with positive gain, best gain: -inf\n",
            "[LightGBM] [Warning] No further splits with positive gain, best gain: -inf\n",
            "[LightGBM] [Warning] No further splits with positive gain, best gain: -inf\n",
            "[LightGBM] [Warning] No further splits with positive gain, best gain: -inf\n",
            "[LightGBM] [Warning] No further splits with positive gain, best gain: -inf\n",
            "[LightGBM] [Warning] No further splits with positive gain, best gain: -inf\n",
            "[LightGBM] [Warning] No further splits with positive gain, best gain: -inf\n",
            "[LightGBM] [Warning] No further splits with positive gain, best gain: -inf\n",
            "[LightGBM] [Warning] No further splits with positive gain, best gain: -inf\n",
            "[LightGBM] [Warning] No further splits with positive gain, best gain: -inf\n",
            "[LightGBM] [Warning] No further splits with positive gain, best gain: -inf\n",
            "[LightGBM] [Warning] No further splits with positive gain, best gain: -inf\n",
            "[LightGBM] [Warning] No further splits with positive gain, best gain: -inf\n",
            "[LightGBM] [Warning] No further splits with positive gain, best gain: -inf\n",
            "[LightGBM] [Warning] No further splits with positive gain, best gain: -inf\n",
            "[LightGBM] [Warning] No further splits with positive gain, best gain: -inf\n",
            "[LightGBM] [Warning] No further splits with positive gain, best gain: -inf\n",
            "[LightGBM] [Warning] No further splits with positive gain, best gain: -inf\n",
            "[LightGBM] [Warning] No further splits with positive gain, best gain: -inf\n",
            "[LightGBM] [Warning] No further splits with positive gain, best gain: -inf\n",
            "[LightGBM] [Warning] No further splits with positive gain, best gain: -inf\n",
            "[LightGBM] [Warning] No further splits with positive gain, best gain: -inf\n",
            "[LightGBM] [Warning] min_data_in_leaf is set=38, min_child_samples=20 will be ignored. Current value: min_data_in_leaf=38\n",
            "[LightGBM] [Warning] feature_fraction is set=0.14008530583585546, colsample_bytree=1.0 will be ignored. Current value: feature_fraction=0.14008530583585546\n",
            "[LightGBM] [Warning] lambda_l2 is set=0.03930375772437914, reg_lambda=0.0 will be ignored. Current value: lambda_l2=0.03930375772437914\n",
            "[LightGBM] [Warning] lambda_l1 is set=5.635294178740637e-08, reg_alpha=0.0 will be ignored. Current value: lambda_l1=5.635294178740637e-08\n",
            "[LightGBM] [Warning] bagging_fraction is set=0.19576251287698293, subsample=1.0 will be ignored. Current value: bagging_fraction=0.19576251287698293\n",
            "[LightGBM] [Warning] bagging_freq is set=8, subsample_freq=0 will be ignored. Current value: bagging_freq=8\n"
          ]
        },
        {
          "output_type": "stream",
          "name": "stderr",
          "text": [
            "[I 2024-03-31 00:33:00,493] Trial 2 finished with value: 0.7804951609353978 and parameters: {'num_leaves': 131, 'lambda_l1': 5.635294178740637e-08, 'lambda_l2': 0.03930375772437914, 'feature_fraction': 0.14008530583585546, 'bagging_fraction': 0.19576251287698293, 'bagging_freq': 8, 'min_child_samples': 38, 'class_weight': 'balanced'}. Best is trial 0 with value: 0.8218578522252493.\n",
            "<ipython-input-46-a40d882ac625>:7: FutureWarning: suggest_loguniform has been deprecated in v3.0.0. This feature will be removed in v6.0.0. See https://github.com/optuna/optuna/releases/tag/v3.0.0. Use suggest_float(..., log=True) instead.\n",
            "  'lambda_l1': trial.suggest_loguniform('lambda_l1', 1e-8, 5.0),\n",
            "<ipython-input-46-a40d882ac625>:8: FutureWarning: suggest_loguniform has been deprecated in v3.0.0. This feature will be removed in v6.0.0. See https://github.com/optuna/optuna/releases/tag/v3.0.0. Use suggest_float(..., log=True) instead.\n",
            "  'lambda_l2': trial.suggest_loguniform('lambda_l2', 1e-8, 5.0),\n",
            "/usr/local/lib/python3.10/dist-packages/optuna/trial/_trial.py:676: RuntimeWarning: Inconsistent parameter values for distribution with name \"num_leaves\"! This might be a configuration mistake. Optuna allows to call the same distribution with the same name more than once in a trial. When the parameter values are inconsistent optuna only uses the values of the first call and ignores all following. Using these values: {'log': False, 'step': 1, 'low': 70, 'high': 150}\n",
            "  warnings.warn(\n",
            "<ipython-input-46-a40d882ac625>:10: FutureWarning: suggest_uniform has been deprecated in v3.0.0. This feature will be removed in v6.0.0. See https://github.com/optuna/optuna/releases/tag/v3.0.0. Use suggest_float instead.\n",
            "  'feature_fraction': trial.suggest_uniform('feature_fraction', 0.1, 1.0),\n",
            "<ipython-input-46-a40d882ac625>:11: FutureWarning: suggest_uniform has been deprecated in v3.0.0. This feature will be removed in v6.0.0. See https://github.com/optuna/optuna/releases/tag/v3.0.0. Use suggest_float instead.\n",
            "  'bagging_fraction': trial.suggest_uniform('bagging_fraction', 0.1, 1.0),\n",
            "/usr/local/lib/python3.10/dist-packages/lightgbm/engine.py:172: UserWarning: Found `num_iteration` in params. Will use it instead of argument\n",
            "  _log_warning(f\"Found `{alias}` in params. Will use it instead of argument\")\n"
          ]
        },
        {
          "output_type": "stream",
          "name": "stdout",
          "text": [
            "[LightGBM] [Warning] feature_fraction is set=0.8881230462440608, colsample_bytree=1.0 will be ignored. Current value: feature_fraction=0.8881230462440608\n",
            "[LightGBM] [Warning] lambda_l2 is set=0.002075241544571056, reg_lambda=0.0 will be ignored. Current value: lambda_l2=0.002075241544571056\n",
            "[LightGBM] [Warning] min_data_in_leaf is set=62, min_child_samples=20 will be ignored. Current value: min_data_in_leaf=62\n",
            "[LightGBM] [Warning] lambda_l1 is set=0.011586740538540625, reg_alpha=0.0 will be ignored. Current value: lambda_l1=0.011586740538540625\n",
            "[LightGBM] [Warning] num_iterations is set=126, num_iteration=126 will be ignored. Current value: num_iterations=126\n",
            "[LightGBM] [Warning] bagging_fraction is set=0.8849617108179018, subsample=1.0 will be ignored. Current value: bagging_fraction=0.8849617108179018\n",
            "[LightGBM] [Warning] bagging_freq is set=6, subsample_freq=0 will be ignored. Current value: bagging_freq=6\n",
            "[LightGBM] [Warning] min_data_in_leaf is set=62, min_child_samples=20 will be ignored. Current value: min_data_in_leaf=62\n",
            "[LightGBM] [Warning] feature_fraction is set=0.8881230462440608, colsample_bytree=1.0 will be ignored. Current value: feature_fraction=0.8881230462440608\n",
            "[LightGBM] [Warning] lambda_l2 is set=0.002075241544571056, reg_lambda=0.0 will be ignored. Current value: lambda_l2=0.002075241544571056\n",
            "[LightGBM] [Warning] lambda_l1 is set=0.011586740538540625, reg_alpha=0.0 will be ignored. Current value: lambda_l1=0.011586740538540625\n",
            "[LightGBM] [Warning] bagging_fraction is set=0.8849617108179018, subsample=1.0 will be ignored. Current value: bagging_fraction=0.8849617108179018\n",
            "[LightGBM] [Warning] bagging_freq is set=6, subsample_freq=0 will be ignored. Current value: bagging_freq=6\n",
            "[LightGBM] [Info] Number of positive: 16565, number of negative: 22712\n",
            "[LightGBM] [Info] Auto-choosing col-wise multi-threading, the overhead of testing was 0.582186 seconds.\n",
            "You can set `force_col_wise=true` to remove the overhead.\n",
            "[LightGBM] [Info] Total Bins 210111\n",
            "[LightGBM] [Info] Number of data points in the train set: 39277, number of used features: 2341\n",
            "[LightGBM] [Info] [binary:BoostFromScore]: pavg=0.500000 -> initscore=-0.000000\n",
            "[LightGBM] [Info] Start training from score -0.000000\n",
            "[LightGBM] [Warning] min_data_in_leaf is set=62, min_child_samples=20 will be ignored. Current value: min_data_in_leaf=62\n",
            "[LightGBM] [Warning] feature_fraction is set=0.8881230462440608, colsample_bytree=1.0 will be ignored. Current value: feature_fraction=0.8881230462440608\n",
            "[LightGBM] [Warning] lambda_l2 is set=0.002075241544571056, reg_lambda=0.0 will be ignored. Current value: lambda_l2=0.002075241544571056\n",
            "[LightGBM] [Warning] lambda_l1 is set=0.011586740538540625, reg_alpha=0.0 will be ignored. Current value: lambda_l1=0.011586740538540625\n",
            "[LightGBM] [Warning] bagging_fraction is set=0.8849617108179018, subsample=1.0 will be ignored. Current value: bagging_fraction=0.8849617108179018\n",
            "[LightGBM] [Warning] bagging_freq is set=6, subsample_freq=0 will be ignored. Current value: bagging_freq=6\n"
          ]
        },
        {
          "output_type": "stream",
          "name": "stderr",
          "text": [
            "/usr/local/lib/python3.10/dist-packages/lightgbm/engine.py:172: UserWarning: Found `num_iteration` in params. Will use it instead of argument\n",
            "  _log_warning(f\"Found `{alias}` in params. Will use it instead of argument\")\n"
          ]
        },
        {
          "output_type": "stream",
          "name": "stdout",
          "text": [
            "[LightGBM] [Warning] feature_fraction is set=0.8881230462440608, colsample_bytree=1.0 will be ignored. Current value: feature_fraction=0.8881230462440608\n",
            "[LightGBM] [Warning] lambda_l2 is set=0.002075241544571056, reg_lambda=0.0 will be ignored. Current value: lambda_l2=0.002075241544571056\n",
            "[LightGBM] [Warning] min_data_in_leaf is set=62, min_child_samples=20 will be ignored. Current value: min_data_in_leaf=62\n",
            "[LightGBM] [Warning] lambda_l1 is set=0.011586740538540625, reg_alpha=0.0 will be ignored. Current value: lambda_l1=0.011586740538540625\n",
            "[LightGBM] [Warning] num_iterations is set=126, num_iteration=126 will be ignored. Current value: num_iterations=126\n",
            "[LightGBM] [Warning] bagging_fraction is set=0.8849617108179018, subsample=1.0 will be ignored. Current value: bagging_fraction=0.8849617108179018\n",
            "[LightGBM] [Warning] bagging_freq is set=6, subsample_freq=0 will be ignored. Current value: bagging_freq=6\n",
            "[LightGBM] [Warning] min_data_in_leaf is set=62, min_child_samples=20 will be ignored. Current value: min_data_in_leaf=62\n",
            "[LightGBM] [Warning] feature_fraction is set=0.8881230462440608, colsample_bytree=1.0 will be ignored. Current value: feature_fraction=0.8881230462440608\n",
            "[LightGBM] [Warning] lambda_l2 is set=0.002075241544571056, reg_lambda=0.0 will be ignored. Current value: lambda_l2=0.002075241544571056\n",
            "[LightGBM] [Warning] lambda_l1 is set=0.011586740538540625, reg_alpha=0.0 will be ignored. Current value: lambda_l1=0.011586740538540625\n",
            "[LightGBM] [Warning] bagging_fraction is set=0.8849617108179018, subsample=1.0 will be ignored. Current value: bagging_fraction=0.8849617108179018\n",
            "[LightGBM] [Warning] bagging_freq is set=6, subsample_freq=0 will be ignored. Current value: bagging_freq=6\n",
            "[LightGBM] [Info] Number of positive: 16565, number of negative: 22712\n",
            "[LightGBM] [Info] Auto-choosing row-wise multi-threading, the overhead of testing was 0.585323 seconds.\n",
            "You can set `force_row_wise=true` to remove the overhead.\n",
            "And if memory is not enough, you can set `force_col_wise=true`.\n",
            "[LightGBM] [Info] Total Bins 209390\n",
            "[LightGBM] [Info] Number of data points in the train set: 39277, number of used features: 2348\n",
            "[LightGBM] [Info] [binary:BoostFromScore]: pavg=0.500000 -> initscore=-0.000000\n",
            "[LightGBM] [Info] Start training from score -0.000000\n",
            "[LightGBM] [Warning] min_data_in_leaf is set=62, min_child_samples=20 will be ignored. Current value: min_data_in_leaf=62\n",
            "[LightGBM] [Warning] feature_fraction is set=0.8881230462440608, colsample_bytree=1.0 will be ignored. Current value: feature_fraction=0.8881230462440608\n",
            "[LightGBM] [Warning] lambda_l2 is set=0.002075241544571056, reg_lambda=0.0 will be ignored. Current value: lambda_l2=0.002075241544571056\n",
            "[LightGBM] [Warning] lambda_l1 is set=0.011586740538540625, reg_alpha=0.0 will be ignored. Current value: lambda_l1=0.011586740538540625\n",
            "[LightGBM] [Warning] bagging_fraction is set=0.8849617108179018, subsample=1.0 will be ignored. Current value: bagging_fraction=0.8849617108179018\n",
            "[LightGBM] [Warning] bagging_freq is set=6, subsample_freq=0 will be ignored. Current value: bagging_freq=6\n"
          ]
        },
        {
          "output_type": "stream",
          "name": "stderr",
          "text": [
            "/usr/local/lib/python3.10/dist-packages/lightgbm/engine.py:172: UserWarning: Found `num_iteration` in params. Will use it instead of argument\n",
            "  _log_warning(f\"Found `{alias}` in params. Will use it instead of argument\")\n"
          ]
        },
        {
          "output_type": "stream",
          "name": "stdout",
          "text": [
            "[LightGBM] [Warning] feature_fraction is set=0.8881230462440608, colsample_bytree=1.0 will be ignored. Current value: feature_fraction=0.8881230462440608\n",
            "[LightGBM] [Warning] lambda_l2 is set=0.002075241544571056, reg_lambda=0.0 will be ignored. Current value: lambda_l2=0.002075241544571056\n",
            "[LightGBM] [Warning] min_data_in_leaf is set=62, min_child_samples=20 will be ignored. Current value: min_data_in_leaf=62\n",
            "[LightGBM] [Warning] lambda_l1 is set=0.011586740538540625, reg_alpha=0.0 will be ignored. Current value: lambda_l1=0.011586740538540625\n",
            "[LightGBM] [Warning] num_iterations is set=126, num_iteration=126 will be ignored. Current value: num_iterations=126\n",
            "[LightGBM] [Warning] bagging_fraction is set=0.8849617108179018, subsample=1.0 will be ignored. Current value: bagging_fraction=0.8849617108179018\n",
            "[LightGBM] [Warning] bagging_freq is set=6, subsample_freq=0 will be ignored. Current value: bagging_freq=6\n",
            "[LightGBM] [Warning] min_data_in_leaf is set=62, min_child_samples=20 will be ignored. Current value: min_data_in_leaf=62\n",
            "[LightGBM] [Warning] feature_fraction is set=0.8881230462440608, colsample_bytree=1.0 will be ignored. Current value: feature_fraction=0.8881230462440608\n",
            "[LightGBM] [Warning] lambda_l2 is set=0.002075241544571056, reg_lambda=0.0 will be ignored. Current value: lambda_l2=0.002075241544571056\n",
            "[LightGBM] [Warning] lambda_l1 is set=0.011586740538540625, reg_alpha=0.0 will be ignored. Current value: lambda_l1=0.011586740538540625\n",
            "[LightGBM] [Warning] bagging_fraction is set=0.8849617108179018, subsample=1.0 will be ignored. Current value: bagging_fraction=0.8849617108179018\n",
            "[LightGBM] [Warning] bagging_freq is set=6, subsample_freq=0 will be ignored. Current value: bagging_freq=6\n",
            "[LightGBM] [Info] Number of positive: 16566, number of negative: 22712\n",
            "[LightGBM] [Info] Auto-choosing row-wise multi-threading, the overhead of testing was 0.955411 seconds.\n",
            "You can set `force_row_wise=true` to remove the overhead.\n",
            "And if memory is not enough, you can set `force_col_wise=true`.\n",
            "[LightGBM] [Info] Total Bins 210601\n",
            "[LightGBM] [Info] Number of data points in the train set: 39278, number of used features: 2360\n",
            "[LightGBM] [Info] [binary:BoostFromScore]: pavg=0.500000 -> initscore=-0.000000\n",
            "[LightGBM] [Info] Start training from score -0.000000\n",
            "[LightGBM] [Warning] min_data_in_leaf is set=62, min_child_samples=20 will be ignored. Current value: min_data_in_leaf=62\n",
            "[LightGBM] [Warning] feature_fraction is set=0.8881230462440608, colsample_bytree=1.0 will be ignored. Current value: feature_fraction=0.8881230462440608\n",
            "[LightGBM] [Warning] lambda_l2 is set=0.002075241544571056, reg_lambda=0.0 will be ignored. Current value: lambda_l2=0.002075241544571056\n",
            "[LightGBM] [Warning] lambda_l1 is set=0.011586740538540625, reg_alpha=0.0 will be ignored. Current value: lambda_l1=0.011586740538540625\n",
            "[LightGBM] [Warning] bagging_fraction is set=0.8849617108179018, subsample=1.0 will be ignored. Current value: bagging_fraction=0.8849617108179018\n",
            "[LightGBM] [Warning] bagging_freq is set=6, subsample_freq=0 will be ignored. Current value: bagging_freq=6\n"
          ]
        },
        {
          "output_type": "stream",
          "name": "stderr",
          "text": [
            "/usr/local/lib/python3.10/dist-packages/lightgbm/engine.py:172: UserWarning: Found `num_iteration` in params. Will use it instead of argument\n",
            "  _log_warning(f\"Found `{alias}` in params. Will use it instead of argument\")\n"
          ]
        },
        {
          "output_type": "stream",
          "name": "stdout",
          "text": [
            "[LightGBM] [Warning] feature_fraction is set=0.8881230462440608, colsample_bytree=1.0 will be ignored. Current value: feature_fraction=0.8881230462440608\n",
            "[LightGBM] [Warning] lambda_l2 is set=0.002075241544571056, reg_lambda=0.0 will be ignored. Current value: lambda_l2=0.002075241544571056\n",
            "[LightGBM] [Warning] min_data_in_leaf is set=62, min_child_samples=20 will be ignored. Current value: min_data_in_leaf=62\n",
            "[LightGBM] [Warning] lambda_l1 is set=0.011586740538540625, reg_alpha=0.0 will be ignored. Current value: lambda_l1=0.011586740538540625\n",
            "[LightGBM] [Warning] num_iterations is set=126, num_iteration=126 will be ignored. Current value: num_iterations=126\n",
            "[LightGBM] [Warning] bagging_fraction is set=0.8849617108179018, subsample=1.0 will be ignored. Current value: bagging_fraction=0.8849617108179018\n",
            "[LightGBM] [Warning] bagging_freq is set=6, subsample_freq=0 will be ignored. Current value: bagging_freq=6\n",
            "[LightGBM] [Warning] min_data_in_leaf is set=62, min_child_samples=20 will be ignored. Current value: min_data_in_leaf=62\n",
            "[LightGBM] [Warning] feature_fraction is set=0.8881230462440608, colsample_bytree=1.0 will be ignored. Current value: feature_fraction=0.8881230462440608\n",
            "[LightGBM] [Warning] lambda_l2 is set=0.002075241544571056, reg_lambda=0.0 will be ignored. Current value: lambda_l2=0.002075241544571056\n",
            "[LightGBM] [Warning] lambda_l1 is set=0.011586740538540625, reg_alpha=0.0 will be ignored. Current value: lambda_l1=0.011586740538540625\n",
            "[LightGBM] [Warning] bagging_fraction is set=0.8849617108179018, subsample=1.0 will be ignored. Current value: bagging_fraction=0.8849617108179018\n",
            "[LightGBM] [Warning] bagging_freq is set=6, subsample_freq=0 will be ignored. Current value: bagging_freq=6\n",
            "[LightGBM] [Info] Number of positive: 16566, number of negative: 22712\n",
            "[LightGBM] [Info] Auto-choosing row-wise multi-threading, the overhead of testing was 0.589821 seconds.\n",
            "You can set `force_row_wise=true` to remove the overhead.\n",
            "And if memory is not enough, you can set `force_col_wise=true`.\n",
            "[LightGBM] [Info] Total Bins 209762\n",
            "[LightGBM] [Info] Number of data points in the train set: 39278, number of used features: 2356\n",
            "[LightGBM] [Info] [binary:BoostFromScore]: pavg=0.500000 -> initscore=-0.000000\n",
            "[LightGBM] [Info] Start training from score -0.000000\n",
            "[LightGBM] [Warning] min_data_in_leaf is set=62, min_child_samples=20 will be ignored. Current value: min_data_in_leaf=62\n",
            "[LightGBM] [Warning] feature_fraction is set=0.8881230462440608, colsample_bytree=1.0 will be ignored. Current value: feature_fraction=0.8881230462440608\n",
            "[LightGBM] [Warning] lambda_l2 is set=0.002075241544571056, reg_lambda=0.0 will be ignored. Current value: lambda_l2=0.002075241544571056\n",
            "[LightGBM] [Warning] lambda_l1 is set=0.011586740538540625, reg_alpha=0.0 will be ignored. Current value: lambda_l1=0.011586740538540625\n",
            "[LightGBM] [Warning] bagging_fraction is set=0.8849617108179018, subsample=1.0 will be ignored. Current value: bagging_fraction=0.8849617108179018\n",
            "[LightGBM] [Warning] bagging_freq is set=6, subsample_freq=0 will be ignored. Current value: bagging_freq=6\n"
          ]
        },
        {
          "output_type": "stream",
          "name": "stderr",
          "text": [
            "/usr/local/lib/python3.10/dist-packages/lightgbm/engine.py:172: UserWarning: Found `num_iteration` in params. Will use it instead of argument\n",
            "  _log_warning(f\"Found `{alias}` in params. Will use it instead of argument\")\n"
          ]
        },
        {
          "output_type": "stream",
          "name": "stdout",
          "text": [
            "[LightGBM] [Warning] feature_fraction is set=0.8881230462440608, colsample_bytree=1.0 will be ignored. Current value: feature_fraction=0.8881230462440608\n",
            "[LightGBM] [Warning] lambda_l2 is set=0.002075241544571056, reg_lambda=0.0 will be ignored. Current value: lambda_l2=0.002075241544571056\n",
            "[LightGBM] [Warning] min_data_in_leaf is set=62, min_child_samples=20 will be ignored. Current value: min_data_in_leaf=62\n",
            "[LightGBM] [Warning] lambda_l1 is set=0.011586740538540625, reg_alpha=0.0 will be ignored. Current value: lambda_l1=0.011586740538540625\n",
            "[LightGBM] [Warning] num_iterations is set=126, num_iteration=126 will be ignored. Current value: num_iterations=126\n",
            "[LightGBM] [Warning] bagging_fraction is set=0.8849617108179018, subsample=1.0 will be ignored. Current value: bagging_fraction=0.8849617108179018\n",
            "[LightGBM] [Warning] bagging_freq is set=6, subsample_freq=0 will be ignored. Current value: bagging_freq=6\n",
            "[LightGBM] [Warning] min_data_in_leaf is set=62, min_child_samples=20 will be ignored. Current value: min_data_in_leaf=62\n",
            "[LightGBM] [Warning] feature_fraction is set=0.8881230462440608, colsample_bytree=1.0 will be ignored. Current value: feature_fraction=0.8881230462440608\n",
            "[LightGBM] [Warning] lambda_l2 is set=0.002075241544571056, reg_lambda=0.0 will be ignored. Current value: lambda_l2=0.002075241544571056\n",
            "[LightGBM] [Warning] lambda_l1 is set=0.011586740538540625, reg_alpha=0.0 will be ignored. Current value: lambda_l1=0.011586740538540625\n",
            "[LightGBM] [Warning] bagging_fraction is set=0.8849617108179018, subsample=1.0 will be ignored. Current value: bagging_fraction=0.8849617108179018\n",
            "[LightGBM] [Warning] bagging_freq is set=6, subsample_freq=0 will be ignored. Current value: bagging_freq=6\n",
            "[LightGBM] [Info] Number of positive: 16566, number of negative: 22712\n",
            "[LightGBM] [Info] Auto-choosing row-wise multi-threading, the overhead of testing was 0.575459 seconds.\n",
            "You can set `force_row_wise=true` to remove the overhead.\n",
            "And if memory is not enough, you can set `force_col_wise=true`.\n",
            "[LightGBM] [Info] Total Bins 209599\n",
            "[LightGBM] [Info] Number of data points in the train set: 39278, number of used features: 2346\n",
            "[LightGBM] [Info] [binary:BoostFromScore]: pavg=0.500000 -> initscore=-0.000000\n",
            "[LightGBM] [Info] Start training from score -0.000000\n",
            "[LightGBM] [Warning] min_data_in_leaf is set=62, min_child_samples=20 will be ignored. Current value: min_data_in_leaf=62\n",
            "[LightGBM] [Warning] feature_fraction is set=0.8881230462440608, colsample_bytree=1.0 will be ignored. Current value: feature_fraction=0.8881230462440608\n",
            "[LightGBM] [Warning] lambda_l2 is set=0.002075241544571056, reg_lambda=0.0 will be ignored. Current value: lambda_l2=0.002075241544571056\n",
            "[LightGBM] [Warning] lambda_l1 is set=0.011586740538540625, reg_alpha=0.0 will be ignored. Current value: lambda_l1=0.011586740538540625\n",
            "[LightGBM] [Warning] bagging_fraction is set=0.8849617108179018, subsample=1.0 will be ignored. Current value: bagging_fraction=0.8849617108179018\n",
            "[LightGBM] [Warning] bagging_freq is set=6, subsample_freq=0 will be ignored. Current value: bagging_freq=6\n"
          ]
        },
        {
          "output_type": "stream",
          "name": "stderr",
          "text": [
            "[I 2024-03-31 00:37:11,908] Trial 3 finished with value: 0.8095068436195041 and parameters: {'num_leaves': 126, 'lambda_l1': 0.011586740538540625, 'lambda_l2': 0.002075241544571056, 'feature_fraction': 0.8881230462440608, 'bagging_fraction': 0.8849617108179018, 'bagging_freq': 6, 'min_child_samples': 62, 'class_weight': 'balanced'}. Best is trial 0 with value: 0.8218578522252493.\n",
            "<ipython-input-46-a40d882ac625>:7: FutureWarning: suggest_loguniform has been deprecated in v3.0.0. This feature will be removed in v6.0.0. See https://github.com/optuna/optuna/releases/tag/v3.0.0. Use suggest_float(..., log=True) instead.\n",
            "  'lambda_l1': trial.suggest_loguniform('lambda_l1', 1e-8, 5.0),\n",
            "<ipython-input-46-a40d882ac625>:8: FutureWarning: suggest_loguniform has been deprecated in v3.0.0. This feature will be removed in v6.0.0. See https://github.com/optuna/optuna/releases/tag/v3.0.0. Use suggest_float(..., log=True) instead.\n",
            "  'lambda_l2': trial.suggest_loguniform('lambda_l2', 1e-8, 5.0),\n",
            "/usr/local/lib/python3.10/dist-packages/optuna/trial/_trial.py:676: RuntimeWarning: Inconsistent parameter values for distribution with name \"num_leaves\"! This might be a configuration mistake. Optuna allows to call the same distribution with the same name more than once in a trial. When the parameter values are inconsistent optuna only uses the values of the first call and ignores all following. Using these values: {'log': False, 'step': 1, 'low': 70, 'high': 150}\n",
            "  warnings.warn(\n",
            "<ipython-input-46-a40d882ac625>:10: FutureWarning: suggest_uniform has been deprecated in v3.0.0. This feature will be removed in v6.0.0. See https://github.com/optuna/optuna/releases/tag/v3.0.0. Use suggest_float instead.\n",
            "  'feature_fraction': trial.suggest_uniform('feature_fraction', 0.1, 1.0),\n",
            "<ipython-input-46-a40d882ac625>:11: FutureWarning: suggest_uniform has been deprecated in v3.0.0. This feature will be removed in v6.0.0. See https://github.com/optuna/optuna/releases/tag/v3.0.0. Use suggest_float instead.\n",
            "  'bagging_fraction': trial.suggest_uniform('bagging_fraction', 0.1, 1.0),\n",
            "/usr/local/lib/python3.10/dist-packages/lightgbm/engine.py:172: UserWarning: Found `num_iteration` in params. Will use it instead of argument\n",
            "  _log_warning(f\"Found `{alias}` in params. Will use it instead of argument\")\n"
          ]
        },
        {
          "output_type": "stream",
          "name": "stdout",
          "text": [
            "[LightGBM] [Warning] feature_fraction is set=0.9815153558235846, colsample_bytree=1.0 will be ignored. Current value: feature_fraction=0.9815153558235846\n",
            "[LightGBM] [Warning] lambda_l2 is set=5.0813369026330514e-06, reg_lambda=0.0 will be ignored. Current value: lambda_l2=5.0813369026330514e-06\n",
            "[LightGBM] [Warning] min_data_in_leaf is set=37, min_child_samples=20 will be ignored. Current value: min_data_in_leaf=37\n",
            "[LightGBM] [Warning] lambda_l1 is set=1.787654837010974, reg_alpha=0.0 will be ignored. Current value: lambda_l1=1.787654837010974\n",
            "[LightGBM] [Warning] num_iterations is set=113, num_iteration=113 will be ignored. Current value: num_iterations=113\n",
            "[LightGBM] [Warning] bagging_fraction is set=0.1543406516103184, subsample=1.0 will be ignored. Current value: bagging_fraction=0.1543406516103184\n",
            "[LightGBM] [Warning] bagging_freq is set=6, subsample_freq=0 will be ignored. Current value: bagging_freq=6\n",
            "[LightGBM] [Warning] min_data_in_leaf is set=37, min_child_samples=20 will be ignored. Current value: min_data_in_leaf=37\n",
            "[LightGBM] [Warning] feature_fraction is set=0.9815153558235846, colsample_bytree=1.0 will be ignored. Current value: feature_fraction=0.9815153558235846\n",
            "[LightGBM] [Warning] lambda_l2 is set=5.0813369026330514e-06, reg_lambda=0.0 will be ignored. Current value: lambda_l2=5.0813369026330514e-06\n",
            "[LightGBM] [Warning] lambda_l1 is set=1.787654837010974, reg_alpha=0.0 will be ignored. Current value: lambda_l1=1.787654837010974\n",
            "[LightGBM] [Warning] bagging_fraction is set=0.1543406516103184, subsample=1.0 will be ignored. Current value: bagging_fraction=0.1543406516103184\n",
            "[LightGBM] [Warning] bagging_freq is set=6, subsample_freq=0 will be ignored. Current value: bagging_freq=6\n",
            "[LightGBM] [Info] Number of positive: 16565, number of negative: 22712\n",
            "[LightGBM] [Info] Auto-choosing row-wise multi-threading, the overhead of testing was 0.943751 seconds.\n",
            "You can set `force_row_wise=true` to remove the overhead.\n",
            "And if memory is not enough, you can set `force_col_wise=true`.\n",
            "[LightGBM] [Info] Total Bins 225290\n",
            "[LightGBM] [Info] Number of data points in the train set: 39277, number of used features: 3237\n",
            "[LightGBM] [Info] [binary:BoostFromScore]: pavg=0.421748 -> initscore=-0.315601\n",
            "[LightGBM] [Info] Start training from score -0.315601\n",
            "[LightGBM] [Warning] No further splits with positive gain, best gain: -inf\n",
            "[LightGBM] [Warning] No further splits with positive gain, best gain: -inf\n",
            "[LightGBM] [Warning] No further splits with positive gain, best gain: -inf\n",
            "[LightGBM] [Warning] No further splits with positive gain, best gain: -inf\n",
            "[LightGBM] [Warning] No further splits with positive gain, best gain: -inf\n",
            "[LightGBM] [Warning] No further splits with positive gain, best gain: -inf\n",
            "[LightGBM] [Warning] No further splits with positive gain, best gain: -inf\n",
            "[LightGBM] [Warning] No further splits with positive gain, best gain: -inf\n",
            "[LightGBM] [Warning] No further splits with positive gain, best gain: -inf\n",
            "[LightGBM] [Warning] No further splits with positive gain, best gain: -inf\n",
            "[LightGBM] [Warning] No further splits with positive gain, best gain: -inf\n",
            "[LightGBM] [Warning] No further splits with positive gain, best gain: -inf\n",
            "[LightGBM] [Warning] No further splits with positive gain, best gain: -inf\n",
            "[LightGBM] [Warning] No further splits with positive gain, best gain: -inf\n",
            "[LightGBM] [Warning] No further splits with positive gain, best gain: -inf\n",
            "[LightGBM] [Warning] No further splits with positive gain, best gain: -inf\n",
            "[LightGBM] [Warning] No further splits with positive gain, best gain: -inf\n",
            "[LightGBM] [Warning] No further splits with positive gain, best gain: -inf\n",
            "[LightGBM] [Warning] No further splits with positive gain, best gain: -inf\n",
            "[LightGBM] [Warning] No further splits with positive gain, best gain: -inf\n",
            "[LightGBM] [Warning] No further splits with positive gain, best gain: -inf\n",
            "[LightGBM] [Warning] No further splits with positive gain, best gain: -inf\n",
            "[LightGBM] [Warning] No further splits with positive gain, best gain: -inf\n",
            "[LightGBM] [Warning] No further splits with positive gain, best gain: -inf\n",
            "[LightGBM] [Warning] No further splits with positive gain, best gain: -inf\n",
            "[LightGBM] [Warning] No further splits with positive gain, best gain: -inf\n",
            "[LightGBM] [Warning] No further splits with positive gain, best gain: -inf\n",
            "[LightGBM] [Warning] No further splits with positive gain, best gain: -inf\n",
            "[LightGBM] [Warning] No further splits with positive gain, best gain: -inf\n",
            "[LightGBM] [Warning] No further splits with positive gain, best gain: -inf\n",
            "[LightGBM] [Warning] No further splits with positive gain, best gain: -inf\n",
            "[LightGBM] [Warning] No further splits with positive gain, best gain: -inf\n",
            "[LightGBM] [Warning] No further splits with positive gain, best gain: -inf\n",
            "[LightGBM] [Warning] No further splits with positive gain, best gain: -inf\n",
            "[LightGBM] [Warning] No further splits with positive gain, best gain: -inf\n",
            "[LightGBM] [Warning] No further splits with positive gain, best gain: -inf\n",
            "[LightGBM] [Warning] No further splits with positive gain, best gain: -inf\n",
            "[LightGBM] [Warning] No further splits with positive gain, best gain: -inf\n",
            "[LightGBM] [Warning] No further splits with positive gain, best gain: -inf\n",
            "[LightGBM] [Warning] No further splits with positive gain, best gain: -inf\n",
            "[LightGBM] [Warning] No further splits with positive gain, best gain: -inf\n",
            "[LightGBM] [Warning] No further splits with positive gain, best gain: -inf\n",
            "[LightGBM] [Warning] No further splits with positive gain, best gain: -inf\n",
            "[LightGBM] [Warning] No further splits with positive gain, best gain: -inf\n",
            "[LightGBM] [Warning] No further splits with positive gain, best gain: -inf\n",
            "[LightGBM] [Warning] No further splits with positive gain, best gain: -inf\n",
            "[LightGBM] [Warning] No further splits with positive gain, best gain: -inf\n",
            "[LightGBM] [Warning] No further splits with positive gain, best gain: -inf\n",
            "[LightGBM] [Warning] No further splits with positive gain, best gain: -inf\n",
            "[LightGBM] [Warning] No further splits with positive gain, best gain: -inf\n",
            "[LightGBM] [Warning] No further splits with positive gain, best gain: -inf\n",
            "[LightGBM] [Warning] No further splits with positive gain, best gain: -inf\n",
            "[LightGBM] [Warning] No further splits with positive gain, best gain: -inf\n",
            "[LightGBM] [Warning] No further splits with positive gain, best gain: -inf\n",
            "[LightGBM] [Warning] No further splits with positive gain, best gain: -inf\n",
            "[LightGBM] [Warning] No further splits with positive gain, best gain: -inf\n",
            "[LightGBM] [Warning] No further splits with positive gain, best gain: -inf\n",
            "[LightGBM] [Warning] No further splits with positive gain, best gain: -inf\n",
            "[LightGBM] [Warning] No further splits with positive gain, best gain: -inf\n",
            "[LightGBM] [Warning] No further splits with positive gain, best gain: -inf\n",
            "[LightGBM] [Warning] No further splits with positive gain, best gain: -inf\n",
            "[LightGBM] [Warning] No further splits with positive gain, best gain: -inf\n",
            "[LightGBM] [Warning] No further splits with positive gain, best gain: -inf\n",
            "[LightGBM] [Warning] No further splits with positive gain, best gain: -inf\n",
            "[LightGBM] [Warning] No further splits with positive gain, best gain: -inf\n",
            "[LightGBM] [Warning] No further splits with positive gain, best gain: -inf\n",
            "[LightGBM] [Warning] No further splits with positive gain, best gain: -inf\n",
            "[LightGBM] [Warning] No further splits with positive gain, best gain: -inf\n",
            "[LightGBM] [Warning] No further splits with positive gain, best gain: -inf\n",
            "[LightGBM] [Warning] No further splits with positive gain, best gain: -inf\n",
            "[LightGBM] [Warning] No further splits with positive gain, best gain: -inf\n",
            "[LightGBM] [Warning] No further splits with positive gain, best gain: -inf\n",
            "[LightGBM] [Warning] No further splits with positive gain, best gain: -inf\n",
            "[LightGBM] [Warning] No further splits with positive gain, best gain: -inf\n",
            "[LightGBM] [Warning] No further splits with positive gain, best gain: -inf\n",
            "[LightGBM] [Warning] No further splits with positive gain, best gain: -inf\n",
            "[LightGBM] [Warning] No further splits with positive gain, best gain: -inf\n",
            "[LightGBM] [Warning] No further splits with positive gain, best gain: -inf\n",
            "[LightGBM] [Warning] No further splits with positive gain, best gain: -inf\n",
            "[LightGBM] [Warning] No further splits with positive gain, best gain: -inf\n",
            "[LightGBM] [Warning] No further splits with positive gain, best gain: -inf\n",
            "[LightGBM] [Warning] No further splits with positive gain, best gain: -inf\n",
            "[LightGBM] [Warning] No further splits with positive gain, best gain: -inf\n",
            "[LightGBM] [Warning] No further splits with positive gain, best gain: -inf\n",
            "[LightGBM] [Warning] No further splits with positive gain, best gain: -inf\n",
            "[LightGBM] [Warning] No further splits with positive gain, best gain: -inf\n",
            "[LightGBM] [Warning] No further splits with positive gain, best gain: -inf\n",
            "[LightGBM] [Warning] No further splits with positive gain, best gain: -inf\n",
            "[LightGBM] [Warning] No further splits with positive gain, best gain: -inf\n",
            "[LightGBM] [Warning] No further splits with positive gain, best gain: -inf\n",
            "[LightGBM] [Warning] No further splits with positive gain, best gain: -inf\n",
            "[LightGBM] [Warning] No further splits with positive gain, best gain: -inf\n",
            "[LightGBM] [Warning] No further splits with positive gain, best gain: -inf\n",
            "[LightGBM] [Warning] No further splits with positive gain, best gain: -inf\n",
            "[LightGBM] [Warning] No further splits with positive gain, best gain: -inf\n",
            "[LightGBM] [Warning] No further splits with positive gain, best gain: -inf\n",
            "[LightGBM] [Warning] No further splits with positive gain, best gain: -inf\n",
            "[LightGBM] [Warning] No further splits with positive gain, best gain: -inf\n",
            "[LightGBM] [Warning] No further splits with positive gain, best gain: -inf\n",
            "[LightGBM] [Warning] No further splits with positive gain, best gain: -inf\n",
            "[LightGBM] [Warning] No further splits with positive gain, best gain: -inf\n",
            "[LightGBM] [Warning] No further splits with positive gain, best gain: -inf\n",
            "[LightGBM] [Warning] No further splits with positive gain, best gain: -inf\n",
            "[LightGBM] [Warning] No further splits with positive gain, best gain: -inf\n",
            "[LightGBM] [Warning] No further splits with positive gain, best gain: -inf\n",
            "[LightGBM] [Warning] No further splits with positive gain, best gain: -inf\n",
            "[LightGBM] [Warning] No further splits with positive gain, best gain: -inf\n",
            "[LightGBM] [Warning] No further splits with positive gain, best gain: -inf\n",
            "[LightGBM] [Warning] No further splits with positive gain, best gain: -inf\n",
            "[LightGBM] [Warning] No further splits with positive gain, best gain: -inf\n",
            "[LightGBM] [Warning] No further splits with positive gain, best gain: -inf\n",
            "[LightGBM] [Warning] No further splits with positive gain, best gain: -inf\n",
            "[LightGBM] [Warning] No further splits with positive gain, best gain: -inf\n",
            "[LightGBM] [Warning] min_data_in_leaf is set=37, min_child_samples=20 will be ignored. Current value: min_data_in_leaf=37\n",
            "[LightGBM] [Warning] feature_fraction is set=0.9815153558235846, colsample_bytree=1.0 will be ignored. Current value: feature_fraction=0.9815153558235846\n",
            "[LightGBM] [Warning] lambda_l2 is set=5.0813369026330514e-06, reg_lambda=0.0 will be ignored. Current value: lambda_l2=5.0813369026330514e-06\n",
            "[LightGBM] [Warning] lambda_l1 is set=1.787654837010974, reg_alpha=0.0 will be ignored. Current value: lambda_l1=1.787654837010974\n",
            "[LightGBM] [Warning] bagging_fraction is set=0.1543406516103184, subsample=1.0 will be ignored. Current value: bagging_fraction=0.1543406516103184\n",
            "[LightGBM] [Warning] bagging_freq is set=6, subsample_freq=0 will be ignored. Current value: bagging_freq=6\n"
          ]
        },
        {
          "output_type": "stream",
          "name": "stderr",
          "text": [
            "/usr/local/lib/python3.10/dist-packages/lightgbm/engine.py:172: UserWarning: Found `num_iteration` in params. Will use it instead of argument\n",
            "  _log_warning(f\"Found `{alias}` in params. Will use it instead of argument\")\n"
          ]
        },
        {
          "output_type": "stream",
          "name": "stdout",
          "text": [
            "[LightGBM] [Warning] feature_fraction is set=0.9815153558235846, colsample_bytree=1.0 will be ignored. Current value: feature_fraction=0.9815153558235846\n",
            "[LightGBM] [Warning] lambda_l2 is set=5.0813369026330514e-06, reg_lambda=0.0 will be ignored. Current value: lambda_l2=5.0813369026330514e-06\n",
            "[LightGBM] [Warning] min_data_in_leaf is set=37, min_child_samples=20 will be ignored. Current value: min_data_in_leaf=37\n",
            "[LightGBM] [Warning] lambda_l1 is set=1.787654837010974, reg_alpha=0.0 will be ignored. Current value: lambda_l1=1.787654837010974\n",
            "[LightGBM] [Warning] num_iterations is set=113, num_iteration=113 will be ignored. Current value: num_iterations=113\n",
            "[LightGBM] [Warning] bagging_fraction is set=0.1543406516103184, subsample=1.0 will be ignored. Current value: bagging_fraction=0.1543406516103184\n",
            "[LightGBM] [Warning] bagging_freq is set=6, subsample_freq=0 will be ignored. Current value: bagging_freq=6\n",
            "[LightGBM] [Warning] min_data_in_leaf is set=37, min_child_samples=20 will be ignored. Current value: min_data_in_leaf=37\n",
            "[LightGBM] [Warning] feature_fraction is set=0.9815153558235846, colsample_bytree=1.0 will be ignored. Current value: feature_fraction=0.9815153558235846\n",
            "[LightGBM] [Warning] lambda_l2 is set=5.0813369026330514e-06, reg_lambda=0.0 will be ignored. Current value: lambda_l2=5.0813369026330514e-06\n",
            "[LightGBM] [Warning] lambda_l1 is set=1.787654837010974, reg_alpha=0.0 will be ignored. Current value: lambda_l1=1.787654837010974\n",
            "[LightGBM] [Warning] bagging_fraction is set=0.1543406516103184, subsample=1.0 will be ignored. Current value: bagging_fraction=0.1543406516103184\n",
            "[LightGBM] [Warning] bagging_freq is set=6, subsample_freq=0 will be ignored. Current value: bagging_freq=6\n",
            "[LightGBM] [Info] Number of positive: 16565, number of negative: 22712\n",
            "[LightGBM] [Info] Auto-choosing row-wise multi-threading, the overhead of testing was 0.919244 seconds.\n",
            "You can set `force_row_wise=true` to remove the overhead.\n",
            "And if memory is not enough, you can set `force_col_wise=true`.\n",
            "[LightGBM] [Info] Total Bins 223960\n",
            "[LightGBM] [Info] Number of data points in the train set: 39277, number of used features: 3215\n",
            "[LightGBM] [Info] [binary:BoostFromScore]: pavg=0.421748 -> initscore=-0.315601\n",
            "[LightGBM] [Info] Start training from score -0.315601\n",
            "[LightGBM] [Warning] No further splits with positive gain, best gain: -inf\n",
            "[LightGBM] [Warning] No further splits with positive gain, best gain: -inf\n",
            "[LightGBM] [Warning] No further splits with positive gain, best gain: -inf\n",
            "[LightGBM] [Warning] No further splits with positive gain, best gain: -inf\n",
            "[LightGBM] [Warning] No further splits with positive gain, best gain: -inf\n",
            "[LightGBM] [Warning] No further splits with positive gain, best gain: -inf\n",
            "[LightGBM] [Warning] No further splits with positive gain, best gain: -inf\n",
            "[LightGBM] [Warning] No further splits with positive gain, best gain: -inf\n",
            "[LightGBM] [Warning] No further splits with positive gain, best gain: -inf\n",
            "[LightGBM] [Warning] No further splits with positive gain, best gain: -inf\n",
            "[LightGBM] [Warning] No further splits with positive gain, best gain: -inf\n",
            "[LightGBM] [Warning] No further splits with positive gain, best gain: -inf\n",
            "[LightGBM] [Warning] No further splits with positive gain, best gain: -inf\n",
            "[LightGBM] [Warning] No further splits with positive gain, best gain: -inf\n",
            "[LightGBM] [Warning] No further splits with positive gain, best gain: -inf\n",
            "[LightGBM] [Warning] No further splits with positive gain, best gain: -inf\n",
            "[LightGBM] [Warning] No further splits with positive gain, best gain: -inf\n",
            "[LightGBM] [Warning] No further splits with positive gain, best gain: -inf\n",
            "[LightGBM] [Warning] No further splits with positive gain, best gain: -inf\n",
            "[LightGBM] [Warning] No further splits with positive gain, best gain: -inf\n",
            "[LightGBM] [Warning] No further splits with positive gain, best gain: -inf\n",
            "[LightGBM] [Warning] No further splits with positive gain, best gain: -inf\n",
            "[LightGBM] [Warning] No further splits with positive gain, best gain: -inf\n",
            "[LightGBM] [Warning] No further splits with positive gain, best gain: -inf\n",
            "[LightGBM] [Warning] No further splits with positive gain, best gain: -inf\n",
            "[LightGBM] [Warning] No further splits with positive gain, best gain: -inf\n",
            "[LightGBM] [Warning] No further splits with positive gain, best gain: -inf\n",
            "[LightGBM] [Warning] No further splits with positive gain, best gain: -inf\n",
            "[LightGBM] [Warning] No further splits with positive gain, best gain: -inf\n",
            "[LightGBM] [Warning] No further splits with positive gain, best gain: -inf\n",
            "[LightGBM] [Warning] No further splits with positive gain, best gain: -inf\n",
            "[LightGBM] [Warning] No further splits with positive gain, best gain: -inf\n",
            "[LightGBM] [Warning] No further splits with positive gain, best gain: -inf\n",
            "[LightGBM] [Warning] No further splits with positive gain, best gain: -inf\n",
            "[LightGBM] [Warning] No further splits with positive gain, best gain: -inf\n",
            "[LightGBM] [Warning] No further splits with positive gain, best gain: -inf\n",
            "[LightGBM] [Warning] No further splits with positive gain, best gain: -inf\n",
            "[LightGBM] [Warning] No further splits with positive gain, best gain: -inf\n",
            "[LightGBM] [Warning] No further splits with positive gain, best gain: -inf\n",
            "[LightGBM] [Warning] No further splits with positive gain, best gain: -inf\n",
            "[LightGBM] [Warning] No further splits with positive gain, best gain: -inf\n",
            "[LightGBM] [Warning] No further splits with positive gain, best gain: -inf\n",
            "[LightGBM] [Warning] No further splits with positive gain, best gain: -inf\n",
            "[LightGBM] [Warning] No further splits with positive gain, best gain: -inf\n",
            "[LightGBM] [Warning] No further splits with positive gain, best gain: -inf\n",
            "[LightGBM] [Warning] No further splits with positive gain, best gain: -inf\n",
            "[LightGBM] [Warning] No further splits with positive gain, best gain: -inf\n",
            "[LightGBM] [Warning] No further splits with positive gain, best gain: -inf\n",
            "[LightGBM] [Warning] No further splits with positive gain, best gain: -inf\n",
            "[LightGBM] [Warning] No further splits with positive gain, best gain: -inf\n",
            "[LightGBM] [Warning] No further splits with positive gain, best gain: -inf\n",
            "[LightGBM] [Warning] No further splits with positive gain, best gain: -inf\n",
            "[LightGBM] [Warning] No further splits with positive gain, best gain: -inf\n",
            "[LightGBM] [Warning] No further splits with positive gain, best gain: -inf\n",
            "[LightGBM] [Warning] No further splits with positive gain, best gain: -inf\n",
            "[LightGBM] [Warning] No further splits with positive gain, best gain: -inf\n",
            "[LightGBM] [Warning] No further splits with positive gain, best gain: -inf\n",
            "[LightGBM] [Warning] No further splits with positive gain, best gain: -inf\n",
            "[LightGBM] [Warning] No further splits with positive gain, best gain: -inf\n",
            "[LightGBM] [Warning] No further splits with positive gain, best gain: -inf\n",
            "[LightGBM] [Warning] No further splits with positive gain, best gain: -inf\n",
            "[LightGBM] [Warning] No further splits with positive gain, best gain: -inf\n",
            "[LightGBM] [Warning] No further splits with positive gain, best gain: -inf\n",
            "[LightGBM] [Warning] No further splits with positive gain, best gain: -inf\n",
            "[LightGBM] [Warning] No further splits with positive gain, best gain: -inf\n",
            "[LightGBM] [Warning] No further splits with positive gain, best gain: -inf\n",
            "[LightGBM] [Warning] No further splits with positive gain, best gain: -inf\n",
            "[LightGBM] [Warning] No further splits with positive gain, best gain: -inf\n",
            "[LightGBM] [Warning] No further splits with positive gain, best gain: -inf\n",
            "[LightGBM] [Warning] No further splits with positive gain, best gain: -inf\n",
            "[LightGBM] [Warning] No further splits with positive gain, best gain: -inf\n",
            "[LightGBM] [Warning] No further splits with positive gain, best gain: -inf\n",
            "[LightGBM] [Warning] No further splits with positive gain, best gain: -inf\n",
            "[LightGBM] [Warning] No further splits with positive gain, best gain: -inf\n",
            "[LightGBM] [Warning] No further splits with positive gain, best gain: -inf\n",
            "[LightGBM] [Warning] No further splits with positive gain, best gain: -inf\n",
            "[LightGBM] [Warning] No further splits with positive gain, best gain: -inf\n",
            "[LightGBM] [Warning] No further splits with positive gain, best gain: -inf\n",
            "[LightGBM] [Warning] No further splits with positive gain, best gain: -inf\n",
            "[LightGBM] [Warning] No further splits with positive gain, best gain: -inf\n",
            "[LightGBM] [Warning] No further splits with positive gain, best gain: -inf\n",
            "[LightGBM] [Warning] No further splits with positive gain, best gain: -inf\n",
            "[LightGBM] [Warning] No further splits with positive gain, best gain: -inf\n",
            "[LightGBM] [Warning] No further splits with positive gain, best gain: -inf\n",
            "[LightGBM] [Warning] No further splits with positive gain, best gain: -inf\n",
            "[LightGBM] [Warning] No further splits with positive gain, best gain: -inf\n",
            "[LightGBM] [Warning] No further splits with positive gain, best gain: -inf\n",
            "[LightGBM] [Warning] No further splits with positive gain, best gain: -inf\n",
            "[LightGBM] [Warning] No further splits with positive gain, best gain: -inf\n",
            "[LightGBM] [Warning] No further splits with positive gain, best gain: -inf\n",
            "[LightGBM] [Warning] No further splits with positive gain, best gain: -inf\n",
            "[LightGBM] [Warning] No further splits with positive gain, best gain: -inf\n",
            "[LightGBM] [Warning] No further splits with positive gain, best gain: -inf\n",
            "[LightGBM] [Warning] No further splits with positive gain, best gain: -inf\n",
            "[LightGBM] [Warning] No further splits with positive gain, best gain: -inf\n",
            "[LightGBM] [Warning] No further splits with positive gain, best gain: -inf\n",
            "[LightGBM] [Warning] No further splits with positive gain, best gain: -inf\n",
            "[LightGBM] [Warning] No further splits with positive gain, best gain: -inf\n",
            "[LightGBM] [Warning] No further splits with positive gain, best gain: -inf\n",
            "[LightGBM] [Warning] No further splits with positive gain, best gain: -inf\n",
            "[LightGBM] [Warning] No further splits with positive gain, best gain: -inf\n",
            "[LightGBM] [Warning] No further splits with positive gain, best gain: -inf\n",
            "[LightGBM] [Warning] No further splits with positive gain, best gain: -inf\n",
            "[LightGBM] [Warning] No further splits with positive gain, best gain: -inf\n",
            "[LightGBM] [Warning] No further splits with positive gain, best gain: -inf\n",
            "[LightGBM] [Warning] No further splits with positive gain, best gain: -inf\n",
            "[LightGBM] [Warning] No further splits with positive gain, best gain: -inf\n",
            "[LightGBM] [Warning] No further splits with positive gain, best gain: -inf\n",
            "[LightGBM] [Warning] No further splits with positive gain, best gain: -inf\n",
            "[LightGBM] [Warning] No further splits with positive gain, best gain: -inf\n",
            "[LightGBM] [Warning] No further splits with positive gain, best gain: -inf\n",
            "[LightGBM] [Warning] No further splits with positive gain, best gain: -inf\n",
            "[LightGBM] [Warning] No further splits with positive gain, best gain: -inf\n",
            "[LightGBM] [Warning] min_data_in_leaf is set=37, min_child_samples=20 will be ignored. Current value: min_data_in_leaf=37\n",
            "[LightGBM] [Warning] feature_fraction is set=0.9815153558235846, colsample_bytree=1.0 will be ignored. Current value: feature_fraction=0.9815153558235846\n",
            "[LightGBM] [Warning] lambda_l2 is set=5.0813369026330514e-06, reg_lambda=0.0 will be ignored. Current value: lambda_l2=5.0813369026330514e-06\n",
            "[LightGBM] [Warning] lambda_l1 is set=1.787654837010974, reg_alpha=0.0 will be ignored. Current value: lambda_l1=1.787654837010974\n",
            "[LightGBM] [Warning] bagging_fraction is set=0.1543406516103184, subsample=1.0 will be ignored. Current value: bagging_fraction=0.1543406516103184\n",
            "[LightGBM] [Warning] bagging_freq is set=6, subsample_freq=0 will be ignored. Current value: bagging_freq=6\n"
          ]
        },
        {
          "output_type": "stream",
          "name": "stderr",
          "text": [
            "/usr/local/lib/python3.10/dist-packages/lightgbm/engine.py:172: UserWarning: Found `num_iteration` in params. Will use it instead of argument\n",
            "  _log_warning(f\"Found `{alias}` in params. Will use it instead of argument\")\n"
          ]
        },
        {
          "output_type": "stream",
          "name": "stdout",
          "text": [
            "[LightGBM] [Warning] feature_fraction is set=0.9815153558235846, colsample_bytree=1.0 will be ignored. Current value: feature_fraction=0.9815153558235846\n",
            "[LightGBM] [Warning] lambda_l2 is set=5.0813369026330514e-06, reg_lambda=0.0 will be ignored. Current value: lambda_l2=5.0813369026330514e-06\n",
            "[LightGBM] [Warning] min_data_in_leaf is set=37, min_child_samples=20 will be ignored. Current value: min_data_in_leaf=37\n",
            "[LightGBM] [Warning] lambda_l1 is set=1.787654837010974, reg_alpha=0.0 will be ignored. Current value: lambda_l1=1.787654837010974\n",
            "[LightGBM] [Warning] num_iterations is set=113, num_iteration=113 will be ignored. Current value: num_iterations=113\n",
            "[LightGBM] [Warning] bagging_fraction is set=0.1543406516103184, subsample=1.0 will be ignored. Current value: bagging_fraction=0.1543406516103184\n",
            "[LightGBM] [Warning] bagging_freq is set=6, subsample_freq=0 will be ignored. Current value: bagging_freq=6\n",
            "[LightGBM] [Warning] min_data_in_leaf is set=37, min_child_samples=20 will be ignored. Current value: min_data_in_leaf=37\n",
            "[LightGBM] [Warning] feature_fraction is set=0.9815153558235846, colsample_bytree=1.0 will be ignored. Current value: feature_fraction=0.9815153558235846\n",
            "[LightGBM] [Warning] lambda_l2 is set=5.0813369026330514e-06, reg_lambda=0.0 will be ignored. Current value: lambda_l2=5.0813369026330514e-06\n",
            "[LightGBM] [Warning] lambda_l1 is set=1.787654837010974, reg_alpha=0.0 will be ignored. Current value: lambda_l1=1.787654837010974\n",
            "[LightGBM] [Warning] bagging_fraction is set=0.1543406516103184, subsample=1.0 will be ignored. Current value: bagging_fraction=0.1543406516103184\n",
            "[LightGBM] [Warning] bagging_freq is set=6, subsample_freq=0 will be ignored. Current value: bagging_freq=6\n",
            "[LightGBM] [Info] Number of positive: 16566, number of negative: 22712\n",
            "[LightGBM] [Info] Auto-choosing row-wise multi-threading, the overhead of testing was 0.920101 seconds.\n",
            "You can set `force_row_wise=true` to remove the overhead.\n",
            "And if memory is not enough, you can set `force_col_wise=true`.\n",
            "[LightGBM] [Info] Total Bins 225444\n",
            "[LightGBM] [Info] Number of data points in the train set: 39278, number of used features: 3244\n",
            "[LightGBM] [Info] [binary:BoostFromScore]: pavg=0.421763 -> initscore=-0.315541\n",
            "[LightGBM] [Info] Start training from score -0.315541\n",
            "[LightGBM] [Warning] No further splits with positive gain, best gain: -inf\n",
            "[LightGBM] [Warning] No further splits with positive gain, best gain: -inf\n",
            "[LightGBM] [Warning] No further splits with positive gain, best gain: -inf\n",
            "[LightGBM] [Warning] No further splits with positive gain, best gain: -inf\n",
            "[LightGBM] [Warning] No further splits with positive gain, best gain: -inf\n",
            "[LightGBM] [Warning] No further splits with positive gain, best gain: -inf\n",
            "[LightGBM] [Warning] No further splits with positive gain, best gain: -inf\n",
            "[LightGBM] [Warning] No further splits with positive gain, best gain: -inf\n",
            "[LightGBM] [Warning] No further splits with positive gain, best gain: -inf\n",
            "[LightGBM] [Warning] No further splits with positive gain, best gain: -inf\n",
            "[LightGBM] [Warning] No further splits with positive gain, best gain: -inf\n",
            "[LightGBM] [Warning] No further splits with positive gain, best gain: -inf\n",
            "[LightGBM] [Warning] No further splits with positive gain, best gain: -inf\n",
            "[LightGBM] [Warning] No further splits with positive gain, best gain: -inf\n",
            "[LightGBM] [Warning] No further splits with positive gain, best gain: -inf\n",
            "[LightGBM] [Warning] No further splits with positive gain, best gain: -inf\n",
            "[LightGBM] [Warning] No further splits with positive gain, best gain: -inf\n",
            "[LightGBM] [Warning] No further splits with positive gain, best gain: -inf\n",
            "[LightGBM] [Warning] No further splits with positive gain, best gain: -inf\n",
            "[LightGBM] [Warning] No further splits with positive gain, best gain: -inf\n",
            "[LightGBM] [Warning] No further splits with positive gain, best gain: -inf\n",
            "[LightGBM] [Warning] No further splits with positive gain, best gain: -inf\n",
            "[LightGBM] [Warning] No further splits with positive gain, best gain: -inf\n",
            "[LightGBM] [Warning] No further splits with positive gain, best gain: -inf\n",
            "[LightGBM] [Warning] No further splits with positive gain, best gain: -inf\n",
            "[LightGBM] [Warning] No further splits with positive gain, best gain: -inf\n",
            "[LightGBM] [Warning] No further splits with positive gain, best gain: -inf\n",
            "[LightGBM] [Warning] No further splits with positive gain, best gain: -inf\n",
            "[LightGBM] [Warning] No further splits with positive gain, best gain: -inf\n",
            "[LightGBM] [Warning] No further splits with positive gain, best gain: -inf\n",
            "[LightGBM] [Warning] No further splits with positive gain, best gain: -inf\n",
            "[LightGBM] [Warning] No further splits with positive gain, best gain: -inf\n",
            "[LightGBM] [Warning] No further splits with positive gain, best gain: -inf\n",
            "[LightGBM] [Warning] No further splits with positive gain, best gain: -inf\n",
            "[LightGBM] [Warning] No further splits with positive gain, best gain: -inf\n",
            "[LightGBM] [Warning] No further splits with positive gain, best gain: -inf\n",
            "[LightGBM] [Warning] No further splits with positive gain, best gain: -inf\n",
            "[LightGBM] [Warning] No further splits with positive gain, best gain: -inf\n",
            "[LightGBM] [Warning] No further splits with positive gain, best gain: -inf\n",
            "[LightGBM] [Warning] No further splits with positive gain, best gain: -inf\n",
            "[LightGBM] [Warning] No further splits with positive gain, best gain: -inf\n",
            "[LightGBM] [Warning] No further splits with positive gain, best gain: -inf\n",
            "[LightGBM] [Warning] No further splits with positive gain, best gain: -inf\n",
            "[LightGBM] [Warning] No further splits with positive gain, best gain: -inf\n",
            "[LightGBM] [Warning] No further splits with positive gain, best gain: -inf\n",
            "[LightGBM] [Warning] No further splits with positive gain, best gain: -inf\n",
            "[LightGBM] [Warning] No further splits with positive gain, best gain: -inf\n",
            "[LightGBM] [Warning] No further splits with positive gain, best gain: -inf\n",
            "[LightGBM] [Warning] No further splits with positive gain, best gain: -inf\n",
            "[LightGBM] [Warning] No further splits with positive gain, best gain: -inf\n",
            "[LightGBM] [Warning] No further splits with positive gain, best gain: -inf\n",
            "[LightGBM] [Warning] No further splits with positive gain, best gain: -inf\n",
            "[LightGBM] [Warning] No further splits with positive gain, best gain: -inf\n",
            "[LightGBM] [Warning] No further splits with positive gain, best gain: -inf\n",
            "[LightGBM] [Warning] No further splits with positive gain, best gain: -inf\n",
            "[LightGBM] [Warning] No further splits with positive gain, best gain: -inf\n",
            "[LightGBM] [Warning] No further splits with positive gain, best gain: -inf\n",
            "[LightGBM] [Warning] No further splits with positive gain, best gain: -inf\n",
            "[LightGBM] [Warning] No further splits with positive gain, best gain: -inf\n",
            "[LightGBM] [Warning] No further splits with positive gain, best gain: -inf\n",
            "[LightGBM] [Warning] No further splits with positive gain, best gain: -inf\n",
            "[LightGBM] [Warning] No further splits with positive gain, best gain: -inf\n",
            "[LightGBM] [Warning] No further splits with positive gain, best gain: -inf\n",
            "[LightGBM] [Warning] No further splits with positive gain, best gain: -inf\n",
            "[LightGBM] [Warning] No further splits with positive gain, best gain: -inf\n",
            "[LightGBM] [Warning] No further splits with positive gain, best gain: -inf\n",
            "[LightGBM] [Warning] No further splits with positive gain, best gain: -inf\n",
            "[LightGBM] [Warning] No further splits with positive gain, best gain: -inf\n",
            "[LightGBM] [Warning] No further splits with positive gain, best gain: -inf\n",
            "[LightGBM] [Warning] No further splits with positive gain, best gain: -inf\n",
            "[LightGBM] [Warning] No further splits with positive gain, best gain: -inf\n",
            "[LightGBM] [Warning] No further splits with positive gain, best gain: -inf\n",
            "[LightGBM] [Warning] No further splits with positive gain, best gain: -inf\n",
            "[LightGBM] [Warning] No further splits with positive gain, best gain: -inf\n",
            "[LightGBM] [Warning] No further splits with positive gain, best gain: -inf\n",
            "[LightGBM] [Warning] No further splits with positive gain, best gain: -inf\n",
            "[LightGBM] [Warning] No further splits with positive gain, best gain: -inf\n",
            "[LightGBM] [Warning] No further splits with positive gain, best gain: -inf\n",
            "[LightGBM] [Warning] No further splits with positive gain, best gain: -inf\n",
            "[LightGBM] [Warning] No further splits with positive gain, best gain: -inf\n",
            "[LightGBM] [Warning] No further splits with positive gain, best gain: -inf\n",
            "[LightGBM] [Warning] No further splits with positive gain, best gain: -inf\n",
            "[LightGBM] [Warning] No further splits with positive gain, best gain: -inf\n",
            "[LightGBM] [Warning] No further splits with positive gain, best gain: -inf\n",
            "[LightGBM] [Warning] No further splits with positive gain, best gain: -inf\n",
            "[LightGBM] [Warning] No further splits with positive gain, best gain: -inf\n",
            "[LightGBM] [Warning] No further splits with positive gain, best gain: -inf\n",
            "[LightGBM] [Warning] No further splits with positive gain, best gain: -inf\n",
            "[LightGBM] [Warning] No further splits with positive gain, best gain: -inf\n",
            "[LightGBM] [Warning] No further splits with positive gain, best gain: -inf\n",
            "[LightGBM] [Warning] No further splits with positive gain, best gain: -inf\n",
            "[LightGBM] [Warning] No further splits with positive gain, best gain: -inf\n",
            "[LightGBM] [Warning] No further splits with positive gain, best gain: -inf\n",
            "[LightGBM] [Warning] No further splits with positive gain, best gain: -inf\n",
            "[LightGBM] [Warning] No further splits with positive gain, best gain: -inf\n",
            "[LightGBM] [Warning] No further splits with positive gain, best gain: -inf\n",
            "[LightGBM] [Warning] No further splits with positive gain, best gain: -inf\n",
            "[LightGBM] [Warning] No further splits with positive gain, best gain: -inf\n",
            "[LightGBM] [Warning] No further splits with positive gain, best gain: -inf\n",
            "[LightGBM] [Warning] No further splits with positive gain, best gain: -inf\n",
            "[LightGBM] [Warning] No further splits with positive gain, best gain: -inf\n",
            "[LightGBM] [Warning] No further splits with positive gain, best gain: -inf\n",
            "[LightGBM] [Warning] No further splits with positive gain, best gain: -inf\n",
            "[LightGBM] [Warning] No further splits with positive gain, best gain: -inf\n",
            "[LightGBM] [Warning] No further splits with positive gain, best gain: -inf\n",
            "[LightGBM] [Warning] No further splits with positive gain, best gain: -inf\n",
            "[LightGBM] [Warning] No further splits with positive gain, best gain: -inf\n",
            "[LightGBM] [Warning] No further splits with positive gain, best gain: -inf\n",
            "[LightGBM] [Warning] No further splits with positive gain, best gain: -inf\n",
            "[LightGBM] [Warning] No further splits with positive gain, best gain: -inf\n",
            "[LightGBM] [Warning] No further splits with positive gain, best gain: -inf\n",
            "[LightGBM] [Warning] No further splits with positive gain, best gain: -inf\n",
            "[LightGBM] [Warning] No further splits with positive gain, best gain: -inf\n",
            "[LightGBM] [Warning] min_data_in_leaf is set=37, min_child_samples=20 will be ignored. Current value: min_data_in_leaf=37\n",
            "[LightGBM] [Warning] feature_fraction is set=0.9815153558235846, colsample_bytree=1.0 will be ignored. Current value: feature_fraction=0.9815153558235846\n",
            "[LightGBM] [Warning] lambda_l2 is set=5.0813369026330514e-06, reg_lambda=0.0 will be ignored. Current value: lambda_l2=5.0813369026330514e-06\n",
            "[LightGBM] [Warning] lambda_l1 is set=1.787654837010974, reg_alpha=0.0 will be ignored. Current value: lambda_l1=1.787654837010974\n",
            "[LightGBM] [Warning] bagging_fraction is set=0.1543406516103184, subsample=1.0 will be ignored. Current value: bagging_fraction=0.1543406516103184\n",
            "[LightGBM] [Warning] bagging_freq is set=6, subsample_freq=0 will be ignored. Current value: bagging_freq=6\n"
          ]
        },
        {
          "output_type": "stream",
          "name": "stderr",
          "text": [
            "/usr/local/lib/python3.10/dist-packages/lightgbm/engine.py:172: UserWarning: Found `num_iteration` in params. Will use it instead of argument\n",
            "  _log_warning(f\"Found `{alias}` in params. Will use it instead of argument\")\n"
          ]
        },
        {
          "output_type": "stream",
          "name": "stdout",
          "text": [
            "[LightGBM] [Warning] feature_fraction is set=0.9815153558235846, colsample_bytree=1.0 will be ignored. Current value: feature_fraction=0.9815153558235846\n",
            "[LightGBM] [Warning] lambda_l2 is set=5.0813369026330514e-06, reg_lambda=0.0 will be ignored. Current value: lambda_l2=5.0813369026330514e-06\n",
            "[LightGBM] [Warning] min_data_in_leaf is set=37, min_child_samples=20 will be ignored. Current value: min_data_in_leaf=37\n",
            "[LightGBM] [Warning] lambda_l1 is set=1.787654837010974, reg_alpha=0.0 will be ignored. Current value: lambda_l1=1.787654837010974\n",
            "[LightGBM] [Warning] num_iterations is set=113, num_iteration=113 will be ignored. Current value: num_iterations=113\n",
            "[LightGBM] [Warning] bagging_fraction is set=0.1543406516103184, subsample=1.0 will be ignored. Current value: bagging_fraction=0.1543406516103184\n",
            "[LightGBM] [Warning] bagging_freq is set=6, subsample_freq=0 will be ignored. Current value: bagging_freq=6\n",
            "[LightGBM] [Warning] min_data_in_leaf is set=37, min_child_samples=20 will be ignored. Current value: min_data_in_leaf=37\n",
            "[LightGBM] [Warning] feature_fraction is set=0.9815153558235846, colsample_bytree=1.0 will be ignored. Current value: feature_fraction=0.9815153558235846\n",
            "[LightGBM] [Warning] lambda_l2 is set=5.0813369026330514e-06, reg_lambda=0.0 will be ignored. Current value: lambda_l2=5.0813369026330514e-06\n",
            "[LightGBM] [Warning] lambda_l1 is set=1.787654837010974, reg_alpha=0.0 will be ignored. Current value: lambda_l1=1.787654837010974\n",
            "[LightGBM] [Warning] bagging_fraction is set=0.1543406516103184, subsample=1.0 will be ignored. Current value: bagging_fraction=0.1543406516103184\n",
            "[LightGBM] [Warning] bagging_freq is set=6, subsample_freq=0 will be ignored. Current value: bagging_freq=6\n",
            "[LightGBM] [Info] Number of positive: 16566, number of negative: 22712\n",
            "[LightGBM] [Info] Auto-choosing row-wise multi-threading, the overhead of testing was 0.932646 seconds.\n",
            "You can set `force_row_wise=true` to remove the overhead.\n",
            "And if memory is not enough, you can set `force_col_wise=true`.\n",
            "[LightGBM] [Info] Total Bins 224269\n",
            "[LightGBM] [Info] Number of data points in the train set: 39278, number of used features: 3215\n",
            "[LightGBM] [Info] [binary:BoostFromScore]: pavg=0.421763 -> initscore=-0.315541\n",
            "[LightGBM] [Info] Start training from score -0.315541\n",
            "[LightGBM] [Warning] No further splits with positive gain, best gain: -inf\n",
            "[LightGBM] [Warning] No further splits with positive gain, best gain: -inf\n",
            "[LightGBM] [Warning] No further splits with positive gain, best gain: -inf\n",
            "[LightGBM] [Warning] No further splits with positive gain, best gain: -inf\n",
            "[LightGBM] [Warning] No further splits with positive gain, best gain: -inf\n",
            "[LightGBM] [Warning] No further splits with positive gain, best gain: -inf\n",
            "[LightGBM] [Warning] No further splits with positive gain, best gain: -inf\n",
            "[LightGBM] [Warning] No further splits with positive gain, best gain: -inf\n",
            "[LightGBM] [Warning] No further splits with positive gain, best gain: -inf\n",
            "[LightGBM] [Warning] No further splits with positive gain, best gain: -inf\n",
            "[LightGBM] [Warning] No further splits with positive gain, best gain: -inf\n",
            "[LightGBM] [Warning] No further splits with positive gain, best gain: -inf\n",
            "[LightGBM] [Warning] No further splits with positive gain, best gain: -inf\n",
            "[LightGBM] [Warning] No further splits with positive gain, best gain: -inf\n",
            "[LightGBM] [Warning] No further splits with positive gain, best gain: -inf\n",
            "[LightGBM] [Warning] No further splits with positive gain, best gain: -inf\n",
            "[LightGBM] [Warning] No further splits with positive gain, best gain: -inf\n",
            "[LightGBM] [Warning] No further splits with positive gain, best gain: -inf\n",
            "[LightGBM] [Warning] No further splits with positive gain, best gain: -inf\n",
            "[LightGBM] [Warning] No further splits with positive gain, best gain: -inf\n",
            "[LightGBM] [Warning] No further splits with positive gain, best gain: -inf\n",
            "[LightGBM] [Warning] No further splits with positive gain, best gain: -inf\n",
            "[LightGBM] [Warning] No further splits with positive gain, best gain: -inf\n",
            "[LightGBM] [Warning] No further splits with positive gain, best gain: -inf\n",
            "[LightGBM] [Warning] No further splits with positive gain, best gain: -inf\n",
            "[LightGBM] [Warning] No further splits with positive gain, best gain: -inf\n",
            "[LightGBM] [Warning] No further splits with positive gain, best gain: -inf\n",
            "[LightGBM] [Warning] No further splits with positive gain, best gain: -inf\n",
            "[LightGBM] [Warning] No further splits with positive gain, best gain: -inf\n",
            "[LightGBM] [Warning] No further splits with positive gain, best gain: -inf\n",
            "[LightGBM] [Warning] No further splits with positive gain, best gain: -inf\n",
            "[LightGBM] [Warning] No further splits with positive gain, best gain: -inf\n",
            "[LightGBM] [Warning] No further splits with positive gain, best gain: -inf\n",
            "[LightGBM] [Warning] No further splits with positive gain, best gain: -inf\n",
            "[LightGBM] [Warning] No further splits with positive gain, best gain: -inf\n",
            "[LightGBM] [Warning] No further splits with positive gain, best gain: -inf\n",
            "[LightGBM] [Warning] No further splits with positive gain, best gain: -inf\n",
            "[LightGBM] [Warning] No further splits with positive gain, best gain: -inf\n",
            "[LightGBM] [Warning] No further splits with positive gain, best gain: -inf\n",
            "[LightGBM] [Warning] No further splits with positive gain, best gain: -inf\n",
            "[LightGBM] [Warning] No further splits with positive gain, best gain: -inf\n",
            "[LightGBM] [Warning] No further splits with positive gain, best gain: -inf\n",
            "[LightGBM] [Warning] No further splits with positive gain, best gain: -inf\n",
            "[LightGBM] [Warning] No further splits with positive gain, best gain: -inf\n",
            "[LightGBM] [Warning] No further splits with positive gain, best gain: -inf\n",
            "[LightGBM] [Warning] No further splits with positive gain, best gain: -inf\n",
            "[LightGBM] [Warning] No further splits with positive gain, best gain: -inf\n",
            "[LightGBM] [Warning] No further splits with positive gain, best gain: -inf\n",
            "[LightGBM] [Warning] No further splits with positive gain, best gain: -inf\n",
            "[LightGBM] [Warning] No further splits with positive gain, best gain: -inf\n",
            "[LightGBM] [Warning] No further splits with positive gain, best gain: -inf\n",
            "[LightGBM] [Warning] No further splits with positive gain, best gain: -inf\n",
            "[LightGBM] [Warning] No further splits with positive gain, best gain: -inf\n",
            "[LightGBM] [Warning] No further splits with positive gain, best gain: -inf\n",
            "[LightGBM] [Warning] No further splits with positive gain, best gain: -inf\n",
            "[LightGBM] [Warning] No further splits with positive gain, best gain: -inf\n",
            "[LightGBM] [Warning] No further splits with positive gain, best gain: -inf\n",
            "[LightGBM] [Warning] No further splits with positive gain, best gain: -inf\n",
            "[LightGBM] [Warning] No further splits with positive gain, best gain: -inf\n",
            "[LightGBM] [Warning] No further splits with positive gain, best gain: -inf\n",
            "[LightGBM] [Warning] No further splits with positive gain, best gain: -inf\n",
            "[LightGBM] [Warning] No further splits with positive gain, best gain: -inf\n",
            "[LightGBM] [Warning] No further splits with positive gain, best gain: -inf\n",
            "[LightGBM] [Warning] No further splits with positive gain, best gain: -inf\n",
            "[LightGBM] [Warning] No further splits with positive gain, best gain: -inf\n",
            "[LightGBM] [Warning] No further splits with positive gain, best gain: -inf\n",
            "[LightGBM] [Warning] No further splits with positive gain, best gain: -inf\n",
            "[LightGBM] [Warning] No further splits with positive gain, best gain: -inf\n",
            "[LightGBM] [Warning] No further splits with positive gain, best gain: -inf\n",
            "[LightGBM] [Warning] No further splits with positive gain, best gain: -inf\n",
            "[LightGBM] [Warning] No further splits with positive gain, best gain: -inf\n",
            "[LightGBM] [Warning] No further splits with positive gain, best gain: -inf\n",
            "[LightGBM] [Warning] No further splits with positive gain, best gain: -inf\n",
            "[LightGBM] [Warning] No further splits with positive gain, best gain: -inf\n",
            "[LightGBM] [Warning] No further splits with positive gain, best gain: -inf\n",
            "[LightGBM] [Warning] No further splits with positive gain, best gain: -inf\n",
            "[LightGBM] [Warning] No further splits with positive gain, best gain: -inf\n",
            "[LightGBM] [Warning] No further splits with positive gain, best gain: -inf\n",
            "[LightGBM] [Warning] No further splits with positive gain, best gain: -inf\n",
            "[LightGBM] [Warning] No further splits with positive gain, best gain: -inf\n",
            "[LightGBM] [Warning] No further splits with positive gain, best gain: -inf\n",
            "[LightGBM] [Warning] No further splits with positive gain, best gain: -inf\n",
            "[LightGBM] [Warning] No further splits with positive gain, best gain: -inf\n",
            "[LightGBM] [Warning] No further splits with positive gain, best gain: -inf\n",
            "[LightGBM] [Warning] No further splits with positive gain, best gain: -inf\n",
            "[LightGBM] [Warning] No further splits with positive gain, best gain: -inf\n",
            "[LightGBM] [Warning] No further splits with positive gain, best gain: -inf\n",
            "[LightGBM] [Warning] No further splits with positive gain, best gain: -inf\n",
            "[LightGBM] [Warning] No further splits with positive gain, best gain: -inf\n",
            "[LightGBM] [Warning] No further splits with positive gain, best gain: -inf\n",
            "[LightGBM] [Warning] No further splits with positive gain, best gain: -inf\n",
            "[LightGBM] [Warning] No further splits with positive gain, best gain: -inf\n",
            "[LightGBM] [Warning] No further splits with positive gain, best gain: -inf\n",
            "[LightGBM] [Warning] No further splits with positive gain, best gain: -inf\n",
            "[LightGBM] [Warning] No further splits with positive gain, best gain: -inf\n",
            "[LightGBM] [Warning] No further splits with positive gain, best gain: -inf\n",
            "[LightGBM] [Warning] No further splits with positive gain, best gain: -inf\n",
            "[LightGBM] [Warning] No further splits with positive gain, best gain: -inf\n",
            "[LightGBM] [Warning] No further splits with positive gain, best gain: -inf\n",
            "[LightGBM] [Warning] No further splits with positive gain, best gain: -inf\n",
            "[LightGBM] [Warning] No further splits with positive gain, best gain: -inf\n",
            "[LightGBM] [Warning] No further splits with positive gain, best gain: -inf\n",
            "[LightGBM] [Warning] No further splits with positive gain, best gain: -inf\n",
            "[LightGBM] [Warning] No further splits with positive gain, best gain: -inf\n",
            "[LightGBM] [Warning] No further splits with positive gain, best gain: -inf\n",
            "[LightGBM] [Warning] No further splits with positive gain, best gain: -inf\n",
            "[LightGBM] [Warning] No further splits with positive gain, best gain: -inf\n",
            "[LightGBM] [Warning] No further splits with positive gain, best gain: -inf\n",
            "[LightGBM] [Warning] No further splits with positive gain, best gain: -inf\n",
            "[LightGBM] [Warning] No further splits with positive gain, best gain: -inf\n",
            "[LightGBM] [Warning] No further splits with positive gain, best gain: -inf\n",
            "[LightGBM] [Warning] No further splits with positive gain, best gain: -inf\n",
            "[LightGBM] [Warning] No further splits with positive gain, best gain: -inf\n",
            "[LightGBM] [Warning] min_data_in_leaf is set=37, min_child_samples=20 will be ignored. Current value: min_data_in_leaf=37\n",
            "[LightGBM] [Warning] feature_fraction is set=0.9815153558235846, colsample_bytree=1.0 will be ignored. Current value: feature_fraction=0.9815153558235846\n",
            "[LightGBM] [Warning] lambda_l2 is set=5.0813369026330514e-06, reg_lambda=0.0 will be ignored. Current value: lambda_l2=5.0813369026330514e-06\n",
            "[LightGBM] [Warning] lambda_l1 is set=1.787654837010974, reg_alpha=0.0 will be ignored. Current value: lambda_l1=1.787654837010974\n",
            "[LightGBM] [Warning] bagging_fraction is set=0.1543406516103184, subsample=1.0 will be ignored. Current value: bagging_fraction=0.1543406516103184\n",
            "[LightGBM] [Warning] bagging_freq is set=6, subsample_freq=0 will be ignored. Current value: bagging_freq=6\n"
          ]
        },
        {
          "output_type": "stream",
          "name": "stderr",
          "text": [
            "/usr/local/lib/python3.10/dist-packages/lightgbm/engine.py:172: UserWarning: Found `num_iteration` in params. Will use it instead of argument\n",
            "  _log_warning(f\"Found `{alias}` in params. Will use it instead of argument\")\n"
          ]
        },
        {
          "output_type": "stream",
          "name": "stdout",
          "text": [
            "[LightGBM] [Warning] feature_fraction is set=0.9815153558235846, colsample_bytree=1.0 will be ignored. Current value: feature_fraction=0.9815153558235846\n",
            "[LightGBM] [Warning] lambda_l2 is set=5.0813369026330514e-06, reg_lambda=0.0 will be ignored. Current value: lambda_l2=5.0813369026330514e-06\n",
            "[LightGBM] [Warning] min_data_in_leaf is set=37, min_child_samples=20 will be ignored. Current value: min_data_in_leaf=37\n",
            "[LightGBM] [Warning] lambda_l1 is set=1.787654837010974, reg_alpha=0.0 will be ignored. Current value: lambda_l1=1.787654837010974\n",
            "[LightGBM] [Warning] num_iterations is set=113, num_iteration=113 will be ignored. Current value: num_iterations=113\n",
            "[LightGBM] [Warning] bagging_fraction is set=0.1543406516103184, subsample=1.0 will be ignored. Current value: bagging_fraction=0.1543406516103184\n",
            "[LightGBM] [Warning] bagging_freq is set=6, subsample_freq=0 will be ignored. Current value: bagging_freq=6\n",
            "[LightGBM] [Warning] min_data_in_leaf is set=37, min_child_samples=20 will be ignored. Current value: min_data_in_leaf=37\n",
            "[LightGBM] [Warning] feature_fraction is set=0.9815153558235846, colsample_bytree=1.0 will be ignored. Current value: feature_fraction=0.9815153558235846\n",
            "[LightGBM] [Warning] lambda_l2 is set=5.0813369026330514e-06, reg_lambda=0.0 will be ignored. Current value: lambda_l2=5.0813369026330514e-06\n",
            "[LightGBM] [Warning] lambda_l1 is set=1.787654837010974, reg_alpha=0.0 will be ignored. Current value: lambda_l1=1.787654837010974\n",
            "[LightGBM] [Warning] bagging_fraction is set=0.1543406516103184, subsample=1.0 will be ignored. Current value: bagging_fraction=0.1543406516103184\n",
            "[LightGBM] [Warning] bagging_freq is set=6, subsample_freq=0 will be ignored. Current value: bagging_freq=6\n",
            "[LightGBM] [Info] Number of positive: 16566, number of negative: 22712\n",
            "[LightGBM] [Info] Auto-choosing col-wise multi-threading, the overhead of testing was 0.920698 seconds.\n",
            "You can set `force_col_wise=true` to remove the overhead.\n",
            "[LightGBM] [Info] Total Bins 224264\n",
            "[LightGBM] [Info] Number of data points in the train set: 39278, number of used features: 3214\n",
            "[LightGBM] [Info] [binary:BoostFromScore]: pavg=0.421763 -> initscore=-0.315541\n",
            "[LightGBM] [Info] Start training from score -0.315541\n",
            "[LightGBM] [Warning] No further splits with positive gain, best gain: -inf\n",
            "[LightGBM] [Warning] No further splits with positive gain, best gain: -inf\n",
            "[LightGBM] [Warning] No further splits with positive gain, best gain: -inf\n",
            "[LightGBM] [Warning] No further splits with positive gain, best gain: -inf\n",
            "[LightGBM] [Warning] No further splits with positive gain, best gain: -inf\n",
            "[LightGBM] [Warning] No further splits with positive gain, best gain: -inf\n",
            "[LightGBM] [Warning] No further splits with positive gain, best gain: -inf\n",
            "[LightGBM] [Warning] No further splits with positive gain, best gain: -inf\n",
            "[LightGBM] [Warning] No further splits with positive gain, best gain: -inf\n",
            "[LightGBM] [Warning] No further splits with positive gain, best gain: -inf\n",
            "[LightGBM] [Warning] No further splits with positive gain, best gain: -inf\n",
            "[LightGBM] [Warning] No further splits with positive gain, best gain: -inf\n",
            "[LightGBM] [Warning] No further splits with positive gain, best gain: -inf\n",
            "[LightGBM] [Warning] No further splits with positive gain, best gain: -inf\n",
            "[LightGBM] [Warning] No further splits with positive gain, best gain: -inf\n",
            "[LightGBM] [Warning] No further splits with positive gain, best gain: -inf\n",
            "[LightGBM] [Warning] No further splits with positive gain, best gain: -inf\n",
            "[LightGBM] [Warning] No further splits with positive gain, best gain: -inf\n",
            "[LightGBM] [Warning] No further splits with positive gain, best gain: -inf\n",
            "[LightGBM] [Warning] No further splits with positive gain, best gain: -inf\n",
            "[LightGBM] [Warning] No further splits with positive gain, best gain: -inf\n",
            "[LightGBM] [Warning] No further splits with positive gain, best gain: -inf\n",
            "[LightGBM] [Warning] No further splits with positive gain, best gain: -inf\n",
            "[LightGBM] [Warning] No further splits with positive gain, best gain: -inf\n",
            "[LightGBM] [Warning] No further splits with positive gain, best gain: -inf\n",
            "[LightGBM] [Warning] No further splits with positive gain, best gain: -inf\n",
            "[LightGBM] [Warning] No further splits with positive gain, best gain: -inf\n",
            "[LightGBM] [Warning] No further splits with positive gain, best gain: -inf\n",
            "[LightGBM] [Warning] No further splits with positive gain, best gain: -inf\n",
            "[LightGBM] [Warning] No further splits with positive gain, best gain: -inf\n",
            "[LightGBM] [Warning] No further splits with positive gain, best gain: -inf\n",
            "[LightGBM] [Warning] No further splits with positive gain, best gain: -inf\n",
            "[LightGBM] [Warning] No further splits with positive gain, best gain: -inf\n",
            "[LightGBM] [Warning] No further splits with positive gain, best gain: -inf\n",
            "[LightGBM] [Warning] No further splits with positive gain, best gain: -inf\n",
            "[LightGBM] [Warning] No further splits with positive gain, best gain: -inf\n",
            "[LightGBM] [Warning] No further splits with positive gain, best gain: -inf\n",
            "[LightGBM] [Warning] No further splits with positive gain, best gain: -inf\n",
            "[LightGBM] [Warning] No further splits with positive gain, best gain: -inf\n",
            "[LightGBM] [Warning] No further splits with positive gain, best gain: -inf\n",
            "[LightGBM] [Warning] No further splits with positive gain, best gain: -inf\n",
            "[LightGBM] [Warning] No further splits with positive gain, best gain: -inf\n",
            "[LightGBM] [Warning] No further splits with positive gain, best gain: -inf\n",
            "[LightGBM] [Warning] No further splits with positive gain, best gain: -inf\n",
            "[LightGBM] [Warning] No further splits with positive gain, best gain: -inf\n",
            "[LightGBM] [Warning] No further splits with positive gain, best gain: -inf\n",
            "[LightGBM] [Warning] No further splits with positive gain, best gain: -inf\n",
            "[LightGBM] [Warning] No further splits with positive gain, best gain: -inf\n",
            "[LightGBM] [Warning] No further splits with positive gain, best gain: -inf\n",
            "[LightGBM] [Warning] No further splits with positive gain, best gain: -inf\n",
            "[LightGBM] [Warning] No further splits with positive gain, best gain: -inf\n",
            "[LightGBM] [Warning] No further splits with positive gain, best gain: -inf\n",
            "[LightGBM] [Warning] No further splits with positive gain, best gain: -inf\n",
            "[LightGBM] [Warning] No further splits with positive gain, best gain: -inf\n",
            "[LightGBM] [Warning] No further splits with positive gain, best gain: -inf\n",
            "[LightGBM] [Warning] No further splits with positive gain, best gain: -inf\n",
            "[LightGBM] [Warning] No further splits with positive gain, best gain: -inf\n",
            "[LightGBM] [Warning] No further splits with positive gain, best gain: -inf\n",
            "[LightGBM] [Warning] No further splits with positive gain, best gain: -inf\n",
            "[LightGBM] [Warning] No further splits with positive gain, best gain: -inf\n",
            "[LightGBM] [Warning] No further splits with positive gain, best gain: -inf\n",
            "[LightGBM] [Warning] No further splits with positive gain, best gain: -inf\n",
            "[LightGBM] [Warning] No further splits with positive gain, best gain: -inf\n",
            "[LightGBM] [Warning] No further splits with positive gain, best gain: -inf\n",
            "[LightGBM] [Warning] No further splits with positive gain, best gain: -inf\n",
            "[LightGBM] [Warning] No further splits with positive gain, best gain: -inf\n",
            "[LightGBM] [Warning] No further splits with positive gain, best gain: -inf\n",
            "[LightGBM] [Warning] No further splits with positive gain, best gain: -inf\n",
            "[LightGBM] [Warning] No further splits with positive gain, best gain: -inf\n",
            "[LightGBM] [Warning] No further splits with positive gain, best gain: -inf\n",
            "[LightGBM] [Warning] No further splits with positive gain, best gain: -inf\n",
            "[LightGBM] [Warning] No further splits with positive gain, best gain: -inf\n",
            "[LightGBM] [Warning] No further splits with positive gain, best gain: -inf\n",
            "[LightGBM] [Warning] No further splits with positive gain, best gain: -inf\n",
            "[LightGBM] [Warning] No further splits with positive gain, best gain: -inf\n",
            "[LightGBM] [Warning] No further splits with positive gain, best gain: -inf\n",
            "[LightGBM] [Warning] No further splits with positive gain, best gain: -inf\n",
            "[LightGBM] [Warning] No further splits with positive gain, best gain: -inf\n",
            "[LightGBM] [Warning] No further splits with positive gain, best gain: -inf\n",
            "[LightGBM] [Warning] No further splits with positive gain, best gain: -inf\n",
            "[LightGBM] [Warning] No further splits with positive gain, best gain: -inf\n",
            "[LightGBM] [Warning] No further splits with positive gain, best gain: -inf\n",
            "[LightGBM] [Warning] No further splits with positive gain, best gain: -inf\n",
            "[LightGBM] [Warning] No further splits with positive gain, best gain: -inf\n",
            "[LightGBM] [Warning] No further splits with positive gain, best gain: -inf\n",
            "[LightGBM] [Warning] No further splits with positive gain, best gain: -inf\n",
            "[LightGBM] [Warning] No further splits with positive gain, best gain: -inf\n",
            "[LightGBM] [Warning] No further splits with positive gain, best gain: -inf\n",
            "[LightGBM] [Warning] No further splits with positive gain, best gain: -inf\n",
            "[LightGBM] [Warning] No further splits with positive gain, best gain: -inf\n",
            "[LightGBM] [Warning] No further splits with positive gain, best gain: -inf\n",
            "[LightGBM] [Warning] No further splits with positive gain, best gain: -inf\n",
            "[LightGBM] [Warning] No further splits with positive gain, best gain: -inf\n",
            "[LightGBM] [Warning] No further splits with positive gain, best gain: -inf\n",
            "[LightGBM] [Warning] No further splits with positive gain, best gain: -inf\n",
            "[LightGBM] [Warning] No further splits with positive gain, best gain: -inf\n",
            "[LightGBM] [Warning] No further splits with positive gain, best gain: -inf\n",
            "[LightGBM] [Warning] No further splits with positive gain, best gain: -inf\n",
            "[LightGBM] [Warning] No further splits with positive gain, best gain: -inf\n",
            "[LightGBM] [Warning] No further splits with positive gain, best gain: -inf\n",
            "[LightGBM] [Warning] No further splits with positive gain, best gain: -inf\n",
            "[LightGBM] [Warning] No further splits with positive gain, best gain: -inf\n",
            "[LightGBM] [Warning] No further splits with positive gain, best gain: -inf\n",
            "[LightGBM] [Warning] No further splits with positive gain, best gain: -inf\n",
            "[LightGBM] [Warning] No further splits with positive gain, best gain: -inf\n",
            "[LightGBM] [Warning] No further splits with positive gain, best gain: -inf\n",
            "[LightGBM] [Warning] No further splits with positive gain, best gain: -inf\n",
            "[LightGBM] [Warning] No further splits with positive gain, best gain: -inf\n",
            "[LightGBM] [Warning] No further splits with positive gain, best gain: -inf\n",
            "[LightGBM] [Warning] No further splits with positive gain, best gain: -inf\n",
            "[LightGBM] [Warning] No further splits with positive gain, best gain: -inf\n",
            "[LightGBM] [Warning] No further splits with positive gain, best gain: -inf\n",
            "[LightGBM] [Warning] No further splits with positive gain, best gain: -inf\n",
            "[LightGBM] [Warning] min_data_in_leaf is set=37, min_child_samples=20 will be ignored. Current value: min_data_in_leaf=37\n",
            "[LightGBM] [Warning] feature_fraction is set=0.9815153558235846, colsample_bytree=1.0 will be ignored. Current value: feature_fraction=0.9815153558235846\n",
            "[LightGBM] [Warning] lambda_l2 is set=5.0813369026330514e-06, reg_lambda=0.0 will be ignored. Current value: lambda_l2=5.0813369026330514e-06\n",
            "[LightGBM] [Warning] lambda_l1 is set=1.787654837010974, reg_alpha=0.0 will be ignored. Current value: lambda_l1=1.787654837010974\n",
            "[LightGBM] [Warning] bagging_fraction is set=0.1543406516103184, subsample=1.0 will be ignored. Current value: bagging_fraction=0.1543406516103184\n",
            "[LightGBM] [Warning] bagging_freq is set=6, subsample_freq=0 will be ignored. Current value: bagging_freq=6\n"
          ]
        },
        {
          "output_type": "stream",
          "name": "stderr",
          "text": [
            "[I 2024-03-31 00:38:26,970] Trial 4 finished with value: 0.786718842478862 and parameters: {'num_leaves': 113, 'lambda_l1': 1.787654837010974, 'lambda_l2': 5.0813369026330514e-06, 'feature_fraction': 0.9815153558235846, 'bagging_fraction': 0.1543406516103184, 'bagging_freq': 6, 'min_child_samples': 37, 'class_weight': None}. Best is trial 0 with value: 0.8218578522252493.\n",
            "<ipython-input-46-a40d882ac625>:7: FutureWarning: suggest_loguniform has been deprecated in v3.0.0. This feature will be removed in v6.0.0. See https://github.com/optuna/optuna/releases/tag/v3.0.0. Use suggest_float(..., log=True) instead.\n",
            "  'lambda_l1': trial.suggest_loguniform('lambda_l1', 1e-8, 5.0),\n",
            "<ipython-input-46-a40d882ac625>:8: FutureWarning: suggest_loguniform has been deprecated in v3.0.0. This feature will be removed in v6.0.0. See https://github.com/optuna/optuna/releases/tag/v3.0.0. Use suggest_float(..., log=True) instead.\n",
            "  'lambda_l2': trial.suggest_loguniform('lambda_l2', 1e-8, 5.0),\n",
            "/usr/local/lib/python3.10/dist-packages/optuna/trial/_trial.py:676: RuntimeWarning: Inconsistent parameter values for distribution with name \"num_leaves\"! This might be a configuration mistake. Optuna allows to call the same distribution with the same name more than once in a trial. When the parameter values are inconsistent optuna only uses the values of the first call and ignores all following. Using these values: {'log': False, 'step': 1, 'low': 70, 'high': 150}\n",
            "  warnings.warn(\n",
            "<ipython-input-46-a40d882ac625>:10: FutureWarning: suggest_uniform has been deprecated in v3.0.0. This feature will be removed in v6.0.0. See https://github.com/optuna/optuna/releases/tag/v3.0.0. Use suggest_float instead.\n",
            "  'feature_fraction': trial.suggest_uniform('feature_fraction', 0.1, 1.0),\n",
            "<ipython-input-46-a40d882ac625>:11: FutureWarning: suggest_uniform has been deprecated in v3.0.0. This feature will be removed in v6.0.0. See https://github.com/optuna/optuna/releases/tag/v3.0.0. Use suggest_float instead.\n",
            "  'bagging_fraction': trial.suggest_uniform('bagging_fraction', 0.1, 1.0),\n",
            "/usr/local/lib/python3.10/dist-packages/lightgbm/engine.py:172: UserWarning: Found `num_iteration` in params. Will use it instead of argument\n",
            "  _log_warning(f\"Found `{alias}` in params. Will use it instead of argument\")\n"
          ]
        },
        {
          "output_type": "stream",
          "name": "stdout",
          "text": [
            "[LightGBM] [Warning] feature_fraction is set=0.7242426055759799, colsample_bytree=1.0 will be ignored. Current value: feature_fraction=0.7242426055759799\n",
            "[LightGBM] [Warning] lambda_l2 is set=3.1410151354471125e-08, reg_lambda=0.0 will be ignored. Current value: lambda_l2=3.1410151354471125e-08\n",
            "[LightGBM] [Warning] min_data_in_leaf is set=74, min_child_samples=20 will be ignored. Current value: min_data_in_leaf=74\n",
            "[LightGBM] [Warning] lambda_l1 is set=2.326254436110919e-05, reg_alpha=0.0 will be ignored. Current value: lambda_l1=2.326254436110919e-05\n",
            "[LightGBM] [Warning] num_iterations is set=140, num_iteration=140 will be ignored. Current value: num_iterations=140\n",
            "[LightGBM] [Warning] bagging_fraction is set=0.6466684467227406, subsample=1.0 will be ignored. Current value: bagging_fraction=0.6466684467227406\n",
            "[LightGBM] [Warning] bagging_freq is set=10, subsample_freq=0 will be ignored. Current value: bagging_freq=10\n",
            "[LightGBM] [Warning] min_data_in_leaf is set=74, min_child_samples=20 will be ignored. Current value: min_data_in_leaf=74\n",
            "[LightGBM] [Warning] feature_fraction is set=0.7242426055759799, colsample_bytree=1.0 will be ignored. Current value: feature_fraction=0.7242426055759799\n",
            "[LightGBM] [Warning] lambda_l2 is set=3.1410151354471125e-08, reg_lambda=0.0 will be ignored. Current value: lambda_l2=3.1410151354471125e-08\n",
            "[LightGBM] [Warning] lambda_l1 is set=2.326254436110919e-05, reg_alpha=0.0 will be ignored. Current value: lambda_l1=2.326254436110919e-05\n",
            "[LightGBM] [Warning] bagging_fraction is set=0.6466684467227406, subsample=1.0 will be ignored. Current value: bagging_fraction=0.6466684467227406\n",
            "[LightGBM] [Warning] bagging_freq is set=10, subsample_freq=0 will be ignored. Current value: bagging_freq=10\n",
            "[LightGBM] [Info] Number of positive: 16565, number of negative: 22712\n",
            "[LightGBM] [Info] Auto-choosing row-wise multi-threading, the overhead of testing was 0.650048 seconds.\n",
            "You can set `force_row_wise=true` to remove the overhead.\n",
            "And if memory is not enough, you can set `force_col_wise=true`.\n",
            "[LightGBM] [Info] Total Bins 203890\n",
            "[LightGBM] [Info] Number of data points in the train set: 39277, number of used features: 2075\n",
            "[LightGBM] [Info] [binary:BoostFromScore]: pavg=0.421748 -> initscore=-0.315601\n",
            "[LightGBM] [Info] Start training from score -0.315601\n",
            "[LightGBM] [Warning] min_data_in_leaf is set=74, min_child_samples=20 will be ignored. Current value: min_data_in_leaf=74\n",
            "[LightGBM] [Warning] feature_fraction is set=0.7242426055759799, colsample_bytree=1.0 will be ignored. Current value: feature_fraction=0.7242426055759799\n",
            "[LightGBM] [Warning] lambda_l2 is set=3.1410151354471125e-08, reg_lambda=0.0 will be ignored. Current value: lambda_l2=3.1410151354471125e-08\n",
            "[LightGBM] [Warning] lambda_l1 is set=2.326254436110919e-05, reg_alpha=0.0 will be ignored. Current value: lambda_l1=2.326254436110919e-05\n",
            "[LightGBM] [Warning] bagging_fraction is set=0.6466684467227406, subsample=1.0 will be ignored. Current value: bagging_fraction=0.6466684467227406\n",
            "[LightGBM] [Warning] bagging_freq is set=10, subsample_freq=0 will be ignored. Current value: bagging_freq=10\n"
          ]
        },
        {
          "output_type": "stream",
          "name": "stderr",
          "text": [
            "/usr/local/lib/python3.10/dist-packages/lightgbm/engine.py:172: UserWarning: Found `num_iteration` in params. Will use it instead of argument\n",
            "  _log_warning(f\"Found `{alias}` in params. Will use it instead of argument\")\n"
          ]
        },
        {
          "output_type": "stream",
          "name": "stdout",
          "text": [
            "[LightGBM] [Warning] feature_fraction is set=0.7242426055759799, colsample_bytree=1.0 will be ignored. Current value: feature_fraction=0.7242426055759799\n",
            "[LightGBM] [Warning] lambda_l2 is set=3.1410151354471125e-08, reg_lambda=0.0 will be ignored. Current value: lambda_l2=3.1410151354471125e-08\n",
            "[LightGBM] [Warning] min_data_in_leaf is set=74, min_child_samples=20 will be ignored. Current value: min_data_in_leaf=74\n",
            "[LightGBM] [Warning] lambda_l1 is set=2.326254436110919e-05, reg_alpha=0.0 will be ignored. Current value: lambda_l1=2.326254436110919e-05\n",
            "[LightGBM] [Warning] num_iterations is set=140, num_iteration=140 will be ignored. Current value: num_iterations=140\n",
            "[LightGBM] [Warning] bagging_fraction is set=0.6466684467227406, subsample=1.0 will be ignored. Current value: bagging_fraction=0.6466684467227406\n",
            "[LightGBM] [Warning] bagging_freq is set=10, subsample_freq=0 will be ignored. Current value: bagging_freq=10\n",
            "[LightGBM] [Warning] min_data_in_leaf is set=74, min_child_samples=20 will be ignored. Current value: min_data_in_leaf=74\n",
            "[LightGBM] [Warning] feature_fraction is set=0.7242426055759799, colsample_bytree=1.0 will be ignored. Current value: feature_fraction=0.7242426055759799\n",
            "[LightGBM] [Warning] lambda_l2 is set=3.1410151354471125e-08, reg_lambda=0.0 will be ignored. Current value: lambda_l2=3.1410151354471125e-08\n",
            "[LightGBM] [Warning] lambda_l1 is set=2.326254436110919e-05, reg_alpha=0.0 will be ignored. Current value: lambda_l1=2.326254436110919e-05\n",
            "[LightGBM] [Warning] bagging_fraction is set=0.6466684467227406, subsample=1.0 will be ignored. Current value: bagging_fraction=0.6466684467227406\n",
            "[LightGBM] [Warning] bagging_freq is set=10, subsample_freq=0 will be ignored. Current value: bagging_freq=10\n",
            "[LightGBM] [Info] Number of positive: 16565, number of negative: 22712\n",
            "[LightGBM] [Info] Auto-choosing row-wise multi-threading, the overhead of testing was 0.512756 seconds.\n",
            "You can set `force_row_wise=true` to remove the overhead.\n",
            "And if memory is not enough, you can set `force_col_wise=true`.\n",
            "[LightGBM] [Info] Total Bins 203101\n",
            "[LightGBM] [Info] Number of data points in the train set: 39277, number of used features: 2078\n",
            "[LightGBM] [Info] [binary:BoostFromScore]: pavg=0.421748 -> initscore=-0.315601\n",
            "[LightGBM] [Info] Start training from score -0.315601\n",
            "[LightGBM] [Warning] min_data_in_leaf is set=74, min_child_samples=20 will be ignored. Current value: min_data_in_leaf=74\n",
            "[LightGBM] [Warning] feature_fraction is set=0.7242426055759799, colsample_bytree=1.0 will be ignored. Current value: feature_fraction=0.7242426055759799\n",
            "[LightGBM] [Warning] lambda_l2 is set=3.1410151354471125e-08, reg_lambda=0.0 will be ignored. Current value: lambda_l2=3.1410151354471125e-08\n",
            "[LightGBM] [Warning] lambda_l1 is set=2.326254436110919e-05, reg_alpha=0.0 will be ignored. Current value: lambda_l1=2.326254436110919e-05\n",
            "[LightGBM] [Warning] bagging_fraction is set=0.6466684467227406, subsample=1.0 will be ignored. Current value: bagging_fraction=0.6466684467227406\n",
            "[LightGBM] [Warning] bagging_freq is set=10, subsample_freq=0 will be ignored. Current value: bagging_freq=10\n"
          ]
        },
        {
          "output_type": "stream",
          "name": "stderr",
          "text": [
            "/usr/local/lib/python3.10/dist-packages/lightgbm/engine.py:172: UserWarning: Found `num_iteration` in params. Will use it instead of argument\n",
            "  _log_warning(f\"Found `{alias}` in params. Will use it instead of argument\")\n"
          ]
        },
        {
          "output_type": "stream",
          "name": "stdout",
          "text": [
            "[LightGBM] [Warning] feature_fraction is set=0.7242426055759799, colsample_bytree=1.0 will be ignored. Current value: feature_fraction=0.7242426055759799\n",
            "[LightGBM] [Warning] lambda_l2 is set=3.1410151354471125e-08, reg_lambda=0.0 will be ignored. Current value: lambda_l2=3.1410151354471125e-08\n",
            "[LightGBM] [Warning] min_data_in_leaf is set=74, min_child_samples=20 will be ignored. Current value: min_data_in_leaf=74\n",
            "[LightGBM] [Warning] lambda_l1 is set=2.326254436110919e-05, reg_alpha=0.0 will be ignored. Current value: lambda_l1=2.326254436110919e-05\n",
            "[LightGBM] [Warning] num_iterations is set=140, num_iteration=140 will be ignored. Current value: num_iterations=140\n",
            "[LightGBM] [Warning] bagging_fraction is set=0.6466684467227406, subsample=1.0 will be ignored. Current value: bagging_fraction=0.6466684467227406\n",
            "[LightGBM] [Warning] bagging_freq is set=10, subsample_freq=0 will be ignored. Current value: bagging_freq=10\n",
            "[LightGBM] [Warning] min_data_in_leaf is set=74, min_child_samples=20 will be ignored. Current value: min_data_in_leaf=74\n",
            "[LightGBM] [Warning] feature_fraction is set=0.7242426055759799, colsample_bytree=1.0 will be ignored. Current value: feature_fraction=0.7242426055759799\n",
            "[LightGBM] [Warning] lambda_l2 is set=3.1410151354471125e-08, reg_lambda=0.0 will be ignored. Current value: lambda_l2=3.1410151354471125e-08\n",
            "[LightGBM] [Warning] lambda_l1 is set=2.326254436110919e-05, reg_alpha=0.0 will be ignored. Current value: lambda_l1=2.326254436110919e-05\n",
            "[LightGBM] [Warning] bagging_fraction is set=0.6466684467227406, subsample=1.0 will be ignored. Current value: bagging_fraction=0.6466684467227406\n",
            "[LightGBM] [Warning] bagging_freq is set=10, subsample_freq=0 will be ignored. Current value: bagging_freq=10\n",
            "[LightGBM] [Info] Number of positive: 16566, number of negative: 22712\n",
            "[LightGBM] [Info] Auto-choosing row-wise multi-threading, the overhead of testing was 0.507161 seconds.\n",
            "You can set `force_row_wise=true` to remove the overhead.\n",
            "And if memory is not enough, you can set `force_col_wise=true`.\n",
            "[LightGBM] [Info] Total Bins 204504\n",
            "[LightGBM] [Info] Number of data points in the train set: 39278, number of used features: 2099\n",
            "[LightGBM] [Info] [binary:BoostFromScore]: pavg=0.421763 -> initscore=-0.315541\n",
            "[LightGBM] [Info] Start training from score -0.315541\n",
            "[LightGBM] [Warning] min_data_in_leaf is set=74, min_child_samples=20 will be ignored. Current value: min_data_in_leaf=74\n",
            "[LightGBM] [Warning] feature_fraction is set=0.7242426055759799, colsample_bytree=1.0 will be ignored. Current value: feature_fraction=0.7242426055759799\n",
            "[LightGBM] [Warning] lambda_l2 is set=3.1410151354471125e-08, reg_lambda=0.0 will be ignored. Current value: lambda_l2=3.1410151354471125e-08\n",
            "[LightGBM] [Warning] lambda_l1 is set=2.326254436110919e-05, reg_alpha=0.0 will be ignored. Current value: lambda_l1=2.326254436110919e-05\n",
            "[LightGBM] [Warning] bagging_fraction is set=0.6466684467227406, subsample=1.0 will be ignored. Current value: bagging_fraction=0.6466684467227406\n",
            "[LightGBM] [Warning] bagging_freq is set=10, subsample_freq=0 will be ignored. Current value: bagging_freq=10\n"
          ]
        },
        {
          "output_type": "stream",
          "name": "stderr",
          "text": [
            "/usr/local/lib/python3.10/dist-packages/lightgbm/engine.py:172: UserWarning: Found `num_iteration` in params. Will use it instead of argument\n",
            "  _log_warning(f\"Found `{alias}` in params. Will use it instead of argument\")\n"
          ]
        },
        {
          "output_type": "stream",
          "name": "stdout",
          "text": [
            "[LightGBM] [Warning] feature_fraction is set=0.7242426055759799, colsample_bytree=1.0 will be ignored. Current value: feature_fraction=0.7242426055759799\n",
            "[LightGBM] [Warning] lambda_l2 is set=3.1410151354471125e-08, reg_lambda=0.0 will be ignored. Current value: lambda_l2=3.1410151354471125e-08\n",
            "[LightGBM] [Warning] min_data_in_leaf is set=74, min_child_samples=20 will be ignored. Current value: min_data_in_leaf=74\n",
            "[LightGBM] [Warning] lambda_l1 is set=2.326254436110919e-05, reg_alpha=0.0 will be ignored. Current value: lambda_l1=2.326254436110919e-05\n",
            "[LightGBM] [Warning] num_iterations is set=140, num_iteration=140 will be ignored. Current value: num_iterations=140\n",
            "[LightGBM] [Warning] bagging_fraction is set=0.6466684467227406, subsample=1.0 will be ignored. Current value: bagging_fraction=0.6466684467227406\n",
            "[LightGBM] [Warning] bagging_freq is set=10, subsample_freq=0 will be ignored. Current value: bagging_freq=10\n",
            "[LightGBM] [Warning] min_data_in_leaf is set=74, min_child_samples=20 will be ignored. Current value: min_data_in_leaf=74\n",
            "[LightGBM] [Warning] feature_fraction is set=0.7242426055759799, colsample_bytree=1.0 will be ignored. Current value: feature_fraction=0.7242426055759799\n",
            "[LightGBM] [Warning] lambda_l2 is set=3.1410151354471125e-08, reg_lambda=0.0 will be ignored. Current value: lambda_l2=3.1410151354471125e-08\n",
            "[LightGBM] [Warning] lambda_l1 is set=2.326254436110919e-05, reg_alpha=0.0 will be ignored. Current value: lambda_l1=2.326254436110919e-05\n",
            "[LightGBM] [Warning] bagging_fraction is set=0.6466684467227406, subsample=1.0 will be ignored. Current value: bagging_fraction=0.6466684467227406\n",
            "[LightGBM] [Warning] bagging_freq is set=10, subsample_freq=0 will be ignored. Current value: bagging_freq=10\n",
            "[LightGBM] [Info] Number of positive: 16566, number of negative: 22712\n",
            "[LightGBM] [Info] Auto-choosing row-wise multi-threading, the overhead of testing was 0.497660 seconds.\n",
            "You can set `force_row_wise=true` to remove the overhead.\n",
            "And if memory is not enough, you can set `force_col_wise=true`.\n",
            "[LightGBM] [Info] Total Bins 203561\n",
            "[LightGBM] [Info] Number of data points in the train set: 39278, number of used features: 2089\n",
            "[LightGBM] [Info] [binary:BoostFromScore]: pavg=0.421763 -> initscore=-0.315541\n",
            "[LightGBM] [Info] Start training from score -0.315541\n",
            "[LightGBM] [Warning] min_data_in_leaf is set=74, min_child_samples=20 will be ignored. Current value: min_data_in_leaf=74\n",
            "[LightGBM] [Warning] feature_fraction is set=0.7242426055759799, colsample_bytree=1.0 will be ignored. Current value: feature_fraction=0.7242426055759799\n",
            "[LightGBM] [Warning] lambda_l2 is set=3.1410151354471125e-08, reg_lambda=0.0 will be ignored. Current value: lambda_l2=3.1410151354471125e-08\n",
            "[LightGBM] [Warning] lambda_l1 is set=2.326254436110919e-05, reg_alpha=0.0 will be ignored. Current value: lambda_l1=2.326254436110919e-05\n",
            "[LightGBM] [Warning] bagging_fraction is set=0.6466684467227406, subsample=1.0 will be ignored. Current value: bagging_fraction=0.6466684467227406\n",
            "[LightGBM] [Warning] bagging_freq is set=10, subsample_freq=0 will be ignored. Current value: bagging_freq=10\n"
          ]
        },
        {
          "output_type": "stream",
          "name": "stderr",
          "text": [
            "/usr/local/lib/python3.10/dist-packages/lightgbm/engine.py:172: UserWarning: Found `num_iteration` in params. Will use it instead of argument\n",
            "  _log_warning(f\"Found `{alias}` in params. Will use it instead of argument\")\n"
          ]
        },
        {
          "output_type": "stream",
          "name": "stdout",
          "text": [
            "[LightGBM] [Warning] feature_fraction is set=0.7242426055759799, colsample_bytree=1.0 will be ignored. Current value: feature_fraction=0.7242426055759799\n",
            "[LightGBM] [Warning] lambda_l2 is set=3.1410151354471125e-08, reg_lambda=0.0 will be ignored. Current value: lambda_l2=3.1410151354471125e-08\n",
            "[LightGBM] [Warning] min_data_in_leaf is set=74, min_child_samples=20 will be ignored. Current value: min_data_in_leaf=74\n",
            "[LightGBM] [Warning] lambda_l1 is set=2.326254436110919e-05, reg_alpha=0.0 will be ignored. Current value: lambda_l1=2.326254436110919e-05\n",
            "[LightGBM] [Warning] num_iterations is set=140, num_iteration=140 will be ignored. Current value: num_iterations=140\n",
            "[LightGBM] [Warning] bagging_fraction is set=0.6466684467227406, subsample=1.0 will be ignored. Current value: bagging_fraction=0.6466684467227406\n",
            "[LightGBM] [Warning] bagging_freq is set=10, subsample_freq=0 will be ignored. Current value: bagging_freq=10\n",
            "[LightGBM] [Warning] min_data_in_leaf is set=74, min_child_samples=20 will be ignored. Current value: min_data_in_leaf=74\n",
            "[LightGBM] [Warning] feature_fraction is set=0.7242426055759799, colsample_bytree=1.0 will be ignored. Current value: feature_fraction=0.7242426055759799\n",
            "[LightGBM] [Warning] lambda_l2 is set=3.1410151354471125e-08, reg_lambda=0.0 will be ignored. Current value: lambda_l2=3.1410151354471125e-08\n",
            "[LightGBM] [Warning] lambda_l1 is set=2.326254436110919e-05, reg_alpha=0.0 will be ignored. Current value: lambda_l1=2.326254436110919e-05\n",
            "[LightGBM] [Warning] bagging_fraction is set=0.6466684467227406, subsample=1.0 will be ignored. Current value: bagging_fraction=0.6466684467227406\n",
            "[LightGBM] [Warning] bagging_freq is set=10, subsample_freq=0 will be ignored. Current value: bagging_freq=10\n",
            "[LightGBM] [Info] Number of positive: 16566, number of negative: 22712\n",
            "[LightGBM] [Info] Auto-choosing row-wise multi-threading, the overhead of testing was 0.520662 seconds.\n",
            "You can set `force_row_wise=true` to remove the overhead.\n",
            "And if memory is not enough, you can set `force_col_wise=true`.\n",
            "[LightGBM] [Info] Total Bins 203423\n",
            "[LightGBM] [Info] Number of data points in the train set: 39278, number of used features: 2081\n",
            "[LightGBM] [Info] [binary:BoostFromScore]: pavg=0.421763 -> initscore=-0.315541\n",
            "[LightGBM] [Info] Start training from score -0.315541\n",
            "[LightGBM] [Warning] min_data_in_leaf is set=74, min_child_samples=20 will be ignored. Current value: min_data_in_leaf=74\n",
            "[LightGBM] [Warning] feature_fraction is set=0.7242426055759799, colsample_bytree=1.0 will be ignored. Current value: feature_fraction=0.7242426055759799\n",
            "[LightGBM] [Warning] lambda_l2 is set=3.1410151354471125e-08, reg_lambda=0.0 will be ignored. Current value: lambda_l2=3.1410151354471125e-08\n",
            "[LightGBM] [Warning] lambda_l1 is set=2.326254436110919e-05, reg_alpha=0.0 will be ignored. Current value: lambda_l1=2.326254436110919e-05\n",
            "[LightGBM] [Warning] bagging_fraction is set=0.6466684467227406, subsample=1.0 will be ignored. Current value: bagging_fraction=0.6466684467227406\n",
            "[LightGBM] [Warning] bagging_freq is set=10, subsample_freq=0 will be ignored. Current value: bagging_freq=10\n"
          ]
        },
        {
          "output_type": "stream",
          "name": "stderr",
          "text": [
            "[I 2024-03-31 00:41:43,147] Trial 5 finished with value: 0.7886802675396679 and parameters: {'num_leaves': 140, 'lambda_l1': 2.326254436110919e-05, 'lambda_l2': 3.1410151354471125e-08, 'feature_fraction': 0.7242426055759799, 'bagging_fraction': 0.6466684467227406, 'bagging_freq': 10, 'min_child_samples': 74, 'class_weight': None}. Best is trial 0 with value: 0.8218578522252493.\n",
            "<ipython-input-46-a40d882ac625>:7: FutureWarning: suggest_loguniform has been deprecated in v3.0.0. This feature will be removed in v6.0.0. See https://github.com/optuna/optuna/releases/tag/v3.0.0. Use suggest_float(..., log=True) instead.\n",
            "  'lambda_l1': trial.suggest_loguniform('lambda_l1', 1e-8, 5.0),\n",
            "<ipython-input-46-a40d882ac625>:8: FutureWarning: suggest_loguniform has been deprecated in v3.0.0. This feature will be removed in v6.0.0. See https://github.com/optuna/optuna/releases/tag/v3.0.0. Use suggest_float(..., log=True) instead.\n",
            "  'lambda_l2': trial.suggest_loguniform('lambda_l2', 1e-8, 5.0),\n",
            "/usr/local/lib/python3.10/dist-packages/optuna/trial/_trial.py:676: RuntimeWarning: Inconsistent parameter values for distribution with name \"num_leaves\"! This might be a configuration mistake. Optuna allows to call the same distribution with the same name more than once in a trial. When the parameter values are inconsistent optuna only uses the values of the first call and ignores all following. Using these values: {'log': False, 'step': 1, 'low': 70, 'high': 150}\n",
            "  warnings.warn(\n",
            "<ipython-input-46-a40d882ac625>:10: FutureWarning: suggest_uniform has been deprecated in v3.0.0. This feature will be removed in v6.0.0. See https://github.com/optuna/optuna/releases/tag/v3.0.0. Use suggest_float instead.\n",
            "  'feature_fraction': trial.suggest_uniform('feature_fraction', 0.1, 1.0),\n",
            "<ipython-input-46-a40d882ac625>:11: FutureWarning: suggest_uniform has been deprecated in v3.0.0. This feature will be removed in v6.0.0. See https://github.com/optuna/optuna/releases/tag/v3.0.0. Use suggest_float instead.\n",
            "  'bagging_fraction': trial.suggest_uniform('bagging_fraction', 0.1, 1.0),\n",
            "/usr/local/lib/python3.10/dist-packages/lightgbm/engine.py:172: UserWarning: Found `num_iteration` in params. Will use it instead of argument\n",
            "  _log_warning(f\"Found `{alias}` in params. Will use it instead of argument\")\n"
          ]
        },
        {
          "output_type": "stream",
          "name": "stdout",
          "text": [
            "[LightGBM] [Warning] feature_fraction is set=0.8290677011899559, colsample_bytree=1.0 will be ignored. Current value: feature_fraction=0.8290677011899559\n",
            "[LightGBM] [Warning] lambda_l2 is set=1.1107276345934285e-05, reg_lambda=0.0 will be ignored. Current value: lambda_l2=1.1107276345934285e-05\n",
            "[LightGBM] [Warning] min_data_in_leaf is set=33, min_child_samples=20 will be ignored. Current value: min_data_in_leaf=33\n",
            "[LightGBM] [Warning] lambda_l1 is set=3.511101637891432e-08, reg_alpha=0.0 will be ignored. Current value: lambda_l1=3.511101637891432e-08\n",
            "[LightGBM] [Warning] num_iterations is set=129, num_iteration=129 will be ignored. Current value: num_iterations=129\n",
            "[LightGBM] [Warning] bagging_fraction is set=0.48555274227181977, subsample=1.0 will be ignored. Current value: bagging_fraction=0.48555274227181977\n",
            "[LightGBM] [Warning] bagging_freq is set=9, subsample_freq=0 will be ignored. Current value: bagging_freq=9\n",
            "[LightGBM] [Warning] min_data_in_leaf is set=33, min_child_samples=20 will be ignored. Current value: min_data_in_leaf=33\n",
            "[LightGBM] [Warning] feature_fraction is set=0.8290677011899559, colsample_bytree=1.0 will be ignored. Current value: feature_fraction=0.8290677011899559\n",
            "[LightGBM] [Warning] lambda_l2 is set=1.1107276345934285e-05, reg_lambda=0.0 will be ignored. Current value: lambda_l2=1.1107276345934285e-05\n",
            "[LightGBM] [Warning] lambda_l1 is set=3.511101637891432e-08, reg_alpha=0.0 will be ignored. Current value: lambda_l1=3.511101637891432e-08\n",
            "[LightGBM] [Warning] bagging_fraction is set=0.48555274227181977, subsample=1.0 will be ignored. Current value: bagging_fraction=0.48555274227181977\n",
            "[LightGBM] [Warning] bagging_freq is set=9, subsample_freq=0 will be ignored. Current value: bagging_freq=9\n",
            "[LightGBM] [Info] Number of positive: 16565, number of negative: 22712\n",
            "[LightGBM] [Info] Auto-choosing row-wise multi-threading, the overhead of testing was 0.975843 seconds.\n",
            "You can set `force_row_wise=true` to remove the overhead.\n",
            "And if memory is not enough, you can set `force_col_wise=true`.\n",
            "[LightGBM] [Info] Total Bins 226866\n",
            "[LightGBM] [Info] Number of data points in the train set: 39277, number of used features: 3361\n",
            "[LightGBM] [Info] [binary:BoostFromScore]: pavg=0.500000 -> initscore=-0.000000\n",
            "[LightGBM] [Info] Start training from score -0.000000\n",
            "[LightGBM] [Warning] min_data_in_leaf is set=33, min_child_samples=20 will be ignored. Current value: min_data_in_leaf=33\n",
            "[LightGBM] [Warning] feature_fraction is set=0.8290677011899559, colsample_bytree=1.0 will be ignored. Current value: feature_fraction=0.8290677011899559\n",
            "[LightGBM] [Warning] lambda_l2 is set=1.1107276345934285e-05, reg_lambda=0.0 will be ignored. Current value: lambda_l2=1.1107276345934285e-05\n",
            "[LightGBM] [Warning] lambda_l1 is set=3.511101637891432e-08, reg_alpha=0.0 will be ignored. Current value: lambda_l1=3.511101637891432e-08\n",
            "[LightGBM] [Warning] bagging_fraction is set=0.48555274227181977, subsample=1.0 will be ignored. Current value: bagging_fraction=0.48555274227181977\n",
            "[LightGBM] [Warning] bagging_freq is set=9, subsample_freq=0 will be ignored. Current value: bagging_freq=9\n"
          ]
        },
        {
          "output_type": "stream",
          "name": "stderr",
          "text": [
            "/usr/local/lib/python3.10/dist-packages/lightgbm/engine.py:172: UserWarning: Found `num_iteration` in params. Will use it instead of argument\n",
            "  _log_warning(f\"Found `{alias}` in params. Will use it instead of argument\")\n"
          ]
        },
        {
          "output_type": "stream",
          "name": "stdout",
          "text": [
            "[LightGBM] [Warning] feature_fraction is set=0.8290677011899559, colsample_bytree=1.0 will be ignored. Current value: feature_fraction=0.8290677011899559\n",
            "[LightGBM] [Warning] lambda_l2 is set=1.1107276345934285e-05, reg_lambda=0.0 will be ignored. Current value: lambda_l2=1.1107276345934285e-05\n",
            "[LightGBM] [Warning] min_data_in_leaf is set=33, min_child_samples=20 will be ignored. Current value: min_data_in_leaf=33\n",
            "[LightGBM] [Warning] lambda_l1 is set=3.511101637891432e-08, reg_alpha=0.0 will be ignored. Current value: lambda_l1=3.511101637891432e-08\n",
            "[LightGBM] [Warning] num_iterations is set=129, num_iteration=129 will be ignored. Current value: num_iterations=129\n",
            "[LightGBM] [Warning] bagging_fraction is set=0.48555274227181977, subsample=1.0 will be ignored. Current value: bagging_fraction=0.48555274227181977\n",
            "[LightGBM] [Warning] bagging_freq is set=9, subsample_freq=0 will be ignored. Current value: bagging_freq=9\n",
            "[LightGBM] [Warning] min_data_in_leaf is set=33, min_child_samples=20 will be ignored. Current value: min_data_in_leaf=33\n",
            "[LightGBM] [Warning] feature_fraction is set=0.8290677011899559, colsample_bytree=1.0 will be ignored. Current value: feature_fraction=0.8290677011899559\n",
            "[LightGBM] [Warning] lambda_l2 is set=1.1107276345934285e-05, reg_lambda=0.0 will be ignored. Current value: lambda_l2=1.1107276345934285e-05\n",
            "[LightGBM] [Warning] lambda_l1 is set=3.511101637891432e-08, reg_alpha=0.0 will be ignored. Current value: lambda_l1=3.511101637891432e-08\n",
            "[LightGBM] [Warning] bagging_fraction is set=0.48555274227181977, subsample=1.0 will be ignored. Current value: bagging_fraction=0.48555274227181977\n",
            "[LightGBM] [Warning] bagging_freq is set=9, subsample_freq=0 will be ignored. Current value: bagging_freq=9\n",
            "[LightGBM] [Info] Number of positive: 16565, number of negative: 22712\n",
            "[LightGBM] [Info] Auto-choosing row-wise multi-threading, the overhead of testing was 1.033617 seconds.\n",
            "You can set `force_row_wise=true` to remove the overhead.\n",
            "And if memory is not enough, you can set `force_col_wise=true`.\n",
            "[LightGBM] [Info] Total Bins 225597\n",
            "[LightGBM] [Info] Number of data points in the train set: 39277, number of used features: 3345\n",
            "[LightGBM] [Info] [binary:BoostFromScore]: pavg=0.500000 -> initscore=-0.000000\n",
            "[LightGBM] [Info] Start training from score -0.000000\n",
            "[LightGBM] [Warning] min_data_in_leaf is set=33, min_child_samples=20 will be ignored. Current value: min_data_in_leaf=33\n",
            "[LightGBM] [Warning] feature_fraction is set=0.8290677011899559, colsample_bytree=1.0 will be ignored. Current value: feature_fraction=0.8290677011899559\n",
            "[LightGBM] [Warning] lambda_l2 is set=1.1107276345934285e-05, reg_lambda=0.0 will be ignored. Current value: lambda_l2=1.1107276345934285e-05\n",
            "[LightGBM] [Warning] lambda_l1 is set=3.511101637891432e-08, reg_alpha=0.0 will be ignored. Current value: lambda_l1=3.511101637891432e-08\n",
            "[LightGBM] [Warning] bagging_fraction is set=0.48555274227181977, subsample=1.0 will be ignored. Current value: bagging_fraction=0.48555274227181977\n",
            "[LightGBM] [Warning] bagging_freq is set=9, subsample_freq=0 will be ignored. Current value: bagging_freq=9\n"
          ]
        },
        {
          "output_type": "stream",
          "name": "stderr",
          "text": [
            "/usr/local/lib/python3.10/dist-packages/lightgbm/engine.py:172: UserWarning: Found `num_iteration` in params. Will use it instead of argument\n",
            "  _log_warning(f\"Found `{alias}` in params. Will use it instead of argument\")\n"
          ]
        },
        {
          "output_type": "stream",
          "name": "stdout",
          "text": [
            "[LightGBM] [Warning] feature_fraction is set=0.8290677011899559, colsample_bytree=1.0 will be ignored. Current value: feature_fraction=0.8290677011899559\n",
            "[LightGBM] [Warning] lambda_l2 is set=1.1107276345934285e-05, reg_lambda=0.0 will be ignored. Current value: lambda_l2=1.1107276345934285e-05\n",
            "[LightGBM] [Warning] min_data_in_leaf is set=33, min_child_samples=20 will be ignored. Current value: min_data_in_leaf=33\n",
            "[LightGBM] [Warning] lambda_l1 is set=3.511101637891432e-08, reg_alpha=0.0 will be ignored. Current value: lambda_l1=3.511101637891432e-08\n",
            "[LightGBM] [Warning] num_iterations is set=129, num_iteration=129 will be ignored. Current value: num_iterations=129\n",
            "[LightGBM] [Warning] bagging_fraction is set=0.48555274227181977, subsample=1.0 will be ignored. Current value: bagging_fraction=0.48555274227181977\n",
            "[LightGBM] [Warning] bagging_freq is set=9, subsample_freq=0 will be ignored. Current value: bagging_freq=9\n",
            "[LightGBM] [Warning] min_data_in_leaf is set=33, min_child_samples=20 will be ignored. Current value: min_data_in_leaf=33\n",
            "[LightGBM] [Warning] feature_fraction is set=0.8290677011899559, colsample_bytree=1.0 will be ignored. Current value: feature_fraction=0.8290677011899559\n",
            "[LightGBM] [Warning] lambda_l2 is set=1.1107276345934285e-05, reg_lambda=0.0 will be ignored. Current value: lambda_l2=1.1107276345934285e-05\n",
            "[LightGBM] [Warning] lambda_l1 is set=3.511101637891432e-08, reg_alpha=0.0 will be ignored. Current value: lambda_l1=3.511101637891432e-08\n",
            "[LightGBM] [Warning] bagging_fraction is set=0.48555274227181977, subsample=1.0 will be ignored. Current value: bagging_fraction=0.48555274227181977\n",
            "[LightGBM] [Warning] bagging_freq is set=9, subsample_freq=0 will be ignored. Current value: bagging_freq=9\n",
            "[LightGBM] [Info] Number of positive: 16566, number of negative: 22712\n",
            "[LightGBM] [Info] Auto-choosing row-wise multi-threading, the overhead of testing was 1.452981 seconds.\n",
            "You can set `force_row_wise=true` to remove the overhead.\n",
            "And if memory is not enough, you can set `force_col_wise=true`.\n",
            "[LightGBM] [Info] Total Bins 227070\n",
            "[LightGBM] [Info] Number of data points in the train set: 39278, number of used features: 3373\n",
            "[LightGBM] [Info] [binary:BoostFromScore]: pavg=0.500000 -> initscore=-0.000000\n",
            "[LightGBM] [Info] Start training from score -0.000000\n",
            "[LightGBM] [Warning] min_data_in_leaf is set=33, min_child_samples=20 will be ignored. Current value: min_data_in_leaf=33\n",
            "[LightGBM] [Warning] feature_fraction is set=0.8290677011899559, colsample_bytree=1.0 will be ignored. Current value: feature_fraction=0.8290677011899559\n",
            "[LightGBM] [Warning] lambda_l2 is set=1.1107276345934285e-05, reg_lambda=0.0 will be ignored. Current value: lambda_l2=1.1107276345934285e-05\n",
            "[LightGBM] [Warning] lambda_l1 is set=3.511101637891432e-08, reg_alpha=0.0 will be ignored. Current value: lambda_l1=3.511101637891432e-08\n",
            "[LightGBM] [Warning] bagging_fraction is set=0.48555274227181977, subsample=1.0 will be ignored. Current value: bagging_fraction=0.48555274227181977\n",
            "[LightGBM] [Warning] bagging_freq is set=9, subsample_freq=0 will be ignored. Current value: bagging_freq=9\n"
          ]
        },
        {
          "output_type": "stream",
          "name": "stderr",
          "text": [
            "/usr/local/lib/python3.10/dist-packages/lightgbm/engine.py:172: UserWarning: Found `num_iteration` in params. Will use it instead of argument\n",
            "  _log_warning(f\"Found `{alias}` in params. Will use it instead of argument\")\n"
          ]
        },
        {
          "output_type": "stream",
          "name": "stdout",
          "text": [
            "[LightGBM] [Warning] feature_fraction is set=0.8290677011899559, colsample_bytree=1.0 will be ignored. Current value: feature_fraction=0.8290677011899559\n",
            "[LightGBM] [Warning] lambda_l2 is set=1.1107276345934285e-05, reg_lambda=0.0 will be ignored. Current value: lambda_l2=1.1107276345934285e-05\n",
            "[LightGBM] [Warning] min_data_in_leaf is set=33, min_child_samples=20 will be ignored. Current value: min_data_in_leaf=33\n",
            "[LightGBM] [Warning] lambda_l1 is set=3.511101637891432e-08, reg_alpha=0.0 will be ignored. Current value: lambda_l1=3.511101637891432e-08\n",
            "[LightGBM] [Warning] num_iterations is set=129, num_iteration=129 will be ignored. Current value: num_iterations=129\n",
            "[LightGBM] [Warning] bagging_fraction is set=0.48555274227181977, subsample=1.0 will be ignored. Current value: bagging_fraction=0.48555274227181977\n",
            "[LightGBM] [Warning] bagging_freq is set=9, subsample_freq=0 will be ignored. Current value: bagging_freq=9\n",
            "[LightGBM] [Warning] min_data_in_leaf is set=33, min_child_samples=20 will be ignored. Current value: min_data_in_leaf=33\n",
            "[LightGBM] [Warning] feature_fraction is set=0.8290677011899559, colsample_bytree=1.0 will be ignored. Current value: feature_fraction=0.8290677011899559\n",
            "[LightGBM] [Warning] lambda_l2 is set=1.1107276345934285e-05, reg_lambda=0.0 will be ignored. Current value: lambda_l2=1.1107276345934285e-05\n",
            "[LightGBM] [Warning] lambda_l1 is set=3.511101637891432e-08, reg_alpha=0.0 will be ignored. Current value: lambda_l1=3.511101637891432e-08\n",
            "[LightGBM] [Warning] bagging_fraction is set=0.48555274227181977, subsample=1.0 will be ignored. Current value: bagging_fraction=0.48555274227181977\n",
            "[LightGBM] [Warning] bagging_freq is set=9, subsample_freq=0 will be ignored. Current value: bagging_freq=9\n",
            "[LightGBM] [Info] Number of positive: 16566, number of negative: 22712\n",
            "[LightGBM] [Info] Auto-choosing row-wise multi-threading, the overhead of testing was 0.983409 seconds.\n",
            "You can set `force_row_wise=true` to remove the overhead.\n",
            "And if memory is not enough, you can set `force_col_wise=true`.\n",
            "[LightGBM] [Info] Total Bins 226063\n",
            "[LightGBM] [Info] Number of data points in the train set: 39278, number of used features: 3357\n",
            "[LightGBM] [Info] [binary:BoostFromScore]: pavg=0.500000 -> initscore=-0.000000\n",
            "[LightGBM] [Info] Start training from score -0.000000\n",
            "[LightGBM] [Warning] min_data_in_leaf is set=33, min_child_samples=20 will be ignored. Current value: min_data_in_leaf=33\n",
            "[LightGBM] [Warning] feature_fraction is set=0.8290677011899559, colsample_bytree=1.0 will be ignored. Current value: feature_fraction=0.8290677011899559\n",
            "[LightGBM] [Warning] lambda_l2 is set=1.1107276345934285e-05, reg_lambda=0.0 will be ignored. Current value: lambda_l2=1.1107276345934285e-05\n",
            "[LightGBM] [Warning] lambda_l1 is set=3.511101637891432e-08, reg_alpha=0.0 will be ignored. Current value: lambda_l1=3.511101637891432e-08\n",
            "[LightGBM] [Warning] bagging_fraction is set=0.48555274227181977, subsample=1.0 will be ignored. Current value: bagging_fraction=0.48555274227181977\n",
            "[LightGBM] [Warning] bagging_freq is set=9, subsample_freq=0 will be ignored. Current value: bagging_freq=9\n"
          ]
        },
        {
          "output_type": "stream",
          "name": "stderr",
          "text": [
            "/usr/local/lib/python3.10/dist-packages/lightgbm/engine.py:172: UserWarning: Found `num_iteration` in params. Will use it instead of argument\n",
            "  _log_warning(f\"Found `{alias}` in params. Will use it instead of argument\")\n"
          ]
        },
        {
          "output_type": "stream",
          "name": "stdout",
          "text": [
            "[LightGBM] [Warning] feature_fraction is set=0.8290677011899559, colsample_bytree=1.0 will be ignored. Current value: feature_fraction=0.8290677011899559\n",
            "[LightGBM] [Warning] lambda_l2 is set=1.1107276345934285e-05, reg_lambda=0.0 will be ignored. Current value: lambda_l2=1.1107276345934285e-05\n",
            "[LightGBM] [Warning] min_data_in_leaf is set=33, min_child_samples=20 will be ignored. Current value: min_data_in_leaf=33\n",
            "[LightGBM] [Warning] lambda_l1 is set=3.511101637891432e-08, reg_alpha=0.0 will be ignored. Current value: lambda_l1=3.511101637891432e-08\n",
            "[LightGBM] [Warning] num_iterations is set=129, num_iteration=129 will be ignored. Current value: num_iterations=129\n",
            "[LightGBM] [Warning] bagging_fraction is set=0.48555274227181977, subsample=1.0 will be ignored. Current value: bagging_fraction=0.48555274227181977\n",
            "[LightGBM] [Warning] bagging_freq is set=9, subsample_freq=0 will be ignored. Current value: bagging_freq=9\n",
            "[LightGBM] [Warning] min_data_in_leaf is set=33, min_child_samples=20 will be ignored. Current value: min_data_in_leaf=33\n",
            "[LightGBM] [Warning] feature_fraction is set=0.8290677011899559, colsample_bytree=1.0 will be ignored. Current value: feature_fraction=0.8290677011899559\n",
            "[LightGBM] [Warning] lambda_l2 is set=1.1107276345934285e-05, reg_lambda=0.0 will be ignored. Current value: lambda_l2=1.1107276345934285e-05\n",
            "[LightGBM] [Warning] lambda_l1 is set=3.511101637891432e-08, reg_alpha=0.0 will be ignored. Current value: lambda_l1=3.511101637891432e-08\n",
            "[LightGBM] [Warning] bagging_fraction is set=0.48555274227181977, subsample=1.0 will be ignored. Current value: bagging_fraction=0.48555274227181977\n",
            "[LightGBM] [Warning] bagging_freq is set=9, subsample_freq=0 will be ignored. Current value: bagging_freq=9\n",
            "[LightGBM] [Info] Number of positive: 16566, number of negative: 22712\n",
            "[LightGBM] [Info] Auto-choosing row-wise multi-threading, the overhead of testing was 0.998715 seconds.\n",
            "You can set `force_row_wise=true` to remove the overhead.\n",
            "And if memory is not enough, you can set `force_col_wise=true`.\n",
            "[LightGBM] [Info] Total Bins 225908\n",
            "[LightGBM] [Info] Number of data points in the train set: 39278, number of used features: 3344\n",
            "[LightGBM] [Info] [binary:BoostFromScore]: pavg=0.500000 -> initscore=-0.000000\n",
            "[LightGBM] [Info] Start training from score -0.000000\n",
            "[LightGBM] [Warning] min_data_in_leaf is set=33, min_child_samples=20 will be ignored. Current value: min_data_in_leaf=33\n",
            "[LightGBM] [Warning] feature_fraction is set=0.8290677011899559, colsample_bytree=1.0 will be ignored. Current value: feature_fraction=0.8290677011899559\n",
            "[LightGBM] [Warning] lambda_l2 is set=1.1107276345934285e-05, reg_lambda=0.0 will be ignored. Current value: lambda_l2=1.1107276345934285e-05\n",
            "[LightGBM] [Warning] lambda_l1 is set=3.511101637891432e-08, reg_alpha=0.0 will be ignored. Current value: lambda_l1=3.511101637891432e-08\n",
            "[LightGBM] [Warning] bagging_fraction is set=0.48555274227181977, subsample=1.0 will be ignored. Current value: bagging_fraction=0.48555274227181977\n",
            "[LightGBM] [Warning] bagging_freq is set=9, subsample_freq=0 will be ignored. Current value: bagging_freq=9\n"
          ]
        },
        {
          "output_type": "stream",
          "name": "stderr",
          "text": [
            "[I 2024-03-31 00:45:54,280] Trial 6 finished with value: 0.802129727843988 and parameters: {'num_leaves': 129, 'lambda_l1': 3.511101637891432e-08, 'lambda_l2': 1.1107276345934285e-05, 'feature_fraction': 0.8290677011899559, 'bagging_fraction': 0.48555274227181977, 'bagging_freq': 9, 'min_child_samples': 33, 'class_weight': 'balanced'}. Best is trial 0 with value: 0.8218578522252493.\n",
            "<ipython-input-46-a40d882ac625>:7: FutureWarning: suggest_loguniform has been deprecated in v3.0.0. This feature will be removed in v6.0.0. See https://github.com/optuna/optuna/releases/tag/v3.0.0. Use suggest_float(..., log=True) instead.\n",
            "  'lambda_l1': trial.suggest_loguniform('lambda_l1', 1e-8, 5.0),\n",
            "<ipython-input-46-a40d882ac625>:8: FutureWarning: suggest_loguniform has been deprecated in v3.0.0. This feature will be removed in v6.0.0. See https://github.com/optuna/optuna/releases/tag/v3.0.0. Use suggest_float(..., log=True) instead.\n",
            "  'lambda_l2': trial.suggest_loguniform('lambda_l2', 1e-8, 5.0),\n",
            "/usr/local/lib/python3.10/dist-packages/optuna/trial/_trial.py:676: RuntimeWarning: Inconsistent parameter values for distribution with name \"num_leaves\"! This might be a configuration mistake. Optuna allows to call the same distribution with the same name more than once in a trial. When the parameter values are inconsistent optuna only uses the values of the first call and ignores all following. Using these values: {'log': False, 'step': 1, 'low': 70, 'high': 150}\n",
            "  warnings.warn(\n",
            "<ipython-input-46-a40d882ac625>:10: FutureWarning: suggest_uniform has been deprecated in v3.0.0. This feature will be removed in v6.0.0. See https://github.com/optuna/optuna/releases/tag/v3.0.0. Use suggest_float instead.\n",
            "  'feature_fraction': trial.suggest_uniform('feature_fraction', 0.1, 1.0),\n",
            "<ipython-input-46-a40d882ac625>:11: FutureWarning: suggest_uniform has been deprecated in v3.0.0. This feature will be removed in v6.0.0. See https://github.com/optuna/optuna/releases/tag/v3.0.0. Use suggest_float instead.\n",
            "  'bagging_fraction': trial.suggest_uniform('bagging_fraction', 0.1, 1.0),\n",
            "/usr/local/lib/python3.10/dist-packages/lightgbm/engine.py:172: UserWarning: Found `num_iteration` in params. Will use it instead of argument\n",
            "  _log_warning(f\"Found `{alias}` in params. Will use it instead of argument\")\n"
          ]
        },
        {
          "output_type": "stream",
          "name": "stdout",
          "text": [
            "[LightGBM] [Warning] feature_fraction is set=0.8806434946338872, colsample_bytree=1.0 will be ignored. Current value: feature_fraction=0.8806434946338872\n",
            "[LightGBM] [Warning] lambda_l2 is set=3.4083660709309013e-06, reg_lambda=0.0 will be ignored. Current value: lambda_l2=3.4083660709309013e-06\n",
            "[LightGBM] [Warning] min_data_in_leaf is set=60, min_child_samples=20 will be ignored. Current value: min_data_in_leaf=60\n",
            "[LightGBM] [Warning] lambda_l1 is set=5.6732821668270596e-08, reg_alpha=0.0 will be ignored. Current value: lambda_l1=5.6732821668270596e-08\n",
            "[LightGBM] [Warning] num_iterations is set=125, num_iteration=125 will be ignored. Current value: num_iterations=125\n",
            "[LightGBM] [Warning] bagging_fraction is set=0.5419164081587379, subsample=1.0 will be ignored. Current value: bagging_fraction=0.5419164081587379\n",
            "[LightGBM] [Warning] bagging_freq is set=8, subsample_freq=0 will be ignored. Current value: bagging_freq=8\n",
            "[LightGBM] [Warning] min_data_in_leaf is set=60, min_child_samples=20 will be ignored. Current value: min_data_in_leaf=60\n",
            "[LightGBM] [Warning] feature_fraction is set=0.8806434946338872, colsample_bytree=1.0 will be ignored. Current value: feature_fraction=0.8806434946338872\n",
            "[LightGBM] [Warning] lambda_l2 is set=3.4083660709309013e-06, reg_lambda=0.0 will be ignored. Current value: lambda_l2=3.4083660709309013e-06\n",
            "[LightGBM] [Warning] lambda_l1 is set=5.6732821668270596e-08, reg_alpha=0.0 will be ignored. Current value: lambda_l1=5.6732821668270596e-08\n",
            "[LightGBM] [Warning] bagging_fraction is set=0.5419164081587379, subsample=1.0 will be ignored. Current value: bagging_fraction=0.5419164081587379\n",
            "[LightGBM] [Warning] bagging_freq is set=8, subsample_freq=0 will be ignored. Current value: bagging_freq=8\n",
            "[LightGBM] [Info] Number of positive: 16565, number of negative: 22712\n",
            "[LightGBM] [Info] Auto-choosing row-wise multi-threading, the overhead of testing was 0.623039 seconds.\n",
            "You can set `force_row_wise=true` to remove the overhead.\n",
            "And if memory is not enough, you can set `force_col_wise=true`.\n",
            "[LightGBM] [Info] Total Bins 211400\n",
            "[LightGBM] [Info] Number of data points in the train set: 39277, number of used features: 2402\n",
            "[LightGBM] [Info] [binary:BoostFromScore]: pavg=0.421748 -> initscore=-0.315601\n",
            "[LightGBM] [Info] Start training from score -0.315601\n",
            "[LightGBM] [Warning] min_data_in_leaf is set=60, min_child_samples=20 will be ignored. Current value: min_data_in_leaf=60\n",
            "[LightGBM] [Warning] feature_fraction is set=0.8806434946338872, colsample_bytree=1.0 will be ignored. Current value: feature_fraction=0.8806434946338872\n",
            "[LightGBM] [Warning] lambda_l2 is set=3.4083660709309013e-06, reg_lambda=0.0 will be ignored. Current value: lambda_l2=3.4083660709309013e-06\n",
            "[LightGBM] [Warning] lambda_l1 is set=5.6732821668270596e-08, reg_alpha=0.0 will be ignored. Current value: lambda_l1=5.6732821668270596e-08\n",
            "[LightGBM] [Warning] bagging_fraction is set=0.5419164081587379, subsample=1.0 will be ignored. Current value: bagging_fraction=0.5419164081587379\n",
            "[LightGBM] [Warning] bagging_freq is set=8, subsample_freq=0 will be ignored. Current value: bagging_freq=8\n"
          ]
        },
        {
          "output_type": "stream",
          "name": "stderr",
          "text": [
            "/usr/local/lib/python3.10/dist-packages/lightgbm/engine.py:172: UserWarning: Found `num_iteration` in params. Will use it instead of argument\n",
            "  _log_warning(f\"Found `{alias}` in params. Will use it instead of argument\")\n"
          ]
        },
        {
          "output_type": "stream",
          "name": "stdout",
          "text": [
            "[LightGBM] [Warning] feature_fraction is set=0.8806434946338872, colsample_bytree=1.0 will be ignored. Current value: feature_fraction=0.8806434946338872\n",
            "[LightGBM] [Warning] lambda_l2 is set=3.4083660709309013e-06, reg_lambda=0.0 will be ignored. Current value: lambda_l2=3.4083660709309013e-06\n",
            "[LightGBM] [Warning] min_data_in_leaf is set=60, min_child_samples=20 will be ignored. Current value: min_data_in_leaf=60\n",
            "[LightGBM] [Warning] lambda_l1 is set=5.6732821668270596e-08, reg_alpha=0.0 will be ignored. Current value: lambda_l1=5.6732821668270596e-08\n",
            "[LightGBM] [Warning] num_iterations is set=125, num_iteration=125 will be ignored. Current value: num_iterations=125\n",
            "[LightGBM] [Warning] bagging_fraction is set=0.5419164081587379, subsample=1.0 will be ignored. Current value: bagging_fraction=0.5419164081587379\n",
            "[LightGBM] [Warning] bagging_freq is set=8, subsample_freq=0 will be ignored. Current value: bagging_freq=8\n",
            "[LightGBM] [Warning] min_data_in_leaf is set=60, min_child_samples=20 will be ignored. Current value: min_data_in_leaf=60\n",
            "[LightGBM] [Warning] feature_fraction is set=0.8806434946338872, colsample_bytree=1.0 will be ignored. Current value: feature_fraction=0.8806434946338872\n",
            "[LightGBM] [Warning] lambda_l2 is set=3.4083660709309013e-06, reg_lambda=0.0 will be ignored. Current value: lambda_l2=3.4083660709309013e-06\n",
            "[LightGBM] [Warning] lambda_l1 is set=5.6732821668270596e-08, reg_alpha=0.0 will be ignored. Current value: lambda_l1=5.6732821668270596e-08\n",
            "[LightGBM] [Warning] bagging_fraction is set=0.5419164081587379, subsample=1.0 will be ignored. Current value: bagging_fraction=0.5419164081587379\n",
            "[LightGBM] [Warning] bagging_freq is set=8, subsample_freq=0 will be ignored. Current value: bagging_freq=8\n",
            "[LightGBM] [Info] Number of positive: 16565, number of negative: 22712\n",
            "[LightGBM] [Info] Auto-choosing row-wise multi-threading, the overhead of testing was 0.622374 seconds.\n",
            "You can set `force_row_wise=true` to remove the overhead.\n",
            "And if memory is not enough, you can set `force_col_wise=true`.\n",
            "[LightGBM] [Info] Total Bins 210508\n",
            "[LightGBM] [Info] Number of data points in the train set: 39277, number of used features: 2401\n",
            "[LightGBM] [Info] [binary:BoostFromScore]: pavg=0.421748 -> initscore=-0.315601\n",
            "[LightGBM] [Info] Start training from score -0.315601\n",
            "[LightGBM] [Warning] min_data_in_leaf is set=60, min_child_samples=20 will be ignored. Current value: min_data_in_leaf=60\n",
            "[LightGBM] [Warning] feature_fraction is set=0.8806434946338872, colsample_bytree=1.0 will be ignored. Current value: feature_fraction=0.8806434946338872\n",
            "[LightGBM] [Warning] lambda_l2 is set=3.4083660709309013e-06, reg_lambda=0.0 will be ignored. Current value: lambda_l2=3.4083660709309013e-06\n",
            "[LightGBM] [Warning] lambda_l1 is set=5.6732821668270596e-08, reg_alpha=0.0 will be ignored. Current value: lambda_l1=5.6732821668270596e-08\n",
            "[LightGBM] [Warning] bagging_fraction is set=0.5419164081587379, subsample=1.0 will be ignored. Current value: bagging_fraction=0.5419164081587379\n",
            "[LightGBM] [Warning] bagging_freq is set=8, subsample_freq=0 will be ignored. Current value: bagging_freq=8\n"
          ]
        },
        {
          "output_type": "stream",
          "name": "stderr",
          "text": [
            "/usr/local/lib/python3.10/dist-packages/lightgbm/engine.py:172: UserWarning: Found `num_iteration` in params. Will use it instead of argument\n",
            "  _log_warning(f\"Found `{alias}` in params. Will use it instead of argument\")\n"
          ]
        },
        {
          "output_type": "stream",
          "name": "stdout",
          "text": [
            "[LightGBM] [Warning] feature_fraction is set=0.8806434946338872, colsample_bytree=1.0 will be ignored. Current value: feature_fraction=0.8806434946338872\n",
            "[LightGBM] [Warning] lambda_l2 is set=3.4083660709309013e-06, reg_lambda=0.0 will be ignored. Current value: lambda_l2=3.4083660709309013e-06\n",
            "[LightGBM] [Warning] min_data_in_leaf is set=60, min_child_samples=20 will be ignored. Current value: min_data_in_leaf=60\n",
            "[LightGBM] [Warning] lambda_l1 is set=5.6732821668270596e-08, reg_alpha=0.0 will be ignored. Current value: lambda_l1=5.6732821668270596e-08\n",
            "[LightGBM] [Warning] num_iterations is set=125, num_iteration=125 will be ignored. Current value: num_iterations=125\n",
            "[LightGBM] [Warning] bagging_fraction is set=0.5419164081587379, subsample=1.0 will be ignored. Current value: bagging_fraction=0.5419164081587379\n",
            "[LightGBM] [Warning] bagging_freq is set=8, subsample_freq=0 will be ignored. Current value: bagging_freq=8\n",
            "[LightGBM] [Warning] min_data_in_leaf is set=60, min_child_samples=20 will be ignored. Current value: min_data_in_leaf=60\n",
            "[LightGBM] [Warning] feature_fraction is set=0.8806434946338872, colsample_bytree=1.0 will be ignored. Current value: feature_fraction=0.8806434946338872\n",
            "[LightGBM] [Warning] lambda_l2 is set=3.4083660709309013e-06, reg_lambda=0.0 will be ignored. Current value: lambda_l2=3.4083660709309013e-06\n",
            "[LightGBM] [Warning] lambda_l1 is set=5.6732821668270596e-08, reg_alpha=0.0 will be ignored. Current value: lambda_l1=5.6732821668270596e-08\n",
            "[LightGBM] [Warning] bagging_fraction is set=0.5419164081587379, subsample=1.0 will be ignored. Current value: bagging_fraction=0.5419164081587379\n",
            "[LightGBM] [Warning] bagging_freq is set=8, subsample_freq=0 will be ignored. Current value: bagging_freq=8\n",
            "[LightGBM] [Info] Number of positive: 16566, number of negative: 22712\n",
            "[LightGBM] [Info] Auto-choosing row-wise multi-threading, the overhead of testing was 0.689800 seconds.\n",
            "You can set `force_row_wise=true` to remove the overhead.\n",
            "And if memory is not enough, you can set `force_col_wise=true`.\n",
            "[LightGBM] [Info] Total Bins 211548\n",
            "[LightGBM] [Info] Number of data points in the train set: 39278, number of used features: 2405\n",
            "[LightGBM] [Info] [binary:BoostFromScore]: pavg=0.421763 -> initscore=-0.315541\n",
            "[LightGBM] [Info] Start training from score -0.315541\n",
            "[LightGBM] [Warning] min_data_in_leaf is set=60, min_child_samples=20 will be ignored. Current value: min_data_in_leaf=60\n",
            "[LightGBM] [Warning] feature_fraction is set=0.8806434946338872, colsample_bytree=1.0 will be ignored. Current value: feature_fraction=0.8806434946338872\n",
            "[LightGBM] [Warning] lambda_l2 is set=3.4083660709309013e-06, reg_lambda=0.0 will be ignored. Current value: lambda_l2=3.4083660709309013e-06\n",
            "[LightGBM] [Warning] lambda_l1 is set=5.6732821668270596e-08, reg_alpha=0.0 will be ignored. Current value: lambda_l1=5.6732821668270596e-08\n",
            "[LightGBM] [Warning] bagging_fraction is set=0.5419164081587379, subsample=1.0 will be ignored. Current value: bagging_fraction=0.5419164081587379\n",
            "[LightGBM] [Warning] bagging_freq is set=8, subsample_freq=0 will be ignored. Current value: bagging_freq=8\n"
          ]
        },
        {
          "output_type": "stream",
          "name": "stderr",
          "text": [
            "/usr/local/lib/python3.10/dist-packages/lightgbm/engine.py:172: UserWarning: Found `num_iteration` in params. Will use it instead of argument\n",
            "  _log_warning(f\"Found `{alias}` in params. Will use it instead of argument\")\n"
          ]
        },
        {
          "output_type": "stream",
          "name": "stdout",
          "text": [
            "[LightGBM] [Warning] feature_fraction is set=0.8806434946338872, colsample_bytree=1.0 will be ignored. Current value: feature_fraction=0.8806434946338872\n",
            "[LightGBM] [Warning] lambda_l2 is set=3.4083660709309013e-06, reg_lambda=0.0 will be ignored. Current value: lambda_l2=3.4083660709309013e-06\n",
            "[LightGBM] [Warning] min_data_in_leaf is set=60, min_child_samples=20 will be ignored. Current value: min_data_in_leaf=60\n",
            "[LightGBM] [Warning] lambda_l1 is set=5.6732821668270596e-08, reg_alpha=0.0 will be ignored. Current value: lambda_l1=5.6732821668270596e-08\n",
            "[LightGBM] [Warning] num_iterations is set=125, num_iteration=125 will be ignored. Current value: num_iterations=125\n",
            "[LightGBM] [Warning] bagging_fraction is set=0.5419164081587379, subsample=1.0 will be ignored. Current value: bagging_fraction=0.5419164081587379\n",
            "[LightGBM] [Warning] bagging_freq is set=8, subsample_freq=0 will be ignored. Current value: bagging_freq=8\n",
            "[LightGBM] [Warning] min_data_in_leaf is set=60, min_child_samples=20 will be ignored. Current value: min_data_in_leaf=60\n",
            "[LightGBM] [Warning] feature_fraction is set=0.8806434946338872, colsample_bytree=1.0 will be ignored. Current value: feature_fraction=0.8806434946338872\n",
            "[LightGBM] [Warning] lambda_l2 is set=3.4083660709309013e-06, reg_lambda=0.0 will be ignored. Current value: lambda_l2=3.4083660709309013e-06\n",
            "[LightGBM] [Warning] lambda_l1 is set=5.6732821668270596e-08, reg_alpha=0.0 will be ignored. Current value: lambda_l1=5.6732821668270596e-08\n",
            "[LightGBM] [Warning] bagging_fraction is set=0.5419164081587379, subsample=1.0 will be ignored. Current value: bagging_fraction=0.5419164081587379\n",
            "[LightGBM] [Warning] bagging_freq is set=8, subsample_freq=0 will be ignored. Current value: bagging_freq=8\n",
            "[LightGBM] [Info] Number of positive: 16566, number of negative: 22712\n",
            "[LightGBM] [Info] Auto-choosing row-wise multi-threading, the overhead of testing was 0.955260 seconds.\n",
            "You can set `force_row_wise=true` to remove the overhead.\n",
            "And if memory is not enough, you can set `force_col_wise=true`.\n",
            "[LightGBM] [Info] Total Bins 210611\n",
            "[LightGBM] [Info] Number of data points in the train set: 39278, number of used features: 2396\n",
            "[LightGBM] [Info] [binary:BoostFromScore]: pavg=0.421763 -> initscore=-0.315541\n",
            "[LightGBM] [Info] Start training from score -0.315541\n",
            "[LightGBM] [Warning] min_data_in_leaf is set=60, min_child_samples=20 will be ignored. Current value: min_data_in_leaf=60\n",
            "[LightGBM] [Warning] feature_fraction is set=0.8806434946338872, colsample_bytree=1.0 will be ignored. Current value: feature_fraction=0.8806434946338872\n",
            "[LightGBM] [Warning] lambda_l2 is set=3.4083660709309013e-06, reg_lambda=0.0 will be ignored. Current value: lambda_l2=3.4083660709309013e-06\n",
            "[LightGBM] [Warning] lambda_l1 is set=5.6732821668270596e-08, reg_alpha=0.0 will be ignored. Current value: lambda_l1=5.6732821668270596e-08\n",
            "[LightGBM] [Warning] bagging_fraction is set=0.5419164081587379, subsample=1.0 will be ignored. Current value: bagging_fraction=0.5419164081587379\n",
            "[LightGBM] [Warning] bagging_freq is set=8, subsample_freq=0 will be ignored. Current value: bagging_freq=8\n"
          ]
        },
        {
          "output_type": "stream",
          "name": "stderr",
          "text": [
            "/usr/local/lib/python3.10/dist-packages/lightgbm/engine.py:172: UserWarning: Found `num_iteration` in params. Will use it instead of argument\n",
            "  _log_warning(f\"Found `{alias}` in params. Will use it instead of argument\")\n"
          ]
        },
        {
          "output_type": "stream",
          "name": "stdout",
          "text": [
            "[LightGBM] [Warning] feature_fraction is set=0.8806434946338872, colsample_bytree=1.0 will be ignored. Current value: feature_fraction=0.8806434946338872\n",
            "[LightGBM] [Warning] lambda_l2 is set=3.4083660709309013e-06, reg_lambda=0.0 will be ignored. Current value: lambda_l2=3.4083660709309013e-06\n",
            "[LightGBM] [Warning] min_data_in_leaf is set=60, min_child_samples=20 will be ignored. Current value: min_data_in_leaf=60\n",
            "[LightGBM] [Warning] lambda_l1 is set=5.6732821668270596e-08, reg_alpha=0.0 will be ignored. Current value: lambda_l1=5.6732821668270596e-08\n",
            "[LightGBM] [Warning] num_iterations is set=125, num_iteration=125 will be ignored. Current value: num_iterations=125\n",
            "[LightGBM] [Warning] bagging_fraction is set=0.5419164081587379, subsample=1.0 will be ignored. Current value: bagging_fraction=0.5419164081587379\n",
            "[LightGBM] [Warning] bagging_freq is set=8, subsample_freq=0 will be ignored. Current value: bagging_freq=8\n",
            "[LightGBM] [Warning] min_data_in_leaf is set=60, min_child_samples=20 will be ignored. Current value: min_data_in_leaf=60\n",
            "[LightGBM] [Warning] feature_fraction is set=0.8806434946338872, colsample_bytree=1.0 will be ignored. Current value: feature_fraction=0.8806434946338872\n",
            "[LightGBM] [Warning] lambda_l2 is set=3.4083660709309013e-06, reg_lambda=0.0 will be ignored. Current value: lambda_l2=3.4083660709309013e-06\n",
            "[LightGBM] [Warning] lambda_l1 is set=5.6732821668270596e-08, reg_alpha=0.0 will be ignored. Current value: lambda_l1=5.6732821668270596e-08\n",
            "[LightGBM] [Warning] bagging_fraction is set=0.5419164081587379, subsample=1.0 will be ignored. Current value: bagging_fraction=0.5419164081587379\n",
            "[LightGBM] [Warning] bagging_freq is set=8, subsample_freq=0 will be ignored. Current value: bagging_freq=8\n",
            "[LightGBM] [Info] Number of positive: 16566, number of negative: 22712\n",
            "[LightGBM] [Info] Auto-choosing col-wise multi-threading, the overhead of testing was 0.928908 seconds.\n",
            "You can set `force_col_wise=true` to remove the overhead.\n",
            "[LightGBM] [Info] Total Bins 210761\n",
            "[LightGBM] [Info] Number of data points in the train set: 39278, number of used features: 2401\n",
            "[LightGBM] [Info] [binary:BoostFromScore]: pavg=0.421763 -> initscore=-0.315541\n",
            "[LightGBM] [Info] Start training from score -0.315541\n",
            "[LightGBM] [Warning] min_data_in_leaf is set=60, min_child_samples=20 will be ignored. Current value: min_data_in_leaf=60\n",
            "[LightGBM] [Warning] feature_fraction is set=0.8806434946338872, colsample_bytree=1.0 will be ignored. Current value: feature_fraction=0.8806434946338872\n",
            "[LightGBM] [Warning] lambda_l2 is set=3.4083660709309013e-06, reg_lambda=0.0 will be ignored. Current value: lambda_l2=3.4083660709309013e-06\n",
            "[LightGBM] [Warning] lambda_l1 is set=5.6732821668270596e-08, reg_alpha=0.0 will be ignored. Current value: lambda_l1=5.6732821668270596e-08\n",
            "[LightGBM] [Warning] bagging_fraction is set=0.5419164081587379, subsample=1.0 will be ignored. Current value: bagging_fraction=0.5419164081587379\n",
            "[LightGBM] [Warning] bagging_freq is set=8, subsample_freq=0 will be ignored. Current value: bagging_freq=8\n"
          ]
        },
        {
          "output_type": "stream",
          "name": "stderr",
          "text": [
            "[I 2024-03-31 00:49:07,167] Trial 7 finished with value: 0.7939168573323253 and parameters: {'num_leaves': 125, 'lambda_l1': 5.6732821668270596e-08, 'lambda_l2': 3.4083660709309013e-06, 'feature_fraction': 0.8806434946338872, 'bagging_fraction': 0.5419164081587379, 'bagging_freq': 8, 'min_child_samples': 60, 'class_weight': None}. Best is trial 0 with value: 0.8218578522252493.\n",
            "<ipython-input-46-a40d882ac625>:7: FutureWarning: suggest_loguniform has been deprecated in v3.0.0. This feature will be removed in v6.0.0. See https://github.com/optuna/optuna/releases/tag/v3.0.0. Use suggest_float(..., log=True) instead.\n",
            "  'lambda_l1': trial.suggest_loguniform('lambda_l1', 1e-8, 5.0),\n",
            "<ipython-input-46-a40d882ac625>:8: FutureWarning: suggest_loguniform has been deprecated in v3.0.0. This feature will be removed in v6.0.0. See https://github.com/optuna/optuna/releases/tag/v3.0.0. Use suggest_float(..., log=True) instead.\n",
            "  'lambda_l2': trial.suggest_loguniform('lambda_l2', 1e-8, 5.0),\n",
            "/usr/local/lib/python3.10/dist-packages/optuna/trial/_trial.py:676: RuntimeWarning: Inconsistent parameter values for distribution with name \"num_leaves\"! This might be a configuration mistake. Optuna allows to call the same distribution with the same name more than once in a trial. When the parameter values are inconsistent optuna only uses the values of the first call and ignores all following. Using these values: {'log': False, 'step': 1, 'low': 70, 'high': 150}\n",
            "  warnings.warn(\n",
            "<ipython-input-46-a40d882ac625>:10: FutureWarning: suggest_uniform has been deprecated in v3.0.0. This feature will be removed in v6.0.0. See https://github.com/optuna/optuna/releases/tag/v3.0.0. Use suggest_float instead.\n",
            "  'feature_fraction': trial.suggest_uniform('feature_fraction', 0.1, 1.0),\n",
            "<ipython-input-46-a40d882ac625>:11: FutureWarning: suggest_uniform has been deprecated in v3.0.0. This feature will be removed in v6.0.0. See https://github.com/optuna/optuna/releases/tag/v3.0.0. Use suggest_float instead.\n",
            "  'bagging_fraction': trial.suggest_uniform('bagging_fraction', 0.1, 1.0),\n",
            "/usr/local/lib/python3.10/dist-packages/lightgbm/engine.py:172: UserWarning: Found `num_iteration` in params. Will use it instead of argument\n",
            "  _log_warning(f\"Found `{alias}` in params. Will use it instead of argument\")\n"
          ]
        },
        {
          "output_type": "stream",
          "name": "stdout",
          "text": [
            "[LightGBM] [Warning] feature_fraction is set=0.8021405397715715, colsample_bytree=1.0 will be ignored. Current value: feature_fraction=0.8021405397715715\n",
            "[LightGBM] [Warning] lambda_l2 is set=0.04875498037597694, reg_lambda=0.0 will be ignored. Current value: lambda_l2=0.04875498037597694\n",
            "[LightGBM] [Warning] min_data_in_leaf is set=61, min_child_samples=20 will be ignored. Current value: min_data_in_leaf=61\n",
            "[LightGBM] [Warning] lambda_l1 is set=7.116927440141963e-06, reg_alpha=0.0 will be ignored. Current value: lambda_l1=7.116927440141963e-06\n",
            "[LightGBM] [Warning] num_iterations is set=134, num_iteration=134 will be ignored. Current value: num_iterations=134\n",
            "[LightGBM] [Warning] bagging_fraction is set=0.7723764507252652, subsample=1.0 will be ignored. Current value: bagging_fraction=0.7723764507252652\n",
            "[LightGBM] [Warning] bagging_freq is set=7, subsample_freq=0 will be ignored. Current value: bagging_freq=7\n",
            "[LightGBM] [Warning] min_data_in_leaf is set=61, min_child_samples=20 will be ignored. Current value: min_data_in_leaf=61\n",
            "[LightGBM] [Warning] feature_fraction is set=0.8021405397715715, colsample_bytree=1.0 will be ignored. Current value: feature_fraction=0.8021405397715715\n",
            "[LightGBM] [Warning] lambda_l2 is set=0.04875498037597694, reg_lambda=0.0 will be ignored. Current value: lambda_l2=0.04875498037597694\n",
            "[LightGBM] [Warning] lambda_l1 is set=7.116927440141963e-06, reg_alpha=0.0 will be ignored. Current value: lambda_l1=7.116927440141963e-06\n",
            "[LightGBM] [Warning] bagging_fraction is set=0.7723764507252652, subsample=1.0 will be ignored. Current value: bagging_fraction=0.7723764507252652\n",
            "[LightGBM] [Warning] bagging_freq is set=7, subsample_freq=0 will be ignored. Current value: bagging_freq=7\n",
            "[LightGBM] [Info] Number of positive: 16565, number of negative: 22712\n",
            "[LightGBM] [Info] Auto-choosing row-wise multi-threading, the overhead of testing was 0.635978 seconds.\n",
            "You can set `force_row_wise=true` to remove the overhead.\n",
            "And if memory is not enough, you can set `force_col_wise=true`.\n",
            "[LightGBM] [Info] Total Bins 210837\n",
            "[LightGBM] [Info] Number of data points in the train set: 39277, number of used features: 2375\n",
            "[LightGBM] [Info] [binary:BoostFromScore]: pavg=0.421748 -> initscore=-0.315601\n",
            "[LightGBM] [Info] Start training from score -0.315601\n",
            "[LightGBM] [Warning] min_data_in_leaf is set=61, min_child_samples=20 will be ignored. Current value: min_data_in_leaf=61\n",
            "[LightGBM] [Warning] feature_fraction is set=0.8021405397715715, colsample_bytree=1.0 will be ignored. Current value: feature_fraction=0.8021405397715715\n",
            "[LightGBM] [Warning] lambda_l2 is set=0.04875498037597694, reg_lambda=0.0 will be ignored. Current value: lambda_l2=0.04875498037597694\n",
            "[LightGBM] [Warning] lambda_l1 is set=7.116927440141963e-06, reg_alpha=0.0 will be ignored. Current value: lambda_l1=7.116927440141963e-06\n",
            "[LightGBM] [Warning] bagging_fraction is set=0.7723764507252652, subsample=1.0 will be ignored. Current value: bagging_fraction=0.7723764507252652\n",
            "[LightGBM] [Warning] bagging_freq is set=7, subsample_freq=0 will be ignored. Current value: bagging_freq=7\n"
          ]
        },
        {
          "output_type": "stream",
          "name": "stderr",
          "text": [
            "/usr/local/lib/python3.10/dist-packages/lightgbm/engine.py:172: UserWarning: Found `num_iteration` in params. Will use it instead of argument\n",
            "  _log_warning(f\"Found `{alias}` in params. Will use it instead of argument\")\n"
          ]
        },
        {
          "output_type": "stream",
          "name": "stdout",
          "text": [
            "[LightGBM] [Warning] feature_fraction is set=0.8021405397715715, colsample_bytree=1.0 will be ignored. Current value: feature_fraction=0.8021405397715715\n",
            "[LightGBM] [Warning] lambda_l2 is set=0.04875498037597694, reg_lambda=0.0 will be ignored. Current value: lambda_l2=0.04875498037597694\n",
            "[LightGBM] [Warning] min_data_in_leaf is set=61, min_child_samples=20 will be ignored. Current value: min_data_in_leaf=61\n",
            "[LightGBM] [Warning] lambda_l1 is set=7.116927440141963e-06, reg_alpha=0.0 will be ignored. Current value: lambda_l1=7.116927440141963e-06\n",
            "[LightGBM] [Warning] num_iterations is set=134, num_iteration=134 will be ignored. Current value: num_iterations=134\n",
            "[LightGBM] [Warning] bagging_fraction is set=0.7723764507252652, subsample=1.0 will be ignored. Current value: bagging_fraction=0.7723764507252652\n",
            "[LightGBM] [Warning] bagging_freq is set=7, subsample_freq=0 will be ignored. Current value: bagging_freq=7\n",
            "[LightGBM] [Warning] min_data_in_leaf is set=61, min_child_samples=20 will be ignored. Current value: min_data_in_leaf=61\n",
            "[LightGBM] [Warning] feature_fraction is set=0.8021405397715715, colsample_bytree=1.0 will be ignored. Current value: feature_fraction=0.8021405397715715\n",
            "[LightGBM] [Warning] lambda_l2 is set=0.04875498037597694, reg_lambda=0.0 will be ignored. Current value: lambda_l2=0.04875498037597694\n",
            "[LightGBM] [Warning] lambda_l1 is set=7.116927440141963e-06, reg_alpha=0.0 will be ignored. Current value: lambda_l1=7.116927440141963e-06\n",
            "[LightGBM] [Warning] bagging_fraction is set=0.7723764507252652, subsample=1.0 will be ignored. Current value: bagging_fraction=0.7723764507252652\n",
            "[LightGBM] [Warning] bagging_freq is set=7, subsample_freq=0 will be ignored. Current value: bagging_freq=7\n",
            "[LightGBM] [Info] Number of positive: 16565, number of negative: 22712\n",
            "[LightGBM] [Info] Auto-choosing row-wise multi-threading, the overhead of testing was 0.607541 seconds.\n",
            "You can set `force_row_wise=true` to remove the overhead.\n",
            "And if memory is not enough, you can set `force_col_wise=true`.\n",
            "[LightGBM] [Info] Total Bins 209944\n",
            "[LightGBM] [Info] Number of data points in the train set: 39277, number of used features: 2374\n",
            "[LightGBM] [Info] [binary:BoostFromScore]: pavg=0.421748 -> initscore=-0.315601\n",
            "[LightGBM] [Info] Start training from score -0.315601\n",
            "[LightGBM] [Warning] min_data_in_leaf is set=61, min_child_samples=20 will be ignored. Current value: min_data_in_leaf=61\n",
            "[LightGBM] [Warning] feature_fraction is set=0.8021405397715715, colsample_bytree=1.0 will be ignored. Current value: feature_fraction=0.8021405397715715\n",
            "[LightGBM] [Warning] lambda_l2 is set=0.04875498037597694, reg_lambda=0.0 will be ignored. Current value: lambda_l2=0.04875498037597694\n",
            "[LightGBM] [Warning] lambda_l1 is set=7.116927440141963e-06, reg_alpha=0.0 will be ignored. Current value: lambda_l1=7.116927440141963e-06\n",
            "[LightGBM] [Warning] bagging_fraction is set=0.7723764507252652, subsample=1.0 will be ignored. Current value: bagging_fraction=0.7723764507252652\n",
            "[LightGBM] [Warning] bagging_freq is set=7, subsample_freq=0 will be ignored. Current value: bagging_freq=7\n"
          ]
        },
        {
          "output_type": "stream",
          "name": "stderr",
          "text": [
            "/usr/local/lib/python3.10/dist-packages/lightgbm/engine.py:172: UserWarning: Found `num_iteration` in params. Will use it instead of argument\n",
            "  _log_warning(f\"Found `{alias}` in params. Will use it instead of argument\")\n"
          ]
        },
        {
          "output_type": "stream",
          "name": "stdout",
          "text": [
            "[LightGBM] [Warning] feature_fraction is set=0.8021405397715715, colsample_bytree=1.0 will be ignored. Current value: feature_fraction=0.8021405397715715\n",
            "[LightGBM] [Warning] lambda_l2 is set=0.04875498037597694, reg_lambda=0.0 will be ignored. Current value: lambda_l2=0.04875498037597694\n",
            "[LightGBM] [Warning] min_data_in_leaf is set=61, min_child_samples=20 will be ignored. Current value: min_data_in_leaf=61\n",
            "[LightGBM] [Warning] lambda_l1 is set=7.116927440141963e-06, reg_alpha=0.0 will be ignored. Current value: lambda_l1=7.116927440141963e-06\n",
            "[LightGBM] [Warning] num_iterations is set=134, num_iteration=134 will be ignored. Current value: num_iterations=134\n",
            "[LightGBM] [Warning] bagging_fraction is set=0.7723764507252652, subsample=1.0 will be ignored. Current value: bagging_fraction=0.7723764507252652\n",
            "[LightGBM] [Warning] bagging_freq is set=7, subsample_freq=0 will be ignored. Current value: bagging_freq=7\n",
            "[LightGBM] [Warning] min_data_in_leaf is set=61, min_child_samples=20 will be ignored. Current value: min_data_in_leaf=61\n",
            "[LightGBM] [Warning] feature_fraction is set=0.8021405397715715, colsample_bytree=1.0 will be ignored. Current value: feature_fraction=0.8021405397715715\n",
            "[LightGBM] [Warning] lambda_l2 is set=0.04875498037597694, reg_lambda=0.0 will be ignored. Current value: lambda_l2=0.04875498037597694\n",
            "[LightGBM] [Warning] lambda_l1 is set=7.116927440141963e-06, reg_alpha=0.0 will be ignored. Current value: lambda_l1=7.116927440141963e-06\n",
            "[LightGBM] [Warning] bagging_fraction is set=0.7723764507252652, subsample=1.0 will be ignored. Current value: bagging_fraction=0.7723764507252652\n",
            "[LightGBM] [Warning] bagging_freq is set=7, subsample_freq=0 will be ignored. Current value: bagging_freq=7\n",
            "[LightGBM] [Info] Number of positive: 16566, number of negative: 22712\n",
            "[LightGBM] [Info] Auto-choosing row-wise multi-threading, the overhead of testing was 0.588125 seconds.\n",
            "You can set `force_row_wise=true` to remove the overhead.\n",
            "And if memory is not enough, you can set `force_col_wise=true`.\n",
            "[LightGBM] [Info] Total Bins 211111\n",
            "[LightGBM] [Info] Number of data points in the train set: 39278, number of used features: 2384\n",
            "[LightGBM] [Info] [binary:BoostFromScore]: pavg=0.421763 -> initscore=-0.315541\n",
            "[LightGBM] [Info] Start training from score -0.315541\n",
            "[LightGBM] [Warning] min_data_in_leaf is set=61, min_child_samples=20 will be ignored. Current value: min_data_in_leaf=61\n",
            "[LightGBM] [Warning] feature_fraction is set=0.8021405397715715, colsample_bytree=1.0 will be ignored. Current value: feature_fraction=0.8021405397715715\n",
            "[LightGBM] [Warning] lambda_l2 is set=0.04875498037597694, reg_lambda=0.0 will be ignored. Current value: lambda_l2=0.04875498037597694\n",
            "[LightGBM] [Warning] lambda_l1 is set=7.116927440141963e-06, reg_alpha=0.0 will be ignored. Current value: lambda_l1=7.116927440141963e-06\n",
            "[LightGBM] [Warning] bagging_fraction is set=0.7723764507252652, subsample=1.0 will be ignored. Current value: bagging_fraction=0.7723764507252652\n",
            "[LightGBM] [Warning] bagging_freq is set=7, subsample_freq=0 will be ignored. Current value: bagging_freq=7\n"
          ]
        },
        {
          "output_type": "stream",
          "name": "stderr",
          "text": [
            "/usr/local/lib/python3.10/dist-packages/lightgbm/engine.py:172: UserWarning: Found `num_iteration` in params. Will use it instead of argument\n",
            "  _log_warning(f\"Found `{alias}` in params. Will use it instead of argument\")\n"
          ]
        },
        {
          "output_type": "stream",
          "name": "stdout",
          "text": [
            "[LightGBM] [Warning] feature_fraction is set=0.8021405397715715, colsample_bytree=1.0 will be ignored. Current value: feature_fraction=0.8021405397715715\n",
            "[LightGBM] [Warning] lambda_l2 is set=0.04875498037597694, reg_lambda=0.0 will be ignored. Current value: lambda_l2=0.04875498037597694\n",
            "[LightGBM] [Warning] min_data_in_leaf is set=61, min_child_samples=20 will be ignored. Current value: min_data_in_leaf=61\n",
            "[LightGBM] [Warning] lambda_l1 is set=7.116927440141963e-06, reg_alpha=0.0 will be ignored. Current value: lambda_l1=7.116927440141963e-06\n",
            "[LightGBM] [Warning] num_iterations is set=134, num_iteration=134 will be ignored. Current value: num_iterations=134\n",
            "[LightGBM] [Warning] bagging_fraction is set=0.7723764507252652, subsample=1.0 will be ignored. Current value: bagging_fraction=0.7723764507252652\n",
            "[LightGBM] [Warning] bagging_freq is set=7, subsample_freq=0 will be ignored. Current value: bagging_freq=7\n",
            "[LightGBM] [Warning] min_data_in_leaf is set=61, min_child_samples=20 will be ignored. Current value: min_data_in_leaf=61\n",
            "[LightGBM] [Warning] feature_fraction is set=0.8021405397715715, colsample_bytree=1.0 will be ignored. Current value: feature_fraction=0.8021405397715715\n",
            "[LightGBM] [Warning] lambda_l2 is set=0.04875498037597694, reg_lambda=0.0 will be ignored. Current value: lambda_l2=0.04875498037597694\n",
            "[LightGBM] [Warning] lambda_l1 is set=7.116927440141963e-06, reg_alpha=0.0 will be ignored. Current value: lambda_l1=7.116927440141963e-06\n",
            "[LightGBM] [Warning] bagging_fraction is set=0.7723764507252652, subsample=1.0 will be ignored. Current value: bagging_fraction=0.7723764507252652\n",
            "[LightGBM] [Warning] bagging_freq is set=7, subsample_freq=0 will be ignored. Current value: bagging_freq=7\n",
            "[LightGBM] [Info] Number of positive: 16566, number of negative: 22712\n",
            "[LightGBM] [Info] Auto-choosing row-wise multi-threading, the overhead of testing was 0.635248 seconds.\n",
            "You can set `force_row_wise=true` to remove the overhead.\n",
            "And if memory is not enough, you can set `force_col_wise=true`.\n",
            "[LightGBM] [Info] Total Bins 210236\n",
            "[LightGBM] [Info] Number of data points in the train set: 39278, number of used features: 2378\n",
            "[LightGBM] [Info] [binary:BoostFromScore]: pavg=0.421763 -> initscore=-0.315541\n",
            "[LightGBM] [Info] Start training from score -0.315541\n",
            "[LightGBM] [Warning] min_data_in_leaf is set=61, min_child_samples=20 will be ignored. Current value: min_data_in_leaf=61\n",
            "[LightGBM] [Warning] feature_fraction is set=0.8021405397715715, colsample_bytree=1.0 will be ignored. Current value: feature_fraction=0.8021405397715715\n",
            "[LightGBM] [Warning] lambda_l2 is set=0.04875498037597694, reg_lambda=0.0 will be ignored. Current value: lambda_l2=0.04875498037597694\n",
            "[LightGBM] [Warning] lambda_l1 is set=7.116927440141963e-06, reg_alpha=0.0 will be ignored. Current value: lambda_l1=7.116927440141963e-06\n",
            "[LightGBM] [Warning] bagging_fraction is set=0.7723764507252652, subsample=1.0 will be ignored. Current value: bagging_fraction=0.7723764507252652\n",
            "[LightGBM] [Warning] bagging_freq is set=7, subsample_freq=0 will be ignored. Current value: bagging_freq=7\n"
          ]
        },
        {
          "output_type": "stream",
          "name": "stderr",
          "text": [
            "/usr/local/lib/python3.10/dist-packages/lightgbm/engine.py:172: UserWarning: Found `num_iteration` in params. Will use it instead of argument\n",
            "  _log_warning(f\"Found `{alias}` in params. Will use it instead of argument\")\n"
          ]
        },
        {
          "output_type": "stream",
          "name": "stdout",
          "text": [
            "[LightGBM] [Warning] feature_fraction is set=0.8021405397715715, colsample_bytree=1.0 will be ignored. Current value: feature_fraction=0.8021405397715715\n",
            "[LightGBM] [Warning] lambda_l2 is set=0.04875498037597694, reg_lambda=0.0 will be ignored. Current value: lambda_l2=0.04875498037597694\n",
            "[LightGBM] [Warning] min_data_in_leaf is set=61, min_child_samples=20 will be ignored. Current value: min_data_in_leaf=61\n",
            "[LightGBM] [Warning] lambda_l1 is set=7.116927440141963e-06, reg_alpha=0.0 will be ignored. Current value: lambda_l1=7.116927440141963e-06\n",
            "[LightGBM] [Warning] num_iterations is set=134, num_iteration=134 will be ignored. Current value: num_iterations=134\n",
            "[LightGBM] [Warning] bagging_fraction is set=0.7723764507252652, subsample=1.0 will be ignored. Current value: bagging_fraction=0.7723764507252652\n",
            "[LightGBM] [Warning] bagging_freq is set=7, subsample_freq=0 will be ignored. Current value: bagging_freq=7\n",
            "[LightGBM] [Warning] min_data_in_leaf is set=61, min_child_samples=20 will be ignored. Current value: min_data_in_leaf=61\n",
            "[LightGBM] [Warning] feature_fraction is set=0.8021405397715715, colsample_bytree=1.0 will be ignored. Current value: feature_fraction=0.8021405397715715\n",
            "[LightGBM] [Warning] lambda_l2 is set=0.04875498037597694, reg_lambda=0.0 will be ignored. Current value: lambda_l2=0.04875498037597694\n",
            "[LightGBM] [Warning] lambda_l1 is set=7.116927440141963e-06, reg_alpha=0.0 will be ignored. Current value: lambda_l1=7.116927440141963e-06\n",
            "[LightGBM] [Warning] bagging_fraction is set=0.7723764507252652, subsample=1.0 will be ignored. Current value: bagging_fraction=0.7723764507252652\n",
            "[LightGBM] [Warning] bagging_freq is set=7, subsample_freq=0 will be ignored. Current value: bagging_freq=7\n",
            "[LightGBM] [Info] Number of positive: 16566, number of negative: 22712\n",
            "[LightGBM] [Info] Auto-choosing row-wise multi-threading, the overhead of testing was 0.608519 seconds.\n",
            "You can set `force_row_wise=true` to remove the overhead.\n",
            "And if memory is not enough, you can set `force_col_wise=true`.\n",
            "[LightGBM] [Info] Total Bins 210325\n",
            "[LightGBM] [Info] Number of data points in the train set: 39278, number of used features: 2380\n",
            "[LightGBM] [Info] [binary:BoostFromScore]: pavg=0.421763 -> initscore=-0.315541\n",
            "[LightGBM] [Info] Start training from score -0.315541\n",
            "[LightGBM] [Warning] min_data_in_leaf is set=61, min_child_samples=20 will be ignored. Current value: min_data_in_leaf=61\n",
            "[LightGBM] [Warning] feature_fraction is set=0.8021405397715715, colsample_bytree=1.0 will be ignored. Current value: feature_fraction=0.8021405397715715\n",
            "[LightGBM] [Warning] lambda_l2 is set=0.04875498037597694, reg_lambda=0.0 will be ignored. Current value: lambda_l2=0.04875498037597694\n",
            "[LightGBM] [Warning] lambda_l1 is set=7.116927440141963e-06, reg_alpha=0.0 will be ignored. Current value: lambda_l1=7.116927440141963e-06\n",
            "[LightGBM] [Warning] bagging_fraction is set=0.7723764507252652, subsample=1.0 will be ignored. Current value: bagging_fraction=0.7723764507252652\n",
            "[LightGBM] [Warning] bagging_freq is set=7, subsample_freq=0 will be ignored. Current value: bagging_freq=7\n"
          ]
        },
        {
          "output_type": "stream",
          "name": "stderr",
          "text": [
            "[I 2024-03-31 00:53:15,161] Trial 8 finished with value: 0.800895696200333 and parameters: {'num_leaves': 134, 'lambda_l1': 7.116927440141963e-06, 'lambda_l2': 0.04875498037597694, 'feature_fraction': 0.8021405397715715, 'bagging_fraction': 0.7723764507252652, 'bagging_freq': 7, 'min_child_samples': 61, 'class_weight': None}. Best is trial 0 with value: 0.8218578522252493.\n",
            "<ipython-input-46-a40d882ac625>:7: FutureWarning: suggest_loguniform has been deprecated in v3.0.0. This feature will be removed in v6.0.0. See https://github.com/optuna/optuna/releases/tag/v3.0.0. Use suggest_float(..., log=True) instead.\n",
            "  'lambda_l1': trial.suggest_loguniform('lambda_l1', 1e-8, 5.0),\n",
            "<ipython-input-46-a40d882ac625>:8: FutureWarning: suggest_loguniform has been deprecated in v3.0.0. This feature will be removed in v6.0.0. See https://github.com/optuna/optuna/releases/tag/v3.0.0. Use suggest_float(..., log=True) instead.\n",
            "  'lambda_l2': trial.suggest_loguniform('lambda_l2', 1e-8, 5.0),\n",
            "/usr/local/lib/python3.10/dist-packages/optuna/trial/_trial.py:676: RuntimeWarning: Inconsistent parameter values for distribution with name \"num_leaves\"! This might be a configuration mistake. Optuna allows to call the same distribution with the same name more than once in a trial. When the parameter values are inconsistent optuna only uses the values of the first call and ignores all following. Using these values: {'log': False, 'step': 1, 'low': 70, 'high': 150}\n",
            "  warnings.warn(\n",
            "<ipython-input-46-a40d882ac625>:10: FutureWarning: suggest_uniform has been deprecated in v3.0.0. This feature will be removed in v6.0.0. See https://github.com/optuna/optuna/releases/tag/v3.0.0. Use suggest_float instead.\n",
            "  'feature_fraction': trial.suggest_uniform('feature_fraction', 0.1, 1.0),\n",
            "<ipython-input-46-a40d882ac625>:11: FutureWarning: suggest_uniform has been deprecated in v3.0.0. This feature will be removed in v6.0.0. See https://github.com/optuna/optuna/releases/tag/v3.0.0. Use suggest_float instead.\n",
            "  'bagging_fraction': trial.suggest_uniform('bagging_fraction', 0.1, 1.0),\n",
            "/usr/local/lib/python3.10/dist-packages/lightgbm/engine.py:172: UserWarning: Found `num_iteration` in params. Will use it instead of argument\n",
            "  _log_warning(f\"Found `{alias}` in params. Will use it instead of argument\")\n"
          ]
        },
        {
          "output_type": "stream",
          "name": "stdout",
          "text": [
            "[LightGBM] [Warning] feature_fraction is set=0.554895297513024, colsample_bytree=1.0 will be ignored. Current value: feature_fraction=0.554895297513024\n",
            "[LightGBM] [Warning] lambda_l2 is set=1.083650788856549e-08, reg_lambda=0.0 will be ignored. Current value: lambda_l2=1.083650788856549e-08\n",
            "[LightGBM] [Warning] min_data_in_leaf is set=68, min_child_samples=20 will be ignored. Current value: min_data_in_leaf=68\n",
            "[LightGBM] [Warning] lambda_l1 is set=0.3250133246098369, reg_alpha=0.0 will be ignored. Current value: lambda_l1=0.3250133246098369\n",
            "[LightGBM] [Warning] num_iterations is set=79, num_iteration=79 will be ignored. Current value: num_iterations=79\n",
            "[LightGBM] [Warning] bagging_fraction is set=0.6707843335969422, subsample=1.0 will be ignored. Current value: bagging_fraction=0.6707843335969422\n",
            "[LightGBM] [Warning] bagging_freq is set=7, subsample_freq=0 will be ignored. Current value: bagging_freq=7\n",
            "[LightGBM] [Warning] min_data_in_leaf is set=68, min_child_samples=20 will be ignored. Current value: min_data_in_leaf=68\n",
            "[LightGBM] [Warning] feature_fraction is set=0.554895297513024, colsample_bytree=1.0 will be ignored. Current value: feature_fraction=0.554895297513024\n",
            "[LightGBM] [Warning] lambda_l2 is set=1.083650788856549e-08, reg_lambda=0.0 will be ignored. Current value: lambda_l2=1.083650788856549e-08\n",
            "[LightGBM] [Warning] lambda_l1 is set=0.3250133246098369, reg_alpha=0.0 will be ignored. Current value: lambda_l1=0.3250133246098369\n",
            "[LightGBM] [Warning] bagging_fraction is set=0.6707843335969422, subsample=1.0 will be ignored. Current value: bagging_fraction=0.6707843335969422\n",
            "[LightGBM] [Warning] bagging_freq is set=7, subsample_freq=0 will be ignored. Current value: bagging_freq=7\n",
            "[LightGBM] [Info] Number of positive: 16565, number of negative: 22712\n",
            "[LightGBM] [Info] Auto-choosing row-wise multi-threading, the overhead of testing was 0.513151 seconds.\n",
            "You can set `force_row_wise=true` to remove the overhead.\n",
            "And if memory is not enough, you can set `force_col_wise=true`.\n",
            "[LightGBM] [Info] Total Bins 207112\n",
            "[LightGBM] [Info] Number of data points in the train set: 39277, number of used features: 2207\n",
            "[LightGBM] [Info] [binary:BoostFromScore]: pavg=0.421748 -> initscore=-0.315601\n",
            "[LightGBM] [Info] Start training from score -0.315601\n",
            "[LightGBM] [Warning] min_data_in_leaf is set=68, min_child_samples=20 will be ignored. Current value: min_data_in_leaf=68\n",
            "[LightGBM] [Warning] feature_fraction is set=0.554895297513024, colsample_bytree=1.0 will be ignored. Current value: feature_fraction=0.554895297513024\n",
            "[LightGBM] [Warning] lambda_l2 is set=1.083650788856549e-08, reg_lambda=0.0 will be ignored. Current value: lambda_l2=1.083650788856549e-08\n",
            "[LightGBM] [Warning] lambda_l1 is set=0.3250133246098369, reg_alpha=0.0 will be ignored. Current value: lambda_l1=0.3250133246098369\n",
            "[LightGBM] [Warning] bagging_fraction is set=0.6707843335969422, subsample=1.0 will be ignored. Current value: bagging_fraction=0.6707843335969422\n",
            "[LightGBM] [Warning] bagging_freq is set=7, subsample_freq=0 will be ignored. Current value: bagging_freq=7\n",
            "[LightGBM] [Warning] feature_fraction is set=0.554895297513024, colsample_bytree=1.0 will be ignored. Current value: feature_fraction=0.554895297513024\n",
            "[LightGBM] [Warning] lambda_l2 is set=1.083650788856549e-08, reg_lambda=0.0 will be ignored. Current value: lambda_l2=1.083650788856549e-08\n",
            "[LightGBM] [Warning] min_data_in_leaf is set=68, min_child_samples=20 will be ignored. Current value: min_data_in_leaf=68\n",
            "[LightGBM] [Warning] lambda_l1 is set=0.3250133246098369, reg_alpha=0.0 will be ignored. Current value: lambda_l1=0.3250133246098369\n",
            "[LightGBM] [Warning] num_iterations is set=79, num_iteration=79 will be ignored. Current value: num_iterations=79\n",
            "[LightGBM] [Warning] bagging_fraction is set=0.6707843335969422, subsample=1.0 will be ignored. Current value: bagging_fraction=0.6707843335969422\n",
            "[LightGBM] [Warning] bagging_freq is set=7, subsample_freq=0 will be ignored. Current value: bagging_freq=7\n"
          ]
        },
        {
          "output_type": "stream",
          "name": "stderr",
          "text": [
            "/usr/local/lib/python3.10/dist-packages/lightgbm/engine.py:172: UserWarning: Found `num_iteration` in params. Will use it instead of argument\n",
            "  _log_warning(f\"Found `{alias}` in params. Will use it instead of argument\")\n"
          ]
        },
        {
          "output_type": "stream",
          "name": "stdout",
          "text": [
            "[LightGBM] [Warning] min_data_in_leaf is set=68, min_child_samples=20 will be ignored. Current value: min_data_in_leaf=68\n",
            "[LightGBM] [Warning] feature_fraction is set=0.554895297513024, colsample_bytree=1.0 will be ignored. Current value: feature_fraction=0.554895297513024\n",
            "[LightGBM] [Warning] lambda_l2 is set=1.083650788856549e-08, reg_lambda=0.0 will be ignored. Current value: lambda_l2=1.083650788856549e-08\n",
            "[LightGBM] [Warning] lambda_l1 is set=0.3250133246098369, reg_alpha=0.0 will be ignored. Current value: lambda_l1=0.3250133246098369\n",
            "[LightGBM] [Warning] bagging_fraction is set=0.6707843335969422, subsample=1.0 will be ignored. Current value: bagging_fraction=0.6707843335969422\n",
            "[LightGBM] [Warning] bagging_freq is set=7, subsample_freq=0 will be ignored. Current value: bagging_freq=7\n",
            "[LightGBM] [Info] Number of positive: 16565, number of negative: 22712\n",
            "[LightGBM] [Info] Auto-choosing row-wise multi-threading, the overhead of testing was 0.526780 seconds.\n",
            "You can set `force_row_wise=true` to remove the overhead.\n",
            "And if memory is not enough, you can set `force_col_wise=true`.\n",
            "[LightGBM] [Info] Total Bins 206002\n",
            "[LightGBM] [Info] Number of data points in the train set: 39277, number of used features: 2197\n",
            "[LightGBM] [Info] [binary:BoostFromScore]: pavg=0.421748 -> initscore=-0.315601\n",
            "[LightGBM] [Info] Start training from score -0.315601\n",
            "[LightGBM] [Warning] min_data_in_leaf is set=68, min_child_samples=20 will be ignored. Current value: min_data_in_leaf=68\n",
            "[LightGBM] [Warning] feature_fraction is set=0.554895297513024, colsample_bytree=1.0 will be ignored. Current value: feature_fraction=0.554895297513024\n",
            "[LightGBM] [Warning] lambda_l2 is set=1.083650788856549e-08, reg_lambda=0.0 will be ignored. Current value: lambda_l2=1.083650788856549e-08\n",
            "[LightGBM] [Warning] lambda_l1 is set=0.3250133246098369, reg_alpha=0.0 will be ignored. Current value: lambda_l1=0.3250133246098369\n",
            "[LightGBM] [Warning] bagging_fraction is set=0.6707843335969422, subsample=1.0 will be ignored. Current value: bagging_fraction=0.6707843335969422\n",
            "[LightGBM] [Warning] bagging_freq is set=7, subsample_freq=0 will be ignored. Current value: bagging_freq=7\n",
            "[LightGBM] [Warning] feature_fraction is set=0.554895297513024, colsample_bytree=1.0 will be ignored. Current value: feature_fraction=0.554895297513024\n",
            "[LightGBM] [Warning] lambda_l2 is set=1.083650788856549e-08, reg_lambda=0.0 will be ignored. Current value: lambda_l2=1.083650788856549e-08\n",
            "[LightGBM] [Warning] min_data_in_leaf is set=68, min_child_samples=20 will be ignored. Current value: min_data_in_leaf=68\n",
            "[LightGBM] [Warning] lambda_l1 is set=0.3250133246098369, reg_alpha=0.0 will be ignored. Current value: lambda_l1=0.3250133246098369\n",
            "[LightGBM] [Warning] num_iterations is set=79, num_iteration=79 will be ignored. Current value: num_iterations=79\n",
            "[LightGBM] [Warning] bagging_fraction is set=0.6707843335969422, subsample=1.0 will be ignored. Current value: bagging_fraction=0.6707843335969422\n",
            "[LightGBM] [Warning] bagging_freq is set=7, subsample_freq=0 will be ignored. Current value: bagging_freq=7\n"
          ]
        },
        {
          "output_type": "stream",
          "name": "stderr",
          "text": [
            "/usr/local/lib/python3.10/dist-packages/lightgbm/engine.py:172: UserWarning: Found `num_iteration` in params. Will use it instead of argument\n",
            "  _log_warning(f\"Found `{alias}` in params. Will use it instead of argument\")\n"
          ]
        },
        {
          "output_type": "stream",
          "name": "stdout",
          "text": [
            "[LightGBM] [Warning] min_data_in_leaf is set=68, min_child_samples=20 will be ignored. Current value: min_data_in_leaf=68\n",
            "[LightGBM] [Warning] feature_fraction is set=0.554895297513024, colsample_bytree=1.0 will be ignored. Current value: feature_fraction=0.554895297513024\n",
            "[LightGBM] [Warning] lambda_l2 is set=1.083650788856549e-08, reg_lambda=0.0 will be ignored. Current value: lambda_l2=1.083650788856549e-08\n",
            "[LightGBM] [Warning] lambda_l1 is set=0.3250133246098369, reg_alpha=0.0 will be ignored. Current value: lambda_l1=0.3250133246098369\n",
            "[LightGBM] [Warning] bagging_fraction is set=0.6707843335969422, subsample=1.0 will be ignored. Current value: bagging_fraction=0.6707843335969422\n",
            "[LightGBM] [Warning] bagging_freq is set=7, subsample_freq=0 will be ignored. Current value: bagging_freq=7\n",
            "[LightGBM] [Info] Number of positive: 16566, number of negative: 22712\n",
            "[LightGBM] [Info] Auto-choosing row-wise multi-threading, the overhead of testing was 0.561003 seconds.\n",
            "You can set `force_row_wise=true` to remove the overhead.\n",
            "And if memory is not enough, you can set `force_col_wise=true`.\n",
            "[LightGBM] [Info] Total Bins 207639\n",
            "[LightGBM] [Info] Number of data points in the train set: 39278, number of used features: 2228\n",
            "[LightGBM] [Info] [binary:BoostFromScore]: pavg=0.421763 -> initscore=-0.315541\n",
            "[LightGBM] [Info] Start training from score -0.315541\n",
            "[LightGBM] [Warning] min_data_in_leaf is set=68, min_child_samples=20 will be ignored. Current value: min_data_in_leaf=68\n",
            "[LightGBM] [Warning] feature_fraction is set=0.554895297513024, colsample_bytree=1.0 will be ignored. Current value: feature_fraction=0.554895297513024\n",
            "[LightGBM] [Warning] lambda_l2 is set=1.083650788856549e-08, reg_lambda=0.0 will be ignored. Current value: lambda_l2=1.083650788856549e-08\n",
            "[LightGBM] [Warning] lambda_l1 is set=0.3250133246098369, reg_alpha=0.0 will be ignored. Current value: lambda_l1=0.3250133246098369\n",
            "[LightGBM] [Warning] bagging_fraction is set=0.6707843335969422, subsample=1.0 will be ignored. Current value: bagging_fraction=0.6707843335969422\n",
            "[LightGBM] [Warning] bagging_freq is set=7, subsample_freq=0 will be ignored. Current value: bagging_freq=7\n",
            "[LightGBM] [Warning] feature_fraction is set=0.554895297513024, colsample_bytree=1.0 will be ignored. Current value: feature_fraction=0.554895297513024\n",
            "[LightGBM] [Warning] lambda_l2 is set=1.083650788856549e-08, reg_lambda=0.0 will be ignored. Current value: lambda_l2=1.083650788856549e-08\n",
            "[LightGBM] [Warning] min_data_in_leaf is set=68, min_child_samples=20 will be ignored. Current value: min_data_in_leaf=68\n",
            "[LightGBM] [Warning] lambda_l1 is set=0.3250133246098369, reg_alpha=0.0 will be ignored. Current value: lambda_l1=0.3250133246098369\n",
            "[LightGBM] [Warning] num_iterations is set=79, num_iteration=79 will be ignored. Current value: num_iterations=79\n",
            "[LightGBM] [Warning] bagging_fraction is set=0.6707843335969422, subsample=1.0 will be ignored. Current value: bagging_fraction=0.6707843335969422\n",
            "[LightGBM] [Warning] bagging_freq is set=7, subsample_freq=0 will be ignored. Current value: bagging_freq=7\n"
          ]
        },
        {
          "output_type": "stream",
          "name": "stderr",
          "text": [
            "/usr/local/lib/python3.10/dist-packages/lightgbm/engine.py:172: UserWarning: Found `num_iteration` in params. Will use it instead of argument\n",
            "  _log_warning(f\"Found `{alias}` in params. Will use it instead of argument\")\n"
          ]
        },
        {
          "output_type": "stream",
          "name": "stdout",
          "text": [
            "[LightGBM] [Warning] min_data_in_leaf is set=68, min_child_samples=20 will be ignored. Current value: min_data_in_leaf=68\n",
            "[LightGBM] [Warning] feature_fraction is set=0.554895297513024, colsample_bytree=1.0 will be ignored. Current value: feature_fraction=0.554895297513024\n",
            "[LightGBM] [Warning] lambda_l2 is set=1.083650788856549e-08, reg_lambda=0.0 will be ignored. Current value: lambda_l2=1.083650788856549e-08\n",
            "[LightGBM] [Warning] lambda_l1 is set=0.3250133246098369, reg_alpha=0.0 will be ignored. Current value: lambda_l1=0.3250133246098369\n",
            "[LightGBM] [Warning] bagging_fraction is set=0.6707843335969422, subsample=1.0 will be ignored. Current value: bagging_fraction=0.6707843335969422\n",
            "[LightGBM] [Warning] bagging_freq is set=7, subsample_freq=0 will be ignored. Current value: bagging_freq=7\n",
            "[LightGBM] [Info] Number of positive: 16566, number of negative: 22712\n",
            "[LightGBM] [Info] Auto-choosing col-wise multi-threading, the overhead of testing was 0.521022 seconds.\n",
            "You can set `force_col_wise=true` to remove the overhead.\n",
            "[LightGBM] [Info] Total Bins 206237\n",
            "[LightGBM] [Info] Number of data points in the train set: 39278, number of used features: 2199\n",
            "[LightGBM] [Info] [binary:BoostFromScore]: pavg=0.421763 -> initscore=-0.315541\n",
            "[LightGBM] [Info] Start training from score -0.315541\n",
            "[LightGBM] [Warning] min_data_in_leaf is set=68, min_child_samples=20 will be ignored. Current value: min_data_in_leaf=68\n",
            "[LightGBM] [Warning] feature_fraction is set=0.554895297513024, colsample_bytree=1.0 will be ignored. Current value: feature_fraction=0.554895297513024\n",
            "[LightGBM] [Warning] lambda_l2 is set=1.083650788856549e-08, reg_lambda=0.0 will be ignored. Current value: lambda_l2=1.083650788856549e-08\n",
            "[LightGBM] [Warning] lambda_l1 is set=0.3250133246098369, reg_alpha=0.0 will be ignored. Current value: lambda_l1=0.3250133246098369\n",
            "[LightGBM] [Warning] bagging_fraction is set=0.6707843335969422, subsample=1.0 will be ignored. Current value: bagging_fraction=0.6707843335969422\n",
            "[LightGBM] [Warning] bagging_freq is set=7, subsample_freq=0 will be ignored. Current value: bagging_freq=7\n",
            "[LightGBM] [Warning] feature_fraction is set=0.554895297513024, colsample_bytree=1.0 will be ignored. Current value: feature_fraction=0.554895297513024\n",
            "[LightGBM] [Warning] lambda_l2 is set=1.083650788856549e-08, reg_lambda=0.0 will be ignored. Current value: lambda_l2=1.083650788856549e-08\n",
            "[LightGBM] [Warning] min_data_in_leaf is set=68, min_child_samples=20 will be ignored. Current value: min_data_in_leaf=68\n",
            "[LightGBM] [Warning] lambda_l1 is set=0.3250133246098369, reg_alpha=0.0 will be ignored. Current value: lambda_l1=0.3250133246098369\n",
            "[LightGBM] [Warning] num_iterations is set=79, num_iteration=79 will be ignored. Current value: num_iterations=79\n",
            "[LightGBM] [Warning] bagging_fraction is set=0.6707843335969422, subsample=1.0 will be ignored. Current value: bagging_fraction=0.6707843335969422\n",
            "[LightGBM] [Warning] bagging_freq is set=7, subsample_freq=0 will be ignored. Current value: bagging_freq=7\n"
          ]
        },
        {
          "output_type": "stream",
          "name": "stderr",
          "text": [
            "/usr/local/lib/python3.10/dist-packages/lightgbm/engine.py:172: UserWarning: Found `num_iteration` in params. Will use it instead of argument\n",
            "  _log_warning(f\"Found `{alias}` in params. Will use it instead of argument\")\n"
          ]
        },
        {
          "output_type": "stream",
          "name": "stdout",
          "text": [
            "[LightGBM] [Warning] min_data_in_leaf is set=68, min_child_samples=20 will be ignored. Current value: min_data_in_leaf=68\n",
            "[LightGBM] [Warning] feature_fraction is set=0.554895297513024, colsample_bytree=1.0 will be ignored. Current value: feature_fraction=0.554895297513024\n",
            "[LightGBM] [Warning] lambda_l2 is set=1.083650788856549e-08, reg_lambda=0.0 will be ignored. Current value: lambda_l2=1.083650788856549e-08\n",
            "[LightGBM] [Warning] lambda_l1 is set=0.3250133246098369, reg_alpha=0.0 will be ignored. Current value: lambda_l1=0.3250133246098369\n",
            "[LightGBM] [Warning] bagging_fraction is set=0.6707843335969422, subsample=1.0 will be ignored. Current value: bagging_fraction=0.6707843335969422\n",
            "[LightGBM] [Warning] bagging_freq is set=7, subsample_freq=0 will be ignored. Current value: bagging_freq=7\n",
            "[LightGBM] [Info] Number of positive: 16566, number of negative: 22712\n",
            "[LightGBM] [Info] Auto-choosing col-wise multi-threading, the overhead of testing was 0.515201 seconds.\n",
            "You can set `force_col_wise=true` to remove the overhead.\n",
            "[LightGBM] [Info] Total Bins 206561\n",
            "[LightGBM] [Info] Number of data points in the train set: 39278, number of used features: 2210\n",
            "[LightGBM] [Info] [binary:BoostFromScore]: pavg=0.421763 -> initscore=-0.315541\n",
            "[LightGBM] [Info] Start training from score -0.315541\n"
          ]
        },
        {
          "output_type": "stream",
          "name": "stderr",
          "text": [
            "[I 2024-03-31 00:54:38,893] Trial 9 finished with value: 0.8224156711912685 and parameters: {'num_leaves': 79, 'lambda_l1': 0.3250133246098369, 'lambda_l2': 1.083650788856549e-08, 'feature_fraction': 0.554895297513024, 'bagging_fraction': 0.6707843335969422, 'bagging_freq': 7, 'min_child_samples': 68, 'class_weight': None}. Best is trial 9 with value: 0.8224156711912685.\n"
          ]
        },
        {
          "output_type": "stream",
          "name": "stdout",
          "text": [
            "[LightGBM] [Warning] min_data_in_leaf is set=68, min_child_samples=20 will be ignored. Current value: min_data_in_leaf=68\n",
            "[LightGBM] [Warning] feature_fraction is set=0.554895297513024, colsample_bytree=1.0 will be ignored. Current value: feature_fraction=0.554895297513024\n",
            "[LightGBM] [Warning] lambda_l2 is set=1.083650788856549e-08, reg_lambda=0.0 will be ignored. Current value: lambda_l2=1.083650788856549e-08\n",
            "[LightGBM] [Warning] lambda_l1 is set=0.3250133246098369, reg_alpha=0.0 will be ignored. Current value: lambda_l1=0.3250133246098369\n",
            "[LightGBM] [Warning] bagging_fraction is set=0.6707843335969422, subsample=1.0 will be ignored. Current value: bagging_fraction=0.6707843335969422\n",
            "[LightGBM] [Warning] bagging_freq is set=7, subsample_freq=0 will be ignored. Current value: bagging_freq=7\n",
            "[LightGBM] [Warning] feature_fraction is set=0.4300324396095686, colsample_bytree=1.0 will be ignored. Current value: feature_fraction=0.4300324396095686\n",
            "[LightGBM] [Warning] lambda_l2 is set=0.0005384409534462252, reg_lambda=0.0 will be ignored. Current value: lambda_l2=0.0005384409534462252\n",
            "[LightGBM] [Warning] min_data_in_leaf is set=99, min_child_samples=20 will be ignored. Current value: min_data_in_leaf=99\n",
            "[LightGBM] [Warning] lambda_l1 is set=0.007780269014614097, reg_alpha=0.0 will be ignored. Current value: lambda_l1=0.007780269014614097\n",
            "[LightGBM] [Warning] num_iterations is set=70, num_iteration=70 will be ignored. Current value: num_iterations=70\n",
            "[LightGBM] [Warning] bagging_fraction is set=0.9843993659784831, subsample=1.0 will be ignored. Current value: bagging_fraction=0.9843993659784831\n",
            "[LightGBM] [Warning] bagging_freq is set=4, subsample_freq=0 will be ignored. Current value: bagging_freq=4\n"
          ]
        },
        {
          "output_type": "stream",
          "name": "stderr",
          "text": [
            "<ipython-input-46-a40d882ac625>:7: FutureWarning: suggest_loguniform has been deprecated in v3.0.0. This feature will be removed in v6.0.0. See https://github.com/optuna/optuna/releases/tag/v3.0.0. Use suggest_float(..., log=True) instead.\n",
            "  'lambda_l1': trial.suggest_loguniform('lambda_l1', 1e-8, 5.0),\n",
            "<ipython-input-46-a40d882ac625>:8: FutureWarning: suggest_loguniform has been deprecated in v3.0.0. This feature will be removed in v6.0.0. See https://github.com/optuna/optuna/releases/tag/v3.0.0. Use suggest_float(..., log=True) instead.\n",
            "  'lambda_l2': trial.suggest_loguniform('lambda_l2', 1e-8, 5.0),\n",
            "/usr/local/lib/python3.10/dist-packages/optuna/trial/_trial.py:676: RuntimeWarning: Inconsistent parameter values for distribution with name \"num_leaves\"! This might be a configuration mistake. Optuna allows to call the same distribution with the same name more than once in a trial. When the parameter values are inconsistent optuna only uses the values of the first call and ignores all following. Using these values: {'log': False, 'step': 1, 'low': 70, 'high': 150}\n",
            "  warnings.warn(\n",
            "<ipython-input-46-a40d882ac625>:10: FutureWarning: suggest_uniform has been deprecated in v3.0.0. This feature will be removed in v6.0.0. See https://github.com/optuna/optuna/releases/tag/v3.0.0. Use suggest_float instead.\n",
            "  'feature_fraction': trial.suggest_uniform('feature_fraction', 0.1, 1.0),\n",
            "<ipython-input-46-a40d882ac625>:11: FutureWarning: suggest_uniform has been deprecated in v3.0.0. This feature will be removed in v6.0.0. See https://github.com/optuna/optuna/releases/tag/v3.0.0. Use suggest_float instead.\n",
            "  'bagging_fraction': trial.suggest_uniform('bagging_fraction', 0.1, 1.0),\n",
            "/usr/local/lib/python3.10/dist-packages/lightgbm/engine.py:172: UserWarning: Found `num_iteration` in params. Will use it instead of argument\n",
            "  _log_warning(f\"Found `{alias}` in params. Will use it instead of argument\")\n"
          ]
        },
        {
          "output_type": "stream",
          "name": "stdout",
          "text": [
            "[LightGBM] [Warning] min_data_in_leaf is set=99, min_child_samples=20 will be ignored. Current value: min_data_in_leaf=99\n",
            "[LightGBM] [Warning] feature_fraction is set=0.4300324396095686, colsample_bytree=1.0 will be ignored. Current value: feature_fraction=0.4300324396095686\n",
            "[LightGBM] [Warning] lambda_l2 is set=0.0005384409534462252, reg_lambda=0.0 will be ignored. Current value: lambda_l2=0.0005384409534462252\n",
            "[LightGBM] [Warning] lambda_l1 is set=0.007780269014614097, reg_alpha=0.0 will be ignored. Current value: lambda_l1=0.007780269014614097\n",
            "[LightGBM] [Warning] bagging_fraction is set=0.9843993659784831, subsample=1.0 will be ignored. Current value: bagging_fraction=0.9843993659784831\n",
            "[LightGBM] [Warning] bagging_freq is set=4, subsample_freq=0 will be ignored. Current value: bagging_freq=4\n",
            "[LightGBM] [Info] Number of positive: 16565, number of negative: 22712\n",
            "[LightGBM] [Info] Auto-choosing row-wise multi-threading, the overhead of testing was 0.411086 seconds.\n",
            "You can set `force_row_wise=true` to remove the overhead.\n",
            "And if memory is not enough, you can set `force_col_wise=true`.\n",
            "[LightGBM] [Info] Total Bins 193983\n",
            "[LightGBM] [Info] Number of data points in the train set: 39277, number of used features: 1735\n",
            "[LightGBM] [Info] [binary:BoostFromScore]: pavg=0.421748 -> initscore=-0.315601\n",
            "[LightGBM] [Info] Start training from score -0.315601\n",
            "[LightGBM] [Warning] min_data_in_leaf is set=99, min_child_samples=20 will be ignored. Current value: min_data_in_leaf=99\n",
            "[LightGBM] [Warning] feature_fraction is set=0.4300324396095686, colsample_bytree=1.0 will be ignored. Current value: feature_fraction=0.4300324396095686\n",
            "[LightGBM] [Warning] lambda_l2 is set=0.0005384409534462252, reg_lambda=0.0 will be ignored. Current value: lambda_l2=0.0005384409534462252\n",
            "[LightGBM] [Warning] lambda_l1 is set=0.007780269014614097, reg_alpha=0.0 will be ignored. Current value: lambda_l1=0.007780269014614097\n",
            "[LightGBM] [Warning] bagging_fraction is set=0.9843993659784831, subsample=1.0 will be ignored. Current value: bagging_fraction=0.9843993659784831\n",
            "[LightGBM] [Warning] bagging_freq is set=4, subsample_freq=0 will be ignored. Current value: bagging_freq=4\n",
            "[LightGBM] [Warning] feature_fraction is set=0.4300324396095686, colsample_bytree=1.0 will be ignored. Current value: feature_fraction=0.4300324396095686\n",
            "[LightGBM] [Warning] lambda_l2 is set=0.0005384409534462252, reg_lambda=0.0 will be ignored. Current value: lambda_l2=0.0005384409534462252\n",
            "[LightGBM] [Warning] min_data_in_leaf is set=99, min_child_samples=20 will be ignored. Current value: min_data_in_leaf=99\n",
            "[LightGBM] [Warning] lambda_l1 is set=0.007780269014614097, reg_alpha=0.0 will be ignored. Current value: lambda_l1=0.007780269014614097\n",
            "[LightGBM] [Warning] num_iterations is set=70, num_iteration=70 will be ignored. Current value: num_iterations=70\n",
            "[LightGBM] [Warning] bagging_fraction is set=0.9843993659784831, subsample=1.0 will be ignored. Current value: bagging_fraction=0.9843993659784831\n",
            "[LightGBM] [Warning] bagging_freq is set=4, subsample_freq=0 will be ignored. Current value: bagging_freq=4\n"
          ]
        },
        {
          "output_type": "stream",
          "name": "stderr",
          "text": [
            "/usr/local/lib/python3.10/dist-packages/lightgbm/engine.py:172: UserWarning: Found `num_iteration` in params. Will use it instead of argument\n",
            "  _log_warning(f\"Found `{alias}` in params. Will use it instead of argument\")\n"
          ]
        },
        {
          "output_type": "stream",
          "name": "stdout",
          "text": [
            "[LightGBM] [Warning] min_data_in_leaf is set=99, min_child_samples=20 will be ignored. Current value: min_data_in_leaf=99\n",
            "[LightGBM] [Warning] feature_fraction is set=0.4300324396095686, colsample_bytree=1.0 will be ignored. Current value: feature_fraction=0.4300324396095686\n",
            "[LightGBM] [Warning] lambda_l2 is set=0.0005384409534462252, reg_lambda=0.0 will be ignored. Current value: lambda_l2=0.0005384409534462252\n",
            "[LightGBM] [Warning] lambda_l1 is set=0.007780269014614097, reg_alpha=0.0 will be ignored. Current value: lambda_l1=0.007780269014614097\n",
            "[LightGBM] [Warning] bagging_fraction is set=0.9843993659784831, subsample=1.0 will be ignored. Current value: bagging_fraction=0.9843993659784831\n",
            "[LightGBM] [Warning] bagging_freq is set=4, subsample_freq=0 will be ignored. Current value: bagging_freq=4\n",
            "[LightGBM] [Info] Number of positive: 16565, number of negative: 22712\n",
            "[LightGBM] [Info] Auto-choosing row-wise multi-threading, the overhead of testing was 0.412700 seconds.\n",
            "You can set `force_row_wise=true` to remove the overhead.\n",
            "And if memory is not enough, you can set `force_col_wise=true`.\n",
            "[LightGBM] [Info] Total Bins 192929\n",
            "[LightGBM] [Info] Number of data points in the train set: 39277, number of used features: 1728\n",
            "[LightGBM] [Info] [binary:BoostFromScore]: pavg=0.421748 -> initscore=-0.315601\n",
            "[LightGBM] [Info] Start training from score -0.315601\n",
            "[LightGBM] [Warning] min_data_in_leaf is set=99, min_child_samples=20 will be ignored. Current value: min_data_in_leaf=99\n",
            "[LightGBM] [Warning] feature_fraction is set=0.4300324396095686, colsample_bytree=1.0 will be ignored. Current value: feature_fraction=0.4300324396095686\n",
            "[LightGBM] [Warning] lambda_l2 is set=0.0005384409534462252, reg_lambda=0.0 will be ignored. Current value: lambda_l2=0.0005384409534462252\n",
            "[LightGBM] [Warning] lambda_l1 is set=0.007780269014614097, reg_alpha=0.0 will be ignored. Current value: lambda_l1=0.007780269014614097\n",
            "[LightGBM] [Warning] bagging_fraction is set=0.9843993659784831, subsample=1.0 will be ignored. Current value: bagging_fraction=0.9843993659784831\n",
            "[LightGBM] [Warning] bagging_freq is set=4, subsample_freq=0 will be ignored. Current value: bagging_freq=4\n",
            "[LightGBM] [Warning] feature_fraction is set=0.4300324396095686, colsample_bytree=1.0 will be ignored. Current value: feature_fraction=0.4300324396095686\n",
            "[LightGBM] [Warning] lambda_l2 is set=0.0005384409534462252, reg_lambda=0.0 will be ignored. Current value: lambda_l2=0.0005384409534462252\n",
            "[LightGBM] [Warning] min_data_in_leaf is set=99, min_child_samples=20 will be ignored. Current value: min_data_in_leaf=99\n",
            "[LightGBM] [Warning] lambda_l1 is set=0.007780269014614097, reg_alpha=0.0 will be ignored. Current value: lambda_l1=0.007780269014614097\n",
            "[LightGBM] [Warning] num_iterations is set=70, num_iteration=70 will be ignored. Current value: num_iterations=70\n",
            "[LightGBM] [Warning] bagging_fraction is set=0.9843993659784831, subsample=1.0 will be ignored. Current value: bagging_fraction=0.9843993659784831\n",
            "[LightGBM] [Warning] bagging_freq is set=4, subsample_freq=0 will be ignored. Current value: bagging_freq=4\n"
          ]
        },
        {
          "output_type": "stream",
          "name": "stderr",
          "text": [
            "/usr/local/lib/python3.10/dist-packages/lightgbm/engine.py:172: UserWarning: Found `num_iteration` in params. Will use it instead of argument\n",
            "  _log_warning(f\"Found `{alias}` in params. Will use it instead of argument\")\n"
          ]
        },
        {
          "output_type": "stream",
          "name": "stdout",
          "text": [
            "[LightGBM] [Warning] min_data_in_leaf is set=99, min_child_samples=20 will be ignored. Current value: min_data_in_leaf=99\n",
            "[LightGBM] [Warning] feature_fraction is set=0.4300324396095686, colsample_bytree=1.0 will be ignored. Current value: feature_fraction=0.4300324396095686\n",
            "[LightGBM] [Warning] lambda_l2 is set=0.0005384409534462252, reg_lambda=0.0 will be ignored. Current value: lambda_l2=0.0005384409534462252\n",
            "[LightGBM] [Warning] lambda_l1 is set=0.007780269014614097, reg_alpha=0.0 will be ignored. Current value: lambda_l1=0.007780269014614097\n",
            "[LightGBM] [Warning] bagging_fraction is set=0.9843993659784831, subsample=1.0 will be ignored. Current value: bagging_fraction=0.9843993659784831\n",
            "[LightGBM] [Warning] bagging_freq is set=4, subsample_freq=0 will be ignored. Current value: bagging_freq=4\n",
            "[LightGBM] [Info] Number of positive: 16566, number of negative: 22712\n",
            "[LightGBM] [Info] Auto-choosing row-wise multi-threading, the overhead of testing was 0.422313 seconds.\n",
            "You can set `force_row_wise=true` to remove the overhead.\n",
            "And if memory is not enough, you can set `force_col_wise=true`.\n",
            "[LightGBM] [Info] Total Bins 194136\n",
            "[LightGBM] [Info] Number of data points in the train set: 39278, number of used features: 1740\n",
            "[LightGBM] [Info] [binary:BoostFromScore]: pavg=0.421763 -> initscore=-0.315541\n",
            "[LightGBM] [Info] Start training from score -0.315541\n",
            "[LightGBM] [Warning] min_data_in_leaf is set=99, min_child_samples=20 will be ignored. Current value: min_data_in_leaf=99\n",
            "[LightGBM] [Warning] feature_fraction is set=0.4300324396095686, colsample_bytree=1.0 will be ignored. Current value: feature_fraction=0.4300324396095686\n",
            "[LightGBM] [Warning] lambda_l2 is set=0.0005384409534462252, reg_lambda=0.0 will be ignored. Current value: lambda_l2=0.0005384409534462252\n",
            "[LightGBM] [Warning] lambda_l1 is set=0.007780269014614097, reg_alpha=0.0 will be ignored. Current value: lambda_l1=0.007780269014614097\n",
            "[LightGBM] [Warning] bagging_fraction is set=0.9843993659784831, subsample=1.0 will be ignored. Current value: bagging_fraction=0.9843993659784831\n",
            "[LightGBM] [Warning] bagging_freq is set=4, subsample_freq=0 will be ignored. Current value: bagging_freq=4\n",
            "[LightGBM] [Warning] feature_fraction is set=0.4300324396095686, colsample_bytree=1.0 will be ignored. Current value: feature_fraction=0.4300324396095686\n",
            "[LightGBM] [Warning] lambda_l2 is set=0.0005384409534462252, reg_lambda=0.0 will be ignored. Current value: lambda_l2=0.0005384409534462252\n",
            "[LightGBM] [Warning] min_data_in_leaf is set=99, min_child_samples=20 will be ignored. Current value: min_data_in_leaf=99\n",
            "[LightGBM] [Warning] lambda_l1 is set=0.007780269014614097, reg_alpha=0.0 will be ignored. Current value: lambda_l1=0.007780269014614097\n",
            "[LightGBM] [Warning] num_iterations is set=70, num_iteration=70 will be ignored. Current value: num_iterations=70\n",
            "[LightGBM] [Warning] bagging_fraction is set=0.9843993659784831, subsample=1.0 will be ignored. Current value: bagging_fraction=0.9843993659784831\n",
            "[LightGBM] [Warning] bagging_freq is set=4, subsample_freq=0 will be ignored. Current value: bagging_freq=4\n"
          ]
        },
        {
          "output_type": "stream",
          "name": "stderr",
          "text": [
            "/usr/local/lib/python3.10/dist-packages/lightgbm/engine.py:172: UserWarning: Found `num_iteration` in params. Will use it instead of argument\n",
            "  _log_warning(f\"Found `{alias}` in params. Will use it instead of argument\")\n"
          ]
        },
        {
          "output_type": "stream",
          "name": "stdout",
          "text": [
            "[LightGBM] [Warning] min_data_in_leaf is set=99, min_child_samples=20 will be ignored. Current value: min_data_in_leaf=99\n",
            "[LightGBM] [Warning] feature_fraction is set=0.4300324396095686, colsample_bytree=1.0 will be ignored. Current value: feature_fraction=0.4300324396095686\n",
            "[LightGBM] [Warning] lambda_l2 is set=0.0005384409534462252, reg_lambda=0.0 will be ignored. Current value: lambda_l2=0.0005384409534462252\n",
            "[LightGBM] [Warning] lambda_l1 is set=0.007780269014614097, reg_alpha=0.0 will be ignored. Current value: lambda_l1=0.007780269014614097\n",
            "[LightGBM] [Warning] bagging_fraction is set=0.9843993659784831, subsample=1.0 will be ignored. Current value: bagging_fraction=0.9843993659784831\n",
            "[LightGBM] [Warning] bagging_freq is set=4, subsample_freq=0 will be ignored. Current value: bagging_freq=4\n",
            "[LightGBM] [Info] Number of positive: 16566, number of negative: 22712\n",
            "[LightGBM] [Info] Auto-choosing row-wise multi-threading, the overhead of testing was 0.388505 seconds.\n",
            "You can set `force_row_wise=true` to remove the overhead.\n",
            "And if memory is not enough, you can set `force_col_wise=true`.\n",
            "[LightGBM] [Info] Total Bins 193086\n",
            "[LightGBM] [Info] Number of data points in the train set: 39278, number of used features: 1727\n",
            "[LightGBM] [Info] [binary:BoostFromScore]: pavg=0.421763 -> initscore=-0.315541\n",
            "[LightGBM] [Info] Start training from score -0.315541\n",
            "[LightGBM] [Warning] min_data_in_leaf is set=99, min_child_samples=20 will be ignored. Current value: min_data_in_leaf=99\n",
            "[LightGBM] [Warning] feature_fraction is set=0.4300324396095686, colsample_bytree=1.0 will be ignored. Current value: feature_fraction=0.4300324396095686\n",
            "[LightGBM] [Warning] lambda_l2 is set=0.0005384409534462252, reg_lambda=0.0 will be ignored. Current value: lambda_l2=0.0005384409534462252\n",
            "[LightGBM] [Warning] lambda_l1 is set=0.007780269014614097, reg_alpha=0.0 will be ignored. Current value: lambda_l1=0.007780269014614097\n",
            "[LightGBM] [Warning] bagging_fraction is set=0.9843993659784831, subsample=1.0 will be ignored. Current value: bagging_fraction=0.9843993659784831\n",
            "[LightGBM] [Warning] bagging_freq is set=4, subsample_freq=0 will be ignored. Current value: bagging_freq=4\n",
            "[LightGBM] [Warning] feature_fraction is set=0.4300324396095686, colsample_bytree=1.0 will be ignored. Current value: feature_fraction=0.4300324396095686\n",
            "[LightGBM] [Warning] lambda_l2 is set=0.0005384409534462252, reg_lambda=0.0 will be ignored. Current value: lambda_l2=0.0005384409534462252\n",
            "[LightGBM] [Warning] min_data_in_leaf is set=99, min_child_samples=20 will be ignored. Current value: min_data_in_leaf=99\n",
            "[LightGBM] [Warning] lambda_l1 is set=0.007780269014614097, reg_alpha=0.0 will be ignored. Current value: lambda_l1=0.007780269014614097\n",
            "[LightGBM] [Warning] num_iterations is set=70, num_iteration=70 will be ignored. Current value: num_iterations=70\n",
            "[LightGBM] [Warning] bagging_fraction is set=0.9843993659784831, subsample=1.0 will be ignored. Current value: bagging_fraction=0.9843993659784831\n",
            "[LightGBM] [Warning] bagging_freq is set=4, subsample_freq=0 will be ignored. Current value: bagging_freq=4\n"
          ]
        },
        {
          "output_type": "stream",
          "name": "stderr",
          "text": [
            "/usr/local/lib/python3.10/dist-packages/lightgbm/engine.py:172: UserWarning: Found `num_iteration` in params. Will use it instead of argument\n",
            "  _log_warning(f\"Found `{alias}` in params. Will use it instead of argument\")\n"
          ]
        },
        {
          "output_type": "stream",
          "name": "stdout",
          "text": [
            "[LightGBM] [Warning] min_data_in_leaf is set=99, min_child_samples=20 will be ignored. Current value: min_data_in_leaf=99\n",
            "[LightGBM] [Warning] feature_fraction is set=0.4300324396095686, colsample_bytree=1.0 will be ignored. Current value: feature_fraction=0.4300324396095686\n",
            "[LightGBM] [Warning] lambda_l2 is set=0.0005384409534462252, reg_lambda=0.0 will be ignored. Current value: lambda_l2=0.0005384409534462252\n",
            "[LightGBM] [Warning] lambda_l1 is set=0.007780269014614097, reg_alpha=0.0 will be ignored. Current value: lambda_l1=0.007780269014614097\n",
            "[LightGBM] [Warning] bagging_fraction is set=0.9843993659784831, subsample=1.0 will be ignored. Current value: bagging_fraction=0.9843993659784831\n",
            "[LightGBM] [Warning] bagging_freq is set=4, subsample_freq=0 will be ignored. Current value: bagging_freq=4\n",
            "[LightGBM] [Info] Number of positive: 16566, number of negative: 22712\n",
            "[LightGBM] [Info] Auto-choosing col-wise multi-threading, the overhead of testing was 0.413307 seconds.\n",
            "You can set `force_col_wise=true` to remove the overhead.\n",
            "[LightGBM] [Info] Total Bins 192757\n",
            "[LightGBM] [Info] Number of data points in the train set: 39278, number of used features: 1715\n",
            "[LightGBM] [Info] [binary:BoostFromScore]: pavg=0.421763 -> initscore=-0.315541\n",
            "[LightGBM] [Info] Start training from score -0.315541\n"
          ]
        },
        {
          "output_type": "stream",
          "name": "stderr",
          "text": [
            "[I 2024-03-31 00:55:42,560] Trial 10 finished with value: 0.8283651941254406 and parameters: {'num_leaves': 70, 'lambda_l1': 0.007780269014614097, 'lambda_l2': 0.0005384409534462252, 'feature_fraction': 0.4300324396095686, 'bagging_fraction': 0.9843993659784831, 'bagging_freq': 4, 'min_child_samples': 99, 'class_weight': None}. Best is trial 10 with value: 0.8283651941254406.\n"
          ]
        },
        {
          "output_type": "stream",
          "name": "stdout",
          "text": [
            "[LightGBM] [Warning] min_data_in_leaf is set=99, min_child_samples=20 will be ignored. Current value: min_data_in_leaf=99\n",
            "[LightGBM] [Warning] feature_fraction is set=0.4300324396095686, colsample_bytree=1.0 will be ignored. Current value: feature_fraction=0.4300324396095686\n",
            "[LightGBM] [Warning] lambda_l2 is set=0.0005384409534462252, reg_lambda=0.0 will be ignored. Current value: lambda_l2=0.0005384409534462252\n",
            "[LightGBM] [Warning] lambda_l1 is set=0.007780269014614097, reg_alpha=0.0 will be ignored. Current value: lambda_l1=0.007780269014614097\n",
            "[LightGBM] [Warning] bagging_fraction is set=0.9843993659784831, subsample=1.0 will be ignored. Current value: bagging_fraction=0.9843993659784831\n",
            "[LightGBM] [Warning] bagging_freq is set=4, subsample_freq=0 will be ignored. Current value: bagging_freq=4\n",
            "[LightGBM] [Warning] feature_fraction is set=0.35442874911685107, colsample_bytree=1.0 will be ignored. Current value: feature_fraction=0.35442874911685107\n",
            "[LightGBM] [Warning] lambda_l2 is set=2.9961041040555307, reg_lambda=0.0 will be ignored. Current value: lambda_l2=2.9961041040555307\n",
            "[LightGBM] [Warning] min_data_in_leaf is set=90, min_child_samples=20 will be ignored. Current value: min_data_in_leaf=90\n",
            "[LightGBM] [Warning] lambda_l1 is set=0.0090672937534877, reg_alpha=0.0 will be ignored. Current value: lambda_l1=0.0090672937534877\n",
            "[LightGBM] [Warning] num_iterations is set=70, num_iteration=70 will be ignored. Current value: num_iterations=70\n",
            "[LightGBM] [Warning] bagging_fraction is set=0.9994319236457065, subsample=1.0 will be ignored. Current value: bagging_fraction=0.9994319236457065\n",
            "[LightGBM] [Warning] bagging_freq is set=4, subsample_freq=0 will be ignored. Current value: bagging_freq=4\n"
          ]
        },
        {
          "output_type": "stream",
          "name": "stderr",
          "text": [
            "<ipython-input-46-a40d882ac625>:7: FutureWarning: suggest_loguniform has been deprecated in v3.0.0. This feature will be removed in v6.0.0. See https://github.com/optuna/optuna/releases/tag/v3.0.0. Use suggest_float(..., log=True) instead.\n",
            "  'lambda_l1': trial.suggest_loguniform('lambda_l1', 1e-8, 5.0),\n",
            "<ipython-input-46-a40d882ac625>:8: FutureWarning: suggest_loguniform has been deprecated in v3.0.0. This feature will be removed in v6.0.0. See https://github.com/optuna/optuna/releases/tag/v3.0.0. Use suggest_float(..., log=True) instead.\n",
            "  'lambda_l2': trial.suggest_loguniform('lambda_l2', 1e-8, 5.0),\n",
            "/usr/local/lib/python3.10/dist-packages/optuna/trial/_trial.py:676: RuntimeWarning: Inconsistent parameter values for distribution with name \"num_leaves\"! This might be a configuration mistake. Optuna allows to call the same distribution with the same name more than once in a trial. When the parameter values are inconsistent optuna only uses the values of the first call and ignores all following. Using these values: {'log': False, 'step': 1, 'low': 70, 'high': 150}\n",
            "  warnings.warn(\n",
            "<ipython-input-46-a40d882ac625>:10: FutureWarning: suggest_uniform has been deprecated in v3.0.0. This feature will be removed in v6.0.0. See https://github.com/optuna/optuna/releases/tag/v3.0.0. Use suggest_float instead.\n",
            "  'feature_fraction': trial.suggest_uniform('feature_fraction', 0.1, 1.0),\n",
            "<ipython-input-46-a40d882ac625>:11: FutureWarning: suggest_uniform has been deprecated in v3.0.0. This feature will be removed in v6.0.0. See https://github.com/optuna/optuna/releases/tag/v3.0.0. Use suggest_float instead.\n",
            "  'bagging_fraction': trial.suggest_uniform('bagging_fraction', 0.1, 1.0),\n",
            "/usr/local/lib/python3.10/dist-packages/lightgbm/engine.py:172: UserWarning: Found `num_iteration` in params. Will use it instead of argument\n",
            "  _log_warning(f\"Found `{alias}` in params. Will use it instead of argument\")\n"
          ]
        },
        {
          "output_type": "stream",
          "name": "stdout",
          "text": [
            "[LightGBM] [Warning] min_data_in_leaf is set=90, min_child_samples=20 will be ignored. Current value: min_data_in_leaf=90\n",
            "[LightGBM] [Warning] feature_fraction is set=0.35442874911685107, colsample_bytree=1.0 will be ignored. Current value: feature_fraction=0.35442874911685107\n",
            "[LightGBM] [Warning] lambda_l2 is set=2.9961041040555307, reg_lambda=0.0 will be ignored. Current value: lambda_l2=2.9961041040555307\n",
            "[LightGBM] [Warning] lambda_l1 is set=0.0090672937534877, reg_alpha=0.0 will be ignored. Current value: lambda_l1=0.0090672937534877\n",
            "[LightGBM] [Warning] bagging_fraction is set=0.9994319236457065, subsample=1.0 will be ignored. Current value: bagging_fraction=0.9994319236457065\n",
            "[LightGBM] [Warning] bagging_freq is set=4, subsample_freq=0 will be ignored. Current value: bagging_freq=4\n",
            "[LightGBM] [Info] Number of positive: 16565, number of negative: 22712\n",
            "[LightGBM] [Info] Auto-choosing row-wise multi-threading, the overhead of testing was 0.438441 seconds.\n",
            "You can set `force_row_wise=true` to remove the overhead.\n",
            "And if memory is not enough, you can set `force_col_wise=true`.\n",
            "[LightGBM] [Info] Total Bins 197466\n",
            "[LightGBM] [Info] Number of data points in the train set: 39277, number of used features: 1844\n",
            "[LightGBM] [Info] [binary:BoostFromScore]: pavg=0.421748 -> initscore=-0.315601\n",
            "[LightGBM] [Info] Start training from score -0.315601\n",
            "[LightGBM] [Warning] min_data_in_leaf is set=90, min_child_samples=20 will be ignored. Current value: min_data_in_leaf=90\n",
            "[LightGBM] [Warning] feature_fraction is set=0.35442874911685107, colsample_bytree=1.0 will be ignored. Current value: feature_fraction=0.35442874911685107\n",
            "[LightGBM] [Warning] lambda_l2 is set=2.9961041040555307, reg_lambda=0.0 will be ignored. Current value: lambda_l2=2.9961041040555307\n",
            "[LightGBM] [Warning] lambda_l1 is set=0.0090672937534877, reg_alpha=0.0 will be ignored. Current value: lambda_l1=0.0090672937534877\n",
            "[LightGBM] [Warning] bagging_fraction is set=0.9994319236457065, subsample=1.0 will be ignored. Current value: bagging_fraction=0.9994319236457065\n",
            "[LightGBM] [Warning] bagging_freq is set=4, subsample_freq=0 will be ignored. Current value: bagging_freq=4\n",
            "[LightGBM] [Warning] feature_fraction is set=0.35442874911685107, colsample_bytree=1.0 will be ignored. Current value: feature_fraction=0.35442874911685107\n",
            "[LightGBM] [Warning] lambda_l2 is set=2.9961041040555307, reg_lambda=0.0 will be ignored. Current value: lambda_l2=2.9961041040555307\n",
            "[LightGBM] [Warning] min_data_in_leaf is set=90, min_child_samples=20 will be ignored. Current value: min_data_in_leaf=90\n",
            "[LightGBM] [Warning] lambda_l1 is set=0.0090672937534877, reg_alpha=0.0 will be ignored. Current value: lambda_l1=0.0090672937534877\n",
            "[LightGBM] [Warning] num_iterations is set=70, num_iteration=70 will be ignored. Current value: num_iterations=70\n",
            "[LightGBM] [Warning] bagging_fraction is set=0.9994319236457065, subsample=1.0 will be ignored. Current value: bagging_fraction=0.9994319236457065\n",
            "[LightGBM] [Warning] bagging_freq is set=4, subsample_freq=0 will be ignored. Current value: bagging_freq=4\n"
          ]
        },
        {
          "output_type": "stream",
          "name": "stderr",
          "text": [
            "/usr/local/lib/python3.10/dist-packages/lightgbm/engine.py:172: UserWarning: Found `num_iteration` in params. Will use it instead of argument\n",
            "  _log_warning(f\"Found `{alias}` in params. Will use it instead of argument\")\n"
          ]
        },
        {
          "output_type": "stream",
          "name": "stdout",
          "text": [
            "[LightGBM] [Warning] min_data_in_leaf is set=90, min_child_samples=20 will be ignored. Current value: min_data_in_leaf=90\n",
            "[LightGBM] [Warning] feature_fraction is set=0.35442874911685107, colsample_bytree=1.0 will be ignored. Current value: feature_fraction=0.35442874911685107\n",
            "[LightGBM] [Warning] lambda_l2 is set=2.9961041040555307, reg_lambda=0.0 will be ignored. Current value: lambda_l2=2.9961041040555307\n",
            "[LightGBM] [Warning] lambda_l1 is set=0.0090672937534877, reg_alpha=0.0 will be ignored. Current value: lambda_l1=0.0090672937534877\n",
            "[LightGBM] [Warning] bagging_fraction is set=0.9994319236457065, subsample=1.0 will be ignored. Current value: bagging_fraction=0.9994319236457065\n",
            "[LightGBM] [Warning] bagging_freq is set=4, subsample_freq=0 will be ignored. Current value: bagging_freq=4\n",
            "[LightGBM] [Info] Number of positive: 16565, number of negative: 22712\n",
            "[LightGBM] [Info] Auto-choosing row-wise multi-threading, the overhead of testing was 0.416473 seconds.\n",
            "You can set `force_row_wise=true` to remove the overhead.\n",
            "And if memory is not enough, you can set `force_col_wise=true`.\n",
            "[LightGBM] [Info] Total Bins 196346\n",
            "[LightGBM] [Info] Number of data points in the train set: 39277, number of used features: 1835\n",
            "[LightGBM] [Info] [binary:BoostFromScore]: pavg=0.421748 -> initscore=-0.315601\n",
            "[LightGBM] [Info] Start training from score -0.315601\n",
            "[LightGBM] [Warning] min_data_in_leaf is set=90, min_child_samples=20 will be ignored. Current value: min_data_in_leaf=90\n",
            "[LightGBM] [Warning] feature_fraction is set=0.35442874911685107, colsample_bytree=1.0 will be ignored. Current value: feature_fraction=0.35442874911685107\n",
            "[LightGBM] [Warning] lambda_l2 is set=2.9961041040555307, reg_lambda=0.0 will be ignored. Current value: lambda_l2=2.9961041040555307\n",
            "[LightGBM] [Warning] lambda_l1 is set=0.0090672937534877, reg_alpha=0.0 will be ignored. Current value: lambda_l1=0.0090672937534877\n",
            "[LightGBM] [Warning] bagging_fraction is set=0.9994319236457065, subsample=1.0 will be ignored. Current value: bagging_fraction=0.9994319236457065\n",
            "[LightGBM] [Warning] bagging_freq is set=4, subsample_freq=0 will be ignored. Current value: bagging_freq=4\n",
            "[LightGBM] [Warning] feature_fraction is set=0.35442874911685107, colsample_bytree=1.0 will be ignored. Current value: feature_fraction=0.35442874911685107\n",
            "[LightGBM] [Warning] lambda_l2 is set=2.9961041040555307, reg_lambda=0.0 will be ignored. Current value: lambda_l2=2.9961041040555307\n",
            "[LightGBM] [Warning] min_data_in_leaf is set=90, min_child_samples=20 will be ignored. Current value: min_data_in_leaf=90\n",
            "[LightGBM] [Warning] lambda_l1 is set=0.0090672937534877, reg_alpha=0.0 will be ignored. Current value: lambda_l1=0.0090672937534877\n",
            "[LightGBM] [Warning] num_iterations is set=70, num_iteration=70 will be ignored. Current value: num_iterations=70\n",
            "[LightGBM] [Warning] bagging_fraction is set=0.9994319236457065, subsample=1.0 will be ignored. Current value: bagging_fraction=0.9994319236457065\n",
            "[LightGBM] [Warning] bagging_freq is set=4, subsample_freq=0 will be ignored. Current value: bagging_freq=4\n"
          ]
        },
        {
          "output_type": "stream",
          "name": "stderr",
          "text": [
            "/usr/local/lib/python3.10/dist-packages/lightgbm/engine.py:172: UserWarning: Found `num_iteration` in params. Will use it instead of argument\n",
            "  _log_warning(f\"Found `{alias}` in params. Will use it instead of argument\")\n"
          ]
        },
        {
          "output_type": "stream",
          "name": "stdout",
          "text": [
            "[LightGBM] [Warning] min_data_in_leaf is set=90, min_child_samples=20 will be ignored. Current value: min_data_in_leaf=90\n",
            "[LightGBM] [Warning] feature_fraction is set=0.35442874911685107, colsample_bytree=1.0 will be ignored. Current value: feature_fraction=0.35442874911685107\n",
            "[LightGBM] [Warning] lambda_l2 is set=2.9961041040555307, reg_lambda=0.0 will be ignored. Current value: lambda_l2=2.9961041040555307\n",
            "[LightGBM] [Warning] lambda_l1 is set=0.0090672937534877, reg_alpha=0.0 will be ignored. Current value: lambda_l1=0.0090672937534877\n",
            "[LightGBM] [Warning] bagging_fraction is set=0.9994319236457065, subsample=1.0 will be ignored. Current value: bagging_fraction=0.9994319236457065\n",
            "[LightGBM] [Warning] bagging_freq is set=4, subsample_freq=0 will be ignored. Current value: bagging_freq=4\n",
            "[LightGBM] [Info] Number of positive: 16566, number of negative: 22712\n",
            "[LightGBM] [Info] Auto-choosing row-wise multi-threading, the overhead of testing was 0.414815 seconds.\n",
            "You can set `force_row_wise=true` to remove the overhead.\n",
            "And if memory is not enough, you can set `force_col_wise=true`.\n",
            "[LightGBM] [Info] Total Bins 197078\n",
            "[LightGBM] [Info] Number of data points in the train set: 39278, number of used features: 1832\n",
            "[LightGBM] [Info] [binary:BoostFromScore]: pavg=0.421763 -> initscore=-0.315541\n",
            "[LightGBM] [Info] Start training from score -0.315541\n",
            "[LightGBM] [Warning] min_data_in_leaf is set=90, min_child_samples=20 will be ignored. Current value: min_data_in_leaf=90\n",
            "[LightGBM] [Warning] feature_fraction is set=0.35442874911685107, colsample_bytree=1.0 will be ignored. Current value: feature_fraction=0.35442874911685107\n",
            "[LightGBM] [Warning] lambda_l2 is set=2.9961041040555307, reg_lambda=0.0 will be ignored. Current value: lambda_l2=2.9961041040555307\n",
            "[LightGBM] [Warning] lambda_l1 is set=0.0090672937534877, reg_alpha=0.0 will be ignored. Current value: lambda_l1=0.0090672937534877\n",
            "[LightGBM] [Warning] bagging_fraction is set=0.9994319236457065, subsample=1.0 will be ignored. Current value: bagging_fraction=0.9994319236457065\n",
            "[LightGBM] [Warning] bagging_freq is set=4, subsample_freq=0 will be ignored. Current value: bagging_freq=4\n",
            "[LightGBM] [Warning] feature_fraction is set=0.35442874911685107, colsample_bytree=1.0 will be ignored. Current value: feature_fraction=0.35442874911685107\n",
            "[LightGBM] [Warning] lambda_l2 is set=2.9961041040555307, reg_lambda=0.0 will be ignored. Current value: lambda_l2=2.9961041040555307\n",
            "[LightGBM] [Warning] min_data_in_leaf is set=90, min_child_samples=20 will be ignored. Current value: min_data_in_leaf=90\n",
            "[LightGBM] [Warning] lambda_l1 is set=0.0090672937534877, reg_alpha=0.0 will be ignored. Current value: lambda_l1=0.0090672937534877\n",
            "[LightGBM] [Warning] num_iterations is set=70, num_iteration=70 will be ignored. Current value: num_iterations=70\n",
            "[LightGBM] [Warning] bagging_fraction is set=0.9994319236457065, subsample=1.0 will be ignored. Current value: bagging_fraction=0.9994319236457065\n",
            "[LightGBM] [Warning] bagging_freq is set=4, subsample_freq=0 will be ignored. Current value: bagging_freq=4\n"
          ]
        },
        {
          "output_type": "stream",
          "name": "stderr",
          "text": [
            "/usr/local/lib/python3.10/dist-packages/lightgbm/engine.py:172: UserWarning: Found `num_iteration` in params. Will use it instead of argument\n",
            "  _log_warning(f\"Found `{alias}` in params. Will use it instead of argument\")\n"
          ]
        },
        {
          "output_type": "stream",
          "name": "stdout",
          "text": [
            "[LightGBM] [Warning] min_data_in_leaf is set=90, min_child_samples=20 will be ignored. Current value: min_data_in_leaf=90\n",
            "[LightGBM] [Warning] feature_fraction is set=0.35442874911685107, colsample_bytree=1.0 will be ignored. Current value: feature_fraction=0.35442874911685107\n",
            "[LightGBM] [Warning] lambda_l2 is set=2.9961041040555307, reg_lambda=0.0 will be ignored. Current value: lambda_l2=2.9961041040555307\n",
            "[LightGBM] [Warning] lambda_l1 is set=0.0090672937534877, reg_alpha=0.0 will be ignored. Current value: lambda_l1=0.0090672937534877\n",
            "[LightGBM] [Warning] bagging_fraction is set=0.9994319236457065, subsample=1.0 will be ignored. Current value: bagging_fraction=0.9994319236457065\n",
            "[LightGBM] [Warning] bagging_freq is set=4, subsample_freq=0 will be ignored. Current value: bagging_freq=4\n",
            "[LightGBM] [Info] Number of positive: 16566, number of negative: 22712\n",
            "[LightGBM] [Info] Auto-choosing col-wise multi-threading, the overhead of testing was 0.472809 seconds.\n",
            "You can set `force_col_wise=true` to remove the overhead.\n",
            "[LightGBM] [Info] Total Bins 196197\n",
            "[LightGBM] [Info] Number of data points in the train set: 39278, number of used features: 1824\n",
            "[LightGBM] [Info] [binary:BoostFromScore]: pavg=0.421763 -> initscore=-0.315541\n",
            "[LightGBM] [Info] Start training from score -0.315541\n",
            "[LightGBM] [Warning] min_data_in_leaf is set=90, min_child_samples=20 will be ignored. Current value: min_data_in_leaf=90\n",
            "[LightGBM] [Warning] feature_fraction is set=0.35442874911685107, colsample_bytree=1.0 will be ignored. Current value: feature_fraction=0.35442874911685107\n",
            "[LightGBM] [Warning] lambda_l2 is set=2.9961041040555307, reg_lambda=0.0 will be ignored. Current value: lambda_l2=2.9961041040555307\n",
            "[LightGBM] [Warning] lambda_l1 is set=0.0090672937534877, reg_alpha=0.0 will be ignored. Current value: lambda_l1=0.0090672937534877\n",
            "[LightGBM] [Warning] bagging_fraction is set=0.9994319236457065, subsample=1.0 will be ignored. Current value: bagging_fraction=0.9994319236457065\n",
            "[LightGBM] [Warning] bagging_freq is set=4, subsample_freq=0 will be ignored. Current value: bagging_freq=4\n",
            "[LightGBM] [Warning] feature_fraction is set=0.35442874911685107, colsample_bytree=1.0 will be ignored. Current value: feature_fraction=0.35442874911685107\n",
            "[LightGBM] [Warning] lambda_l2 is set=2.9961041040555307, reg_lambda=0.0 will be ignored. Current value: lambda_l2=2.9961041040555307\n",
            "[LightGBM] [Warning] min_data_in_leaf is set=90, min_child_samples=20 will be ignored. Current value: min_data_in_leaf=90\n",
            "[LightGBM] [Warning] lambda_l1 is set=0.0090672937534877, reg_alpha=0.0 will be ignored. Current value: lambda_l1=0.0090672937534877\n",
            "[LightGBM] [Warning] num_iterations is set=70, num_iteration=70 will be ignored. Current value: num_iterations=70\n",
            "[LightGBM] [Warning] bagging_fraction is set=0.9994319236457065, subsample=1.0 will be ignored. Current value: bagging_fraction=0.9994319236457065\n",
            "[LightGBM] [Warning] bagging_freq is set=4, subsample_freq=0 will be ignored. Current value: bagging_freq=4\n"
          ]
        },
        {
          "output_type": "stream",
          "name": "stderr",
          "text": [
            "/usr/local/lib/python3.10/dist-packages/lightgbm/engine.py:172: UserWarning: Found `num_iteration` in params. Will use it instead of argument\n",
            "  _log_warning(f\"Found `{alias}` in params. Will use it instead of argument\")\n"
          ]
        },
        {
          "output_type": "stream",
          "name": "stdout",
          "text": [
            "[LightGBM] [Warning] min_data_in_leaf is set=90, min_child_samples=20 will be ignored. Current value: min_data_in_leaf=90\n",
            "[LightGBM] [Warning] feature_fraction is set=0.35442874911685107, colsample_bytree=1.0 will be ignored. Current value: feature_fraction=0.35442874911685107\n",
            "[LightGBM] [Warning] lambda_l2 is set=2.9961041040555307, reg_lambda=0.0 will be ignored. Current value: lambda_l2=2.9961041040555307\n",
            "[LightGBM] [Warning] lambda_l1 is set=0.0090672937534877, reg_alpha=0.0 will be ignored. Current value: lambda_l1=0.0090672937534877\n",
            "[LightGBM] [Warning] bagging_fraction is set=0.9994319236457065, subsample=1.0 will be ignored. Current value: bagging_fraction=0.9994319236457065\n",
            "[LightGBM] [Warning] bagging_freq is set=4, subsample_freq=0 will be ignored. Current value: bagging_freq=4\n",
            "[LightGBM] [Info] Number of positive: 16566, number of negative: 22712\n",
            "[LightGBM] [Info] Auto-choosing col-wise multi-threading, the overhead of testing was 0.772782 seconds.\n",
            "You can set `force_col_wise=true` to remove the overhead.\n",
            "[LightGBM] [Info] Total Bins 196473\n",
            "[LightGBM] [Info] Number of data points in the train set: 39278, number of used features: 1831\n",
            "[LightGBM] [Info] [binary:BoostFromScore]: pavg=0.421763 -> initscore=-0.315541\n",
            "[LightGBM] [Info] Start training from score -0.315541\n"
          ]
        },
        {
          "output_type": "stream",
          "name": "stderr",
          "text": [
            "[I 2024-03-31 00:56:41,638] Trial 11 finished with value: 0.8300715644320492 and parameters: {'num_leaves': 70, 'lambda_l1': 0.0090672937534877, 'lambda_l2': 2.9961041040555307, 'feature_fraction': 0.35442874911685107, 'bagging_fraction': 0.9994319236457065, 'bagging_freq': 4, 'min_child_samples': 90, 'class_weight': None}. Best is trial 11 with value: 0.8300715644320492.\n"
          ]
        },
        {
          "output_type": "stream",
          "name": "stdout",
          "text": [
            "[LightGBM] [Warning] min_data_in_leaf is set=90, min_child_samples=20 will be ignored. Current value: min_data_in_leaf=90\n",
            "[LightGBM] [Warning] feature_fraction is set=0.35442874911685107, colsample_bytree=1.0 will be ignored. Current value: feature_fraction=0.35442874911685107\n",
            "[LightGBM] [Warning] lambda_l2 is set=2.9961041040555307, reg_lambda=0.0 will be ignored. Current value: lambda_l2=2.9961041040555307\n",
            "[LightGBM] [Warning] lambda_l1 is set=0.0090672937534877, reg_alpha=0.0 will be ignored. Current value: lambda_l1=0.0090672937534877\n",
            "[LightGBM] [Warning] bagging_fraction is set=0.9994319236457065, subsample=1.0 will be ignored. Current value: bagging_fraction=0.9994319236457065\n",
            "[LightGBM] [Warning] bagging_freq is set=4, subsample_freq=0 will be ignored. Current value: bagging_freq=4\n",
            "[LightGBM] [Warning] feature_fraction is set=0.2964482908550868, colsample_bytree=1.0 will be ignored. Current value: feature_fraction=0.2964482908550868\n",
            "[LightGBM] [Warning] lambda_l2 is set=2.0424198271779863, reg_lambda=0.0 will be ignored. Current value: lambda_l2=2.0424198271779863\n",
            "[LightGBM] [Warning] min_data_in_leaf is set=100, min_child_samples=20 will be ignored. Current value: min_data_in_leaf=100\n",
            "[LightGBM] [Warning] lambda_l1 is set=0.004141154420028898, reg_alpha=0.0 will be ignored. Current value: lambda_l1=0.004141154420028898\n",
            "[LightGBM] [Warning] num_iterations is set=70, num_iteration=70 will be ignored. Current value: num_iterations=70\n",
            "[LightGBM] [Warning] bagging_fraction is set=0.9281769807093476, subsample=1.0 will be ignored. Current value: bagging_fraction=0.9281769807093476\n",
            "[LightGBM] [Warning] bagging_freq is set=3, subsample_freq=0 will be ignored. Current value: bagging_freq=3\n"
          ]
        },
        {
          "output_type": "stream",
          "name": "stderr",
          "text": [
            "<ipython-input-46-a40d882ac625>:7: FutureWarning: suggest_loguniform has been deprecated in v3.0.0. This feature will be removed in v6.0.0. See https://github.com/optuna/optuna/releases/tag/v3.0.0. Use suggest_float(..., log=True) instead.\n",
            "  'lambda_l1': trial.suggest_loguniform('lambda_l1', 1e-8, 5.0),\n",
            "<ipython-input-46-a40d882ac625>:8: FutureWarning: suggest_loguniform has been deprecated in v3.0.0. This feature will be removed in v6.0.0. See https://github.com/optuna/optuna/releases/tag/v3.0.0. Use suggest_float(..., log=True) instead.\n",
            "  'lambda_l2': trial.suggest_loguniform('lambda_l2', 1e-8, 5.0),\n",
            "/usr/local/lib/python3.10/dist-packages/optuna/trial/_trial.py:676: RuntimeWarning: Inconsistent parameter values for distribution with name \"num_leaves\"! This might be a configuration mistake. Optuna allows to call the same distribution with the same name more than once in a trial. When the parameter values are inconsistent optuna only uses the values of the first call and ignores all following. Using these values: {'log': False, 'step': 1, 'low': 70, 'high': 150}\n",
            "  warnings.warn(\n",
            "<ipython-input-46-a40d882ac625>:10: FutureWarning: suggest_uniform has been deprecated in v3.0.0. This feature will be removed in v6.0.0. See https://github.com/optuna/optuna/releases/tag/v3.0.0. Use suggest_float instead.\n",
            "  'feature_fraction': trial.suggest_uniform('feature_fraction', 0.1, 1.0),\n",
            "<ipython-input-46-a40d882ac625>:11: FutureWarning: suggest_uniform has been deprecated in v3.0.0. This feature will be removed in v6.0.0. See https://github.com/optuna/optuna/releases/tag/v3.0.0. Use suggest_float instead.\n",
            "  'bagging_fraction': trial.suggest_uniform('bagging_fraction', 0.1, 1.0),\n",
            "/usr/local/lib/python3.10/dist-packages/lightgbm/engine.py:172: UserWarning: Found `num_iteration` in params. Will use it instead of argument\n",
            "  _log_warning(f\"Found `{alias}` in params. Will use it instead of argument\")\n"
          ]
        },
        {
          "output_type": "stream",
          "name": "stdout",
          "text": [
            "[LightGBM] [Warning] min_data_in_leaf is set=100, min_child_samples=20 will be ignored. Current value: min_data_in_leaf=100\n",
            "[LightGBM] [Warning] feature_fraction is set=0.2964482908550868, colsample_bytree=1.0 will be ignored. Current value: feature_fraction=0.2964482908550868\n",
            "[LightGBM] [Warning] lambda_l2 is set=2.0424198271779863, reg_lambda=0.0 will be ignored. Current value: lambda_l2=2.0424198271779863\n",
            "[LightGBM] [Warning] lambda_l1 is set=0.004141154420028898, reg_alpha=0.0 will be ignored. Current value: lambda_l1=0.004141154420028898\n",
            "[LightGBM] [Warning] bagging_fraction is set=0.9281769807093476, subsample=1.0 will be ignored. Current value: bagging_fraction=0.9281769807093476\n",
            "[LightGBM] [Warning] bagging_freq is set=3, subsample_freq=0 will be ignored. Current value: bagging_freq=3\n",
            "[LightGBM] [Info] Number of positive: 16565, number of negative: 22712\n",
            "[LightGBM] [Info] Auto-choosing col-wise multi-threading, the overhead of testing was 0.478342 seconds.\n",
            "You can set `force_col_wise=true` to remove the overhead.\n",
            "[LightGBM] [Info] Total Bins 193512\n",
            "[LightGBM] [Info] Number of data points in the train set: 39277, number of used features: 1721\n",
            "[LightGBM] [Info] [binary:BoostFromScore]: pavg=0.421748 -> initscore=-0.315601\n",
            "[LightGBM] [Info] Start training from score -0.315601\n",
            "[LightGBM] [Warning] min_data_in_leaf is set=100, min_child_samples=20 will be ignored. Current value: min_data_in_leaf=100\n",
            "[LightGBM] [Warning] feature_fraction is set=0.2964482908550868, colsample_bytree=1.0 will be ignored. Current value: feature_fraction=0.2964482908550868\n",
            "[LightGBM] [Warning] lambda_l2 is set=2.0424198271779863, reg_lambda=0.0 will be ignored. Current value: lambda_l2=2.0424198271779863\n",
            "[LightGBM] [Warning] lambda_l1 is set=0.004141154420028898, reg_alpha=0.0 will be ignored. Current value: lambda_l1=0.004141154420028898\n",
            "[LightGBM] [Warning] bagging_fraction is set=0.9281769807093476, subsample=1.0 will be ignored. Current value: bagging_fraction=0.9281769807093476\n",
            "[LightGBM] [Warning] bagging_freq is set=3, subsample_freq=0 will be ignored. Current value: bagging_freq=3\n",
            "[LightGBM] [Warning] feature_fraction is set=0.2964482908550868, colsample_bytree=1.0 will be ignored. Current value: feature_fraction=0.2964482908550868\n",
            "[LightGBM] [Warning] lambda_l2 is set=2.0424198271779863, reg_lambda=0.0 will be ignored. Current value: lambda_l2=2.0424198271779863\n",
            "[LightGBM] [Warning] min_data_in_leaf is set=100, min_child_samples=20 will be ignored. Current value: min_data_in_leaf=100\n",
            "[LightGBM] [Warning] lambda_l1 is set=0.004141154420028898, reg_alpha=0.0 will be ignored. Current value: lambda_l1=0.004141154420028898\n",
            "[LightGBM] [Warning] num_iterations is set=70, num_iteration=70 will be ignored. Current value: num_iterations=70\n",
            "[LightGBM] [Warning] bagging_fraction is set=0.9281769807093476, subsample=1.0 will be ignored. Current value: bagging_fraction=0.9281769807093476\n",
            "[LightGBM] [Warning] bagging_freq is set=3, subsample_freq=0 will be ignored. Current value: bagging_freq=3\n"
          ]
        },
        {
          "output_type": "stream",
          "name": "stderr",
          "text": [
            "/usr/local/lib/python3.10/dist-packages/lightgbm/engine.py:172: UserWarning: Found `num_iteration` in params. Will use it instead of argument\n",
            "  _log_warning(f\"Found `{alias}` in params. Will use it instead of argument\")\n"
          ]
        },
        {
          "output_type": "stream",
          "name": "stdout",
          "text": [
            "[LightGBM] [Warning] min_data_in_leaf is set=100, min_child_samples=20 will be ignored. Current value: min_data_in_leaf=100\n",
            "[LightGBM] [Warning] feature_fraction is set=0.2964482908550868, colsample_bytree=1.0 will be ignored. Current value: feature_fraction=0.2964482908550868\n",
            "[LightGBM] [Warning] lambda_l2 is set=2.0424198271779863, reg_lambda=0.0 will be ignored. Current value: lambda_l2=2.0424198271779863\n",
            "[LightGBM] [Warning] lambda_l1 is set=0.004141154420028898, reg_alpha=0.0 will be ignored. Current value: lambda_l1=0.004141154420028898\n",
            "[LightGBM] [Warning] bagging_fraction is set=0.9281769807093476, subsample=1.0 will be ignored. Current value: bagging_fraction=0.9281769807093476\n",
            "[LightGBM] [Warning] bagging_freq is set=3, subsample_freq=0 will be ignored. Current value: bagging_freq=3\n",
            "[LightGBM] [Info] Number of positive: 16565, number of negative: 22712\n",
            "[LightGBM] [Info] Auto-choosing col-wise multi-threading, the overhead of testing was 0.394066 seconds.\n",
            "You can set `force_col_wise=true` to remove the overhead.\n",
            "[LightGBM] [Info] Total Bins 192626\n",
            "[LightGBM] [Info] Number of data points in the train set: 39277, number of used features: 1719\n",
            "[LightGBM] [Info] [binary:BoostFromScore]: pavg=0.421748 -> initscore=-0.315601\n",
            "[LightGBM] [Info] Start training from score -0.315601\n",
            "[LightGBM] [Warning] min_data_in_leaf is set=100, min_child_samples=20 will be ignored. Current value: min_data_in_leaf=100\n",
            "[LightGBM] [Warning] feature_fraction is set=0.2964482908550868, colsample_bytree=1.0 will be ignored. Current value: feature_fraction=0.2964482908550868\n",
            "[LightGBM] [Warning] lambda_l2 is set=2.0424198271779863, reg_lambda=0.0 will be ignored. Current value: lambda_l2=2.0424198271779863\n",
            "[LightGBM] [Warning] lambda_l1 is set=0.004141154420028898, reg_alpha=0.0 will be ignored. Current value: lambda_l1=0.004141154420028898\n",
            "[LightGBM] [Warning] bagging_fraction is set=0.9281769807093476, subsample=1.0 will be ignored. Current value: bagging_fraction=0.9281769807093476\n",
            "[LightGBM] [Warning] bagging_freq is set=3, subsample_freq=0 will be ignored. Current value: bagging_freq=3\n",
            "[LightGBM] [Warning] feature_fraction is set=0.2964482908550868, colsample_bytree=1.0 will be ignored. Current value: feature_fraction=0.2964482908550868\n",
            "[LightGBM] [Warning] lambda_l2 is set=2.0424198271779863, reg_lambda=0.0 will be ignored. Current value: lambda_l2=2.0424198271779863\n",
            "[LightGBM] [Warning] min_data_in_leaf is set=100, min_child_samples=20 will be ignored. Current value: min_data_in_leaf=100\n",
            "[LightGBM] [Warning] lambda_l1 is set=0.004141154420028898, reg_alpha=0.0 will be ignored. Current value: lambda_l1=0.004141154420028898\n",
            "[LightGBM] [Warning] num_iterations is set=70, num_iteration=70 will be ignored. Current value: num_iterations=70\n",
            "[LightGBM] [Warning] bagging_fraction is set=0.9281769807093476, subsample=1.0 will be ignored. Current value: bagging_fraction=0.9281769807093476\n",
            "[LightGBM] [Warning] bagging_freq is set=3, subsample_freq=0 will be ignored. Current value: bagging_freq=3\n"
          ]
        },
        {
          "output_type": "stream",
          "name": "stderr",
          "text": [
            "/usr/local/lib/python3.10/dist-packages/lightgbm/engine.py:172: UserWarning: Found `num_iteration` in params. Will use it instead of argument\n",
            "  _log_warning(f\"Found `{alias}` in params. Will use it instead of argument\")\n"
          ]
        },
        {
          "output_type": "stream",
          "name": "stdout",
          "text": [
            "[LightGBM] [Warning] min_data_in_leaf is set=100, min_child_samples=20 will be ignored. Current value: min_data_in_leaf=100\n",
            "[LightGBM] [Warning] feature_fraction is set=0.2964482908550868, colsample_bytree=1.0 will be ignored. Current value: feature_fraction=0.2964482908550868\n",
            "[LightGBM] [Warning] lambda_l2 is set=2.0424198271779863, reg_lambda=0.0 will be ignored. Current value: lambda_l2=2.0424198271779863\n",
            "[LightGBM] [Warning] lambda_l1 is set=0.004141154420028898, reg_alpha=0.0 will be ignored. Current value: lambda_l1=0.004141154420028898\n",
            "[LightGBM] [Warning] bagging_fraction is set=0.9281769807093476, subsample=1.0 will be ignored. Current value: bagging_fraction=0.9281769807093476\n",
            "[LightGBM] [Warning] bagging_freq is set=3, subsample_freq=0 will be ignored. Current value: bagging_freq=3\n",
            "[LightGBM] [Info] Number of positive: 16566, number of negative: 22712\n",
            "[LightGBM] [Info] Auto-choosing row-wise multi-threading, the overhead of testing was 0.415417 seconds.\n",
            "You can set `force_row_wise=true` to remove the overhead.\n",
            "And if memory is not enough, you can set `force_col_wise=true`.\n",
            "[LightGBM] [Info] Total Bins 193732\n",
            "[LightGBM] [Info] Number of data points in the train set: 39278, number of used features: 1728\n",
            "[LightGBM] [Info] [binary:BoostFromScore]: pavg=0.421763 -> initscore=-0.315541\n",
            "[LightGBM] [Info] Start training from score -0.315541\n",
            "[LightGBM] [Warning] min_data_in_leaf is set=100, min_child_samples=20 will be ignored. Current value: min_data_in_leaf=100\n",
            "[LightGBM] [Warning] feature_fraction is set=0.2964482908550868, colsample_bytree=1.0 will be ignored. Current value: feature_fraction=0.2964482908550868\n",
            "[LightGBM] [Warning] lambda_l2 is set=2.0424198271779863, reg_lambda=0.0 will be ignored. Current value: lambda_l2=2.0424198271779863\n",
            "[LightGBM] [Warning] lambda_l1 is set=0.004141154420028898, reg_alpha=0.0 will be ignored. Current value: lambda_l1=0.004141154420028898\n",
            "[LightGBM] [Warning] bagging_fraction is set=0.9281769807093476, subsample=1.0 will be ignored. Current value: bagging_fraction=0.9281769807093476\n",
            "[LightGBM] [Warning] bagging_freq is set=3, subsample_freq=0 will be ignored. Current value: bagging_freq=3\n",
            "[LightGBM] [Warning] feature_fraction is set=0.2964482908550868, colsample_bytree=1.0 will be ignored. Current value: feature_fraction=0.2964482908550868\n",
            "[LightGBM] [Warning] lambda_l2 is set=2.0424198271779863, reg_lambda=0.0 will be ignored. Current value: lambda_l2=2.0424198271779863\n",
            "[LightGBM] [Warning] min_data_in_leaf is set=100, min_child_samples=20 will be ignored. Current value: min_data_in_leaf=100\n",
            "[LightGBM] [Warning] lambda_l1 is set=0.004141154420028898, reg_alpha=0.0 will be ignored. Current value: lambda_l1=0.004141154420028898\n",
            "[LightGBM] [Warning] num_iterations is set=70, num_iteration=70 will be ignored. Current value: num_iterations=70\n",
            "[LightGBM] [Warning] bagging_fraction is set=0.9281769807093476, subsample=1.0 will be ignored. Current value: bagging_fraction=0.9281769807093476\n",
            "[LightGBM] [Warning] bagging_freq is set=3, subsample_freq=0 will be ignored. Current value: bagging_freq=3\n"
          ]
        },
        {
          "output_type": "stream",
          "name": "stderr",
          "text": [
            "/usr/local/lib/python3.10/dist-packages/lightgbm/engine.py:172: UserWarning: Found `num_iteration` in params. Will use it instead of argument\n",
            "  _log_warning(f\"Found `{alias}` in params. Will use it instead of argument\")\n"
          ]
        },
        {
          "output_type": "stream",
          "name": "stdout",
          "text": [
            "[LightGBM] [Warning] min_data_in_leaf is set=100, min_child_samples=20 will be ignored. Current value: min_data_in_leaf=100\n",
            "[LightGBM] [Warning] feature_fraction is set=0.2964482908550868, colsample_bytree=1.0 will be ignored. Current value: feature_fraction=0.2964482908550868\n",
            "[LightGBM] [Warning] lambda_l2 is set=2.0424198271779863, reg_lambda=0.0 will be ignored. Current value: lambda_l2=2.0424198271779863\n",
            "[LightGBM] [Warning] lambda_l1 is set=0.004141154420028898, reg_alpha=0.0 will be ignored. Current value: lambda_l1=0.004141154420028898\n",
            "[LightGBM] [Warning] bagging_fraction is set=0.9281769807093476, subsample=1.0 will be ignored. Current value: bagging_fraction=0.9281769807093476\n",
            "[LightGBM] [Warning] bagging_freq is set=3, subsample_freq=0 will be ignored. Current value: bagging_freq=3\n",
            "[LightGBM] [Info] Number of positive: 16566, number of negative: 22712\n",
            "[LightGBM] [Info] Auto-choosing row-wise multi-threading, the overhead of testing was 0.410695 seconds.\n",
            "You can set `force_row_wise=true` to remove the overhead.\n",
            "And if memory is not enough, you can set `force_col_wise=true`.\n",
            "[LightGBM] [Info] Total Bins 192750\n",
            "[LightGBM] [Info] Number of data points in the train set: 39278, number of used features: 1717\n",
            "[LightGBM] [Info] [binary:BoostFromScore]: pavg=0.421763 -> initscore=-0.315541\n",
            "[LightGBM] [Info] Start training from score -0.315541\n",
            "[LightGBM] [Warning] min_data_in_leaf is set=100, min_child_samples=20 will be ignored. Current value: min_data_in_leaf=100\n",
            "[LightGBM] [Warning] feature_fraction is set=0.2964482908550868, colsample_bytree=1.0 will be ignored. Current value: feature_fraction=0.2964482908550868\n",
            "[LightGBM] [Warning] lambda_l2 is set=2.0424198271779863, reg_lambda=0.0 will be ignored. Current value: lambda_l2=2.0424198271779863\n",
            "[LightGBM] [Warning] lambda_l1 is set=0.004141154420028898, reg_alpha=0.0 will be ignored. Current value: lambda_l1=0.004141154420028898\n",
            "[LightGBM] [Warning] bagging_fraction is set=0.9281769807093476, subsample=1.0 will be ignored. Current value: bagging_fraction=0.9281769807093476\n",
            "[LightGBM] [Warning] bagging_freq is set=3, subsample_freq=0 will be ignored. Current value: bagging_freq=3\n",
            "[LightGBM] [Warning] feature_fraction is set=0.2964482908550868, colsample_bytree=1.0 will be ignored. Current value: feature_fraction=0.2964482908550868\n",
            "[LightGBM] [Warning] lambda_l2 is set=2.0424198271779863, reg_lambda=0.0 will be ignored. Current value: lambda_l2=2.0424198271779863\n",
            "[LightGBM] [Warning] min_data_in_leaf is set=100, min_child_samples=20 will be ignored. Current value: min_data_in_leaf=100\n",
            "[LightGBM] [Warning] lambda_l1 is set=0.004141154420028898, reg_alpha=0.0 will be ignored. Current value: lambda_l1=0.004141154420028898\n",
            "[LightGBM] [Warning] num_iterations is set=70, num_iteration=70 will be ignored. Current value: num_iterations=70\n",
            "[LightGBM] [Warning] bagging_fraction is set=0.9281769807093476, subsample=1.0 will be ignored. Current value: bagging_fraction=0.9281769807093476\n",
            "[LightGBM] [Warning] bagging_freq is set=3, subsample_freq=0 will be ignored. Current value: bagging_freq=3\n"
          ]
        },
        {
          "output_type": "stream",
          "name": "stderr",
          "text": [
            "/usr/local/lib/python3.10/dist-packages/lightgbm/engine.py:172: UserWarning: Found `num_iteration` in params. Will use it instead of argument\n",
            "  _log_warning(f\"Found `{alias}` in params. Will use it instead of argument\")\n"
          ]
        },
        {
          "output_type": "stream",
          "name": "stdout",
          "text": [
            "[LightGBM] [Warning] min_data_in_leaf is set=100, min_child_samples=20 will be ignored. Current value: min_data_in_leaf=100\n",
            "[LightGBM] [Warning] feature_fraction is set=0.2964482908550868, colsample_bytree=1.0 will be ignored. Current value: feature_fraction=0.2964482908550868\n",
            "[LightGBM] [Warning] lambda_l2 is set=2.0424198271779863, reg_lambda=0.0 will be ignored. Current value: lambda_l2=2.0424198271779863\n",
            "[LightGBM] [Warning] lambda_l1 is set=0.004141154420028898, reg_alpha=0.0 will be ignored. Current value: lambda_l1=0.004141154420028898\n",
            "[LightGBM] [Warning] bagging_fraction is set=0.9281769807093476, subsample=1.0 will be ignored. Current value: bagging_fraction=0.9281769807093476\n",
            "[LightGBM] [Warning] bagging_freq is set=3, subsample_freq=0 will be ignored. Current value: bagging_freq=3\n",
            "[LightGBM] [Info] Number of positive: 16566, number of negative: 22712\n",
            "[LightGBM] [Info] Auto-choosing col-wise multi-threading, the overhead of testing was 0.509933 seconds.\n",
            "You can set `force_col_wise=true` to remove the overhead.\n",
            "[LightGBM] [Info] Total Bins 192520\n",
            "[LightGBM] [Info] Number of data points in the train set: 39278, number of used features: 1708\n",
            "[LightGBM] [Info] [binary:BoostFromScore]: pavg=0.421763 -> initscore=-0.315541\n",
            "[LightGBM] [Info] Start training from score -0.315541\n"
          ]
        },
        {
          "output_type": "stream",
          "name": "stderr",
          "text": [
            "[I 2024-03-31 00:57:34,654] Trial 12 finished with value: 0.822340860057922 and parameters: {'num_leaves': 70, 'lambda_l1': 0.004141154420028898, 'lambda_l2': 2.0424198271779863, 'feature_fraction': 0.2964482908550868, 'bagging_fraction': 0.9281769807093476, 'bagging_freq': 3, 'min_child_samples': 100, 'class_weight': None}. Best is trial 11 with value: 0.8300715644320492.\n"
          ]
        },
        {
          "output_type": "stream",
          "name": "stdout",
          "text": [
            "[LightGBM] [Warning] min_data_in_leaf is set=100, min_child_samples=20 will be ignored. Current value: min_data_in_leaf=100\n",
            "[LightGBM] [Warning] feature_fraction is set=0.2964482908550868, colsample_bytree=1.0 will be ignored. Current value: feature_fraction=0.2964482908550868\n",
            "[LightGBM] [Warning] lambda_l2 is set=2.0424198271779863, reg_lambda=0.0 will be ignored. Current value: lambda_l2=2.0424198271779863\n",
            "[LightGBM] [Warning] lambda_l1 is set=0.004141154420028898, reg_alpha=0.0 will be ignored. Current value: lambda_l1=0.004141154420028898\n",
            "[LightGBM] [Warning] bagging_fraction is set=0.9281769807093476, subsample=1.0 will be ignored. Current value: bagging_fraction=0.9281769807093476\n",
            "[LightGBM] [Warning] bagging_freq is set=3, subsample_freq=0 will be ignored. Current value: bagging_freq=3\n",
            "[LightGBM] [Warning] feature_fraction is set=0.4082765767030636, colsample_bytree=1.0 will be ignored. Current value: feature_fraction=0.4082765767030636\n",
            "[LightGBM] [Warning] lambda_l2 is set=3.0370737204962084, reg_lambda=0.0 will be ignored. Current value: lambda_l2=3.0370737204962084\n",
            "[LightGBM] [Warning] min_data_in_leaf is set=99, min_child_samples=20 will be ignored. Current value: min_data_in_leaf=99\n",
            "[LightGBM] [Warning] lambda_l1 is set=0.0029897933016757353, reg_alpha=0.0 will be ignored. Current value: lambda_l1=0.0029897933016757353\n",
            "[LightGBM] [Warning] num_iterations is set=94, num_iteration=94 will be ignored. Current value: num_iterations=94\n",
            "[LightGBM] [Warning] bagging_fraction is set=0.9808954337017248, subsample=1.0 will be ignored. Current value: bagging_fraction=0.9808954337017248\n",
            "[LightGBM] [Warning] bagging_freq is set=4, subsample_freq=0 will be ignored. Current value: bagging_freq=4\n"
          ]
        },
        {
          "output_type": "stream",
          "name": "stderr",
          "text": [
            "<ipython-input-46-a40d882ac625>:7: FutureWarning: suggest_loguniform has been deprecated in v3.0.0. This feature will be removed in v6.0.0. See https://github.com/optuna/optuna/releases/tag/v3.0.0. Use suggest_float(..., log=True) instead.\n",
            "  'lambda_l1': trial.suggest_loguniform('lambda_l1', 1e-8, 5.0),\n",
            "<ipython-input-46-a40d882ac625>:8: FutureWarning: suggest_loguniform has been deprecated in v3.0.0. This feature will be removed in v6.0.0. See https://github.com/optuna/optuna/releases/tag/v3.0.0. Use suggest_float(..., log=True) instead.\n",
            "  'lambda_l2': trial.suggest_loguniform('lambda_l2', 1e-8, 5.0),\n",
            "/usr/local/lib/python3.10/dist-packages/optuna/trial/_trial.py:676: RuntimeWarning: Inconsistent parameter values for distribution with name \"num_leaves\"! This might be a configuration mistake. Optuna allows to call the same distribution with the same name more than once in a trial. When the parameter values are inconsistent optuna only uses the values of the first call and ignores all following. Using these values: {'log': False, 'step': 1, 'low': 70, 'high': 150}\n",
            "  warnings.warn(\n",
            "<ipython-input-46-a40d882ac625>:10: FutureWarning: suggest_uniform has been deprecated in v3.0.0. This feature will be removed in v6.0.0. See https://github.com/optuna/optuna/releases/tag/v3.0.0. Use suggest_float instead.\n",
            "  'feature_fraction': trial.suggest_uniform('feature_fraction', 0.1, 1.0),\n",
            "<ipython-input-46-a40d882ac625>:11: FutureWarning: suggest_uniform has been deprecated in v3.0.0. This feature will be removed in v6.0.0. See https://github.com/optuna/optuna/releases/tag/v3.0.0. Use suggest_float instead.\n",
            "  'bagging_fraction': trial.suggest_uniform('bagging_fraction', 0.1, 1.0),\n",
            "/usr/local/lib/python3.10/dist-packages/lightgbm/engine.py:172: UserWarning: Found `num_iteration` in params. Will use it instead of argument\n",
            "  _log_warning(f\"Found `{alias}` in params. Will use it instead of argument\")\n"
          ]
        },
        {
          "output_type": "stream",
          "name": "stdout",
          "text": [
            "[LightGBM] [Warning] min_data_in_leaf is set=99, min_child_samples=20 will be ignored. Current value: min_data_in_leaf=99\n",
            "[LightGBM] [Warning] feature_fraction is set=0.4082765767030636, colsample_bytree=1.0 will be ignored. Current value: feature_fraction=0.4082765767030636\n",
            "[LightGBM] [Warning] lambda_l2 is set=3.0370737204962084, reg_lambda=0.0 will be ignored. Current value: lambda_l2=3.0370737204962084\n",
            "[LightGBM] [Warning] lambda_l1 is set=0.0029897933016757353, reg_alpha=0.0 will be ignored. Current value: lambda_l1=0.0029897933016757353\n",
            "[LightGBM] [Warning] bagging_fraction is set=0.9808954337017248, subsample=1.0 will be ignored. Current value: bagging_fraction=0.9808954337017248\n",
            "[LightGBM] [Warning] bagging_freq is set=4, subsample_freq=0 will be ignored. Current value: bagging_freq=4\n",
            "[LightGBM] [Info] Number of positive: 16565, number of negative: 22712\n",
            "[LightGBM] [Info] Auto-choosing row-wise multi-threading, the overhead of testing was 0.388144 seconds.\n",
            "You can set `force_row_wise=true` to remove the overhead.\n",
            "And if memory is not enough, you can set `force_col_wise=true`.\n",
            "[LightGBM] [Info] Total Bins 193983\n",
            "[LightGBM] [Info] Number of data points in the train set: 39277, number of used features: 1735\n",
            "[LightGBM] [Info] [binary:BoostFromScore]: pavg=0.421748 -> initscore=-0.315601\n",
            "[LightGBM] [Info] Start training from score -0.315601\n",
            "[LightGBM] [Warning] min_data_in_leaf is set=99, min_child_samples=20 will be ignored. Current value: min_data_in_leaf=99\n",
            "[LightGBM] [Warning] feature_fraction is set=0.4082765767030636, colsample_bytree=1.0 will be ignored. Current value: feature_fraction=0.4082765767030636\n",
            "[LightGBM] [Warning] lambda_l2 is set=3.0370737204962084, reg_lambda=0.0 will be ignored. Current value: lambda_l2=3.0370737204962084\n",
            "[LightGBM] [Warning] lambda_l1 is set=0.0029897933016757353, reg_alpha=0.0 will be ignored. Current value: lambda_l1=0.0029897933016757353\n",
            "[LightGBM] [Warning] bagging_fraction is set=0.9808954337017248, subsample=1.0 will be ignored. Current value: bagging_fraction=0.9808954337017248\n",
            "[LightGBM] [Warning] bagging_freq is set=4, subsample_freq=0 will be ignored. Current value: bagging_freq=4\n"
          ]
        },
        {
          "output_type": "stream",
          "name": "stderr",
          "text": [
            "/usr/local/lib/python3.10/dist-packages/lightgbm/engine.py:172: UserWarning: Found `num_iteration` in params. Will use it instead of argument\n",
            "  _log_warning(f\"Found `{alias}` in params. Will use it instead of argument\")\n"
          ]
        },
        {
          "output_type": "stream",
          "name": "stdout",
          "text": [
            "[LightGBM] [Warning] feature_fraction is set=0.4082765767030636, colsample_bytree=1.0 will be ignored. Current value: feature_fraction=0.4082765767030636\n",
            "[LightGBM] [Warning] lambda_l2 is set=3.0370737204962084, reg_lambda=0.0 will be ignored. Current value: lambda_l2=3.0370737204962084\n",
            "[LightGBM] [Warning] min_data_in_leaf is set=99, min_child_samples=20 will be ignored. Current value: min_data_in_leaf=99\n",
            "[LightGBM] [Warning] lambda_l1 is set=0.0029897933016757353, reg_alpha=0.0 will be ignored. Current value: lambda_l1=0.0029897933016757353\n",
            "[LightGBM] [Warning] num_iterations is set=94, num_iteration=94 will be ignored. Current value: num_iterations=94\n",
            "[LightGBM] [Warning] bagging_fraction is set=0.9808954337017248, subsample=1.0 will be ignored. Current value: bagging_fraction=0.9808954337017248\n",
            "[LightGBM] [Warning] bagging_freq is set=4, subsample_freq=0 will be ignored. Current value: bagging_freq=4\n",
            "[LightGBM] [Warning] min_data_in_leaf is set=99, min_child_samples=20 will be ignored. Current value: min_data_in_leaf=99\n",
            "[LightGBM] [Warning] feature_fraction is set=0.4082765767030636, colsample_bytree=1.0 will be ignored. Current value: feature_fraction=0.4082765767030636\n",
            "[LightGBM] [Warning] lambda_l2 is set=3.0370737204962084, reg_lambda=0.0 will be ignored. Current value: lambda_l2=3.0370737204962084\n",
            "[LightGBM] [Warning] lambda_l1 is set=0.0029897933016757353, reg_alpha=0.0 will be ignored. Current value: lambda_l1=0.0029897933016757353\n",
            "[LightGBM] [Warning] bagging_fraction is set=0.9808954337017248, subsample=1.0 will be ignored. Current value: bagging_fraction=0.9808954337017248\n",
            "[LightGBM] [Warning] bagging_freq is set=4, subsample_freq=0 will be ignored. Current value: bagging_freq=4\n",
            "[LightGBM] [Info] Number of positive: 16565, number of negative: 22712\n",
            "[LightGBM] [Info] Auto-choosing row-wise multi-threading, the overhead of testing was 0.621241 seconds.\n",
            "You can set `force_row_wise=true` to remove the overhead.\n",
            "And if memory is not enough, you can set `force_col_wise=true`.\n",
            "[LightGBM] [Info] Total Bins 192929\n",
            "[LightGBM] [Info] Number of data points in the train set: 39277, number of used features: 1728\n",
            "[LightGBM] [Info] [binary:BoostFromScore]: pavg=0.421748 -> initscore=-0.315601\n",
            "[LightGBM] [Info] Start training from score -0.315601\n",
            "[LightGBM] [Warning] min_data_in_leaf is set=99, min_child_samples=20 will be ignored. Current value: min_data_in_leaf=99\n",
            "[LightGBM] [Warning] feature_fraction is set=0.4082765767030636, colsample_bytree=1.0 will be ignored. Current value: feature_fraction=0.4082765767030636\n",
            "[LightGBM] [Warning] lambda_l2 is set=3.0370737204962084, reg_lambda=0.0 will be ignored. Current value: lambda_l2=3.0370737204962084\n",
            "[LightGBM] [Warning] lambda_l1 is set=0.0029897933016757353, reg_alpha=0.0 will be ignored. Current value: lambda_l1=0.0029897933016757353\n",
            "[LightGBM] [Warning] bagging_fraction is set=0.9808954337017248, subsample=1.0 will be ignored. Current value: bagging_fraction=0.9808954337017248\n",
            "[LightGBM] [Warning] bagging_freq is set=4, subsample_freq=0 will be ignored. Current value: bagging_freq=4\n",
            "[LightGBM] [Warning] feature_fraction is set=0.4082765767030636, colsample_bytree=1.0 will be ignored. Current value: feature_fraction=0.4082765767030636\n",
            "[LightGBM] [Warning] lambda_l2 is set=3.0370737204962084, reg_lambda=0.0 will be ignored. Current value: lambda_l2=3.0370737204962084\n",
            "[LightGBM] [Warning] min_data_in_leaf is set=99, min_child_samples=20 will be ignored. Current value: min_data_in_leaf=99\n",
            "[LightGBM] [Warning] lambda_l1 is set=0.0029897933016757353, reg_alpha=0.0 will be ignored. Current value: lambda_l1=0.0029897933016757353\n",
            "[LightGBM] [Warning] num_iterations is set=94, num_iteration=94 will be ignored. Current value: num_iterations=94\n",
            "[LightGBM] [Warning] bagging_fraction is set=0.9808954337017248, subsample=1.0 will be ignored. Current value: bagging_fraction=0.9808954337017248\n",
            "[LightGBM] [Warning] bagging_freq is set=4, subsample_freq=0 will be ignored. Current value: bagging_freq=4\n"
          ]
        },
        {
          "output_type": "stream",
          "name": "stderr",
          "text": [
            "/usr/local/lib/python3.10/dist-packages/lightgbm/engine.py:172: UserWarning: Found `num_iteration` in params. Will use it instead of argument\n",
            "  _log_warning(f\"Found `{alias}` in params. Will use it instead of argument\")\n"
          ]
        },
        {
          "output_type": "stream",
          "name": "stdout",
          "text": [
            "[LightGBM] [Warning] min_data_in_leaf is set=99, min_child_samples=20 will be ignored. Current value: min_data_in_leaf=99\n",
            "[LightGBM] [Warning] feature_fraction is set=0.4082765767030636, colsample_bytree=1.0 will be ignored. Current value: feature_fraction=0.4082765767030636\n",
            "[LightGBM] [Warning] lambda_l2 is set=3.0370737204962084, reg_lambda=0.0 will be ignored. Current value: lambda_l2=3.0370737204962084\n",
            "[LightGBM] [Warning] lambda_l1 is set=0.0029897933016757353, reg_alpha=0.0 will be ignored. Current value: lambda_l1=0.0029897933016757353\n",
            "[LightGBM] [Warning] bagging_fraction is set=0.9808954337017248, subsample=1.0 will be ignored. Current value: bagging_fraction=0.9808954337017248\n",
            "[LightGBM] [Warning] bagging_freq is set=4, subsample_freq=0 will be ignored. Current value: bagging_freq=4\n",
            "[LightGBM] [Info] Number of positive: 16566, number of negative: 22712\n",
            "[LightGBM] [Info] Auto-choosing col-wise multi-threading, the overhead of testing was 0.637214 seconds.\n",
            "You can set `force_col_wise=true` to remove the overhead.\n",
            "[LightGBM] [Info] Total Bins 194136\n",
            "[LightGBM] [Info] Number of data points in the train set: 39278, number of used features: 1740\n",
            "[LightGBM] [Info] [binary:BoostFromScore]: pavg=0.421763 -> initscore=-0.315541\n",
            "[LightGBM] [Info] Start training from score -0.315541\n",
            "[LightGBM] [Warning] min_data_in_leaf is set=99, min_child_samples=20 will be ignored. Current value: min_data_in_leaf=99\n",
            "[LightGBM] [Warning] feature_fraction is set=0.4082765767030636, colsample_bytree=1.0 will be ignored. Current value: feature_fraction=0.4082765767030636\n",
            "[LightGBM] [Warning] lambda_l2 is set=3.0370737204962084, reg_lambda=0.0 will be ignored. Current value: lambda_l2=3.0370737204962084\n",
            "[LightGBM] [Warning] lambda_l1 is set=0.0029897933016757353, reg_alpha=0.0 will be ignored. Current value: lambda_l1=0.0029897933016757353\n",
            "[LightGBM] [Warning] bagging_fraction is set=0.9808954337017248, subsample=1.0 will be ignored. Current value: bagging_fraction=0.9808954337017248\n",
            "[LightGBM] [Warning] bagging_freq is set=4, subsample_freq=0 will be ignored. Current value: bagging_freq=4\n",
            "[LightGBM] [Warning] feature_fraction is set=0.4082765767030636, colsample_bytree=1.0 will be ignored. Current value: feature_fraction=0.4082765767030636\n",
            "[LightGBM] [Warning] lambda_l2 is set=3.0370737204962084, reg_lambda=0.0 will be ignored. Current value: lambda_l2=3.0370737204962084\n",
            "[LightGBM] [Warning] min_data_in_leaf is set=99, min_child_samples=20 will be ignored. Current value: min_data_in_leaf=99\n",
            "[LightGBM] [Warning] lambda_l1 is set=0.0029897933016757353, reg_alpha=0.0 will be ignored. Current value: lambda_l1=0.0029897933016757353\n",
            "[LightGBM] [Warning] num_iterations is set=94, num_iteration=94 will be ignored. Current value: num_iterations=94\n",
            "[LightGBM] [Warning] bagging_fraction is set=0.9808954337017248, subsample=1.0 will be ignored. Current value: bagging_fraction=0.9808954337017248\n",
            "[LightGBM] [Warning] bagging_freq is set=4, subsample_freq=0 will be ignored. Current value: bagging_freq=4\n"
          ]
        },
        {
          "output_type": "stream",
          "name": "stderr",
          "text": [
            "/usr/local/lib/python3.10/dist-packages/lightgbm/engine.py:172: UserWarning: Found `num_iteration` in params. Will use it instead of argument\n",
            "  _log_warning(f\"Found `{alias}` in params. Will use it instead of argument\")\n"
          ]
        },
        {
          "output_type": "stream",
          "name": "stdout",
          "text": [
            "[LightGBM] [Warning] min_data_in_leaf is set=99, min_child_samples=20 will be ignored. Current value: min_data_in_leaf=99\n",
            "[LightGBM] [Warning] feature_fraction is set=0.4082765767030636, colsample_bytree=1.0 will be ignored. Current value: feature_fraction=0.4082765767030636\n",
            "[LightGBM] [Warning] lambda_l2 is set=3.0370737204962084, reg_lambda=0.0 will be ignored. Current value: lambda_l2=3.0370737204962084\n",
            "[LightGBM] [Warning] lambda_l1 is set=0.0029897933016757353, reg_alpha=0.0 will be ignored. Current value: lambda_l1=0.0029897933016757353\n",
            "[LightGBM] [Warning] bagging_fraction is set=0.9808954337017248, subsample=1.0 will be ignored. Current value: bagging_fraction=0.9808954337017248\n",
            "[LightGBM] [Warning] bagging_freq is set=4, subsample_freq=0 will be ignored. Current value: bagging_freq=4\n",
            "[LightGBM] [Info] Number of positive: 16566, number of negative: 22712\n",
            "[LightGBM] [Info] Auto-choosing row-wise multi-threading, the overhead of testing was 0.397472 seconds.\n",
            "You can set `force_row_wise=true` to remove the overhead.\n",
            "And if memory is not enough, you can set `force_col_wise=true`.\n",
            "[LightGBM] [Info] Total Bins 193086\n",
            "[LightGBM] [Info] Number of data points in the train set: 39278, number of used features: 1727\n",
            "[LightGBM] [Info] [binary:BoostFromScore]: pavg=0.421763 -> initscore=-0.315541\n",
            "[LightGBM] [Info] Start training from score -0.315541\n",
            "[LightGBM] [Warning] min_data_in_leaf is set=99, min_child_samples=20 will be ignored. Current value: min_data_in_leaf=99\n",
            "[LightGBM] [Warning] feature_fraction is set=0.4082765767030636, colsample_bytree=1.0 will be ignored. Current value: feature_fraction=0.4082765767030636\n",
            "[LightGBM] [Warning] lambda_l2 is set=3.0370737204962084, reg_lambda=0.0 will be ignored. Current value: lambda_l2=3.0370737204962084\n",
            "[LightGBM] [Warning] lambda_l1 is set=0.0029897933016757353, reg_alpha=0.0 will be ignored. Current value: lambda_l1=0.0029897933016757353\n",
            "[LightGBM] [Warning] bagging_fraction is set=0.9808954337017248, subsample=1.0 will be ignored. Current value: bagging_fraction=0.9808954337017248\n",
            "[LightGBM] [Warning] bagging_freq is set=4, subsample_freq=0 will be ignored. Current value: bagging_freq=4\n",
            "[LightGBM] [Warning] feature_fraction is set=0.4082765767030636, colsample_bytree=1.0 will be ignored. Current value: feature_fraction=0.4082765767030636\n",
            "[LightGBM] [Warning] lambda_l2 is set=3.0370737204962084, reg_lambda=0.0 will be ignored. Current value: lambda_l2=3.0370737204962084\n",
            "[LightGBM] [Warning] min_data_in_leaf is set=99, min_child_samples=20 will be ignored. Current value: min_data_in_leaf=99\n",
            "[LightGBM] [Warning] lambda_l1 is set=0.0029897933016757353, reg_alpha=0.0 will be ignored. Current value: lambda_l1=0.0029897933016757353\n",
            "[LightGBM] [Warning] num_iterations is set=94, num_iteration=94 will be ignored. Current value: num_iterations=94\n",
            "[LightGBM] [Warning] bagging_fraction is set=0.9808954337017248, subsample=1.0 will be ignored. Current value: bagging_fraction=0.9808954337017248\n",
            "[LightGBM] [Warning] bagging_freq is set=4, subsample_freq=0 will be ignored. Current value: bagging_freq=4\n"
          ]
        },
        {
          "output_type": "stream",
          "name": "stderr",
          "text": [
            "/usr/local/lib/python3.10/dist-packages/lightgbm/engine.py:172: UserWarning: Found `num_iteration` in params. Will use it instead of argument\n",
            "  _log_warning(f\"Found `{alias}` in params. Will use it instead of argument\")\n"
          ]
        },
        {
          "output_type": "stream",
          "name": "stdout",
          "text": [
            "[LightGBM] [Warning] min_data_in_leaf is set=99, min_child_samples=20 will be ignored. Current value: min_data_in_leaf=99\n",
            "[LightGBM] [Warning] feature_fraction is set=0.4082765767030636, colsample_bytree=1.0 will be ignored. Current value: feature_fraction=0.4082765767030636\n",
            "[LightGBM] [Warning] lambda_l2 is set=3.0370737204962084, reg_lambda=0.0 will be ignored. Current value: lambda_l2=3.0370737204962084\n",
            "[LightGBM] [Warning] lambda_l1 is set=0.0029897933016757353, reg_alpha=0.0 will be ignored. Current value: lambda_l1=0.0029897933016757353\n",
            "[LightGBM] [Warning] bagging_fraction is set=0.9808954337017248, subsample=1.0 will be ignored. Current value: bagging_fraction=0.9808954337017248\n",
            "[LightGBM] [Warning] bagging_freq is set=4, subsample_freq=0 will be ignored. Current value: bagging_freq=4\n",
            "[LightGBM] [Info] Number of positive: 16566, number of negative: 22712\n",
            "[LightGBM] [Info] Auto-choosing row-wise multi-threading, the overhead of testing was 0.390922 seconds.\n",
            "You can set `force_row_wise=true` to remove the overhead.\n",
            "And if memory is not enough, you can set `force_col_wise=true`.\n",
            "[LightGBM] [Info] Total Bins 192757\n",
            "[LightGBM] [Info] Number of data points in the train set: 39278, number of used features: 1715\n",
            "[LightGBM] [Info] [binary:BoostFromScore]: pavg=0.421763 -> initscore=-0.315541\n",
            "[LightGBM] [Info] Start training from score -0.315541\n",
            "[LightGBM] [Warning] min_data_in_leaf is set=99, min_child_samples=20 will be ignored. Current value: min_data_in_leaf=99\n",
            "[LightGBM] [Warning] feature_fraction is set=0.4082765767030636, colsample_bytree=1.0 will be ignored. Current value: feature_fraction=0.4082765767030636\n",
            "[LightGBM] [Warning] lambda_l2 is set=3.0370737204962084, reg_lambda=0.0 will be ignored. Current value: lambda_l2=3.0370737204962084\n",
            "[LightGBM] [Warning] lambda_l1 is set=0.0029897933016757353, reg_alpha=0.0 will be ignored. Current value: lambda_l1=0.0029897933016757353\n",
            "[LightGBM] [Warning] bagging_fraction is set=0.9808954337017248, subsample=1.0 will be ignored. Current value: bagging_fraction=0.9808954337017248\n",
            "[LightGBM] [Warning] bagging_freq is set=4, subsample_freq=0 will be ignored. Current value: bagging_freq=4\n"
          ]
        },
        {
          "output_type": "stream",
          "name": "stderr",
          "text": [
            "[I 2024-03-31 00:59:11,947] Trial 13 finished with value: 0.8203964654494149 and parameters: {'num_leaves': 94, 'lambda_l1': 0.0029897933016757353, 'lambda_l2': 3.0370737204962084, 'feature_fraction': 0.4082765767030636, 'bagging_fraction': 0.9808954337017248, 'bagging_freq': 4, 'min_child_samples': 99, 'class_weight': None}. Best is trial 11 with value: 0.8300715644320492.\n",
            "<ipython-input-46-a40d882ac625>:7: FutureWarning: suggest_loguniform has been deprecated in v3.0.0. This feature will be removed in v6.0.0. See https://github.com/optuna/optuna/releases/tag/v3.0.0. Use suggest_float(..., log=True) instead.\n",
            "  'lambda_l1': trial.suggest_loguniform('lambda_l1', 1e-8, 5.0),\n",
            "<ipython-input-46-a40d882ac625>:8: FutureWarning: suggest_loguniform has been deprecated in v3.0.0. This feature will be removed in v6.0.0. See https://github.com/optuna/optuna/releases/tag/v3.0.0. Use suggest_float(..., log=True) instead.\n",
            "  'lambda_l2': trial.suggest_loguniform('lambda_l2', 1e-8, 5.0),\n",
            "/usr/local/lib/python3.10/dist-packages/optuna/trial/_trial.py:676: RuntimeWarning: Inconsistent parameter values for distribution with name \"num_leaves\"! This might be a configuration mistake. Optuna allows to call the same distribution with the same name more than once in a trial. When the parameter values are inconsistent optuna only uses the values of the first call and ignores all following. Using these values: {'log': False, 'step': 1, 'low': 70, 'high': 150}\n",
            "  warnings.warn(\n",
            "<ipython-input-46-a40d882ac625>:10: FutureWarning: suggest_uniform has been deprecated in v3.0.0. This feature will be removed in v6.0.0. See https://github.com/optuna/optuna/releases/tag/v3.0.0. Use suggest_float instead.\n",
            "  'feature_fraction': trial.suggest_uniform('feature_fraction', 0.1, 1.0),\n",
            "<ipython-input-46-a40d882ac625>:11: FutureWarning: suggest_uniform has been deprecated in v3.0.0. This feature will be removed in v6.0.0. See https://github.com/optuna/optuna/releases/tag/v3.0.0. Use suggest_float instead.\n",
            "  'bagging_fraction': trial.suggest_uniform('bagging_fraction', 0.1, 1.0),\n",
            "/usr/local/lib/python3.10/dist-packages/lightgbm/engine.py:172: UserWarning: Found `num_iteration` in params. Will use it instead of argument\n",
            "  _log_warning(f\"Found `{alias}` in params. Will use it instead of argument\")\n"
          ]
        },
        {
          "output_type": "stream",
          "name": "stdout",
          "text": [
            "[LightGBM] [Warning] feature_fraction is set=0.46589064636055044, colsample_bytree=1.0 will be ignored. Current value: feature_fraction=0.46589064636055044\n",
            "[LightGBM] [Warning] lambda_l2 is set=0.00040951897384737437, reg_lambda=0.0 will be ignored. Current value: lambda_l2=0.00040951897384737437\n",
            "[LightGBM] [Warning] min_data_in_leaf is set=5, min_child_samples=20 will be ignored. Current value: min_data_in_leaf=5\n",
            "[LightGBM] [Warning] lambda_l1 is set=0.0005935002676470299, reg_alpha=0.0 will be ignored. Current value: lambda_l1=0.0005935002676470299\n",
            "[LightGBM] [Warning] num_iterations is set=101, num_iteration=101 will be ignored. Current value: num_iterations=101\n",
            "[LightGBM] [Warning] bagging_fraction is set=0.8245929157155876, subsample=1.0 will be ignored. Current value: bagging_fraction=0.8245929157155876\n",
            "[LightGBM] [Warning] bagging_freq is set=0, subsample_freq=0 will be ignored. Current value: bagging_freq=0\n",
            "[LightGBM] [Warning] min_data_in_leaf is set=5, min_child_samples=20 will be ignored. Current value: min_data_in_leaf=5\n",
            "[LightGBM] [Warning] feature_fraction is set=0.46589064636055044, colsample_bytree=1.0 will be ignored. Current value: feature_fraction=0.46589064636055044\n",
            "[LightGBM] [Warning] lambda_l2 is set=0.00040951897384737437, reg_lambda=0.0 will be ignored. Current value: lambda_l2=0.00040951897384737437\n",
            "[LightGBM] [Warning] lambda_l1 is set=0.0005935002676470299, reg_alpha=0.0 will be ignored. Current value: lambda_l1=0.0005935002676470299\n",
            "[LightGBM] [Warning] bagging_fraction is set=0.8245929157155876, subsample=1.0 will be ignored. Current value: bagging_fraction=0.8245929157155876\n",
            "[LightGBM] [Warning] bagging_freq is set=0, subsample_freq=0 will be ignored. Current value: bagging_freq=0\n",
            "[LightGBM] [Info] Number of positive: 16565, number of negative: 22712\n",
            "[LightGBM] [Info] Auto-choosing row-wise multi-threading, the overhead of testing was 1.018548 seconds.\n",
            "You can set `force_row_wise=true` to remove the overhead.\n",
            "And if memory is not enough, you can set `force_col_wise=true`.\n",
            "[LightGBM] [Info] Total Bins 228248\n",
            "[LightGBM] [Info] Number of data points in the train set: 39277, number of used features: 3498\n",
            "[LightGBM] [Info] [binary:BoostFromScore]: pavg=0.421748 -> initscore=-0.315601\n",
            "[LightGBM] [Info] Start training from score -0.315601\n",
            "[LightGBM] [Warning] min_data_in_leaf is set=5, min_child_samples=20 will be ignored. Current value: min_data_in_leaf=5\n",
            "[LightGBM] [Warning] feature_fraction is set=0.46589064636055044, colsample_bytree=1.0 will be ignored. Current value: feature_fraction=0.46589064636055044\n",
            "[LightGBM] [Warning] lambda_l2 is set=0.00040951897384737437, reg_lambda=0.0 will be ignored. Current value: lambda_l2=0.00040951897384737437\n",
            "[LightGBM] [Warning] lambda_l1 is set=0.0005935002676470299, reg_alpha=0.0 will be ignored. Current value: lambda_l1=0.0005935002676470299\n",
            "[LightGBM] [Warning] bagging_fraction is set=0.8245929157155876, subsample=1.0 will be ignored. Current value: bagging_fraction=0.8245929157155876\n",
            "[LightGBM] [Warning] bagging_freq is set=0, subsample_freq=0 will be ignored. Current value: bagging_freq=0\n",
            "[LightGBM] [Warning] feature_fraction is set=0.46589064636055044, colsample_bytree=1.0 will be ignored. Current value: feature_fraction=0.46589064636055044\n",
            "[LightGBM] [Warning] lambda_l2 is set=0.00040951897384737437, reg_lambda=0.0 will be ignored. Current value: lambda_l2=0.00040951897384737437\n",
            "[LightGBM] [Warning] min_data_in_leaf is set=5, min_child_samples=20 will be ignored. Current value: min_data_in_leaf=5\n",
            "[LightGBM] [Warning] lambda_l1 is set=0.0005935002676470299, reg_alpha=0.0 will be ignored. Current value: lambda_l1=0.0005935002676470299\n",
            "[LightGBM] [Warning] num_iterations is set=101, num_iteration=101 will be ignored. Current value: num_iterations=101\n",
            "[LightGBM] [Warning] bagging_fraction is set=0.8245929157155876, subsample=1.0 will be ignored. Current value: bagging_fraction=0.8245929157155876\n",
            "[LightGBM] [Warning] bagging_freq is set=0, subsample_freq=0 will be ignored. Current value: bagging_freq=0\n"
          ]
        },
        {
          "output_type": "stream",
          "name": "stderr",
          "text": [
            "/usr/local/lib/python3.10/dist-packages/lightgbm/engine.py:172: UserWarning: Found `num_iteration` in params. Will use it instead of argument\n",
            "  _log_warning(f\"Found `{alias}` in params. Will use it instead of argument\")\n"
          ]
        },
        {
          "output_type": "stream",
          "name": "stdout",
          "text": [
            "[LightGBM] [Warning] min_data_in_leaf is set=5, min_child_samples=20 will be ignored. Current value: min_data_in_leaf=5\n",
            "[LightGBM] [Warning] feature_fraction is set=0.46589064636055044, colsample_bytree=1.0 will be ignored. Current value: feature_fraction=0.46589064636055044\n",
            "[LightGBM] [Warning] lambda_l2 is set=0.00040951897384737437, reg_lambda=0.0 will be ignored. Current value: lambda_l2=0.00040951897384737437\n",
            "[LightGBM] [Warning] lambda_l1 is set=0.0005935002676470299, reg_alpha=0.0 will be ignored. Current value: lambda_l1=0.0005935002676470299\n",
            "[LightGBM] [Warning] bagging_fraction is set=0.8245929157155876, subsample=1.0 will be ignored. Current value: bagging_fraction=0.8245929157155876\n",
            "[LightGBM] [Warning] bagging_freq is set=0, subsample_freq=0 will be ignored. Current value: bagging_freq=0\n",
            "[LightGBM] [Info] Number of positive: 16565, number of negative: 22712\n",
            "[LightGBM] [Info] Auto-choosing col-wise multi-threading, the overhead of testing was 0.950553 seconds.\n",
            "You can set `force_col_wise=true` to remove the overhead.\n",
            "[LightGBM] [Info] Total Bins 227132\n",
            "[LightGBM] [Info] Number of data points in the train set: 39277, number of used features: 3498\n",
            "[LightGBM] [Info] [binary:BoostFromScore]: pavg=0.421748 -> initscore=-0.315601\n",
            "[LightGBM] [Info] Start training from score -0.315601\n",
            "[LightGBM] [Warning] min_data_in_leaf is set=5, min_child_samples=20 will be ignored. Current value: min_data_in_leaf=5\n",
            "[LightGBM] [Warning] feature_fraction is set=0.46589064636055044, colsample_bytree=1.0 will be ignored. Current value: feature_fraction=0.46589064636055044\n",
            "[LightGBM] [Warning] lambda_l2 is set=0.00040951897384737437, reg_lambda=0.0 will be ignored. Current value: lambda_l2=0.00040951897384737437\n",
            "[LightGBM] [Warning] lambda_l1 is set=0.0005935002676470299, reg_alpha=0.0 will be ignored. Current value: lambda_l1=0.0005935002676470299\n",
            "[LightGBM] [Warning] bagging_fraction is set=0.8245929157155876, subsample=1.0 will be ignored. Current value: bagging_fraction=0.8245929157155876\n",
            "[LightGBM] [Warning] bagging_freq is set=0, subsample_freq=0 will be ignored. Current value: bagging_freq=0\n",
            "[LightGBM] [Warning] feature_fraction is set=0.46589064636055044, colsample_bytree=1.0 will be ignored. Current value: feature_fraction=0.46589064636055044\n",
            "[LightGBM] [Warning] lambda_l2 is set=0.00040951897384737437, reg_lambda=0.0 will be ignored. Current value: lambda_l2=0.00040951897384737437\n",
            "[LightGBM] [Warning] min_data_in_leaf is set=5, min_child_samples=20 will be ignored. Current value: min_data_in_leaf=5\n",
            "[LightGBM] [Warning] lambda_l1 is set=0.0005935002676470299, reg_alpha=0.0 will be ignored. Current value: lambda_l1=0.0005935002676470299\n",
            "[LightGBM] [Warning] num_iterations is set=101, num_iteration=101 will be ignored. Current value: num_iterations=101\n",
            "[LightGBM] [Warning] bagging_fraction is set=0.8245929157155876, subsample=1.0 will be ignored. Current value: bagging_fraction=0.8245929157155876\n",
            "[LightGBM] [Warning] bagging_freq is set=0, subsample_freq=0 will be ignored. Current value: bagging_freq=0\n"
          ]
        },
        {
          "output_type": "stream",
          "name": "stderr",
          "text": [
            "/usr/local/lib/python3.10/dist-packages/lightgbm/engine.py:172: UserWarning: Found `num_iteration` in params. Will use it instead of argument\n",
            "  _log_warning(f\"Found `{alias}` in params. Will use it instead of argument\")\n"
          ]
        },
        {
          "output_type": "stream",
          "name": "stdout",
          "text": [
            "[LightGBM] [Warning] min_data_in_leaf is set=5, min_child_samples=20 will be ignored. Current value: min_data_in_leaf=5\n",
            "[LightGBM] [Warning] feature_fraction is set=0.46589064636055044, colsample_bytree=1.0 will be ignored. Current value: feature_fraction=0.46589064636055044\n",
            "[LightGBM] [Warning] lambda_l2 is set=0.00040951897384737437, reg_lambda=0.0 will be ignored. Current value: lambda_l2=0.00040951897384737437\n",
            "[LightGBM] [Warning] lambda_l1 is set=0.0005935002676470299, reg_alpha=0.0 will be ignored. Current value: lambda_l1=0.0005935002676470299\n",
            "[LightGBM] [Warning] bagging_fraction is set=0.8245929157155876, subsample=1.0 will be ignored. Current value: bagging_fraction=0.8245929157155876\n",
            "[LightGBM] [Warning] bagging_freq is set=0, subsample_freq=0 will be ignored. Current value: bagging_freq=0\n",
            "[LightGBM] [Info] Number of positive: 16566, number of negative: 22712\n",
            "[LightGBM] [Info] Auto-choosing col-wise multi-threading, the overhead of testing was 0.967220 seconds.\n",
            "You can set `force_col_wise=true` to remove the overhead.\n",
            "[LightGBM] [Info] Total Bins 228312\n",
            "[LightGBM] [Info] Number of data points in the train set: 39278, number of used features: 3498\n",
            "[LightGBM] [Info] [binary:BoostFromScore]: pavg=0.421763 -> initscore=-0.315541\n",
            "[LightGBM] [Info] Start training from score -0.315541\n",
            "[LightGBM] [Warning] min_data_in_leaf is set=5, min_child_samples=20 will be ignored. Current value: min_data_in_leaf=5\n",
            "[LightGBM] [Warning] feature_fraction is set=0.46589064636055044, colsample_bytree=1.0 will be ignored. Current value: feature_fraction=0.46589064636055044\n",
            "[LightGBM] [Warning] lambda_l2 is set=0.00040951897384737437, reg_lambda=0.0 will be ignored. Current value: lambda_l2=0.00040951897384737437\n",
            "[LightGBM] [Warning] lambda_l1 is set=0.0005935002676470299, reg_alpha=0.0 will be ignored. Current value: lambda_l1=0.0005935002676470299\n",
            "[LightGBM] [Warning] bagging_fraction is set=0.8245929157155876, subsample=1.0 will be ignored. Current value: bagging_fraction=0.8245929157155876\n",
            "[LightGBM] [Warning] bagging_freq is set=0, subsample_freq=0 will be ignored. Current value: bagging_freq=0\n",
            "[LightGBM] [Warning] feature_fraction is set=0.46589064636055044, colsample_bytree=1.0 will be ignored. Current value: feature_fraction=0.46589064636055044\n",
            "[LightGBM] [Warning] lambda_l2 is set=0.00040951897384737437, reg_lambda=0.0 will be ignored. Current value: lambda_l2=0.00040951897384737437\n",
            "[LightGBM] [Warning] min_data_in_leaf is set=5, min_child_samples=20 will be ignored. Current value: min_data_in_leaf=5\n",
            "[LightGBM] [Warning] lambda_l1 is set=0.0005935002676470299, reg_alpha=0.0 will be ignored. Current value: lambda_l1=0.0005935002676470299\n",
            "[LightGBM] [Warning] num_iterations is set=101, num_iteration=101 will be ignored. Current value: num_iterations=101\n",
            "[LightGBM] [Warning] bagging_fraction is set=0.8245929157155876, subsample=1.0 will be ignored. Current value: bagging_fraction=0.8245929157155876\n",
            "[LightGBM] [Warning] bagging_freq is set=0, subsample_freq=0 will be ignored. Current value: bagging_freq=0\n"
          ]
        },
        {
          "output_type": "stream",
          "name": "stderr",
          "text": [
            "/usr/local/lib/python3.10/dist-packages/lightgbm/engine.py:172: UserWarning: Found `num_iteration` in params. Will use it instead of argument\n",
            "  _log_warning(f\"Found `{alias}` in params. Will use it instead of argument\")\n"
          ]
        },
        {
          "output_type": "stream",
          "name": "stdout",
          "text": [
            "[LightGBM] [Warning] min_data_in_leaf is set=5, min_child_samples=20 will be ignored. Current value: min_data_in_leaf=5\n",
            "[LightGBM] [Warning] feature_fraction is set=0.46589064636055044, colsample_bytree=1.0 will be ignored. Current value: feature_fraction=0.46589064636055044\n",
            "[LightGBM] [Warning] lambda_l2 is set=0.00040951897384737437, reg_lambda=0.0 will be ignored. Current value: lambda_l2=0.00040951897384737437\n",
            "[LightGBM] [Warning] lambda_l1 is set=0.0005935002676470299, reg_alpha=0.0 will be ignored. Current value: lambda_l1=0.0005935002676470299\n",
            "[LightGBM] [Warning] bagging_fraction is set=0.8245929157155876, subsample=1.0 will be ignored. Current value: bagging_fraction=0.8245929157155876\n",
            "[LightGBM] [Warning] bagging_freq is set=0, subsample_freq=0 will be ignored. Current value: bagging_freq=0\n",
            "[LightGBM] [Info] Number of positive: 16566, number of negative: 22712\n",
            "[LightGBM] [Info] Auto-choosing col-wise multi-threading, the overhead of testing was 1.374860 seconds.\n",
            "You can set `force_col_wise=true` to remove the overhead.\n",
            "[LightGBM] [Info] Total Bins 227485\n",
            "[LightGBM] [Info] Number of data points in the train set: 39278, number of used features: 3498\n",
            "[LightGBM] [Info] [binary:BoostFromScore]: pavg=0.421763 -> initscore=-0.315541\n",
            "[LightGBM] [Info] Start training from score -0.315541\n",
            "[LightGBM] [Warning] min_data_in_leaf is set=5, min_child_samples=20 will be ignored. Current value: min_data_in_leaf=5\n",
            "[LightGBM] [Warning] feature_fraction is set=0.46589064636055044, colsample_bytree=1.0 will be ignored. Current value: feature_fraction=0.46589064636055044\n",
            "[LightGBM] [Warning] lambda_l2 is set=0.00040951897384737437, reg_lambda=0.0 will be ignored. Current value: lambda_l2=0.00040951897384737437\n",
            "[LightGBM] [Warning] lambda_l1 is set=0.0005935002676470299, reg_alpha=0.0 will be ignored. Current value: lambda_l1=0.0005935002676470299\n",
            "[LightGBM] [Warning] bagging_fraction is set=0.8245929157155876, subsample=1.0 will be ignored. Current value: bagging_fraction=0.8245929157155876\n",
            "[LightGBM] [Warning] bagging_freq is set=0, subsample_freq=0 will be ignored. Current value: bagging_freq=0\n"
          ]
        },
        {
          "output_type": "stream",
          "name": "stderr",
          "text": [
            "/usr/local/lib/python3.10/dist-packages/lightgbm/engine.py:172: UserWarning: Found `num_iteration` in params. Will use it instead of argument\n",
            "  _log_warning(f\"Found `{alias}` in params. Will use it instead of argument\")\n"
          ]
        },
        {
          "output_type": "stream",
          "name": "stdout",
          "text": [
            "[LightGBM] [Warning] feature_fraction is set=0.46589064636055044, colsample_bytree=1.0 will be ignored. Current value: feature_fraction=0.46589064636055044\n",
            "[LightGBM] [Warning] lambda_l2 is set=0.00040951897384737437, reg_lambda=0.0 will be ignored. Current value: lambda_l2=0.00040951897384737437\n",
            "[LightGBM] [Warning] min_data_in_leaf is set=5, min_child_samples=20 will be ignored. Current value: min_data_in_leaf=5\n",
            "[LightGBM] [Warning] lambda_l1 is set=0.0005935002676470299, reg_alpha=0.0 will be ignored. Current value: lambda_l1=0.0005935002676470299\n",
            "[LightGBM] [Warning] num_iterations is set=101, num_iteration=101 will be ignored. Current value: num_iterations=101\n",
            "[LightGBM] [Warning] bagging_fraction is set=0.8245929157155876, subsample=1.0 will be ignored. Current value: bagging_fraction=0.8245929157155876\n",
            "[LightGBM] [Warning] bagging_freq is set=0, subsample_freq=0 will be ignored. Current value: bagging_freq=0\n",
            "[LightGBM] [Warning] min_data_in_leaf is set=5, min_child_samples=20 will be ignored. Current value: min_data_in_leaf=5\n",
            "[LightGBM] [Warning] feature_fraction is set=0.46589064636055044, colsample_bytree=1.0 will be ignored. Current value: feature_fraction=0.46589064636055044\n",
            "[LightGBM] [Warning] lambda_l2 is set=0.00040951897384737437, reg_lambda=0.0 will be ignored. Current value: lambda_l2=0.00040951897384737437\n",
            "[LightGBM] [Warning] lambda_l1 is set=0.0005935002676470299, reg_alpha=0.0 will be ignored. Current value: lambda_l1=0.0005935002676470299\n",
            "[LightGBM] [Warning] bagging_fraction is set=0.8245929157155876, subsample=1.0 will be ignored. Current value: bagging_fraction=0.8245929157155876\n",
            "[LightGBM] [Warning] bagging_freq is set=0, subsample_freq=0 will be ignored. Current value: bagging_freq=0\n",
            "[LightGBM] [Info] Number of positive: 16566, number of negative: 22712\n",
            "[LightGBM] [Info] Auto-choosing col-wise multi-threading, the overhead of testing was 0.915883 seconds.\n",
            "You can set `force_col_wise=true` to remove the overhead.\n",
            "[LightGBM] [Info] Total Bins 227467\n",
            "[LightGBM] [Info] Number of data points in the train set: 39278, number of used features: 3498\n",
            "[LightGBM] [Info] [binary:BoostFromScore]: pavg=0.421763 -> initscore=-0.315541\n",
            "[LightGBM] [Info] Start training from score -0.315541\n"
          ]
        },
        {
          "output_type": "stream",
          "name": "stderr",
          "text": [
            "[I 2024-03-31 01:01:41,162] Trial 14 finished with value: 0.8382665127034429 and parameters: {'num_leaves': 101, 'lambda_l1': 0.0005935002676470299, 'lambda_l2': 0.00040951897384737437, 'feature_fraction': 0.46589064636055044, 'bagging_fraction': 0.8245929157155876, 'bagging_freq': 0, 'min_child_samples': 5, 'class_weight': None}. Best is trial 14 with value: 0.8382665127034429.\n"
          ]
        },
        {
          "output_type": "stream",
          "name": "stdout",
          "text": [
            "[LightGBM] [Warning] min_data_in_leaf is set=5, min_child_samples=20 will be ignored. Current value: min_data_in_leaf=5\n",
            "[LightGBM] [Warning] feature_fraction is set=0.46589064636055044, colsample_bytree=1.0 will be ignored. Current value: feature_fraction=0.46589064636055044\n",
            "[LightGBM] [Warning] lambda_l2 is set=0.00040951897384737437, reg_lambda=0.0 will be ignored. Current value: lambda_l2=0.00040951897384737437\n",
            "[LightGBM] [Warning] lambda_l1 is set=0.0005935002676470299, reg_alpha=0.0 will be ignored. Current value: lambda_l1=0.0005935002676470299\n",
            "[LightGBM] [Warning] bagging_fraction is set=0.8245929157155876, subsample=1.0 will be ignored. Current value: bagging_fraction=0.8245929157155876\n",
            "[LightGBM] [Warning] bagging_freq is set=0, subsample_freq=0 will be ignored. Current value: bagging_freq=0\n"
          ]
        },
        {
          "output_type": "stream",
          "name": "stderr",
          "text": [
            "<ipython-input-46-a40d882ac625>:7: FutureWarning: suggest_loguniform has been deprecated in v3.0.0. This feature will be removed in v6.0.0. See https://github.com/optuna/optuna/releases/tag/v3.0.0. Use suggest_float(..., log=True) instead.\n",
            "  'lambda_l1': trial.suggest_loguniform('lambda_l1', 1e-8, 5.0),\n",
            "<ipython-input-46-a40d882ac625>:8: FutureWarning: suggest_loguniform has been deprecated in v3.0.0. This feature will be removed in v6.0.0. See https://github.com/optuna/optuna/releases/tag/v3.0.0. Use suggest_float(..., log=True) instead.\n",
            "  'lambda_l2': trial.suggest_loguniform('lambda_l2', 1e-8, 5.0),\n",
            "/usr/local/lib/python3.10/dist-packages/optuna/trial/_trial.py:676: RuntimeWarning: Inconsistent parameter values for distribution with name \"num_leaves\"! This might be a configuration mistake. Optuna allows to call the same distribution with the same name more than once in a trial. When the parameter values are inconsistent optuna only uses the values of the first call and ignores all following. Using these values: {'log': False, 'step': 1, 'low': 70, 'high': 150}\n",
            "  warnings.warn(\n",
            "<ipython-input-46-a40d882ac625>:10: FutureWarning: suggest_uniform has been deprecated in v3.0.0. This feature will be removed in v6.0.0. See https://github.com/optuna/optuna/releases/tag/v3.0.0. Use suggest_float instead.\n",
            "  'feature_fraction': trial.suggest_uniform('feature_fraction', 0.1, 1.0),\n",
            "<ipython-input-46-a40d882ac625>:11: FutureWarning: suggest_uniform has been deprecated in v3.0.0. This feature will be removed in v6.0.0. See https://github.com/optuna/optuna/releases/tag/v3.0.0. Use suggest_float instead.\n",
            "  'bagging_fraction': trial.suggest_uniform('bagging_fraction', 0.1, 1.0),\n",
            "/usr/local/lib/python3.10/dist-packages/lightgbm/engine.py:172: UserWarning: Found `num_iteration` in params. Will use it instead of argument\n",
            "  _log_warning(f\"Found `{alias}` in params. Will use it instead of argument\")\n"
          ]
        },
        {
          "output_type": "stream",
          "name": "stdout",
          "text": [
            "[LightGBM] [Warning] feature_fraction is set=0.6059214861030116, colsample_bytree=1.0 will be ignored. Current value: feature_fraction=0.6059214861030116\n",
            "[LightGBM] [Warning] lambda_l2 is set=0.03823918021085263, reg_lambda=0.0 will be ignored. Current value: lambda_l2=0.03823918021085263\n",
            "[LightGBM] [Warning] min_data_in_leaf is set=4, min_child_samples=20 will be ignored. Current value: min_data_in_leaf=4\n",
            "[LightGBM] [Warning] lambda_l1 is set=0.00023713179464305553, reg_alpha=0.0 will be ignored. Current value: lambda_l1=0.00023713179464305553\n",
            "[LightGBM] [Warning] num_iterations is set=98, num_iteration=98 will be ignored. Current value: num_iterations=98\n",
            "[LightGBM] [Warning] bagging_fraction is set=0.811383056854317, subsample=1.0 will be ignored. Current value: bagging_fraction=0.811383056854317\n",
            "[LightGBM] [Warning] bagging_freq is set=0, subsample_freq=0 will be ignored. Current value: bagging_freq=0\n",
            "[LightGBM] [Warning] min_data_in_leaf is set=4, min_child_samples=20 will be ignored. Current value: min_data_in_leaf=4\n",
            "[LightGBM] [Warning] feature_fraction is set=0.6059214861030116, colsample_bytree=1.0 will be ignored. Current value: feature_fraction=0.6059214861030116\n",
            "[LightGBM] [Warning] lambda_l2 is set=0.03823918021085263, reg_lambda=0.0 will be ignored. Current value: lambda_l2=0.03823918021085263\n",
            "[LightGBM] [Warning] lambda_l1 is set=0.00023713179464305553, reg_alpha=0.0 will be ignored. Current value: lambda_l1=0.00023713179464305553\n",
            "[LightGBM] [Warning] bagging_fraction is set=0.811383056854317, subsample=1.0 will be ignored. Current value: bagging_fraction=0.811383056854317\n",
            "[LightGBM] [Warning] bagging_freq is set=0, subsample_freq=0 will be ignored. Current value: bagging_freq=0\n",
            "[LightGBM] [Info] Number of positive: 16565, number of negative: 22712\n",
            "[LightGBM] [Info] Auto-choosing row-wise multi-threading, the overhead of testing was 0.926310 seconds.\n",
            "You can set `force_row_wise=true` to remove the overhead.\n",
            "And if memory is not enough, you can set `force_col_wise=true`.\n",
            "[LightGBM] [Info] Total Bins 228248\n",
            "[LightGBM] [Info] Number of data points in the train set: 39277, number of used features: 3498\n",
            "[LightGBM] [Info] [binary:BoostFromScore]: pavg=0.421748 -> initscore=-0.315601\n",
            "[LightGBM] [Info] Start training from score -0.315601\n",
            "[LightGBM] [Warning] min_data_in_leaf is set=4, min_child_samples=20 will be ignored. Current value: min_data_in_leaf=4\n",
            "[LightGBM] [Warning] feature_fraction is set=0.6059214861030116, colsample_bytree=1.0 will be ignored. Current value: feature_fraction=0.6059214861030116\n",
            "[LightGBM] [Warning] lambda_l2 is set=0.03823918021085263, reg_lambda=0.0 will be ignored. Current value: lambda_l2=0.03823918021085263\n",
            "[LightGBM] [Warning] lambda_l1 is set=0.00023713179464305553, reg_alpha=0.0 will be ignored. Current value: lambda_l1=0.00023713179464305553\n",
            "[LightGBM] [Warning] bagging_fraction is set=0.811383056854317, subsample=1.0 will be ignored. Current value: bagging_fraction=0.811383056854317\n",
            "[LightGBM] [Warning] bagging_freq is set=0, subsample_freq=0 will be ignored. Current value: bagging_freq=0\n",
            "[LightGBM] [Warning] feature_fraction is set=0.6059214861030116, colsample_bytree=1.0 will be ignored. Current value: feature_fraction=0.6059214861030116\n",
            "[LightGBM] [Warning] lambda_l2 is set=0.03823918021085263, reg_lambda=0.0 will be ignored. Current value: lambda_l2=0.03823918021085263\n",
            "[LightGBM] [Warning] min_data_in_leaf is set=4, min_child_samples=20 will be ignored. Current value: min_data_in_leaf=4\n",
            "[LightGBM] [Warning] lambda_l1 is set=0.00023713179464305553, reg_alpha=0.0 will be ignored. Current value: lambda_l1=0.00023713179464305553\n",
            "[LightGBM] [Warning] num_iterations is set=98, num_iteration=98 will be ignored. Current value: num_iterations=98\n",
            "[LightGBM] [Warning] bagging_fraction is set=0.811383056854317, subsample=1.0 will be ignored. Current value: bagging_fraction=0.811383056854317\n",
            "[LightGBM] [Warning] bagging_freq is set=0, subsample_freq=0 will be ignored. Current value: bagging_freq=0\n"
          ]
        },
        {
          "output_type": "stream",
          "name": "stderr",
          "text": [
            "/usr/local/lib/python3.10/dist-packages/lightgbm/engine.py:172: UserWarning: Found `num_iteration` in params. Will use it instead of argument\n",
            "  _log_warning(f\"Found `{alias}` in params. Will use it instead of argument\")\n"
          ]
        },
        {
          "output_type": "stream",
          "name": "stdout",
          "text": [
            "[LightGBM] [Warning] min_data_in_leaf is set=4, min_child_samples=20 will be ignored. Current value: min_data_in_leaf=4\n",
            "[LightGBM] [Warning] feature_fraction is set=0.6059214861030116, colsample_bytree=1.0 will be ignored. Current value: feature_fraction=0.6059214861030116\n",
            "[LightGBM] [Warning] lambda_l2 is set=0.03823918021085263, reg_lambda=0.0 will be ignored. Current value: lambda_l2=0.03823918021085263\n",
            "[LightGBM] [Warning] lambda_l1 is set=0.00023713179464305553, reg_alpha=0.0 will be ignored. Current value: lambda_l1=0.00023713179464305553\n",
            "[LightGBM] [Warning] bagging_fraction is set=0.811383056854317, subsample=1.0 will be ignored. Current value: bagging_fraction=0.811383056854317\n",
            "[LightGBM] [Warning] bagging_freq is set=0, subsample_freq=0 will be ignored. Current value: bagging_freq=0\n",
            "[LightGBM] [Info] Number of positive: 16565, number of negative: 22712\n",
            "[LightGBM] [Info] Auto-choosing row-wise multi-threading, the overhead of testing was 0.983387 seconds.\n",
            "You can set `force_row_wise=true` to remove the overhead.\n",
            "And if memory is not enough, you can set `force_col_wise=true`.\n",
            "[LightGBM] [Info] Total Bins 227132\n",
            "[LightGBM] [Info] Number of data points in the train set: 39277, number of used features: 3498\n",
            "[LightGBM] [Info] [binary:BoostFromScore]: pavg=0.421748 -> initscore=-0.315601\n",
            "[LightGBM] [Info] Start training from score -0.315601\n",
            "[LightGBM] [Warning] min_data_in_leaf is set=4, min_child_samples=20 will be ignored. Current value: min_data_in_leaf=4\n",
            "[LightGBM] [Warning] feature_fraction is set=0.6059214861030116, colsample_bytree=1.0 will be ignored. Current value: feature_fraction=0.6059214861030116\n",
            "[LightGBM] [Warning] lambda_l2 is set=0.03823918021085263, reg_lambda=0.0 will be ignored. Current value: lambda_l2=0.03823918021085263\n",
            "[LightGBM] [Warning] lambda_l1 is set=0.00023713179464305553, reg_alpha=0.0 will be ignored. Current value: lambda_l1=0.00023713179464305553\n",
            "[LightGBM] [Warning] bagging_fraction is set=0.811383056854317, subsample=1.0 will be ignored. Current value: bagging_fraction=0.811383056854317\n",
            "[LightGBM] [Warning] bagging_freq is set=0, subsample_freq=0 will be ignored. Current value: bagging_freq=0\n",
            "[LightGBM] [Warning] feature_fraction is set=0.6059214861030116, colsample_bytree=1.0 will be ignored. Current value: feature_fraction=0.6059214861030116\n",
            "[LightGBM] [Warning] lambda_l2 is set=0.03823918021085263, reg_lambda=0.0 will be ignored. Current value: lambda_l2=0.03823918021085263\n",
            "[LightGBM] [Warning] min_data_in_leaf is set=4, min_child_samples=20 will be ignored. Current value: min_data_in_leaf=4\n",
            "[LightGBM] [Warning] lambda_l1 is set=0.00023713179464305553, reg_alpha=0.0 will be ignored. Current value: lambda_l1=0.00023713179464305553\n",
            "[LightGBM] [Warning] num_iterations is set=98, num_iteration=98 will be ignored. Current value: num_iterations=98\n",
            "[LightGBM] [Warning] bagging_fraction is set=0.811383056854317, subsample=1.0 will be ignored. Current value: bagging_fraction=0.811383056854317\n",
            "[LightGBM] [Warning] bagging_freq is set=0, subsample_freq=0 will be ignored. Current value: bagging_freq=0\n"
          ]
        },
        {
          "output_type": "stream",
          "name": "stderr",
          "text": [
            "/usr/local/lib/python3.10/dist-packages/lightgbm/engine.py:172: UserWarning: Found `num_iteration` in params. Will use it instead of argument\n",
            "  _log_warning(f\"Found `{alias}` in params. Will use it instead of argument\")\n"
          ]
        },
        {
          "output_type": "stream",
          "name": "stdout",
          "text": [
            "[LightGBM] [Warning] min_data_in_leaf is set=4, min_child_samples=20 will be ignored. Current value: min_data_in_leaf=4\n",
            "[LightGBM] [Warning] feature_fraction is set=0.6059214861030116, colsample_bytree=1.0 will be ignored. Current value: feature_fraction=0.6059214861030116\n",
            "[LightGBM] [Warning] lambda_l2 is set=0.03823918021085263, reg_lambda=0.0 will be ignored. Current value: lambda_l2=0.03823918021085263\n",
            "[LightGBM] [Warning] lambda_l1 is set=0.00023713179464305553, reg_alpha=0.0 will be ignored. Current value: lambda_l1=0.00023713179464305553\n",
            "[LightGBM] [Warning] bagging_fraction is set=0.811383056854317, subsample=1.0 will be ignored. Current value: bagging_fraction=0.811383056854317\n",
            "[LightGBM] [Warning] bagging_freq is set=0, subsample_freq=0 will be ignored. Current value: bagging_freq=0\n",
            "[LightGBM] [Info] Number of positive: 16566, number of negative: 22712\n",
            "[LightGBM] [Info] Auto-choosing row-wise multi-threading, the overhead of testing was 0.999924 seconds.\n",
            "You can set `force_row_wise=true` to remove the overhead.\n",
            "And if memory is not enough, you can set `force_col_wise=true`.\n",
            "[LightGBM] [Info] Total Bins 228312\n",
            "[LightGBM] [Info] Number of data points in the train set: 39278, number of used features: 3498\n",
            "[LightGBM] [Info] [binary:BoostFromScore]: pavg=0.421763 -> initscore=-0.315541\n",
            "[LightGBM] [Info] Start training from score -0.315541\n",
            "[LightGBM] [Warning] min_data_in_leaf is set=4, min_child_samples=20 will be ignored. Current value: min_data_in_leaf=4\n",
            "[LightGBM] [Warning] feature_fraction is set=0.6059214861030116, colsample_bytree=1.0 will be ignored. Current value: feature_fraction=0.6059214861030116\n",
            "[LightGBM] [Warning] lambda_l2 is set=0.03823918021085263, reg_lambda=0.0 will be ignored. Current value: lambda_l2=0.03823918021085263\n",
            "[LightGBM] [Warning] lambda_l1 is set=0.00023713179464305553, reg_alpha=0.0 will be ignored. Current value: lambda_l1=0.00023713179464305553\n",
            "[LightGBM] [Warning] bagging_fraction is set=0.811383056854317, subsample=1.0 will be ignored. Current value: bagging_fraction=0.811383056854317\n",
            "[LightGBM] [Warning] bagging_freq is set=0, subsample_freq=0 will be ignored. Current value: bagging_freq=0\n",
            "[LightGBM] [Warning] feature_fraction is set=0.6059214861030116, colsample_bytree=1.0 will be ignored. Current value: feature_fraction=0.6059214861030116\n",
            "[LightGBM] [Warning] lambda_l2 is set=0.03823918021085263, reg_lambda=0.0 will be ignored. Current value: lambda_l2=0.03823918021085263\n",
            "[LightGBM] [Warning] min_data_in_leaf is set=4, min_child_samples=20 will be ignored. Current value: min_data_in_leaf=4\n",
            "[LightGBM] [Warning] lambda_l1 is set=0.00023713179464305553, reg_alpha=0.0 will be ignored. Current value: lambda_l1=0.00023713179464305553\n",
            "[LightGBM] [Warning] num_iterations is set=98, num_iteration=98 will be ignored. Current value: num_iterations=98\n",
            "[LightGBM] [Warning] bagging_fraction is set=0.811383056854317, subsample=1.0 will be ignored. Current value: bagging_fraction=0.811383056854317\n",
            "[LightGBM] [Warning] bagging_freq is set=0, subsample_freq=0 will be ignored. Current value: bagging_freq=0\n"
          ]
        },
        {
          "output_type": "stream",
          "name": "stderr",
          "text": [
            "/usr/local/lib/python3.10/dist-packages/lightgbm/engine.py:172: UserWarning: Found `num_iteration` in params. Will use it instead of argument\n",
            "  _log_warning(f\"Found `{alias}` in params. Will use it instead of argument\")\n"
          ]
        },
        {
          "output_type": "stream",
          "name": "stdout",
          "text": [
            "[LightGBM] [Warning] min_data_in_leaf is set=4, min_child_samples=20 will be ignored. Current value: min_data_in_leaf=4\n",
            "[LightGBM] [Warning] feature_fraction is set=0.6059214861030116, colsample_bytree=1.0 will be ignored. Current value: feature_fraction=0.6059214861030116\n",
            "[LightGBM] [Warning] lambda_l2 is set=0.03823918021085263, reg_lambda=0.0 will be ignored. Current value: lambda_l2=0.03823918021085263\n",
            "[LightGBM] [Warning] lambda_l1 is set=0.00023713179464305553, reg_alpha=0.0 will be ignored. Current value: lambda_l1=0.00023713179464305553\n",
            "[LightGBM] [Warning] bagging_fraction is set=0.811383056854317, subsample=1.0 will be ignored. Current value: bagging_fraction=0.811383056854317\n",
            "[LightGBM] [Warning] bagging_freq is set=0, subsample_freq=0 will be ignored. Current value: bagging_freq=0\n",
            "[LightGBM] [Info] Number of positive: 16566, number of negative: 22712\n",
            "[LightGBM] [Info] Auto-choosing row-wise multi-threading, the overhead of testing was 0.940461 seconds.\n",
            "You can set `force_row_wise=true` to remove the overhead.\n",
            "And if memory is not enough, you can set `force_col_wise=true`.\n",
            "[LightGBM] [Info] Total Bins 227485\n",
            "[LightGBM] [Info] Number of data points in the train set: 39278, number of used features: 3498\n",
            "[LightGBM] [Info] [binary:BoostFromScore]: pavg=0.421763 -> initscore=-0.315541\n",
            "[LightGBM] [Info] Start training from score -0.315541\n",
            "[LightGBM] [Warning] min_data_in_leaf is set=4, min_child_samples=20 will be ignored. Current value: min_data_in_leaf=4\n",
            "[LightGBM] [Warning] feature_fraction is set=0.6059214861030116, colsample_bytree=1.0 will be ignored. Current value: feature_fraction=0.6059214861030116\n",
            "[LightGBM] [Warning] lambda_l2 is set=0.03823918021085263, reg_lambda=0.0 will be ignored. Current value: lambda_l2=0.03823918021085263\n",
            "[LightGBM] [Warning] lambda_l1 is set=0.00023713179464305553, reg_alpha=0.0 will be ignored. Current value: lambda_l1=0.00023713179464305553\n",
            "[LightGBM] [Warning] bagging_fraction is set=0.811383056854317, subsample=1.0 will be ignored. Current value: bagging_fraction=0.811383056854317\n",
            "[LightGBM] [Warning] bagging_freq is set=0, subsample_freq=0 will be ignored. Current value: bagging_freq=0\n",
            "[LightGBM] [Warning] feature_fraction is set=0.6059214861030116, colsample_bytree=1.0 will be ignored. Current value: feature_fraction=0.6059214861030116\n",
            "[LightGBM] [Warning] lambda_l2 is set=0.03823918021085263, reg_lambda=0.0 will be ignored. Current value: lambda_l2=0.03823918021085263\n",
            "[LightGBM] [Warning] min_data_in_leaf is set=4, min_child_samples=20 will be ignored. Current value: min_data_in_leaf=4\n",
            "[LightGBM] [Warning] lambda_l1 is set=0.00023713179464305553, reg_alpha=0.0 will be ignored. Current value: lambda_l1=0.00023713179464305553\n",
            "[LightGBM] [Warning] num_iterations is set=98, num_iteration=98 will be ignored. Current value: num_iterations=98\n",
            "[LightGBM] [Warning] bagging_fraction is set=0.811383056854317, subsample=1.0 will be ignored. Current value: bagging_fraction=0.811383056854317\n",
            "[LightGBM] [Warning] bagging_freq is set=0, subsample_freq=0 will be ignored. Current value: bagging_freq=0\n"
          ]
        },
        {
          "output_type": "stream",
          "name": "stderr",
          "text": [
            "/usr/local/lib/python3.10/dist-packages/lightgbm/engine.py:172: UserWarning: Found `num_iteration` in params. Will use it instead of argument\n",
            "  _log_warning(f\"Found `{alias}` in params. Will use it instead of argument\")\n"
          ]
        },
        {
          "output_type": "stream",
          "name": "stdout",
          "text": [
            "[LightGBM] [Warning] min_data_in_leaf is set=4, min_child_samples=20 will be ignored. Current value: min_data_in_leaf=4\n",
            "[LightGBM] [Warning] feature_fraction is set=0.6059214861030116, colsample_bytree=1.0 will be ignored. Current value: feature_fraction=0.6059214861030116\n",
            "[LightGBM] [Warning] lambda_l2 is set=0.03823918021085263, reg_lambda=0.0 will be ignored. Current value: lambda_l2=0.03823918021085263\n",
            "[LightGBM] [Warning] lambda_l1 is set=0.00023713179464305553, reg_alpha=0.0 will be ignored. Current value: lambda_l1=0.00023713179464305553\n",
            "[LightGBM] [Warning] bagging_fraction is set=0.811383056854317, subsample=1.0 will be ignored. Current value: bagging_fraction=0.811383056854317\n",
            "[LightGBM] [Warning] bagging_freq is set=0, subsample_freq=0 will be ignored. Current value: bagging_freq=0\n",
            "[LightGBM] [Info] Number of positive: 16566, number of negative: 22712\n",
            "[LightGBM] [Info] Auto-choosing row-wise multi-threading, the overhead of testing was 0.958322 seconds.\n",
            "You can set `force_row_wise=true` to remove the overhead.\n",
            "And if memory is not enough, you can set `force_col_wise=true`.\n",
            "[LightGBM] [Info] Total Bins 227467\n",
            "[LightGBM] [Info] Number of data points in the train set: 39278, number of used features: 3498\n",
            "[LightGBM] [Info] [binary:BoostFromScore]: pavg=0.421763 -> initscore=-0.315541\n",
            "[LightGBM] [Info] Start training from score -0.315541\n"
          ]
        },
        {
          "output_type": "stream",
          "name": "stderr",
          "text": [
            "[I 2024-03-31 01:04:12,840] Trial 15 finished with value: 0.838421838163188 and parameters: {'num_leaves': 98, 'lambda_l1': 0.00023713179464305553, 'lambda_l2': 0.03823918021085263, 'feature_fraction': 0.6059214861030116, 'bagging_fraction': 0.811383056854317, 'bagging_freq': 0, 'min_child_samples': 4, 'class_weight': None}. Best is trial 15 with value: 0.838421838163188.\n"
          ]
        },
        {
          "output_type": "stream",
          "name": "stdout",
          "text": [
            "[LightGBM] [Warning] min_data_in_leaf is set=4, min_child_samples=20 will be ignored. Current value: min_data_in_leaf=4\n",
            "[LightGBM] [Warning] feature_fraction is set=0.6059214861030116, colsample_bytree=1.0 will be ignored. Current value: feature_fraction=0.6059214861030116\n",
            "[LightGBM] [Warning] lambda_l2 is set=0.03823918021085263, reg_lambda=0.0 will be ignored. Current value: lambda_l2=0.03823918021085263\n",
            "[LightGBM] [Warning] lambda_l1 is set=0.00023713179464305553, reg_alpha=0.0 will be ignored. Current value: lambda_l1=0.00023713179464305553\n",
            "[LightGBM] [Warning] bagging_fraction is set=0.811383056854317, subsample=1.0 will be ignored. Current value: bagging_fraction=0.811383056854317\n",
            "[LightGBM] [Warning] bagging_freq is set=0, subsample_freq=0 will be ignored. Current value: bagging_freq=0\n"
          ]
        },
        {
          "output_type": "stream",
          "name": "stderr",
          "text": [
            "<ipython-input-46-a40d882ac625>:7: FutureWarning: suggest_loguniform has been deprecated in v3.0.0. This feature will be removed in v6.0.0. See https://github.com/optuna/optuna/releases/tag/v3.0.0. Use suggest_float(..., log=True) instead.\n",
            "  'lambda_l1': trial.suggest_loguniform('lambda_l1', 1e-8, 5.0),\n",
            "<ipython-input-46-a40d882ac625>:8: FutureWarning: suggest_loguniform has been deprecated in v3.0.0. This feature will be removed in v6.0.0. See https://github.com/optuna/optuna/releases/tag/v3.0.0. Use suggest_float(..., log=True) instead.\n",
            "  'lambda_l2': trial.suggest_loguniform('lambda_l2', 1e-8, 5.0),\n",
            "/usr/local/lib/python3.10/dist-packages/optuna/trial/_trial.py:676: RuntimeWarning: Inconsistent parameter values for distribution with name \"num_leaves\"! This might be a configuration mistake. Optuna allows to call the same distribution with the same name more than once in a trial. When the parameter values are inconsistent optuna only uses the values of the first call and ignores all following. Using these values: {'log': False, 'step': 1, 'low': 70, 'high': 150}\n",
            "  warnings.warn(\n",
            "<ipython-input-46-a40d882ac625>:10: FutureWarning: suggest_uniform has been deprecated in v3.0.0. This feature will be removed in v6.0.0. See https://github.com/optuna/optuna/releases/tag/v3.0.0. Use suggest_float instead.\n",
            "  'feature_fraction': trial.suggest_uniform('feature_fraction', 0.1, 1.0),\n",
            "<ipython-input-46-a40d882ac625>:11: FutureWarning: suggest_uniform has been deprecated in v3.0.0. This feature will be removed in v6.0.0. See https://github.com/optuna/optuna/releases/tag/v3.0.0. Use suggest_float instead.\n",
            "  'bagging_fraction': trial.suggest_uniform('bagging_fraction', 0.1, 1.0),\n",
            "/usr/local/lib/python3.10/dist-packages/lightgbm/engine.py:172: UserWarning: Found `num_iteration` in params. Will use it instead of argument\n",
            "  _log_warning(f\"Found `{alias}` in params. Will use it instead of argument\")\n"
          ]
        },
        {
          "output_type": "stream",
          "name": "stdout",
          "text": [
            "[LightGBM] [Warning] feature_fraction is set=0.6042844684544197, colsample_bytree=1.0 will be ignored. Current value: feature_fraction=0.6042844684544197\n",
            "[LightGBM] [Warning] lambda_l2 is set=0.015446064705094659, reg_lambda=0.0 will be ignored. Current value: lambda_l2=0.015446064705094659\n",
            "[LightGBM] [Warning] min_data_in_leaf is set=1, min_child_samples=20 will be ignored. Current value: min_data_in_leaf=1\n",
            "[LightGBM] [Warning] lambda_l1 is set=0.000303314864553927, reg_alpha=0.0 will be ignored. Current value: lambda_l1=0.000303314864553927\n",
            "[LightGBM] [Warning] num_iterations is set=100, num_iteration=100 will be ignored. Current value: num_iterations=100\n",
            "[LightGBM] [Warning] bagging_fraction is set=0.7662473806058628, subsample=1.0 will be ignored. Current value: bagging_fraction=0.7662473806058628\n",
            "[LightGBM] [Warning] bagging_freq is set=0, subsample_freq=0 will be ignored. Current value: bagging_freq=0\n",
            "[LightGBM] [Warning] min_data_in_leaf is set=1, min_child_samples=20 will be ignored. Current value: min_data_in_leaf=1\n",
            "[LightGBM] [Warning] feature_fraction is set=0.6042844684544197, colsample_bytree=1.0 will be ignored. Current value: feature_fraction=0.6042844684544197\n",
            "[LightGBM] [Warning] lambda_l2 is set=0.015446064705094659, reg_lambda=0.0 will be ignored. Current value: lambda_l2=0.015446064705094659\n",
            "[LightGBM] [Warning] lambda_l1 is set=0.000303314864553927, reg_alpha=0.0 will be ignored. Current value: lambda_l1=0.000303314864553927\n",
            "[LightGBM] [Warning] bagging_fraction is set=0.7662473806058628, subsample=1.0 will be ignored. Current value: bagging_fraction=0.7662473806058628\n",
            "[LightGBM] [Warning] bagging_freq is set=0, subsample_freq=0 will be ignored. Current value: bagging_freq=0\n",
            "[LightGBM] [Info] Number of positive: 16565, number of negative: 22712\n",
            "[LightGBM] [Info] Auto-choosing row-wise multi-threading, the overhead of testing was 0.962238 seconds.\n",
            "You can set `force_row_wise=true` to remove the overhead.\n",
            "And if memory is not enough, you can set `force_col_wise=true`.\n",
            "[LightGBM] [Info] Total Bins 228252\n",
            "[LightGBM] [Info] Number of data points in the train set: 39277, number of used features: 3500\n",
            "[LightGBM] [Info] [binary:BoostFromScore]: pavg=0.421748 -> initscore=-0.315601\n",
            "[LightGBM] [Info] Start training from score -0.315601\n",
            "[LightGBM] [Warning] min_data_in_leaf is set=1, min_child_samples=20 will be ignored. Current value: min_data_in_leaf=1\n",
            "[LightGBM] [Warning] feature_fraction is set=0.6042844684544197, colsample_bytree=1.0 will be ignored. Current value: feature_fraction=0.6042844684544197\n",
            "[LightGBM] [Warning] lambda_l2 is set=0.015446064705094659, reg_lambda=0.0 will be ignored. Current value: lambda_l2=0.015446064705094659\n",
            "[LightGBM] [Warning] lambda_l1 is set=0.000303314864553927, reg_alpha=0.0 will be ignored. Current value: lambda_l1=0.000303314864553927\n",
            "[LightGBM] [Warning] bagging_fraction is set=0.7662473806058628, subsample=1.0 will be ignored. Current value: bagging_fraction=0.7662473806058628\n",
            "[LightGBM] [Warning] bagging_freq is set=0, subsample_freq=0 will be ignored. Current value: bagging_freq=0\n",
            "[LightGBM] [Warning] feature_fraction is set=0.6042844684544197, colsample_bytree=1.0 will be ignored. Current value: feature_fraction=0.6042844684544197\n",
            "[LightGBM] [Warning] lambda_l2 is set=0.015446064705094659, reg_lambda=0.0 will be ignored. Current value: lambda_l2=0.015446064705094659\n",
            "[LightGBM] [Warning] min_data_in_leaf is set=1, min_child_samples=20 will be ignored. Current value: min_data_in_leaf=1\n",
            "[LightGBM] [Warning] lambda_l1 is set=0.000303314864553927, reg_alpha=0.0 will be ignored. Current value: lambda_l1=0.000303314864553927\n",
            "[LightGBM] [Warning] num_iterations is set=100, num_iteration=100 will be ignored. Current value: num_iterations=100\n",
            "[LightGBM] [Warning] bagging_fraction is set=0.7662473806058628, subsample=1.0 will be ignored. Current value: bagging_fraction=0.7662473806058628\n",
            "[LightGBM] [Warning] bagging_freq is set=0, subsample_freq=0 will be ignored. Current value: bagging_freq=0\n"
          ]
        },
        {
          "output_type": "stream",
          "name": "stderr",
          "text": [
            "/usr/local/lib/python3.10/dist-packages/lightgbm/engine.py:172: UserWarning: Found `num_iteration` in params. Will use it instead of argument\n",
            "  _log_warning(f\"Found `{alias}` in params. Will use it instead of argument\")\n"
          ]
        },
        {
          "output_type": "stream",
          "name": "stdout",
          "text": [
            "[LightGBM] [Warning] min_data_in_leaf is set=1, min_child_samples=20 will be ignored. Current value: min_data_in_leaf=1\n",
            "[LightGBM] [Warning] feature_fraction is set=0.6042844684544197, colsample_bytree=1.0 will be ignored. Current value: feature_fraction=0.6042844684544197\n",
            "[LightGBM] [Warning] lambda_l2 is set=0.015446064705094659, reg_lambda=0.0 will be ignored. Current value: lambda_l2=0.015446064705094659\n",
            "[LightGBM] [Warning] lambda_l1 is set=0.000303314864553927, reg_alpha=0.0 will be ignored. Current value: lambda_l1=0.000303314864553927\n",
            "[LightGBM] [Warning] bagging_fraction is set=0.7662473806058628, subsample=1.0 will be ignored. Current value: bagging_fraction=0.7662473806058628\n",
            "[LightGBM] [Warning] bagging_freq is set=0, subsample_freq=0 will be ignored. Current value: bagging_freq=0\n",
            "[LightGBM] [Info] Number of positive: 16565, number of negative: 22712\n",
            "[LightGBM] [Info] Auto-choosing row-wise multi-threading, the overhead of testing was 0.962001 seconds.\n",
            "You can set `force_row_wise=true` to remove the overhead.\n",
            "And if memory is not enough, you can set `force_col_wise=true`.\n",
            "[LightGBM] [Info] Total Bins 227136\n",
            "[LightGBM] [Info] Number of data points in the train set: 39277, number of used features: 3500\n",
            "[LightGBM] [Info] [binary:BoostFromScore]: pavg=0.421748 -> initscore=-0.315601\n",
            "[LightGBM] [Info] Start training from score -0.315601\n",
            "[LightGBM] [Warning] min_data_in_leaf is set=1, min_child_samples=20 will be ignored. Current value: min_data_in_leaf=1\n",
            "[LightGBM] [Warning] feature_fraction is set=0.6042844684544197, colsample_bytree=1.0 will be ignored. Current value: feature_fraction=0.6042844684544197\n",
            "[LightGBM] [Warning] lambda_l2 is set=0.015446064705094659, reg_lambda=0.0 will be ignored. Current value: lambda_l2=0.015446064705094659\n",
            "[LightGBM] [Warning] lambda_l1 is set=0.000303314864553927, reg_alpha=0.0 will be ignored. Current value: lambda_l1=0.000303314864553927\n",
            "[LightGBM] [Warning] bagging_fraction is set=0.7662473806058628, subsample=1.0 will be ignored. Current value: bagging_fraction=0.7662473806058628\n",
            "[LightGBM] [Warning] bagging_freq is set=0, subsample_freq=0 will be ignored. Current value: bagging_freq=0\n",
            "[LightGBM] [Warning] feature_fraction is set=0.6042844684544197, colsample_bytree=1.0 will be ignored. Current value: feature_fraction=0.6042844684544197\n",
            "[LightGBM] [Warning] lambda_l2 is set=0.015446064705094659, reg_lambda=0.0 will be ignored. Current value: lambda_l2=0.015446064705094659\n",
            "[LightGBM] [Warning] min_data_in_leaf is set=1, min_child_samples=20 will be ignored. Current value: min_data_in_leaf=1\n",
            "[LightGBM] [Warning] lambda_l1 is set=0.000303314864553927, reg_alpha=0.0 will be ignored. Current value: lambda_l1=0.000303314864553927\n",
            "[LightGBM] [Warning] num_iterations is set=100, num_iteration=100 will be ignored. Current value: num_iterations=100\n",
            "[LightGBM] [Warning] bagging_fraction is set=0.7662473806058628, subsample=1.0 will be ignored. Current value: bagging_fraction=0.7662473806058628\n",
            "[LightGBM] [Warning] bagging_freq is set=0, subsample_freq=0 will be ignored. Current value: bagging_freq=0\n"
          ]
        },
        {
          "output_type": "stream",
          "name": "stderr",
          "text": [
            "/usr/local/lib/python3.10/dist-packages/lightgbm/engine.py:172: UserWarning: Found `num_iteration` in params. Will use it instead of argument\n",
            "  _log_warning(f\"Found `{alias}` in params. Will use it instead of argument\")\n"
          ]
        },
        {
          "output_type": "stream",
          "name": "stdout",
          "text": [
            "[LightGBM] [Warning] min_data_in_leaf is set=1, min_child_samples=20 will be ignored. Current value: min_data_in_leaf=1\n",
            "[LightGBM] [Warning] feature_fraction is set=0.6042844684544197, colsample_bytree=1.0 will be ignored. Current value: feature_fraction=0.6042844684544197\n",
            "[LightGBM] [Warning] lambda_l2 is set=0.015446064705094659, reg_lambda=0.0 will be ignored. Current value: lambda_l2=0.015446064705094659\n",
            "[LightGBM] [Warning] lambda_l1 is set=0.000303314864553927, reg_alpha=0.0 will be ignored. Current value: lambda_l1=0.000303314864553927\n",
            "[LightGBM] [Warning] bagging_fraction is set=0.7662473806058628, subsample=1.0 will be ignored. Current value: bagging_fraction=0.7662473806058628\n",
            "[LightGBM] [Warning] bagging_freq is set=0, subsample_freq=0 will be ignored. Current value: bagging_freq=0\n",
            "[LightGBM] [Info] Number of positive: 16566, number of negative: 22712\n",
            "[LightGBM] [Info] Auto-choosing row-wise multi-threading, the overhead of testing was 1.419421 seconds.\n",
            "You can set `force_row_wise=true` to remove the overhead.\n",
            "And if memory is not enough, you can set `force_col_wise=true`.\n",
            "[LightGBM] [Info] Total Bins 228314\n",
            "[LightGBM] [Info] Number of data points in the train set: 39278, number of used features: 3499\n",
            "[LightGBM] [Info] [binary:BoostFromScore]: pavg=0.421763 -> initscore=-0.315541\n",
            "[LightGBM] [Info] Start training from score -0.315541\n",
            "[LightGBM] [Warning] min_data_in_leaf is set=1, min_child_samples=20 will be ignored. Current value: min_data_in_leaf=1\n",
            "[LightGBM] [Warning] feature_fraction is set=0.6042844684544197, colsample_bytree=1.0 will be ignored. Current value: feature_fraction=0.6042844684544197\n",
            "[LightGBM] [Warning] lambda_l2 is set=0.015446064705094659, reg_lambda=0.0 will be ignored. Current value: lambda_l2=0.015446064705094659\n",
            "[LightGBM] [Warning] lambda_l1 is set=0.000303314864553927, reg_alpha=0.0 will be ignored. Current value: lambda_l1=0.000303314864553927\n",
            "[LightGBM] [Warning] bagging_fraction is set=0.7662473806058628, subsample=1.0 will be ignored. Current value: bagging_fraction=0.7662473806058628\n",
            "[LightGBM] [Warning] bagging_freq is set=0, subsample_freq=0 will be ignored. Current value: bagging_freq=0\n",
            "[LightGBM] [Warning] feature_fraction is set=0.6042844684544197, colsample_bytree=1.0 will be ignored. Current value: feature_fraction=0.6042844684544197\n",
            "[LightGBM] [Warning] lambda_l2 is set=0.015446064705094659, reg_lambda=0.0 will be ignored. Current value: lambda_l2=0.015446064705094659\n",
            "[LightGBM] [Warning] min_data_in_leaf is set=1, min_child_samples=20 will be ignored. Current value: min_data_in_leaf=1\n",
            "[LightGBM] [Warning] lambda_l1 is set=0.000303314864553927, reg_alpha=0.0 will be ignored. Current value: lambda_l1=0.000303314864553927\n",
            "[LightGBM] [Warning] num_iterations is set=100, num_iteration=100 will be ignored. Current value: num_iterations=100\n",
            "[LightGBM] [Warning] bagging_fraction is set=0.7662473806058628, subsample=1.0 will be ignored. Current value: bagging_fraction=0.7662473806058628\n",
            "[LightGBM] [Warning] bagging_freq is set=0, subsample_freq=0 will be ignored. Current value: bagging_freq=0\n"
          ]
        },
        {
          "output_type": "stream",
          "name": "stderr",
          "text": [
            "/usr/local/lib/python3.10/dist-packages/lightgbm/engine.py:172: UserWarning: Found `num_iteration` in params. Will use it instead of argument\n",
            "  _log_warning(f\"Found `{alias}` in params. Will use it instead of argument\")\n"
          ]
        },
        {
          "output_type": "stream",
          "name": "stdout",
          "text": [
            "[LightGBM] [Warning] min_data_in_leaf is set=1, min_child_samples=20 will be ignored. Current value: min_data_in_leaf=1\n",
            "[LightGBM] [Warning] feature_fraction is set=0.6042844684544197, colsample_bytree=1.0 will be ignored. Current value: feature_fraction=0.6042844684544197\n",
            "[LightGBM] [Warning] lambda_l2 is set=0.015446064705094659, reg_lambda=0.0 will be ignored. Current value: lambda_l2=0.015446064705094659\n",
            "[LightGBM] [Warning] lambda_l1 is set=0.000303314864553927, reg_alpha=0.0 will be ignored. Current value: lambda_l1=0.000303314864553927\n",
            "[LightGBM] [Warning] bagging_fraction is set=0.7662473806058628, subsample=1.0 will be ignored. Current value: bagging_fraction=0.7662473806058628\n",
            "[LightGBM] [Warning] bagging_freq is set=0, subsample_freq=0 will be ignored. Current value: bagging_freq=0\n",
            "[LightGBM] [Info] Number of positive: 16566, number of negative: 22712\n",
            "[LightGBM] [Info] Auto-choosing row-wise multi-threading, the overhead of testing was 0.933422 seconds.\n",
            "You can set `force_row_wise=true` to remove the overhead.\n",
            "And if memory is not enough, you can set `force_col_wise=true`.\n",
            "[LightGBM] [Info] Total Bins 227489\n",
            "[LightGBM] [Info] Number of data points in the train set: 39278, number of used features: 3500\n",
            "[LightGBM] [Info] [binary:BoostFromScore]: pavg=0.421763 -> initscore=-0.315541\n",
            "[LightGBM] [Info] Start training from score -0.315541\n",
            "[LightGBM] [Warning] min_data_in_leaf is set=1, min_child_samples=20 will be ignored. Current value: min_data_in_leaf=1\n",
            "[LightGBM] [Warning] feature_fraction is set=0.6042844684544197, colsample_bytree=1.0 will be ignored. Current value: feature_fraction=0.6042844684544197\n",
            "[LightGBM] [Warning] lambda_l2 is set=0.015446064705094659, reg_lambda=0.0 will be ignored. Current value: lambda_l2=0.015446064705094659\n",
            "[LightGBM] [Warning] lambda_l1 is set=0.000303314864553927, reg_alpha=0.0 will be ignored. Current value: lambda_l1=0.000303314864553927\n",
            "[LightGBM] [Warning] bagging_fraction is set=0.7662473806058628, subsample=1.0 will be ignored. Current value: bagging_fraction=0.7662473806058628\n",
            "[LightGBM] [Warning] bagging_freq is set=0, subsample_freq=0 will be ignored. Current value: bagging_freq=0\n",
            "[LightGBM] [Warning] feature_fraction is set=0.6042844684544197, colsample_bytree=1.0 will be ignored. Current value: feature_fraction=0.6042844684544197\n",
            "[LightGBM] [Warning] lambda_l2 is set=0.015446064705094659, reg_lambda=0.0 will be ignored. Current value: lambda_l2=0.015446064705094659\n",
            "[LightGBM] [Warning] min_data_in_leaf is set=1, min_child_samples=20 will be ignored. Current value: min_data_in_leaf=1\n",
            "[LightGBM] [Warning] lambda_l1 is set=0.000303314864553927, reg_alpha=0.0 will be ignored. Current value: lambda_l1=0.000303314864553927\n",
            "[LightGBM] [Warning] num_iterations is set=100, num_iteration=100 will be ignored. Current value: num_iterations=100\n",
            "[LightGBM] [Warning] bagging_fraction is set=0.7662473806058628, subsample=1.0 will be ignored. Current value: bagging_fraction=0.7662473806058628\n",
            "[LightGBM] [Warning] bagging_freq is set=0, subsample_freq=0 will be ignored. Current value: bagging_freq=0\n"
          ]
        },
        {
          "output_type": "stream",
          "name": "stderr",
          "text": [
            "/usr/local/lib/python3.10/dist-packages/lightgbm/engine.py:172: UserWarning: Found `num_iteration` in params. Will use it instead of argument\n",
            "  _log_warning(f\"Found `{alias}` in params. Will use it instead of argument\")\n"
          ]
        },
        {
          "output_type": "stream",
          "name": "stdout",
          "text": [
            "[LightGBM] [Warning] min_data_in_leaf is set=1, min_child_samples=20 will be ignored. Current value: min_data_in_leaf=1\n",
            "[LightGBM] [Warning] feature_fraction is set=0.6042844684544197, colsample_bytree=1.0 will be ignored. Current value: feature_fraction=0.6042844684544197\n",
            "[LightGBM] [Warning] lambda_l2 is set=0.015446064705094659, reg_lambda=0.0 will be ignored. Current value: lambda_l2=0.015446064705094659\n",
            "[LightGBM] [Warning] lambda_l1 is set=0.000303314864553927, reg_alpha=0.0 will be ignored. Current value: lambda_l1=0.000303314864553927\n",
            "[LightGBM] [Warning] bagging_fraction is set=0.7662473806058628, subsample=1.0 will be ignored. Current value: bagging_fraction=0.7662473806058628\n",
            "[LightGBM] [Warning] bagging_freq is set=0, subsample_freq=0 will be ignored. Current value: bagging_freq=0\n",
            "[LightGBM] [Info] Number of positive: 16566, number of negative: 22712\n",
            "[LightGBM] [Info] Auto-choosing row-wise multi-threading, the overhead of testing was 0.953274 seconds.\n",
            "You can set `force_row_wise=true` to remove the overhead.\n",
            "And if memory is not enough, you can set `force_col_wise=true`.\n",
            "[LightGBM] [Info] Total Bins 227471\n",
            "[LightGBM] [Info] Number of data points in the train set: 39278, number of used features: 3500\n",
            "[LightGBM] [Info] [binary:BoostFromScore]: pavg=0.421763 -> initscore=-0.315541\n",
            "[LightGBM] [Info] Start training from score -0.315541\n"
          ]
        },
        {
          "output_type": "stream",
          "name": "stderr",
          "text": [
            "[I 2024-03-31 01:07:20,862] Trial 16 finished with value: 0.8372151065057839 and parameters: {'num_leaves': 100, 'lambda_l1': 0.000303314864553927, 'lambda_l2': 0.015446064705094659, 'feature_fraction': 0.6042844684544197, 'bagging_fraction': 0.7662473806058628, 'bagging_freq': 0, 'min_child_samples': 1, 'class_weight': None}. Best is trial 15 with value: 0.838421838163188.\n"
          ]
        },
        {
          "output_type": "stream",
          "name": "stdout",
          "text": [
            "[LightGBM] [Warning] min_data_in_leaf is set=1, min_child_samples=20 will be ignored. Current value: min_data_in_leaf=1\n",
            "[LightGBM] [Warning] feature_fraction is set=0.6042844684544197, colsample_bytree=1.0 will be ignored. Current value: feature_fraction=0.6042844684544197\n",
            "[LightGBM] [Warning] lambda_l2 is set=0.015446064705094659, reg_lambda=0.0 will be ignored. Current value: lambda_l2=0.015446064705094659\n",
            "[LightGBM] [Warning] lambda_l1 is set=0.000303314864553927, reg_alpha=0.0 will be ignored. Current value: lambda_l1=0.000303314864553927\n",
            "[LightGBM] [Warning] bagging_fraction is set=0.7662473806058628, subsample=1.0 will be ignored. Current value: bagging_fraction=0.7662473806058628\n",
            "[LightGBM] [Warning] bagging_freq is set=0, subsample_freq=0 will be ignored. Current value: bagging_freq=0\n"
          ]
        },
        {
          "output_type": "stream",
          "name": "stderr",
          "text": [
            "<ipython-input-46-a40d882ac625>:7: FutureWarning: suggest_loguniform has been deprecated in v3.0.0. This feature will be removed in v6.0.0. See https://github.com/optuna/optuna/releases/tag/v3.0.0. Use suggest_float(..., log=True) instead.\n",
            "  'lambda_l1': trial.suggest_loguniform('lambda_l1', 1e-8, 5.0),\n",
            "<ipython-input-46-a40d882ac625>:8: FutureWarning: suggest_loguniform has been deprecated in v3.0.0. This feature will be removed in v6.0.0. See https://github.com/optuna/optuna/releases/tag/v3.0.0. Use suggest_float(..., log=True) instead.\n",
            "  'lambda_l2': trial.suggest_loguniform('lambda_l2', 1e-8, 5.0),\n",
            "/usr/local/lib/python3.10/dist-packages/optuna/trial/_trial.py:676: RuntimeWarning: Inconsistent parameter values for distribution with name \"num_leaves\"! This might be a configuration mistake. Optuna allows to call the same distribution with the same name more than once in a trial. When the parameter values are inconsistent optuna only uses the values of the first call and ignores all following. Using these values: {'log': False, 'step': 1, 'low': 70, 'high': 150}\n",
            "  warnings.warn(\n",
            "<ipython-input-46-a40d882ac625>:10: FutureWarning: suggest_uniform has been deprecated in v3.0.0. This feature will be removed in v6.0.0. See https://github.com/optuna/optuna/releases/tag/v3.0.0. Use suggest_float instead.\n",
            "  'feature_fraction': trial.suggest_uniform('feature_fraction', 0.1, 1.0),\n",
            "<ipython-input-46-a40d882ac625>:11: FutureWarning: suggest_uniform has been deprecated in v3.0.0. This feature will be removed in v6.0.0. See https://github.com/optuna/optuna/releases/tag/v3.0.0. Use suggest_float instead.\n",
            "  'bagging_fraction': trial.suggest_uniform('bagging_fraction', 0.1, 1.0),\n",
            "/usr/local/lib/python3.10/dist-packages/lightgbm/engine.py:172: UserWarning: Found `num_iteration` in params. Will use it instead of argument\n",
            "  _log_warning(f\"Found `{alias}` in params. Will use it instead of argument\")\n"
          ]
        },
        {
          "output_type": "stream",
          "name": "stdout",
          "text": [
            "[LightGBM] [Warning] feature_fraction is set=0.6797365181489236, colsample_bytree=1.0 will be ignored. Current value: feature_fraction=0.6797365181489236\n",
            "[LightGBM] [Warning] lambda_l2 is set=8.473299603643343e-05, reg_lambda=0.0 will be ignored. Current value: lambda_l2=8.473299603643343e-05\n",
            "[LightGBM] [Warning] min_data_in_leaf is set=1, min_child_samples=20 will be ignored. Current value: min_data_in_leaf=1\n",
            "[LightGBM] [Warning] lambda_l1 is set=1.6894640621933276e-06, reg_alpha=0.0 will be ignored. Current value: lambda_l1=1.6894640621933276e-06\n",
            "[LightGBM] [Warning] num_iterations is set=103, num_iteration=103 will be ignored. Current value: num_iterations=103\n",
            "[LightGBM] [Warning] bagging_fraction is set=0.8137828473304445, subsample=1.0 will be ignored. Current value: bagging_fraction=0.8137828473304445\n",
            "[LightGBM] [Warning] bagging_freq is set=1, subsample_freq=0 will be ignored. Current value: bagging_freq=1\n",
            "[LightGBM] [Warning] min_data_in_leaf is set=1, min_child_samples=20 will be ignored. Current value: min_data_in_leaf=1\n",
            "[LightGBM] [Warning] feature_fraction is set=0.6797365181489236, colsample_bytree=1.0 will be ignored. Current value: feature_fraction=0.6797365181489236\n",
            "[LightGBM] [Warning] lambda_l2 is set=8.473299603643343e-05, reg_lambda=0.0 will be ignored. Current value: lambda_l2=8.473299603643343e-05\n",
            "[LightGBM] [Warning] lambda_l1 is set=1.6894640621933276e-06, reg_alpha=0.0 will be ignored. Current value: lambda_l1=1.6894640621933276e-06\n",
            "[LightGBM] [Warning] bagging_fraction is set=0.8137828473304445, subsample=1.0 will be ignored. Current value: bagging_fraction=0.8137828473304445\n",
            "[LightGBM] [Warning] bagging_freq is set=1, subsample_freq=0 will be ignored. Current value: bagging_freq=1\n",
            "[LightGBM] [Info] Number of positive: 16565, number of negative: 22712\n",
            "[LightGBM] [Info] Auto-choosing col-wise multi-threading, the overhead of testing was 2.367185 seconds.\n",
            "You can set `force_col_wise=true` to remove the overhead.\n",
            "[LightGBM] [Info] Total Bins 228252\n",
            "[LightGBM] [Info] Number of data points in the train set: 39277, number of used features: 3500\n",
            "[LightGBM] [Info] [binary:BoostFromScore]: pavg=0.421748 -> initscore=-0.315601\n",
            "[LightGBM] [Info] Start training from score -0.315601\n",
            "[LightGBM] [Warning] min_data_in_leaf is set=1, min_child_samples=20 will be ignored. Current value: min_data_in_leaf=1\n",
            "[LightGBM] [Warning] feature_fraction is set=0.6797365181489236, colsample_bytree=1.0 will be ignored. Current value: feature_fraction=0.6797365181489236\n",
            "[LightGBM] [Warning] lambda_l2 is set=8.473299603643343e-05, reg_lambda=0.0 will be ignored. Current value: lambda_l2=8.473299603643343e-05\n",
            "[LightGBM] [Warning] lambda_l1 is set=1.6894640621933276e-06, reg_alpha=0.0 will be ignored. Current value: lambda_l1=1.6894640621933276e-06\n",
            "[LightGBM] [Warning] bagging_fraction is set=0.8137828473304445, subsample=1.0 will be ignored. Current value: bagging_fraction=0.8137828473304445\n",
            "[LightGBM] [Warning] bagging_freq is set=1, subsample_freq=0 will be ignored. Current value: bagging_freq=1\n",
            "[LightGBM] [Warning] feature_fraction is set=0.6797365181489236, colsample_bytree=1.0 will be ignored. Current value: feature_fraction=0.6797365181489236\n",
            "[LightGBM] [Warning] lambda_l2 is set=8.473299603643343e-05, reg_lambda=0.0 will be ignored. Current value: lambda_l2=8.473299603643343e-05\n",
            "[LightGBM] [Warning] min_data_in_leaf is set=1, min_child_samples=20 will be ignored. Current value: min_data_in_leaf=1\n",
            "[LightGBM] [Warning] lambda_l1 is set=1.6894640621933276e-06, reg_alpha=0.0 will be ignored. Current value: lambda_l1=1.6894640621933276e-06\n",
            "[LightGBM] [Warning] num_iterations is set=103, num_iteration=103 will be ignored. Current value: num_iterations=103\n",
            "[LightGBM] [Warning] bagging_fraction is set=0.8137828473304445, subsample=1.0 will be ignored. Current value: bagging_fraction=0.8137828473304445\n",
            "[LightGBM] [Warning] bagging_freq is set=1, subsample_freq=0 will be ignored. Current value: bagging_freq=1\n"
          ]
        },
        {
          "output_type": "stream",
          "name": "stderr",
          "text": [
            "/usr/local/lib/python3.10/dist-packages/lightgbm/engine.py:172: UserWarning: Found `num_iteration` in params. Will use it instead of argument\n",
            "  _log_warning(f\"Found `{alias}` in params. Will use it instead of argument\")\n"
          ]
        },
        {
          "output_type": "stream",
          "name": "stdout",
          "text": [
            "[LightGBM] [Warning] min_data_in_leaf is set=1, min_child_samples=20 will be ignored. Current value: min_data_in_leaf=1\n",
            "[LightGBM] [Warning] feature_fraction is set=0.6797365181489236, colsample_bytree=1.0 will be ignored. Current value: feature_fraction=0.6797365181489236\n",
            "[LightGBM] [Warning] lambda_l2 is set=8.473299603643343e-05, reg_lambda=0.0 will be ignored. Current value: lambda_l2=8.473299603643343e-05\n",
            "[LightGBM] [Warning] lambda_l1 is set=1.6894640621933276e-06, reg_alpha=0.0 will be ignored. Current value: lambda_l1=1.6894640621933276e-06\n",
            "[LightGBM] [Warning] bagging_fraction is set=0.8137828473304445, subsample=1.0 will be ignored. Current value: bagging_fraction=0.8137828473304445\n",
            "[LightGBM] [Warning] bagging_freq is set=1, subsample_freq=0 will be ignored. Current value: bagging_freq=1\n",
            "[LightGBM] [Info] Number of positive: 16565, number of negative: 22712\n",
            "[LightGBM] [Info] Auto-choosing row-wise multi-threading, the overhead of testing was 1.537939 seconds.\n",
            "You can set `force_row_wise=true` to remove the overhead.\n",
            "And if memory is not enough, you can set `force_col_wise=true`.\n",
            "[LightGBM] [Info] Total Bins 227136\n",
            "[LightGBM] [Info] Number of data points in the train set: 39277, number of used features: 3500\n",
            "[LightGBM] [Info] [binary:BoostFromScore]: pavg=0.421748 -> initscore=-0.315601\n",
            "[LightGBM] [Info] Start training from score -0.315601\n",
            "[LightGBM] [Warning] min_data_in_leaf is set=1, min_child_samples=20 will be ignored. Current value: min_data_in_leaf=1\n",
            "[LightGBM] [Warning] feature_fraction is set=0.6797365181489236, colsample_bytree=1.0 will be ignored. Current value: feature_fraction=0.6797365181489236\n",
            "[LightGBM] [Warning] lambda_l2 is set=8.473299603643343e-05, reg_lambda=0.0 will be ignored. Current value: lambda_l2=8.473299603643343e-05\n",
            "[LightGBM] [Warning] lambda_l1 is set=1.6894640621933276e-06, reg_alpha=0.0 will be ignored. Current value: lambda_l1=1.6894640621933276e-06\n",
            "[LightGBM] [Warning] bagging_fraction is set=0.8137828473304445, subsample=1.0 will be ignored. Current value: bagging_fraction=0.8137828473304445\n",
            "[LightGBM] [Warning] bagging_freq is set=1, subsample_freq=0 will be ignored. Current value: bagging_freq=1\n",
            "[LightGBM] [Warning] feature_fraction is set=0.6797365181489236, colsample_bytree=1.0 will be ignored. Current value: feature_fraction=0.6797365181489236\n",
            "[LightGBM] [Warning] lambda_l2 is set=8.473299603643343e-05, reg_lambda=0.0 will be ignored. Current value: lambda_l2=8.473299603643343e-05\n",
            "[LightGBM] [Warning] min_data_in_leaf is set=1, min_child_samples=20 will be ignored. Current value: min_data_in_leaf=1\n",
            "[LightGBM] [Warning] lambda_l1 is set=1.6894640621933276e-06, reg_alpha=0.0 will be ignored. Current value: lambda_l1=1.6894640621933276e-06\n",
            "[LightGBM] [Warning] num_iterations is set=103, num_iteration=103 will be ignored. Current value: num_iterations=103\n",
            "[LightGBM] [Warning] bagging_fraction is set=0.8137828473304445, subsample=1.0 will be ignored. Current value: bagging_fraction=0.8137828473304445\n",
            "[LightGBM] [Warning] bagging_freq is set=1, subsample_freq=0 will be ignored. Current value: bagging_freq=1\n"
          ]
        },
        {
          "output_type": "stream",
          "name": "stderr",
          "text": [
            "/usr/local/lib/python3.10/dist-packages/lightgbm/engine.py:172: UserWarning: Found `num_iteration` in params. Will use it instead of argument\n",
            "  _log_warning(f\"Found `{alias}` in params. Will use it instead of argument\")\n"
          ]
        },
        {
          "output_type": "stream",
          "name": "stdout",
          "text": [
            "[LightGBM] [Warning] min_data_in_leaf is set=1, min_child_samples=20 will be ignored. Current value: min_data_in_leaf=1\n",
            "[LightGBM] [Warning] feature_fraction is set=0.6797365181489236, colsample_bytree=1.0 will be ignored. Current value: feature_fraction=0.6797365181489236\n",
            "[LightGBM] [Warning] lambda_l2 is set=8.473299603643343e-05, reg_lambda=0.0 will be ignored. Current value: lambda_l2=8.473299603643343e-05\n",
            "[LightGBM] [Warning] lambda_l1 is set=1.6894640621933276e-06, reg_alpha=0.0 will be ignored. Current value: lambda_l1=1.6894640621933276e-06\n",
            "[LightGBM] [Warning] bagging_fraction is set=0.8137828473304445, subsample=1.0 will be ignored. Current value: bagging_fraction=0.8137828473304445\n",
            "[LightGBM] [Warning] bagging_freq is set=1, subsample_freq=0 will be ignored. Current value: bagging_freq=1\n",
            "[LightGBM] [Info] Number of positive: 16566, number of negative: 22712\n",
            "[LightGBM] [Info] Auto-choosing row-wise multi-threading, the overhead of testing was 1.272727 seconds.\n",
            "You can set `force_row_wise=true` to remove the overhead.\n",
            "And if memory is not enough, you can set `force_col_wise=true`.\n",
            "[LightGBM] [Info] Total Bins 228314\n",
            "[LightGBM] [Info] Number of data points in the train set: 39278, number of used features: 3499\n",
            "[LightGBM] [Info] [binary:BoostFromScore]: pavg=0.421763 -> initscore=-0.315541\n",
            "[LightGBM] [Info] Start training from score -0.315541\n",
            "[LightGBM] [Warning] min_data_in_leaf is set=1, min_child_samples=20 will be ignored. Current value: min_data_in_leaf=1\n",
            "[LightGBM] [Warning] feature_fraction is set=0.6797365181489236, colsample_bytree=1.0 will be ignored. Current value: feature_fraction=0.6797365181489236\n",
            "[LightGBM] [Warning] lambda_l2 is set=8.473299603643343e-05, reg_lambda=0.0 will be ignored. Current value: lambda_l2=8.473299603643343e-05\n",
            "[LightGBM] [Warning] lambda_l1 is set=1.6894640621933276e-06, reg_alpha=0.0 will be ignored. Current value: lambda_l1=1.6894640621933276e-06\n",
            "[LightGBM] [Warning] bagging_fraction is set=0.8137828473304445, subsample=1.0 will be ignored. Current value: bagging_fraction=0.8137828473304445\n",
            "[LightGBM] [Warning] bagging_freq is set=1, subsample_freq=0 will be ignored. Current value: bagging_freq=1\n",
            "[LightGBM] [Warning] feature_fraction is set=0.6797365181489236, colsample_bytree=1.0 will be ignored. Current value: feature_fraction=0.6797365181489236\n",
            "[LightGBM] [Warning] lambda_l2 is set=8.473299603643343e-05, reg_lambda=0.0 will be ignored. Current value: lambda_l2=8.473299603643343e-05\n",
            "[LightGBM] [Warning] min_data_in_leaf is set=1, min_child_samples=20 will be ignored. Current value: min_data_in_leaf=1\n",
            "[LightGBM] [Warning] lambda_l1 is set=1.6894640621933276e-06, reg_alpha=0.0 will be ignored. Current value: lambda_l1=1.6894640621933276e-06\n",
            "[LightGBM] [Warning] num_iterations is set=103, num_iteration=103 will be ignored. Current value: num_iterations=103\n",
            "[LightGBM] [Warning] bagging_fraction is set=0.8137828473304445, subsample=1.0 will be ignored. Current value: bagging_fraction=0.8137828473304445\n",
            "[LightGBM] [Warning] bagging_freq is set=1, subsample_freq=0 will be ignored. Current value: bagging_freq=1\n"
          ]
        },
        {
          "output_type": "stream",
          "name": "stderr",
          "text": [
            "/usr/local/lib/python3.10/dist-packages/lightgbm/engine.py:172: UserWarning: Found `num_iteration` in params. Will use it instead of argument\n",
            "  _log_warning(f\"Found `{alias}` in params. Will use it instead of argument\")\n"
          ]
        },
        {
          "output_type": "stream",
          "name": "stdout",
          "text": [
            "[LightGBM] [Warning] min_data_in_leaf is set=1, min_child_samples=20 will be ignored. Current value: min_data_in_leaf=1\n",
            "[LightGBM] [Warning] feature_fraction is set=0.6797365181489236, colsample_bytree=1.0 will be ignored. Current value: feature_fraction=0.6797365181489236\n",
            "[LightGBM] [Warning] lambda_l2 is set=8.473299603643343e-05, reg_lambda=0.0 will be ignored. Current value: lambda_l2=8.473299603643343e-05\n",
            "[LightGBM] [Warning] lambda_l1 is set=1.6894640621933276e-06, reg_alpha=0.0 will be ignored. Current value: lambda_l1=1.6894640621933276e-06\n",
            "[LightGBM] [Warning] bagging_fraction is set=0.8137828473304445, subsample=1.0 will be ignored. Current value: bagging_fraction=0.8137828473304445\n",
            "[LightGBM] [Warning] bagging_freq is set=1, subsample_freq=0 will be ignored. Current value: bagging_freq=1\n",
            "[LightGBM] [Info] Number of positive: 16566, number of negative: 22712\n",
            "[LightGBM] [Info] Auto-choosing row-wise multi-threading, the overhead of testing was 0.972268 seconds.\n",
            "You can set `force_row_wise=true` to remove the overhead.\n",
            "And if memory is not enough, you can set `force_col_wise=true`.\n",
            "[LightGBM] [Info] Total Bins 227489\n",
            "[LightGBM] [Info] Number of data points in the train set: 39278, number of used features: 3500\n",
            "[LightGBM] [Info] [binary:BoostFromScore]: pavg=0.421763 -> initscore=-0.315541\n",
            "[LightGBM] [Info] Start training from score -0.315541\n",
            "[LightGBM] [Warning] min_data_in_leaf is set=1, min_child_samples=20 will be ignored. Current value: min_data_in_leaf=1\n",
            "[LightGBM] [Warning] feature_fraction is set=0.6797365181489236, colsample_bytree=1.0 will be ignored. Current value: feature_fraction=0.6797365181489236\n",
            "[LightGBM] [Warning] lambda_l2 is set=8.473299603643343e-05, reg_lambda=0.0 will be ignored. Current value: lambda_l2=8.473299603643343e-05\n",
            "[LightGBM] [Warning] lambda_l1 is set=1.6894640621933276e-06, reg_alpha=0.0 will be ignored. Current value: lambda_l1=1.6894640621933276e-06\n",
            "[LightGBM] [Warning] bagging_fraction is set=0.8137828473304445, subsample=1.0 will be ignored. Current value: bagging_fraction=0.8137828473304445\n",
            "[LightGBM] [Warning] bagging_freq is set=1, subsample_freq=0 will be ignored. Current value: bagging_freq=1\n",
            "[LightGBM] [Warning] feature_fraction is set=0.6797365181489236, colsample_bytree=1.0 will be ignored. Current value: feature_fraction=0.6797365181489236\n",
            "[LightGBM] [Warning] lambda_l2 is set=8.473299603643343e-05, reg_lambda=0.0 will be ignored. Current value: lambda_l2=8.473299603643343e-05\n",
            "[LightGBM] [Warning] min_data_in_leaf is set=1, min_child_samples=20 will be ignored. Current value: min_data_in_leaf=1\n",
            "[LightGBM] [Warning] lambda_l1 is set=1.6894640621933276e-06, reg_alpha=0.0 will be ignored. Current value: lambda_l1=1.6894640621933276e-06\n",
            "[LightGBM] [Warning] num_iterations is set=103, num_iteration=103 will be ignored. Current value: num_iterations=103\n",
            "[LightGBM] [Warning] bagging_fraction is set=0.8137828473304445, subsample=1.0 will be ignored. Current value: bagging_fraction=0.8137828473304445\n",
            "[LightGBM] [Warning] bagging_freq is set=1, subsample_freq=0 will be ignored. Current value: bagging_freq=1\n"
          ]
        },
        {
          "output_type": "stream",
          "name": "stderr",
          "text": [
            "/usr/local/lib/python3.10/dist-packages/lightgbm/engine.py:172: UserWarning: Found `num_iteration` in params. Will use it instead of argument\n",
            "  _log_warning(f\"Found `{alias}` in params. Will use it instead of argument\")\n"
          ]
        },
        {
          "output_type": "stream",
          "name": "stdout",
          "text": [
            "[LightGBM] [Warning] min_data_in_leaf is set=1, min_child_samples=20 will be ignored. Current value: min_data_in_leaf=1\n",
            "[LightGBM] [Warning] feature_fraction is set=0.6797365181489236, colsample_bytree=1.0 will be ignored. Current value: feature_fraction=0.6797365181489236\n",
            "[LightGBM] [Warning] lambda_l2 is set=8.473299603643343e-05, reg_lambda=0.0 will be ignored. Current value: lambda_l2=8.473299603643343e-05\n",
            "[LightGBM] [Warning] lambda_l1 is set=1.6894640621933276e-06, reg_alpha=0.0 will be ignored. Current value: lambda_l1=1.6894640621933276e-06\n",
            "[LightGBM] [Warning] bagging_fraction is set=0.8137828473304445, subsample=1.0 will be ignored. Current value: bagging_fraction=0.8137828473304445\n",
            "[LightGBM] [Warning] bagging_freq is set=1, subsample_freq=0 will be ignored. Current value: bagging_freq=1\n",
            "[LightGBM] [Info] Number of positive: 16566, number of negative: 22712\n",
            "[LightGBM] [Info] Auto-choosing row-wise multi-threading, the overhead of testing was 0.985510 seconds.\n",
            "You can set `force_row_wise=true` to remove the overhead.\n",
            "And if memory is not enough, you can set `force_col_wise=true`.\n",
            "[LightGBM] [Info] Total Bins 227471\n",
            "[LightGBM] [Info] Number of data points in the train set: 39278, number of used features: 3500\n",
            "[LightGBM] [Info] [binary:BoostFromScore]: pavg=0.421763 -> initscore=-0.315541\n",
            "[LightGBM] [Info] Start training from score -0.315541\n"
          ]
        },
        {
          "output_type": "stream",
          "name": "stderr",
          "text": [
            "[I 2024-03-31 01:10:55,223] Trial 17 finished with value: 0.8301237505922799 and parameters: {'num_leaves': 103, 'lambda_l1': 1.6894640621933276e-06, 'lambda_l2': 8.473299603643343e-05, 'feature_fraction': 0.6797365181489236, 'bagging_fraction': 0.8137828473304445, 'bagging_freq': 1, 'min_child_samples': 1, 'class_weight': None}. Best is trial 15 with value: 0.838421838163188.\n"
          ]
        },
        {
          "output_type": "stream",
          "name": "stdout",
          "text": [
            "[LightGBM] [Warning] min_data_in_leaf is set=1, min_child_samples=20 will be ignored. Current value: min_data_in_leaf=1\n",
            "[LightGBM] [Warning] feature_fraction is set=0.6797365181489236, colsample_bytree=1.0 will be ignored. Current value: feature_fraction=0.6797365181489236\n",
            "[LightGBM] [Warning] lambda_l2 is set=8.473299603643343e-05, reg_lambda=0.0 will be ignored. Current value: lambda_l2=8.473299603643343e-05\n",
            "[LightGBM] [Warning] lambda_l1 is set=1.6894640621933276e-06, reg_alpha=0.0 will be ignored. Current value: lambda_l1=1.6894640621933276e-06\n",
            "[LightGBM] [Warning] bagging_fraction is set=0.8137828473304445, subsample=1.0 will be ignored. Current value: bagging_fraction=0.8137828473304445\n",
            "[LightGBM] [Warning] bagging_freq is set=1, subsample_freq=0 will be ignored. Current value: bagging_freq=1\n"
          ]
        },
        {
          "output_type": "stream",
          "name": "stderr",
          "text": [
            "<ipython-input-46-a40d882ac625>:7: FutureWarning: suggest_loguniform has been deprecated in v3.0.0. This feature will be removed in v6.0.0. See https://github.com/optuna/optuna/releases/tag/v3.0.0. Use suggest_float(..., log=True) instead.\n",
            "  'lambda_l1': trial.suggest_loguniform('lambda_l1', 1e-8, 5.0),\n",
            "<ipython-input-46-a40d882ac625>:8: FutureWarning: suggest_loguniform has been deprecated in v3.0.0. This feature will be removed in v6.0.0. See https://github.com/optuna/optuna/releases/tag/v3.0.0. Use suggest_float(..., log=True) instead.\n",
            "  'lambda_l2': trial.suggest_loguniform('lambda_l2', 1e-8, 5.0),\n",
            "/usr/local/lib/python3.10/dist-packages/optuna/trial/_trial.py:676: RuntimeWarning: Inconsistent parameter values for distribution with name \"num_leaves\"! This might be a configuration mistake. Optuna allows to call the same distribution with the same name more than once in a trial. When the parameter values are inconsistent optuna only uses the values of the first call and ignores all following. Using these values: {'log': False, 'step': 1, 'low': 70, 'high': 150}\n",
            "  warnings.warn(\n",
            "<ipython-input-46-a40d882ac625>:10: FutureWarning: suggest_uniform has been deprecated in v3.0.0. This feature will be removed in v6.0.0. See https://github.com/optuna/optuna/releases/tag/v3.0.0. Use suggest_float instead.\n",
            "  'feature_fraction': trial.suggest_uniform('feature_fraction', 0.1, 1.0),\n",
            "<ipython-input-46-a40d882ac625>:11: FutureWarning: suggest_uniform has been deprecated in v3.0.0. This feature will be removed in v6.0.0. See https://github.com/optuna/optuna/releases/tag/v3.0.0. Use suggest_float instead.\n",
            "  'bagging_fraction': trial.suggest_uniform('bagging_fraction', 0.1, 1.0),\n",
            "/usr/local/lib/python3.10/dist-packages/lightgbm/engine.py:172: UserWarning: Found `num_iteration` in params. Will use it instead of argument\n",
            "  _log_warning(f\"Found `{alias}` in params. Will use it instead of argument\")\n"
          ]
        },
        {
          "output_type": "stream",
          "name": "stdout",
          "text": [
            "[LightGBM] [Warning] feature_fraction is set=0.48991173557781453, colsample_bytree=1.0 will be ignored. Current value: feature_fraction=0.48991173557781453\n",
            "[LightGBM] [Warning] lambda_l2 is set=0.004050094092094895, reg_lambda=0.0 will be ignored. Current value: lambda_l2=0.004050094092094895\n",
            "[LightGBM] [Warning] min_data_in_leaf is set=15, min_child_samples=20 will be ignored. Current value: min_data_in_leaf=15\n",
            "[LightGBM] [Warning] lambda_l1 is set=0.0004388081618673077, reg_alpha=0.0 will be ignored. Current value: lambda_l1=0.0004388081618673077\n",
            "[LightGBM] [Warning] num_iterations is set=90, num_iteration=90 will be ignored. Current value: num_iterations=90\n",
            "[LightGBM] [Warning] bagging_fraction is set=0.4037551307865023, subsample=1.0 will be ignored. Current value: bagging_fraction=0.4037551307865023\n",
            "[LightGBM] [Warning] bagging_freq is set=0, subsample_freq=0 will be ignored. Current value: bagging_freq=0\n",
            "[LightGBM] [Warning] min_data_in_leaf is set=15, min_child_samples=20 will be ignored. Current value: min_data_in_leaf=15\n",
            "[LightGBM] [Warning] feature_fraction is set=0.48991173557781453, colsample_bytree=1.0 will be ignored. Current value: feature_fraction=0.48991173557781453\n",
            "[LightGBM] [Warning] lambda_l2 is set=0.004050094092094895, reg_lambda=0.0 will be ignored. Current value: lambda_l2=0.004050094092094895\n",
            "[LightGBM] [Warning] lambda_l1 is set=0.0004388081618673077, reg_alpha=0.0 will be ignored. Current value: lambda_l1=0.0004388081618673077\n",
            "[LightGBM] [Warning] bagging_fraction is set=0.4037551307865023, subsample=1.0 will be ignored. Current value: bagging_fraction=0.4037551307865023\n",
            "[LightGBM] [Warning] bagging_freq is set=0, subsample_freq=0 will be ignored. Current value: bagging_freq=0\n",
            "[LightGBM] [Info] Number of positive: 16565, number of negative: 22712\n",
            "[LightGBM] [Info] Auto-choosing row-wise multi-threading, the overhead of testing was 1.015250 seconds.\n",
            "You can set `force_row_wise=true` to remove the overhead.\n",
            "And if memory is not enough, you can set `force_col_wise=true`.\n",
            "[LightGBM] [Info] Total Bins 228218\n",
            "[LightGBM] [Info] Number of data points in the train set: 39277, number of used features: 3492\n",
            "[LightGBM] [Info] [binary:BoostFromScore]: pavg=0.500000 -> initscore=-0.000000\n",
            "[LightGBM] [Info] Start training from score -0.000000\n",
            "[LightGBM] [Warning] min_data_in_leaf is set=15, min_child_samples=20 will be ignored. Current value: min_data_in_leaf=15\n",
            "[LightGBM] [Warning] feature_fraction is set=0.48991173557781453, colsample_bytree=1.0 will be ignored. Current value: feature_fraction=0.48991173557781453\n",
            "[LightGBM] [Warning] lambda_l2 is set=0.004050094092094895, reg_lambda=0.0 will be ignored. Current value: lambda_l2=0.004050094092094895\n",
            "[LightGBM] [Warning] lambda_l1 is set=0.0004388081618673077, reg_alpha=0.0 will be ignored. Current value: lambda_l1=0.0004388081618673077\n",
            "[LightGBM] [Warning] bagging_fraction is set=0.4037551307865023, subsample=1.0 will be ignored. Current value: bagging_fraction=0.4037551307865023\n",
            "[LightGBM] [Warning] bagging_freq is set=0, subsample_freq=0 will be ignored. Current value: bagging_freq=0\n",
            "[LightGBM] [Warning] feature_fraction is set=0.48991173557781453, colsample_bytree=1.0 will be ignored. Current value: feature_fraction=0.48991173557781453\n",
            "[LightGBM] [Warning] lambda_l2 is set=0.004050094092094895, reg_lambda=0.0 will be ignored. Current value: lambda_l2=0.004050094092094895\n",
            "[LightGBM] [Warning] min_data_in_leaf is set=15, min_child_samples=20 will be ignored. Current value: min_data_in_leaf=15\n",
            "[LightGBM] [Warning] lambda_l1 is set=0.0004388081618673077, reg_alpha=0.0 will be ignored. Current value: lambda_l1=0.0004388081618673077\n",
            "[LightGBM] [Warning] num_iterations is set=90, num_iteration=90 will be ignored. Current value: num_iterations=90\n",
            "[LightGBM] [Warning] bagging_fraction is set=0.4037551307865023, subsample=1.0 will be ignored. Current value: bagging_fraction=0.4037551307865023\n",
            "[LightGBM] [Warning] bagging_freq is set=0, subsample_freq=0 will be ignored. Current value: bagging_freq=0\n"
          ]
        },
        {
          "output_type": "stream",
          "name": "stderr",
          "text": [
            "/usr/local/lib/python3.10/dist-packages/lightgbm/engine.py:172: UserWarning: Found `num_iteration` in params. Will use it instead of argument\n",
            "  _log_warning(f\"Found `{alias}` in params. Will use it instead of argument\")\n"
          ]
        },
        {
          "output_type": "stream",
          "name": "stdout",
          "text": [
            "[LightGBM] [Warning] min_data_in_leaf is set=15, min_child_samples=20 will be ignored. Current value: min_data_in_leaf=15\n",
            "[LightGBM] [Warning] feature_fraction is set=0.48991173557781453, colsample_bytree=1.0 will be ignored. Current value: feature_fraction=0.48991173557781453\n",
            "[LightGBM] [Warning] lambda_l2 is set=0.004050094092094895, reg_lambda=0.0 will be ignored. Current value: lambda_l2=0.004050094092094895\n",
            "[LightGBM] [Warning] lambda_l1 is set=0.0004388081618673077, reg_alpha=0.0 will be ignored. Current value: lambda_l1=0.0004388081618673077\n",
            "[LightGBM] [Warning] bagging_fraction is set=0.4037551307865023, subsample=1.0 will be ignored. Current value: bagging_fraction=0.4037551307865023\n",
            "[LightGBM] [Warning] bagging_freq is set=0, subsample_freq=0 will be ignored. Current value: bagging_freq=0\n",
            "[LightGBM] [Info] Number of positive: 16565, number of negative: 22712\n",
            "[LightGBM] [Info] Auto-choosing row-wise multi-threading, the overhead of testing was 0.943195 seconds.\n",
            "You can set `force_row_wise=true` to remove the overhead.\n",
            "And if memory is not enough, you can set `force_col_wise=true`.\n",
            "[LightGBM] [Info] Total Bins 227084\n",
            "[LightGBM] [Info] Number of data points in the train set: 39277, number of used features: 3489\n",
            "[LightGBM] [Info] [binary:BoostFromScore]: pavg=0.500000 -> initscore=-0.000000\n",
            "[LightGBM] [Info] Start training from score -0.000000\n",
            "[LightGBM] [Warning] min_data_in_leaf is set=15, min_child_samples=20 will be ignored. Current value: min_data_in_leaf=15\n",
            "[LightGBM] [Warning] feature_fraction is set=0.48991173557781453, colsample_bytree=1.0 will be ignored. Current value: feature_fraction=0.48991173557781453\n",
            "[LightGBM] [Warning] lambda_l2 is set=0.004050094092094895, reg_lambda=0.0 will be ignored. Current value: lambda_l2=0.004050094092094895\n",
            "[LightGBM] [Warning] lambda_l1 is set=0.0004388081618673077, reg_alpha=0.0 will be ignored. Current value: lambda_l1=0.0004388081618673077\n",
            "[LightGBM] [Warning] bagging_fraction is set=0.4037551307865023, subsample=1.0 will be ignored. Current value: bagging_fraction=0.4037551307865023\n",
            "[LightGBM] [Warning] bagging_freq is set=0, subsample_freq=0 will be ignored. Current value: bagging_freq=0\n",
            "[LightGBM] [Warning] feature_fraction is set=0.48991173557781453, colsample_bytree=1.0 will be ignored. Current value: feature_fraction=0.48991173557781453\n",
            "[LightGBM] [Warning] lambda_l2 is set=0.004050094092094895, reg_lambda=0.0 will be ignored. Current value: lambda_l2=0.004050094092094895\n",
            "[LightGBM] [Warning] min_data_in_leaf is set=15, min_child_samples=20 will be ignored. Current value: min_data_in_leaf=15\n",
            "[LightGBM] [Warning] lambda_l1 is set=0.0004388081618673077, reg_alpha=0.0 will be ignored. Current value: lambda_l1=0.0004388081618673077\n",
            "[LightGBM] [Warning] num_iterations is set=90, num_iteration=90 will be ignored. Current value: num_iterations=90\n",
            "[LightGBM] [Warning] bagging_fraction is set=0.4037551307865023, subsample=1.0 will be ignored. Current value: bagging_fraction=0.4037551307865023\n",
            "[LightGBM] [Warning] bagging_freq is set=0, subsample_freq=0 will be ignored. Current value: bagging_freq=0\n"
          ]
        },
        {
          "output_type": "stream",
          "name": "stderr",
          "text": [
            "/usr/local/lib/python3.10/dist-packages/lightgbm/engine.py:172: UserWarning: Found `num_iteration` in params. Will use it instead of argument\n",
            "  _log_warning(f\"Found `{alias}` in params. Will use it instead of argument\")\n"
          ]
        },
        {
          "output_type": "stream",
          "name": "stdout",
          "text": [
            "[LightGBM] [Warning] min_data_in_leaf is set=15, min_child_samples=20 will be ignored. Current value: min_data_in_leaf=15\n",
            "[LightGBM] [Warning] feature_fraction is set=0.48991173557781453, colsample_bytree=1.0 will be ignored. Current value: feature_fraction=0.48991173557781453\n",
            "[LightGBM] [Warning] lambda_l2 is set=0.004050094092094895, reg_lambda=0.0 will be ignored. Current value: lambda_l2=0.004050094092094895\n",
            "[LightGBM] [Warning] lambda_l1 is set=0.0004388081618673077, reg_alpha=0.0 will be ignored. Current value: lambda_l1=0.0004388081618673077\n",
            "[LightGBM] [Warning] bagging_fraction is set=0.4037551307865023, subsample=1.0 will be ignored. Current value: bagging_fraction=0.4037551307865023\n",
            "[LightGBM] [Warning] bagging_freq is set=0, subsample_freq=0 will be ignored. Current value: bagging_freq=0\n",
            "[LightGBM] [Info] Number of positive: 16566, number of negative: 22712\n",
            "[LightGBM] [Info] Auto-choosing row-wise multi-threading, the overhead of testing was 0.958555 seconds.\n",
            "You can set `force_row_wise=true` to remove the overhead.\n",
            "And if memory is not enough, you can set `force_col_wise=true`.\n",
            "[LightGBM] [Info] Total Bins 228288\n",
            "[LightGBM] [Info] Number of data points in the train set: 39278, number of used features: 3493\n",
            "[LightGBM] [Info] [binary:BoostFromScore]: pavg=0.500000 -> initscore=-0.000000\n",
            "[LightGBM] [Info] Start training from score -0.000000\n",
            "[LightGBM] [Warning] min_data_in_leaf is set=15, min_child_samples=20 will be ignored. Current value: min_data_in_leaf=15\n",
            "[LightGBM] [Warning] feature_fraction is set=0.48991173557781453, colsample_bytree=1.0 will be ignored. Current value: feature_fraction=0.48991173557781453\n",
            "[LightGBM] [Warning] lambda_l2 is set=0.004050094092094895, reg_lambda=0.0 will be ignored. Current value: lambda_l2=0.004050094092094895\n",
            "[LightGBM] [Warning] lambda_l1 is set=0.0004388081618673077, reg_alpha=0.0 will be ignored. Current value: lambda_l1=0.0004388081618673077\n",
            "[LightGBM] [Warning] bagging_fraction is set=0.4037551307865023, subsample=1.0 will be ignored. Current value: bagging_fraction=0.4037551307865023\n",
            "[LightGBM] [Warning] bagging_freq is set=0, subsample_freq=0 will be ignored. Current value: bagging_freq=0\n",
            "[LightGBM] [Warning] feature_fraction is set=0.48991173557781453, colsample_bytree=1.0 will be ignored. Current value: feature_fraction=0.48991173557781453\n",
            "[LightGBM] [Warning] lambda_l2 is set=0.004050094092094895, reg_lambda=0.0 will be ignored. Current value: lambda_l2=0.004050094092094895\n",
            "[LightGBM] [Warning] min_data_in_leaf is set=15, min_child_samples=20 will be ignored. Current value: min_data_in_leaf=15\n",
            "[LightGBM] [Warning] lambda_l1 is set=0.0004388081618673077, reg_alpha=0.0 will be ignored. Current value: lambda_l1=0.0004388081618673077\n",
            "[LightGBM] [Warning] num_iterations is set=90, num_iteration=90 will be ignored. Current value: num_iterations=90\n",
            "[LightGBM] [Warning] bagging_fraction is set=0.4037551307865023, subsample=1.0 will be ignored. Current value: bagging_fraction=0.4037551307865023\n",
            "[LightGBM] [Warning] bagging_freq is set=0, subsample_freq=0 will be ignored. Current value: bagging_freq=0\n"
          ]
        },
        {
          "output_type": "stream",
          "name": "stderr",
          "text": [
            "/usr/local/lib/python3.10/dist-packages/lightgbm/engine.py:172: UserWarning: Found `num_iteration` in params. Will use it instead of argument\n",
            "  _log_warning(f\"Found `{alias}` in params. Will use it instead of argument\")\n"
          ]
        },
        {
          "output_type": "stream",
          "name": "stdout",
          "text": [
            "[LightGBM] [Warning] min_data_in_leaf is set=15, min_child_samples=20 will be ignored. Current value: min_data_in_leaf=15\n",
            "[LightGBM] [Warning] feature_fraction is set=0.48991173557781453, colsample_bytree=1.0 will be ignored. Current value: feature_fraction=0.48991173557781453\n",
            "[LightGBM] [Warning] lambda_l2 is set=0.004050094092094895, reg_lambda=0.0 will be ignored. Current value: lambda_l2=0.004050094092094895\n",
            "[LightGBM] [Warning] lambda_l1 is set=0.0004388081618673077, reg_alpha=0.0 will be ignored. Current value: lambda_l1=0.0004388081618673077\n",
            "[LightGBM] [Warning] bagging_fraction is set=0.4037551307865023, subsample=1.0 will be ignored. Current value: bagging_fraction=0.4037551307865023\n",
            "[LightGBM] [Warning] bagging_freq is set=0, subsample_freq=0 will be ignored. Current value: bagging_freq=0\n",
            "[LightGBM] [Info] Number of positive: 16566, number of negative: 22712\n",
            "[LightGBM] [Info] Auto-choosing row-wise multi-threading, the overhead of testing was 1.022700 seconds.\n",
            "You can set `force_row_wise=true` to remove the overhead.\n",
            "And if memory is not enough, you can set `force_col_wise=true`.\n",
            "[LightGBM] [Info] Total Bins 227453\n",
            "[LightGBM] [Info] Number of data points in the train set: 39278, number of used features: 3492\n",
            "[LightGBM] [Info] [binary:BoostFromScore]: pavg=0.500000 -> initscore=-0.000000\n",
            "[LightGBM] [Info] Start training from score -0.000000\n",
            "[LightGBM] [Warning] min_data_in_leaf is set=15, min_child_samples=20 will be ignored. Current value: min_data_in_leaf=15\n",
            "[LightGBM] [Warning] feature_fraction is set=0.48991173557781453, colsample_bytree=1.0 will be ignored. Current value: feature_fraction=0.48991173557781453\n",
            "[LightGBM] [Warning] lambda_l2 is set=0.004050094092094895, reg_lambda=0.0 will be ignored. Current value: lambda_l2=0.004050094092094895\n",
            "[LightGBM] [Warning] lambda_l1 is set=0.0004388081618673077, reg_alpha=0.0 will be ignored. Current value: lambda_l1=0.0004388081618673077\n",
            "[LightGBM] [Warning] bagging_fraction is set=0.4037551307865023, subsample=1.0 will be ignored. Current value: bagging_fraction=0.4037551307865023\n",
            "[LightGBM] [Warning] bagging_freq is set=0, subsample_freq=0 will be ignored. Current value: bagging_freq=0\n",
            "[LightGBM] [Warning] feature_fraction is set=0.48991173557781453, colsample_bytree=1.0 will be ignored. Current value: feature_fraction=0.48991173557781453\n",
            "[LightGBM] [Warning] lambda_l2 is set=0.004050094092094895, reg_lambda=0.0 will be ignored. Current value: lambda_l2=0.004050094092094895\n",
            "[LightGBM] [Warning] min_data_in_leaf is set=15, min_child_samples=20 will be ignored. Current value: min_data_in_leaf=15\n",
            "[LightGBM] [Warning] lambda_l1 is set=0.0004388081618673077, reg_alpha=0.0 will be ignored. Current value: lambda_l1=0.0004388081618673077\n",
            "[LightGBM] [Warning] num_iterations is set=90, num_iteration=90 will be ignored. Current value: num_iterations=90\n",
            "[LightGBM] [Warning] bagging_fraction is set=0.4037551307865023, subsample=1.0 will be ignored. Current value: bagging_fraction=0.4037551307865023\n",
            "[LightGBM] [Warning] bagging_freq is set=0, subsample_freq=0 will be ignored. Current value: bagging_freq=0\n"
          ]
        },
        {
          "output_type": "stream",
          "name": "stderr",
          "text": [
            "/usr/local/lib/python3.10/dist-packages/lightgbm/engine.py:172: UserWarning: Found `num_iteration` in params. Will use it instead of argument\n",
            "  _log_warning(f\"Found `{alias}` in params. Will use it instead of argument\")\n"
          ]
        },
        {
          "output_type": "stream",
          "name": "stdout",
          "text": [
            "[LightGBM] [Warning] min_data_in_leaf is set=15, min_child_samples=20 will be ignored. Current value: min_data_in_leaf=15\n",
            "[LightGBM] [Warning] feature_fraction is set=0.48991173557781453, colsample_bytree=1.0 will be ignored. Current value: feature_fraction=0.48991173557781453\n",
            "[LightGBM] [Warning] lambda_l2 is set=0.004050094092094895, reg_lambda=0.0 will be ignored. Current value: lambda_l2=0.004050094092094895\n",
            "[LightGBM] [Warning] lambda_l1 is set=0.0004388081618673077, reg_alpha=0.0 will be ignored. Current value: lambda_l1=0.0004388081618673077\n",
            "[LightGBM] [Warning] bagging_fraction is set=0.4037551307865023, subsample=1.0 will be ignored. Current value: bagging_fraction=0.4037551307865023\n",
            "[LightGBM] [Warning] bagging_freq is set=0, subsample_freq=0 will be ignored. Current value: bagging_freq=0\n",
            "[LightGBM] [Info] Number of positive: 16566, number of negative: 22712\n",
            "[LightGBM] [Info] Auto-choosing row-wise multi-threading, the overhead of testing was 0.995322 seconds.\n",
            "You can set `force_row_wise=true` to remove the overhead.\n",
            "And if memory is not enough, you can set `force_col_wise=true`.\n",
            "[LightGBM] [Info] Total Bins 227442\n",
            "[LightGBM] [Info] Number of data points in the train set: 39278, number of used features: 3493\n",
            "[LightGBM] [Info] [binary:BoostFromScore]: pavg=0.500000 -> initscore=-0.000000\n",
            "[LightGBM] [Info] Start training from score -0.000000\n"
          ]
        },
        {
          "output_type": "stream",
          "name": "stderr",
          "text": [
            "[I 2024-03-31 01:13:02,874] Trial 18 finished with value: 0.8435378558379825 and parameters: {'num_leaves': 90, 'lambda_l1': 0.0004388081618673077, 'lambda_l2': 0.004050094092094895, 'feature_fraction': 0.48991173557781453, 'bagging_fraction': 0.4037551307865023, 'bagging_freq': 0, 'min_child_samples': 15, 'class_weight': 'balanced'}. Best is trial 18 with value: 0.8435378558379825.\n"
          ]
        },
        {
          "output_type": "stream",
          "name": "stdout",
          "text": [
            "[LightGBM] [Warning] min_data_in_leaf is set=15, min_child_samples=20 will be ignored. Current value: min_data_in_leaf=15\n",
            "[LightGBM] [Warning] feature_fraction is set=0.48991173557781453, colsample_bytree=1.0 will be ignored. Current value: feature_fraction=0.48991173557781453\n",
            "[LightGBM] [Warning] lambda_l2 is set=0.004050094092094895, reg_lambda=0.0 will be ignored. Current value: lambda_l2=0.004050094092094895\n",
            "[LightGBM] [Warning] lambda_l1 is set=0.0004388081618673077, reg_alpha=0.0 will be ignored. Current value: lambda_l1=0.0004388081618673077\n",
            "[LightGBM] [Warning] bagging_fraction is set=0.4037551307865023, subsample=1.0 will be ignored. Current value: bagging_fraction=0.4037551307865023\n",
            "[LightGBM] [Warning] bagging_freq is set=0, subsample_freq=0 will be ignored. Current value: bagging_freq=0\n"
          ]
        },
        {
          "output_type": "stream",
          "name": "stderr",
          "text": [
            "<ipython-input-46-a40d882ac625>:7: FutureWarning: suggest_loguniform has been deprecated in v3.0.0. This feature will be removed in v6.0.0. See https://github.com/optuna/optuna/releases/tag/v3.0.0. Use suggest_float(..., log=True) instead.\n",
            "  'lambda_l1': trial.suggest_loguniform('lambda_l1', 1e-8, 5.0),\n",
            "<ipython-input-46-a40d882ac625>:8: FutureWarning: suggest_loguniform has been deprecated in v3.0.0. This feature will be removed in v6.0.0. See https://github.com/optuna/optuna/releases/tag/v3.0.0. Use suggest_float(..., log=True) instead.\n",
            "  'lambda_l2': trial.suggest_loguniform('lambda_l2', 1e-8, 5.0),\n",
            "/usr/local/lib/python3.10/dist-packages/optuna/trial/_trial.py:676: RuntimeWarning: Inconsistent parameter values for distribution with name \"num_leaves\"! This might be a configuration mistake. Optuna allows to call the same distribution with the same name more than once in a trial. When the parameter values are inconsistent optuna only uses the values of the first call and ignores all following. Using these values: {'log': False, 'step': 1, 'low': 70, 'high': 150}\n",
            "  warnings.warn(\n",
            "<ipython-input-46-a40d882ac625>:10: FutureWarning: suggest_uniform has been deprecated in v3.0.0. This feature will be removed in v6.0.0. See https://github.com/optuna/optuna/releases/tag/v3.0.0. Use suggest_float instead.\n",
            "  'feature_fraction': trial.suggest_uniform('feature_fraction', 0.1, 1.0),\n",
            "<ipython-input-46-a40d882ac625>:11: FutureWarning: suggest_uniform has been deprecated in v3.0.0. This feature will be removed in v6.0.0. See https://github.com/optuna/optuna/releases/tag/v3.0.0. Use suggest_float instead.\n",
            "  'bagging_fraction': trial.suggest_uniform('bagging_fraction', 0.1, 1.0),\n",
            "/usr/local/lib/python3.10/dist-packages/lightgbm/engine.py:172: UserWarning: Found `num_iteration` in params. Will use it instead of argument\n",
            "  _log_warning(f\"Found `{alias}` in params. Will use it instead of argument\")\n"
          ]
        },
        {
          "output_type": "stream",
          "name": "stdout",
          "text": [
            "[LightGBM] [Warning] feature_fraction is set=0.25147880251501853, colsample_bytree=1.0 will be ignored. Current value: feature_fraction=0.25147880251501853\n",
            "[LightGBM] [Warning] lambda_l2 is set=0.30925898116807393, reg_lambda=0.0 will be ignored. Current value: lambda_l2=0.30925898116807393\n",
            "[LightGBM] [Warning] min_data_in_leaf is set=17, min_child_samples=20 will be ignored. Current value: min_data_in_leaf=17\n",
            "[LightGBM] [Warning] lambda_l1 is set=1.0461500830898826e-06, reg_alpha=0.0 will be ignored. Current value: lambda_l1=1.0461500830898826e-06\n",
            "[LightGBM] [Warning] num_iterations is set=150, num_iteration=150 will be ignored. Current value: num_iterations=150\n",
            "[LightGBM] [Warning] bagging_fraction is set=0.4048025290603312, subsample=1.0 will be ignored. Current value: bagging_fraction=0.4048025290603312\n",
            "[LightGBM] [Warning] bagging_freq is set=2, subsample_freq=0 will be ignored. Current value: bagging_freq=2\n",
            "[LightGBM] [Warning] min_data_in_leaf is set=17, min_child_samples=20 will be ignored. Current value: min_data_in_leaf=17\n",
            "[LightGBM] [Warning] feature_fraction is set=0.25147880251501853, colsample_bytree=1.0 will be ignored. Current value: feature_fraction=0.25147880251501853\n",
            "[LightGBM] [Warning] lambda_l2 is set=0.30925898116807393, reg_lambda=0.0 will be ignored. Current value: lambda_l2=0.30925898116807393\n",
            "[LightGBM] [Warning] lambda_l1 is set=1.0461500830898826e-06, reg_alpha=0.0 will be ignored. Current value: lambda_l1=1.0461500830898826e-06\n",
            "[LightGBM] [Warning] bagging_fraction is set=0.4048025290603312, subsample=1.0 will be ignored. Current value: bagging_fraction=0.4048025290603312\n",
            "[LightGBM] [Warning] bagging_freq is set=2, subsample_freq=0 will be ignored. Current value: bagging_freq=2\n",
            "[LightGBM] [Info] Number of positive: 16565, number of negative: 22712\n",
            "[LightGBM] [Info] Auto-choosing row-wise multi-threading, the overhead of testing was 1.029228 seconds.\n",
            "You can set `force_row_wise=true` to remove the overhead.\n",
            "And if memory is not enough, you can set `force_col_wise=true`.\n",
            "[LightGBM] [Info] Total Bins 228199\n",
            "[LightGBM] [Info] Number of data points in the train set: 39277, number of used features: 3489\n",
            "[LightGBM] [Info] [binary:BoostFromScore]: pavg=0.500000 -> initscore=-0.000000\n",
            "[LightGBM] [Info] Start training from score -0.000000\n",
            "[LightGBM] [Warning] min_data_in_leaf is set=17, min_child_samples=20 will be ignored. Current value: min_data_in_leaf=17\n",
            "[LightGBM] [Warning] feature_fraction is set=0.25147880251501853, colsample_bytree=1.0 will be ignored. Current value: feature_fraction=0.25147880251501853\n",
            "[LightGBM] [Warning] lambda_l2 is set=0.30925898116807393, reg_lambda=0.0 will be ignored. Current value: lambda_l2=0.30925898116807393\n",
            "[LightGBM] [Warning] lambda_l1 is set=1.0461500830898826e-06, reg_alpha=0.0 will be ignored. Current value: lambda_l1=1.0461500830898826e-06\n",
            "[LightGBM] [Warning] bagging_fraction is set=0.4048025290603312, subsample=1.0 will be ignored. Current value: bagging_fraction=0.4048025290603312\n",
            "[LightGBM] [Warning] bagging_freq is set=2, subsample_freq=0 will be ignored. Current value: bagging_freq=2\n"
          ]
        },
        {
          "output_type": "stream",
          "name": "stderr",
          "text": [
            "/usr/local/lib/python3.10/dist-packages/lightgbm/engine.py:172: UserWarning: Found `num_iteration` in params. Will use it instead of argument\n",
            "  _log_warning(f\"Found `{alias}` in params. Will use it instead of argument\")\n"
          ]
        },
        {
          "output_type": "stream",
          "name": "stdout",
          "text": [
            "[LightGBM] [Warning] feature_fraction is set=0.25147880251501853, colsample_bytree=1.0 will be ignored. Current value: feature_fraction=0.25147880251501853\n",
            "[LightGBM] [Warning] lambda_l2 is set=0.30925898116807393, reg_lambda=0.0 will be ignored. Current value: lambda_l2=0.30925898116807393\n",
            "[LightGBM] [Warning] min_data_in_leaf is set=17, min_child_samples=20 will be ignored. Current value: min_data_in_leaf=17\n",
            "[LightGBM] [Warning] lambda_l1 is set=1.0461500830898826e-06, reg_alpha=0.0 will be ignored. Current value: lambda_l1=1.0461500830898826e-06\n",
            "[LightGBM] [Warning] num_iterations is set=150, num_iteration=150 will be ignored. Current value: num_iterations=150\n",
            "[LightGBM] [Warning] bagging_fraction is set=0.4048025290603312, subsample=1.0 will be ignored. Current value: bagging_fraction=0.4048025290603312\n",
            "[LightGBM] [Warning] bagging_freq is set=2, subsample_freq=0 will be ignored. Current value: bagging_freq=2\n",
            "[LightGBM] [Warning] min_data_in_leaf is set=17, min_child_samples=20 will be ignored. Current value: min_data_in_leaf=17\n",
            "[LightGBM] [Warning] feature_fraction is set=0.25147880251501853, colsample_bytree=1.0 will be ignored. Current value: feature_fraction=0.25147880251501853\n",
            "[LightGBM] [Warning] lambda_l2 is set=0.30925898116807393, reg_lambda=0.0 will be ignored. Current value: lambda_l2=0.30925898116807393\n",
            "[LightGBM] [Warning] lambda_l1 is set=1.0461500830898826e-06, reg_alpha=0.0 will be ignored. Current value: lambda_l1=1.0461500830898826e-06\n",
            "[LightGBM] [Warning] bagging_fraction is set=0.4048025290603312, subsample=1.0 will be ignored. Current value: bagging_fraction=0.4048025290603312\n",
            "[LightGBM] [Warning] bagging_freq is set=2, subsample_freq=0 will be ignored. Current value: bagging_freq=2\n",
            "[LightGBM] [Info] Number of positive: 16565, number of negative: 22712\n",
            "[LightGBM] [Info] Auto-choosing col-wise multi-threading, the overhead of testing was 0.938669 seconds.\n",
            "You can set `force_col_wise=true` to remove the overhead.\n",
            "[LightGBM] [Info] Total Bins 227066\n",
            "[LightGBM] [Info] Number of data points in the train set: 39277, number of used features: 3486\n",
            "[LightGBM] [Info] [binary:BoostFromScore]: pavg=0.500000 -> initscore=-0.000000\n",
            "[LightGBM] [Info] Start training from score -0.000000\n",
            "[LightGBM] [Warning] min_data_in_leaf is set=17, min_child_samples=20 will be ignored. Current value: min_data_in_leaf=17\n",
            "[LightGBM] [Warning] feature_fraction is set=0.25147880251501853, colsample_bytree=1.0 will be ignored. Current value: feature_fraction=0.25147880251501853\n",
            "[LightGBM] [Warning] lambda_l2 is set=0.30925898116807393, reg_lambda=0.0 will be ignored. Current value: lambda_l2=0.30925898116807393\n",
            "[LightGBM] [Warning] lambda_l1 is set=1.0461500830898826e-06, reg_alpha=0.0 will be ignored. Current value: lambda_l1=1.0461500830898826e-06\n",
            "[LightGBM] [Warning] bagging_fraction is set=0.4048025290603312, subsample=1.0 will be ignored. Current value: bagging_fraction=0.4048025290603312\n",
            "[LightGBM] [Warning] bagging_freq is set=2, subsample_freq=0 will be ignored. Current value: bagging_freq=2\n"
          ]
        },
        {
          "output_type": "stream",
          "name": "stderr",
          "text": [
            "/usr/local/lib/python3.10/dist-packages/lightgbm/engine.py:172: UserWarning: Found `num_iteration` in params. Will use it instead of argument\n",
            "  _log_warning(f\"Found `{alias}` in params. Will use it instead of argument\")\n"
          ]
        },
        {
          "output_type": "stream",
          "name": "stdout",
          "text": [
            "[LightGBM] [Warning] feature_fraction is set=0.25147880251501853, colsample_bytree=1.0 will be ignored. Current value: feature_fraction=0.25147880251501853\n",
            "[LightGBM] [Warning] lambda_l2 is set=0.30925898116807393, reg_lambda=0.0 will be ignored. Current value: lambda_l2=0.30925898116807393\n",
            "[LightGBM] [Warning] min_data_in_leaf is set=17, min_child_samples=20 will be ignored. Current value: min_data_in_leaf=17\n",
            "[LightGBM] [Warning] lambda_l1 is set=1.0461500830898826e-06, reg_alpha=0.0 will be ignored. Current value: lambda_l1=1.0461500830898826e-06\n",
            "[LightGBM] [Warning] num_iterations is set=150, num_iteration=150 will be ignored. Current value: num_iterations=150\n",
            "[LightGBM] [Warning] bagging_fraction is set=0.4048025290603312, subsample=1.0 will be ignored. Current value: bagging_fraction=0.4048025290603312\n",
            "[LightGBM] [Warning] bagging_freq is set=2, subsample_freq=0 will be ignored. Current value: bagging_freq=2\n",
            "[LightGBM] [Warning] min_data_in_leaf is set=17, min_child_samples=20 will be ignored. Current value: min_data_in_leaf=17\n",
            "[LightGBM] [Warning] feature_fraction is set=0.25147880251501853, colsample_bytree=1.0 will be ignored. Current value: feature_fraction=0.25147880251501853\n",
            "[LightGBM] [Warning] lambda_l2 is set=0.30925898116807393, reg_lambda=0.0 will be ignored. Current value: lambda_l2=0.30925898116807393\n",
            "[LightGBM] [Warning] lambda_l1 is set=1.0461500830898826e-06, reg_alpha=0.0 will be ignored. Current value: lambda_l1=1.0461500830898826e-06\n",
            "[LightGBM] [Warning] bagging_fraction is set=0.4048025290603312, subsample=1.0 will be ignored. Current value: bagging_fraction=0.4048025290603312\n",
            "[LightGBM] [Warning] bagging_freq is set=2, subsample_freq=0 will be ignored. Current value: bagging_freq=2\n",
            "[LightGBM] [Info] Number of positive: 16566, number of negative: 22712\n",
            "[LightGBM] [Info] Auto-choosing row-wise multi-threading, the overhead of testing was 1.066030 seconds.\n",
            "You can set `force_row_wise=true` to remove the overhead.\n",
            "And if memory is not enough, you can set `force_col_wise=true`.\n",
            "[LightGBM] [Info] Total Bins 228262\n",
            "[LightGBM] [Info] Number of data points in the train set: 39278, number of used features: 3489\n",
            "[LightGBM] [Info] [binary:BoostFromScore]: pavg=0.500000 -> initscore=-0.000000\n",
            "[LightGBM] [Info] Start training from score -0.000000\n",
            "[LightGBM] [Warning] min_data_in_leaf is set=17, min_child_samples=20 will be ignored. Current value: min_data_in_leaf=17\n",
            "[LightGBM] [Warning] feature_fraction is set=0.25147880251501853, colsample_bytree=1.0 will be ignored. Current value: feature_fraction=0.25147880251501853\n",
            "[LightGBM] [Warning] lambda_l2 is set=0.30925898116807393, reg_lambda=0.0 will be ignored. Current value: lambda_l2=0.30925898116807393\n",
            "[LightGBM] [Warning] lambda_l1 is set=1.0461500830898826e-06, reg_alpha=0.0 will be ignored. Current value: lambda_l1=1.0461500830898826e-06\n",
            "[LightGBM] [Warning] bagging_fraction is set=0.4048025290603312, subsample=1.0 will be ignored. Current value: bagging_fraction=0.4048025290603312\n",
            "[LightGBM] [Warning] bagging_freq is set=2, subsample_freq=0 will be ignored. Current value: bagging_freq=2\n"
          ]
        },
        {
          "output_type": "stream",
          "name": "stderr",
          "text": [
            "/usr/local/lib/python3.10/dist-packages/lightgbm/engine.py:172: UserWarning: Found `num_iteration` in params. Will use it instead of argument\n",
            "  _log_warning(f\"Found `{alias}` in params. Will use it instead of argument\")\n"
          ]
        },
        {
          "output_type": "stream",
          "name": "stdout",
          "text": [
            "[LightGBM] [Warning] feature_fraction is set=0.25147880251501853, colsample_bytree=1.0 will be ignored. Current value: feature_fraction=0.25147880251501853\n",
            "[LightGBM] [Warning] lambda_l2 is set=0.30925898116807393, reg_lambda=0.0 will be ignored. Current value: lambda_l2=0.30925898116807393\n",
            "[LightGBM] [Warning] min_data_in_leaf is set=17, min_child_samples=20 will be ignored. Current value: min_data_in_leaf=17\n",
            "[LightGBM] [Warning] lambda_l1 is set=1.0461500830898826e-06, reg_alpha=0.0 will be ignored. Current value: lambda_l1=1.0461500830898826e-06\n",
            "[LightGBM] [Warning] num_iterations is set=150, num_iteration=150 will be ignored. Current value: num_iterations=150\n",
            "[LightGBM] [Warning] bagging_fraction is set=0.4048025290603312, subsample=1.0 will be ignored. Current value: bagging_fraction=0.4048025290603312\n",
            "[LightGBM] [Warning] bagging_freq is set=2, subsample_freq=0 will be ignored. Current value: bagging_freq=2\n",
            "[LightGBM] [Warning] min_data_in_leaf is set=17, min_child_samples=20 will be ignored. Current value: min_data_in_leaf=17\n",
            "[LightGBM] [Warning] feature_fraction is set=0.25147880251501853, colsample_bytree=1.0 will be ignored. Current value: feature_fraction=0.25147880251501853\n",
            "[LightGBM] [Warning] lambda_l2 is set=0.30925898116807393, reg_lambda=0.0 will be ignored. Current value: lambda_l2=0.30925898116807393\n",
            "[LightGBM] [Warning] lambda_l1 is set=1.0461500830898826e-06, reg_alpha=0.0 will be ignored. Current value: lambda_l1=1.0461500830898826e-06\n",
            "[LightGBM] [Warning] bagging_fraction is set=0.4048025290603312, subsample=1.0 will be ignored. Current value: bagging_fraction=0.4048025290603312\n",
            "[LightGBM] [Warning] bagging_freq is set=2, subsample_freq=0 will be ignored. Current value: bagging_freq=2\n",
            "[LightGBM] [Info] Number of positive: 16566, number of negative: 22712\n",
            "[LightGBM] [Info] Auto-choosing row-wise multi-threading, the overhead of testing was 0.983158 seconds.\n",
            "You can set `force_row_wise=true` to remove the overhead.\n",
            "And if memory is not enough, you can set `force_col_wise=true`.\n",
            "[LightGBM] [Info] Total Bins 227418\n",
            "[LightGBM] [Info] Number of data points in the train set: 39278, number of used features: 3487\n",
            "[LightGBM] [Info] [binary:BoostFromScore]: pavg=0.500000 -> initscore=-0.000000\n",
            "[LightGBM] [Info] Start training from score -0.000000\n",
            "[LightGBM] [Warning] min_data_in_leaf is set=17, min_child_samples=20 will be ignored. Current value: min_data_in_leaf=17\n",
            "[LightGBM] [Warning] feature_fraction is set=0.25147880251501853, colsample_bytree=1.0 will be ignored. Current value: feature_fraction=0.25147880251501853\n",
            "[LightGBM] [Warning] lambda_l2 is set=0.30925898116807393, reg_lambda=0.0 will be ignored. Current value: lambda_l2=0.30925898116807393\n",
            "[LightGBM] [Warning] lambda_l1 is set=1.0461500830898826e-06, reg_alpha=0.0 will be ignored. Current value: lambda_l1=1.0461500830898826e-06\n",
            "[LightGBM] [Warning] bagging_fraction is set=0.4048025290603312, subsample=1.0 will be ignored. Current value: bagging_fraction=0.4048025290603312\n",
            "[LightGBM] [Warning] bagging_freq is set=2, subsample_freq=0 will be ignored. Current value: bagging_freq=2\n"
          ]
        },
        {
          "output_type": "stream",
          "name": "stderr",
          "text": [
            "/usr/local/lib/python3.10/dist-packages/lightgbm/engine.py:172: UserWarning: Found `num_iteration` in params. Will use it instead of argument\n",
            "  _log_warning(f\"Found `{alias}` in params. Will use it instead of argument\")\n"
          ]
        },
        {
          "output_type": "stream",
          "name": "stdout",
          "text": [
            "[LightGBM] [Warning] feature_fraction is set=0.25147880251501853, colsample_bytree=1.0 will be ignored. Current value: feature_fraction=0.25147880251501853\n",
            "[LightGBM] [Warning] lambda_l2 is set=0.30925898116807393, reg_lambda=0.0 will be ignored. Current value: lambda_l2=0.30925898116807393\n",
            "[LightGBM] [Warning] min_data_in_leaf is set=17, min_child_samples=20 will be ignored. Current value: min_data_in_leaf=17\n",
            "[LightGBM] [Warning] lambda_l1 is set=1.0461500830898826e-06, reg_alpha=0.0 will be ignored. Current value: lambda_l1=1.0461500830898826e-06\n",
            "[LightGBM] [Warning] num_iterations is set=150, num_iteration=150 will be ignored. Current value: num_iterations=150\n",
            "[LightGBM] [Warning] bagging_fraction is set=0.4048025290603312, subsample=1.0 will be ignored. Current value: bagging_fraction=0.4048025290603312\n",
            "[LightGBM] [Warning] bagging_freq is set=2, subsample_freq=0 will be ignored. Current value: bagging_freq=2\n",
            "[LightGBM] [Warning] min_data_in_leaf is set=17, min_child_samples=20 will be ignored. Current value: min_data_in_leaf=17\n",
            "[LightGBM] [Warning] feature_fraction is set=0.25147880251501853, colsample_bytree=1.0 will be ignored. Current value: feature_fraction=0.25147880251501853\n",
            "[LightGBM] [Warning] lambda_l2 is set=0.30925898116807393, reg_lambda=0.0 will be ignored. Current value: lambda_l2=0.30925898116807393\n",
            "[LightGBM] [Warning] lambda_l1 is set=1.0461500830898826e-06, reg_alpha=0.0 will be ignored. Current value: lambda_l1=1.0461500830898826e-06\n",
            "[LightGBM] [Warning] bagging_fraction is set=0.4048025290603312, subsample=1.0 will be ignored. Current value: bagging_fraction=0.4048025290603312\n",
            "[LightGBM] [Warning] bagging_freq is set=2, subsample_freq=0 will be ignored. Current value: bagging_freq=2\n",
            "[LightGBM] [Info] Number of positive: 16566, number of negative: 22712\n",
            "[LightGBM] [Info] Auto-choosing col-wise multi-threading, the overhead of testing was 0.953737 seconds.\n",
            "You can set `force_col_wise=true` to remove the overhead.\n",
            "[LightGBM] [Info] Total Bins 227411\n",
            "[LightGBM] [Info] Number of data points in the train set: 39278, number of used features: 3488\n",
            "[LightGBM] [Info] [binary:BoostFromScore]: pavg=0.500000 -> initscore=-0.000000\n",
            "[LightGBM] [Info] Start training from score -0.000000\n",
            "[LightGBM] [Warning] min_data_in_leaf is set=17, min_child_samples=20 will be ignored. Current value: min_data_in_leaf=17\n",
            "[LightGBM] [Warning] feature_fraction is set=0.25147880251501853, colsample_bytree=1.0 will be ignored. Current value: feature_fraction=0.25147880251501853\n",
            "[LightGBM] [Warning] lambda_l2 is set=0.30925898116807393, reg_lambda=0.0 will be ignored. Current value: lambda_l2=0.30925898116807393\n",
            "[LightGBM] [Warning] lambda_l1 is set=1.0461500830898826e-06, reg_alpha=0.0 will be ignored. Current value: lambda_l1=1.0461500830898826e-06\n",
            "[LightGBM] [Warning] bagging_fraction is set=0.4048025290603312, subsample=1.0 will be ignored. Current value: bagging_fraction=0.4048025290603312\n",
            "[LightGBM] [Warning] bagging_freq is set=2, subsample_freq=0 will be ignored. Current value: bagging_freq=2\n"
          ]
        },
        {
          "output_type": "stream",
          "name": "stderr",
          "text": [
            "[I 2024-03-31 01:16:21,441] Trial 19 finished with value: 0.7955071848065197 and parameters: {'num_leaves': 150, 'lambda_l1': 1.0461500830898826e-06, 'lambda_l2': 0.30925898116807393, 'feature_fraction': 0.25147880251501853, 'bagging_fraction': 0.4048025290603312, 'bagging_freq': 2, 'min_child_samples': 17, 'class_weight': 'balanced'}. Best is trial 18 with value: 0.8435378558379825.\n"
          ]
        }
      ],
      "source": [
        "\n",
        "# Create Optuna study and optimize the objective function\n",
        "study = optuna.create_study(direction='maximize')\n",
        "study.optimize(objective, n_trials=20)\n",
        "\n",
        "# Get the best hyperparameters and best F1 score\n",
        "best_params = study.best_params\n",
        "best_score = study.best_value"
      ]
    },
    {
      "cell_type": "code",
      "execution_count": 48,
      "metadata": {
        "colab": {
          "base_uri": "https://localhost:8080/"
        },
        "id": "1pIZZ8TSBpx8",
        "outputId": "cfd6ba82-a539-44f6-a142-12e7c9b98612"
      },
      "outputs": [
        {
          "output_type": "stream",
          "name": "stdout",
          "text": [
            "{'num_leaves': 90, 'lambda_l1': 0.0004388081618673077, 'lambda_l2': 0.004050094092094895, 'feature_fraction': 0.48991173557781453, 'bagging_fraction': 0.4037551307865023, 'bagging_freq': 0, 'min_child_samples': 15, 'class_weight': 'balanced'}\n",
            "0.8435378558379825\n"
          ]
        }
      ],
      "source": [
        "print(best_params)\n",
        "print(best_score)"
      ]
    },
    {
      "cell_type": "code",
      "execution_count": 49,
      "metadata": {
        "colab": {
          "base_uri": "https://localhost:8080/",
          "height": 983
        },
        "id": "wjwomooqBxIG",
        "outputId": "d8f1c6ec-1331-44e1-b304-5d37c7d84b45"
      },
      "outputs": [
        {
          "output_type": "stream",
          "name": "stdout",
          "text": [
            "[LightGBM] [Warning] feature_fraction is set=0.48991173557781453, colsample_bytree=1.0 will be ignored. Current value: feature_fraction=0.48991173557781453\n",
            "[LightGBM] [Warning] lambda_l2 is set=0.004050094092094895, reg_lambda=0.0 will be ignored. Current value: lambda_l2=0.004050094092094895\n",
            "[LightGBM] [Warning] lambda_l1 is set=0.0004388081618673077, reg_alpha=0.0 will be ignored. Current value: lambda_l1=0.0004388081618673077\n",
            "[LightGBM] [Warning] bagging_fraction is set=0.4037551307865023, subsample=1.0 will be ignored. Current value: bagging_fraction=0.4037551307865023\n",
            "[LightGBM] [Warning] bagging_freq is set=0, subsample_freq=0 will be ignored. Current value: bagging_freq=0\n",
            "[LightGBM] [Warning] feature_fraction is set=0.48991173557781453, colsample_bytree=1.0 will be ignored. Current value: feature_fraction=0.48991173557781453\n",
            "[LightGBM] [Warning] lambda_l2 is set=0.004050094092094895, reg_lambda=0.0 will be ignored. Current value: lambda_l2=0.004050094092094895\n",
            "[LightGBM] [Warning] lambda_l1 is set=0.0004388081618673077, reg_alpha=0.0 will be ignored. Current value: lambda_l1=0.0004388081618673077\n",
            "[LightGBM] [Warning] bagging_fraction is set=0.4037551307865023, subsample=1.0 will be ignored. Current value: bagging_fraction=0.4037551307865023\n",
            "[LightGBM] [Warning] bagging_freq is set=0, subsample_freq=0 will be ignored. Current value: bagging_freq=0\n",
            "[LightGBM] [Info] Number of positive: 20707, number of negative: 28390\n",
            "[LightGBM] [Info] Auto-choosing col-wise multi-threading, the overhead of testing was 1.136488 seconds.\n",
            "You can set `force_col_wise=true` to remove the overhead.\n",
            "[LightGBM] [Info] Total Bins 266981\n",
            "[LightGBM] [Info] Number of data points in the train set: 49097, number of used features: 3496\n",
            "[LightGBM] [Info] [binary:BoostFromScore]: pavg=0.500000 -> initscore=-0.000000\n",
            "[LightGBM] [Info] Start training from score -0.000000\n",
            "[LightGBM] [Warning] feature_fraction is set=0.48991173557781453, colsample_bytree=1.0 will be ignored. Current value: feature_fraction=0.48991173557781453\n",
            "[LightGBM] [Warning] lambda_l2 is set=0.004050094092094895, reg_lambda=0.0 will be ignored. Current value: lambda_l2=0.004050094092094895\n",
            "[LightGBM] [Warning] lambda_l1 is set=0.0004388081618673077, reg_alpha=0.0 will be ignored. Current value: lambda_l1=0.0004388081618673077\n",
            "[LightGBM] [Warning] bagging_fraction is set=0.4037551307865023, subsample=1.0 will be ignored. Current value: bagging_fraction=0.4037551307865023\n",
            "[LightGBM] [Warning] bagging_freq is set=0, subsample_freq=0 will be ignored. Current value: bagging_freq=0\n",
            "[LightGBM] [Warning] feature_fraction is set=0.48991173557781453, colsample_bytree=1.0 will be ignored. Current value: feature_fraction=0.48991173557781453\n",
            "[LightGBM] [Warning] lambda_l2 is set=0.004050094092094895, reg_lambda=0.0 will be ignored. Current value: lambda_l2=0.004050094092094895\n",
            "[LightGBM] [Warning] lambda_l1 is set=0.0004388081618673077, reg_alpha=0.0 will be ignored. Current value: lambda_l1=0.0004388081618673077\n",
            "[LightGBM] [Warning] bagging_fraction is set=0.4037551307865023, subsample=1.0 will be ignored. Current value: bagging_fraction=0.4037551307865023\n",
            "[LightGBM] [Warning] bagging_freq is set=0, subsample_freq=0 will be ignored. Current value: bagging_freq=0\n",
            "Accuracy score:0.7714\n",
            "Balanced accuracy score:0.7548\n",
            "F-1 score:0.7054\n",
            "ROC-AUC score:0.7548\n"
          ]
        },
        {
          "output_type": "display_data",
          "data": {
            "text/plain": [
              "<Figure size 700x500 with 2 Axes>"
            ],
            "image/png": "[encoded data removed]"
          },
          "metadata": {}
        }
      ],
      "source": [
        "best_model_lgb = lgb.LGBMClassifier(**best_params)\n",
        "best_model_lgb.fit(X_train_tfidf, y_train)\n",
        "predictions_best_lgb = best_model_lgb.predict(X_test_tfidf)\n",
        "predictions_best_proba_test = best_model_lgb.predict_proba(X_test_tfidf)[:, 1]\n",
        "eval_report(y_test, predictions_best_lgb)\n",
        "cm = confusion_matrix(y_test, predictions_best_lgb)\n",
        "confusion_matrix_visualization(cm)"
      ]
    },
    {
      "cell_type": "code",
      "execution_count": 50,
      "metadata": {
        "colab": {
          "base_uri": "https://localhost:8080/"
        },
        "id": "jR6tl8HNCi3B",
        "outputId": "75e8c71b-682c-448c-c485-ccfdb0136ede"
      },
      "outputs": [
        {
          "output_type": "execute_result",
          "data": {
            "text/plain": [
              "<lightgbm.basic.Booster at 0x7dc1ba151870>"
            ]
          },
          "metadata": {},
          "execution_count": 50
        }
      ],
      "source": [
        "model_lgb.booster_.save_model('/content/gdrive/My Drive/models_fake_news/model_lgb_best.txt')"
      ]
    },
    {
      "cell_type": "code",
      "execution_count": 51,
      "metadata": {
        "colab": {
          "base_uri": "https://localhost:8080/"
        },
        "id": "NLiCUBQCIkA2",
        "outputId": "bfd7faed-9a94-4505-c11b-3f640c68ccc0"
      },
      "outputs": [
        {
          "output_type": "stream",
          "name": "stdout",
          "text": [
            "F1 score: 0.7358, treshold: 0.447\n"
          ]
        }
      ],
      "source": [
        "treshold_f1 = best_tresholds_f1(predictions_best_proba_train, y_train)\n",
        "print(f'F1 score: {treshold_f1[1]:.4f}, treshold: {treshold_f1[0]}')"
      ]
    },
    {
      "cell_type": "code",
      "execution_count": 52,
      "metadata": {
        "colab": {
          "base_uri": "https://localhost:8080/"
        },
        "id": "HEofXVu2Iy-x",
        "outputId": "3f37cc5e-fd04-407b-e8b8-aff5cfb60e2a"
      },
      "outputs": [
        {
          "output_type": "execute_result",
          "data": {
            "text/plain": [
              "0.7022773560451767"
            ]
          },
          "metadata": {},
          "execution_count": 52
        }
      ],
      "source": [
        "y_pred_463 = to_labels(predictions_best_proba_test, 0.426) #threshold = 0.36\n",
        "metrics.f1_score(y_test, y_pred_463)"
      ]
    }
  ],
  "metadata": {
    "colab": {
      "provenance": [],
      "gpuType": "T4",
      "authorship_tag": "ABX9TyM22SCCSlpuJMi3ohBljb5u",
      "include_colab_link": true
    },
    "kernelspec": {
      "display_name": "Python 3",
      "name": "python3"
    },
    "language_info": {
      "name": "python"
    },
    "accelerator": "GPU"
  },
  "nbformat": 4,
  "nbformat_minor": 0
}